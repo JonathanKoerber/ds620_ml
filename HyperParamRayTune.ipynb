{
  "nbformat": 4,
  "nbformat_minor": 0,
  "metadata": {
    "colab": {
      "provenance": [],
      "gpuType": "L4"
    },
    "kernelspec": {
      "name": "python3",
      "display_name": "Python 3"
    },
    "language_info": {
      "name": "python"
    },
    "accelerator": "GPU"
  },
  "cells": [
    {
      "cell_type": "code",
      "source": [
        "! pip install ray\n",
        "! pip install tensorboardX\n"
      ],
      "metadata": {
        "colab": {
          "base_uri": "https://localhost:8080/"
        },
        "id": "CVPGGJiPG4DK",
        "outputId": "946ffc84-5b1e-418d-ff45-b29c267d43f3"
      },
      "execution_count": 69,
      "outputs": [
        {
          "output_type": "stream",
          "name": "stdout",
          "text": [
            "Requirement already satisfied: ray in /usr/local/lib/python3.10/dist-packages (2.24.0)\n",
            "Requirement already satisfied: click>=7.0 in /usr/local/lib/python3.10/dist-packages (from ray) (8.1.7)\n",
            "Requirement already satisfied: filelock in /usr/local/lib/python3.10/dist-packages (from ray) (3.14.0)\n",
            "Requirement already satisfied: jsonschema in /usr/local/lib/python3.10/dist-packages (from ray) (4.19.2)\n",
            "Requirement already satisfied: msgpack<2.0.0,>=1.0.0 in /usr/local/lib/python3.10/dist-packages (from ray) (1.0.8)\n",
            "Requirement already satisfied: packaging in /usr/local/lib/python3.10/dist-packages (from ray) (24.0)\n",
            "Requirement already satisfied: protobuf!=3.19.5,>=3.15.3 in /usr/local/lib/python3.10/dist-packages (from ray) (3.20.3)\n",
            "Requirement already satisfied: pyyaml in /usr/local/lib/python3.10/dist-packages (from ray) (6.0.1)\n",
            "Requirement already satisfied: aiosignal in /usr/local/lib/python3.10/dist-packages (from ray) (1.3.1)\n",
            "Requirement already satisfied: frozenlist in /usr/local/lib/python3.10/dist-packages (from ray) (1.4.1)\n",
            "Requirement already satisfied: requests in /usr/local/lib/python3.10/dist-packages (from ray) (2.31.0)\n",
            "Requirement already satisfied: attrs>=22.2.0 in /usr/local/lib/python3.10/dist-packages (from jsonschema->ray) (23.2.0)\n",
            "Requirement already satisfied: jsonschema-specifications>=2023.03.6 in /usr/local/lib/python3.10/dist-packages (from jsonschema->ray) (2023.12.1)\n",
            "Requirement already satisfied: referencing>=0.28.4 in /usr/local/lib/python3.10/dist-packages (from jsonschema->ray) (0.35.1)\n",
            "Requirement already satisfied: rpds-py>=0.7.1 in /usr/local/lib/python3.10/dist-packages (from jsonschema->ray) (0.18.1)\n",
            "Requirement already satisfied: charset-normalizer<4,>=2 in /usr/local/lib/python3.10/dist-packages (from requests->ray) (3.3.2)\n",
            "Requirement already satisfied: idna<4,>=2.5 in /usr/local/lib/python3.10/dist-packages (from requests->ray) (3.7)\n",
            "Requirement already satisfied: urllib3<3,>=1.21.1 in /usr/local/lib/python3.10/dist-packages (from requests->ray) (2.0.7)\n",
            "Requirement already satisfied: certifi>=2017.4.17 in /usr/local/lib/python3.10/dist-packages (from requests->ray) (2024.6.2)\n",
            "Collecting tensorboardX\n",
            "  Downloading tensorboardX-2.6.2.2-py2.py3-none-any.whl (101 kB)\n",
            "\u001b[2K     \u001b[90m━━━━━━━━━━━━━━━━━━━━━━━━━━━━━━━━━━━━━━━━\u001b[0m \u001b[32m101.7/101.7 kB\u001b[0m \u001b[31m3.5 MB/s\u001b[0m eta \u001b[36m0:00:00\u001b[0m\n",
            "\u001b[?25hRequirement already satisfied: numpy in /usr/local/lib/python3.10/dist-packages (from tensorboardX) (1.25.2)\n",
            "Requirement already satisfied: packaging in /usr/local/lib/python3.10/dist-packages (from tensorboardX) (24.0)\n",
            "Requirement already satisfied: protobuf>=3.20 in /usr/local/lib/python3.10/dist-packages (from tensorboardX) (3.20.3)\n",
            "Installing collected packages: tensorboardX\n",
            "Successfully installed tensorboardX-2.6.2.2\n"
          ]
        }
      ]
    },
    {
      "cell_type": "code",
      "execution_count": 3,
      "metadata": {
        "id": "OQSj51iwvsEN"
      },
      "outputs": [],
      "source": [
        "\n",
        "from functools import partial\n",
        "import os\n",
        "import tempfile\n",
        "from pathlib import Path\n",
        "import torch\n",
        "import torch.nn as nn\n",
        "import torch.nn.functional as F\n",
        "import torchvision\n",
        "from  torchvision import datasets, transforms\n",
        "from torch.utils.data import DataLoader\n",
        "import torch.optim as optim\n",
        "from torch.utils.data import random_split\n",
        "import torchvision\n",
        "import torchvision.transforms as transforms\n",
        "import ray\n",
        "from ray import tune\n",
        "from ray import train\n",
        "from ray.train import Checkpoint, get_checkpoint\n",
        "from ray.tune.schedulers import ASHAScheduler\n",
        "import ray.cloudpickle as pickle\n",
        "\n"
      ]
    },
    {
      "cell_type": "code",
      "source": [
        "import torch.nn as nn\n",
        "import torch.nn.functional as F\n",
        "\n",
        "\n",
        "class Net(nn.Module):\n",
        "    def __init__(self, l1=120, l2=84):\n",
        "        super(Net, self).__init__()\n",
        "        self.conv1 = nn.Conv2d(3, 6, 5)\n",
        "        self.pool = nn.MaxPool2d(2, 2)\n",
        "        self.conv2 = nn.Conv2d(6, 16, 5)\n",
        "        self.fc1 = nn.Linear(16 * 5 * 5,  l1)\n",
        "        self.fc2 = nn.Linear( l1,  l2)\n",
        "        self.fc3 = nn.Linear( l2, 10)\n",
        "\n",
        "    def forward(self, x):\n",
        "        x = self.pool(F.relu(self.conv1(x)))\n",
        "        x = self.pool(F.relu(self.conv2(x)))\n",
        "        x = torch.flatten(x, 1)  # flatten all dimensions except the batch dimension\n",
        "        x = F.relu(self.fc1(x))\n",
        "        x = F.relu(self.fc2(x))\n",
        "        x = self.fc3(x)\n",
        "        return x\n",
        "\n",
        "net = Net()"
      ],
      "metadata": {
        "id": "v-H9rowHUGq9"
      },
      "execution_count": 4,
      "outputs": []
    },
    {
      "cell_type": "code",
      "source": [
        "def load_data(data_dir=\"./data\"):\n",
        "    transform = transforms.Compose(\n",
        "        [transforms.ToTensor(), transforms.Normalize((0.5, 0.5, 0.5), (0.5, 0.5, 0.5))]\n",
        "    )\n",
        "\n",
        "    trainset = torchvision.datasets.CIFAR10(\n",
        "        root=data_dir, train=True, download=True, transform=transform\n",
        "    )\n",
        "\n",
        "    testset = torchvision.datasets.CIFAR10(\n",
        "        root=data_dir, train=False, download=True, transform=transform\n",
        "    )\n",
        "\n",
        "    return trainset, testset"
      ],
      "metadata": {
        "id": "wHDnqRFIUbwa"
      },
      "execution_count": 5,
      "outputs": []
    },
    {
      "cell_type": "code",
      "source": [
        "# print size of images\n",
        "trainset, testset = load_data()\n",
        "print(trainset[0][0].size())\n",
        "\n",
        "# print number of classes\n",
        "print(len(trainset.classes))"
      ],
      "metadata": {
        "colab": {
          "base_uri": "https://localhost:8080/"
        },
        "id": "U1f1qm4KAcAl",
        "outputId": "ee974da4-81cb-4b6e-bd51-ff3b74f7d9ba"
      },
      "execution_count": 6,
      "outputs": [
        {
          "output_type": "stream",
          "name": "stdout",
          "text": [
            "Downloading https://www.cs.toronto.edu/~kriz/cifar-10-python.tar.gz to ./data/cifar-10-python.tar.gz\n"
          ]
        },
        {
          "output_type": "stream",
          "name": "stderr",
          "text": [
            "100%|██████████| 170498071/170498071 [00:03<00:00, 44121701.36it/s]\n"
          ]
        },
        {
          "output_type": "stream",
          "name": "stdout",
          "text": [
            "Extracting ./data/cifar-10-python.tar.gz to ./data\n",
            "Files already downloaded and verified\n",
            "torch.Size([3, 32, 32])\n",
            "10\n"
          ]
        }
      ]
    },
    {
      "cell_type": "code",
      "source": [
        "def train_cifar(config, data_dir=\"./data\", NetConfig=None):\n",
        "    try:\n",
        "\n",
        "      if NetConfig is None:\n",
        "        net = Net(config[\"l1\"], config[\"l2\"])\n",
        "      else:\n",
        "        net = FlexibleNet(NetConfig)\n",
        "      device = \"cpu\"\n",
        "      if torch.cuda.is_available():\n",
        "          device = \"cuda:0\"\n",
        "          if torch.cuda.device_count() > 1:\n",
        "              net = nn.DataParallel(net)\n",
        "      net.to(device)\n",
        "      if config['optimizer'] == 'sgd':\n",
        "          optimizer = optim.SGD(net.parameters(), lr=config['learning_rate'], momentum=config['momentum'], weight_decay=config['weight_decay'])\n",
        "      elif config['optimizer'] == 'adam':\n",
        "          optimizer = optim.Adam(net.parameters(), lr=config['learning_rate'], weight_decay=config['weight_decay'])\n",
        "      criterion = nn.CrossEntropyLoss()\n",
        "\n",
        "      #centeron options\n",
        "      if config['criterion'] == 'CrossEntropyLoss':\n",
        "          criterion = nn.CrossEntropyLoss()\n",
        "      elif config['criterion'] == 'NLLLoss':\n",
        "          criterion = nn.NLLLoss()\n",
        "      elif config['criterion'] == 'BCELoss':\n",
        "          criterion = nn.BCELoss()\n",
        "      elif config['criterion'] == 'MSELoss':\n",
        "          criterion = nn.MSELoss()\n",
        "      elif config['criterion'] == 'SoftMarginLoss':\n",
        "          criterion = nn.SoftMarginLoss()\n",
        "\n",
        "      checkpoint = get_checkpoint()\n",
        "      if checkpoint:\n",
        "          with checkpoint.as_directory() as checkpoint_dir:\n",
        "              data_path = Path(checkpoint_dir) / \"data.pkl\"\n",
        "              with open(data_path, \"rb\") as fp:\n",
        "                  checkpoint_state = pickle.load(fp)\n",
        "              start_epoch = checkpoint_state[\"epoch\"]\n",
        "              net.load_state_dict(checkpoint_state[\"net_state_dict\"])\n",
        "              optimizer.load_state_dict(checkpoint_state[\"optimizer_state_dict\"])\n",
        "      else:\n",
        "          start_epoch = 0\n",
        "\n",
        "      trainset, testset = load_data(data_dir)\n",
        "\n",
        "      test_abs = int(len(trainset) * 0.8)\n",
        "      train_subset, val_subset = random_split(\n",
        "          trainset, [test_abs, len(trainset) - test_abs]\n",
        "      )\n",
        "\n",
        "      trainloader = torch.utils.data.DataLoader(\n",
        "          train_subset, batch_size=int(config[\"batch_size\"]), shuffle=True, num_workers=8\n",
        "      )\n",
        "      valloader = torch.utils.data.DataLoader(\n",
        "          val_subset, batch_size=int(config[\"batch_size\"]), shuffle=True, num_workers=8\n",
        "      )\n",
        "\n",
        "      for epoch in range(start_epoch, 10):  # loop over the dataset multiple times\n",
        "          running_loss = 0.0\n",
        "          epoch_steps = 0\n",
        "          for i, data in enumerate(trainloader, 0):\n",
        "              # get the inputs; data is a list of [inputs, labels]\n",
        "              inputs, labels = data\n",
        "              inputs, labels = inputs.to(device), labels.to(device)\n",
        "\n",
        "              # zero the parameter gradients\n",
        "              optimizer.zero_grad()\n",
        "\n",
        "              # forward + backward + optimize\n",
        "              outputs = net(inputs)\n",
        "              loss = criterion(outputs, labels)\n",
        "              loss.backward()\n",
        "              optimizer.step()\n",
        "\n",
        "              # print statistics\n",
        "              running_loss += loss.item()\n",
        "              epoch_steps += 1\n",
        "              if i % 2000 == 1999:  # print every 2000 mini-batches\n",
        "                  print(\n",
        "                      \"[%d, %5d] loss: %.3f\"\n",
        "                      % (epoch + 1, i + 1, running_loss / epoch_steps)\n",
        "                  )\n",
        "                  running_loss = 0.0\n",
        "\n",
        "          # Validation loss\n",
        "          net.eval()\n",
        "          val_loss = 0.0\n",
        "          val_steps = 0\n",
        "          total = 0\n",
        "          correct = 0\n",
        "          for i, data in enumerate(valloader, 0):\n",
        "              with torch.no_grad():\n",
        "                  inputs, labels = data\n",
        "                  inputs, labels = inputs.to(device), labels.to(device)\n",
        "\n",
        "                  outputs = net(inputs)\n",
        "                  _, predicted = torch.max(outputs.data, 1)\n",
        "                  total += labels.size(0)\n",
        "                  correct += (predicted == labels).sum().item()\n",
        "\n",
        "                  loss = criterion(outputs, labels)\n",
        "\n",
        "                  val_loss += loss.cpu().numpy()\n",
        "                  val_steps += 1\n",
        "\n",
        "          checkpoint_data = {\n",
        "              \"epoch\": epoch,\n",
        "              \"net_state_dict\": net.state_dict(),\n",
        "              \"optimizer_state_dict\": optimizer.state_dict(),\n",
        "          }\n",
        "          with tempfile.TemporaryDirectory() as checkpoint_dir:\n",
        "              data_path = Path(checkpoint_dir) / \"data.pkl\"\n",
        "              with open(data_path, \"wb\") as fp:\n",
        "                  pickle.dump(checkpoint_data, fp)\n",
        "\n",
        "              checkpoint = Checkpoint.from_directory(checkpoint_dir)\n",
        "              train.report(\n",
        "                  {\"loss\": val_loss / val_steps, \"accuracy\": correct / total},\n",
        "                  checkpoint=checkpoint,\n",
        "              )\n",
        "\n",
        "\n",
        "          print(\"Finished Training\")\n",
        "\n",
        "    except Exception as e:\n",
        "        print(f\"Error during training: {e}\")\n",
        "        raise"
      ],
      "metadata": {
        "id": "hoSkOmdtV_dG"
      },
      "execution_count": 13,
      "outputs": []
    },
    {
      "cell_type": "code",
      "source": [
        "def test_accuracy(net, device=\"cpu\"):\n",
        "    trainset, testset = load_data()\n",
        "\n",
        "    testloader = torch.utils.data.DataLoader(\n",
        "        testset, batch_size=4, shuffle=False, num_workers=2\n",
        "    )\n",
        "\n",
        "    correct = 0\n",
        "    total = 0\n",
        "    with torch.no_grad():\n",
        "        for data in testloader:\n",
        "            images, labels = data\n",
        "            images, labels = images.to(device), labels.to(device)\n",
        "            outputs = net(images)\n",
        "            _, predicted = torch.max(outputs.data, 1)\n",
        "            total += labels.size(0)\n",
        "            correct += (predicted == labels).sum().item()\n",
        "\n",
        "    return correct / total"
      ],
      "metadata": {
        "id": "_tbRGu2rWxo7"
      },
      "execution_count": 8,
      "outputs": []
    },
    {
      "cell_type": "code",
      "source": [
        "config = {\n",
        "    'learning_rate': tune.loguniform(1e-4, 1e-1),\n",
        "    'batch_size': tune.choice([16, 32, 64, 128]),\n",
        "    'epochs': tune.choice([5, 10, 20]),\n",
        "    'optimizer': tune.choice(['sgd', 'adam']),\n",
        "    'momentum': tune.uniform(0.5, 0.9),\n",
        "    'weight_decay': tune.loguniform(1e-4, 1e-2),\n",
        "    'l1': tune.choice([120, 240, 360]),\n",
        "    'l2': tune.choice([84, 168, 252]),\n",
        "    'criterion': tune.choice(['CrossEntropyLoss', 'NLLLoss']) # , 'BCELoss', 'MSELoss', 'SoftMarginLoss'\n",
        "\n",
        "    }"
      ],
      "metadata": {
        "id": "P6ZxeKd8RDS3"
      },
      "execution_count": 17,
      "outputs": []
    },
    {
      "cell_type": "code",
      "source": [
        "def train_hyper_param(num_samples=20, max_num_epochs=10, gpus_per_trial=1):\n",
        "    data_dir = os.path.abspath(\"./data\")\n",
        "    load_data(data_dir)\n",
        "\n",
        "    scheduler = ASHAScheduler(\n",
        "        metric=\"loss\",\n",
        "        mode=\"min\",\n",
        "        max_t=max_num_epochs,\n",
        "        grace_period=1,\n",
        "        reduction_factor=2,\n",
        "    )\n",
        "    result = tune.run(\n",
        "        partial(train_cifar, data_dir=data_dir),\n",
        "        resources_per_trial={\"cpu\": 12, \"gpu\": gpus_per_trial},\n",
        "        config=config,\n",
        "        num_samples=num_samples,\n",
        "        scheduler=scheduler,\n",
        "    )\n",
        "# Error during training: 'function' object has no attribute 'report'\n",
        "    best_trial = result.get_best_trial(\"loss\", \"min\", \"last\")\n",
        "    print(f\"Best trial config: {best_trial.config}\")\n",
        "    print(f\"Best trial final validation loss: {best_trial.last_result['loss']}\")\n",
        "    print(f\"Best trial final validation accuracy: {best_trial.last_result['accuracy']}\")\n",
        "    print(best_trial.last_result)\n",
        "\n",
        "    best_trained_model = Net(best_trial.config[\"l1\"], best_trial.config[\"l2\"])\n",
        "    device = \"cpu\"\n",
        "    if torch.cuda.is_available():\n",
        "        device = \"cuda:0\"\n",
        "        if gpus_per_trial > 1:\n",
        "            best_trained_model = nn.DataParallel(best_trained_model)\n",
        "    best_trained_model.to(device)\n",
        "\n",
        "    best_checkpoint = result.get_best_checkpoint(trial=best_trial, metric=\"accuracy\", mode=\"max\")\n",
        "    with best_checkpoint.as_directory() as checkpoint_dir:\n",
        "        data_path = Path(checkpoint_dir) / \"data.pkl\"\n",
        "        with open(data_path, \"rb\") as fp:\n",
        "            best_checkpoint_data = pickle.load(fp)\n",
        "\n",
        "        best_trained_model.load_state_dict(best_checkpoint_data[\"net_state_dict\"])\n",
        "        test_acc = test_accuracy(best_trained_model, device)\n",
        "        print(\"Best trial test set accuracy: {}\".format(test_acc))\n",
        "ray.shutdown()\n",
        "ray.init()\n",
        "train_hyper_param()\n"
      ],
      "metadata": {
        "colab": {
          "base_uri": "https://localhost:8080/"
        },
        "collapsed": true,
        "id": "wHninh1oW5cA",
        "outputId": "91b6c4a7-e95c-40a0-b4a2-a831db842931"
      },
      "execution_count": 21,
      "outputs": [
        {
          "output_type": "stream",
          "name": "stderr",
          "text": [
            "2024-06-08 23:45:39,922\tINFO worker.py:1753 -- Started a local Ray instance.\n"
          ]
        },
        {
          "output_type": "stream",
          "name": "stdout",
          "text": [
            "Files already downloaded and verified\n",
            "Files already downloaded and verified\n"
          ]
        },
        {
          "output_type": "stream",
          "name": "stderr",
          "text": [
            "2024-06-08 23:45:42,436\tWARNING callback.py:136 -- The TensorboardX logger cannot be instantiated because either TensorboardX or one of it's dependencies is not installed. Please make sure you have the latest version of TensorboardX installed: `pip install -U tensorboardx`\n"
          ]
        },
        {
          "output_type": "stream",
          "name": "stdout",
          "text": [
            "+--------------------------------------------------------------------+\n",
            "| Configuration for experiment     train_cifar_2024-06-08_23-45-42   |\n",
            "+--------------------------------------------------------------------+\n",
            "| Search algorithm                 BasicVariantGenerator             |\n",
            "| Scheduler                        AsyncHyperBandScheduler           |\n",
            "| Number of trials                 20                                |\n",
            "+--------------------------------------------------------------------+\n",
            "\n",
            "View detailed results here: /root/ray_results/train_cifar_2024-06-08_23-45-42\n",
            "\n",
            "Trial status: 20 PENDING\n",
            "Current time: 2024-06-08 23:45:42. Total running time: 0s\n",
            "Logical resource usage: 12.0/12 CPUs, 1.0/1 GPUs (0.0/1.0 accelerator_type:L4)\n",
            "+-------------------------------------------------------------------------------------------------------------------------------------------------------------+\n",
            "| Trial name                status       learning_rate     batch_size     epochs   optimizer       momentum     weight_decay     l1     l2   criterion        |\n",
            "+-------------------------------------------------------------------------------------------------------------------------------------------------------------+\n",
            "| train_cifar_37be9_00000   PENDING        0.000127904             16         10   sgd             0.691209      0.00303265     360    252   CrossEntropyLoss |\n",
            "| train_cifar_37be9_00001   PENDING        0.000686988            128          5   sgd             0.514858      0.00176203     360    168   CrossEntropyLoss |\n",
            "| train_cifar_37be9_00002   PENDING        0.0421174              128          5   sgd             0.504435      0.00482545     360    168   CrossEntropyLoss |\n",
            "| train_cifar_37be9_00003   PENDING        0.0205216               32         10   sgd             0.637362      0.000116181    120    168   NLLLoss          |\n",
            "| train_cifar_37be9_00004   PENDING        0.00887431              16          5   sgd             0.765598      0.00426428     240     84   CrossEntropyLoss |\n",
            "| train_cifar_37be9_00005   PENDING        0.0235392              128         20   adam            0.765034      0.000223755    240     84   CrossEntropyLoss |\n",
            "| train_cifar_37be9_00006   PENDING        0.0897215               32         20   adam            0.657465      0.00201386     360    168   CrossEntropyLoss |\n",
            "| train_cifar_37be9_00007   PENDING        0.000141282             16         20   sgd             0.625691      0.0014128      360     84   NLLLoss          |\n",
            "| train_cifar_37be9_00008   PENDING        0.0104716              128         10   adam            0.633325      0.000107179    120    252   CrossEntropyLoss |\n",
            "| train_cifar_37be9_00009   PENDING        0.00011069              32         10   sgd             0.810543      0.00059152     360    168   NLLLoss          |\n",
            "| train_cifar_37be9_00010   PENDING        0.0128713              128         20   adam            0.8133        0.000435187    240     84   NLLLoss          |\n",
            "| train_cifar_37be9_00011   PENDING        0.000572411            128          5   sgd             0.57995       0.00627102     120    168   CrossEntropyLoss |\n",
            "| train_cifar_37be9_00012   PENDING        0.00259363             128          5   adam            0.87201       0.000580308    120     84   CrossEntropyLoss |\n",
            "| train_cifar_37be9_00013   PENDING        0.0610611               64         10   adam            0.573201      0.00816333     240     84   CrossEntropyLoss |\n",
            "| train_cifar_37be9_00014   PENDING        0.000215539             64         10   adam            0.66957       0.000294654    360    252   CrossEntropyLoss |\n",
            "| train_cifar_37be9_00015   PENDING        0.00370564              32         10   adam            0.618958      0.00091318     360    168   NLLLoss          |\n",
            "| train_cifar_37be9_00016   PENDING        0.00468984              64         10   sgd             0.853646      0.000458833    120    168   CrossEntropyLoss |\n",
            "| train_cifar_37be9_00017   PENDING        0.0267104               32         20   adam            0.759795      0.000149732    240     84   CrossEntropyLoss |\n",
            "| train_cifar_37be9_00018   PENDING        0.0284903              128          5   sgd             0.752452      0.00079896     120    168   NLLLoss          |\n",
            "| train_cifar_37be9_00019   PENDING        0.0354501              128          5   sgd             0.891213      0.000811317    240     84   CrossEntropyLoss |\n",
            "+-------------------------------------------------------------------------------------------------------------------------------------------------------------+\n",
            "\n",
            "Trial train_cifar_37be9_00000 started with configuration:\n",
            "+-----------------------------------------------------------+\n",
            "| Trial train_cifar_37be9_00000 config                      |\n",
            "+-----------------------------------------------------------+\n",
            "| batch_size                                             16 |\n",
            "| criterion                                CrossEntropyLoss |\n",
            "| epochs                                                 10 |\n",
            "| l1                                                    360 |\n",
            "| l2                                                    252 |\n",
            "| learning_rate                                     0.00013 |\n",
            "| momentum                                          0.69121 |\n",
            "| optimizer                                             sgd |\n",
            "| weight_decay                                      0.00303 |\n",
            "+-----------------------------------------------------------+\n",
            "\u001b[36m(func pid=68897)\u001b[0m Files already downloaded and verified\n",
            "\u001b[36m(func pid=68897)\u001b[0m Files already downloaded and verified\n",
            "\u001b[36m(func pid=68897)\u001b[0m [1,  2000] loss: 2.302\n",
            "\n",
            "Trial train_cifar_37be9_00000 finished iteration 1 at 2024-06-08 23:46:00. Total running time: 17s\n",
            "+------------------------------------------------------------+\n",
            "| Trial train_cifar_37be9_00000 result                       |\n",
            "+------------------------------------------------------------+\n",
            "| checkpoint_dir_name                      checkpoint_000000 |\n",
            "| time_this_iter_s                                  13.29185 |\n",
            "| time_total_s                                      13.29185 |\n",
            "| training_iteration                                       1 |\n",
            "| accuracy                                            0.1052 |\n",
            "| loss                                                2.3011 |\n",
            "+------------------------------------------------------------+\n",
            "Trial train_cifar_37be9_00000 saved a checkpoint for iteration 1 at: (local)/root/ray_results/train_cifar_2024-06-08_23-45-42/train_cifar_37be9_00000_0_batch_size=16,criterion=CrossEntropyLoss,epochs=10,l1=360,l2=252,learning_rate=0.0001,momentum=0.6912,op_2024-06-08_23-45-42/checkpoint_000000\n",
            "\u001b[36m(func pid=68897)\u001b[0m Finished Training\n"
          ]
        },
        {
          "output_type": "stream",
          "name": "stderr",
          "text": [
            "\u001b[36m(func pid=68897)\u001b[0m Checkpoint successfully created at: Checkpoint(filesystem=local, path=/root/ray_results/train_cifar_2024-06-08_23-45-42/train_cifar_37be9_00000_0_batch_size=16,criterion=CrossEntropyLoss,epochs=10,l1=360,l2=252,learning_rate=0.0001,momentum=0.6912,op_2024-06-08_23-45-42/checkpoint_000000)\n"
          ]
        },
        {
          "output_type": "stream",
          "name": "stdout",
          "text": [
            "\u001b[36m(func pid=68897)\u001b[0m [2,  2000] loss: 2.300\n",
            "\n",
            "Trial train_cifar_37be9_00000 finished iteration 2 at 2024-06-08 23:46:10. Total running time: 28s\n",
            "+------------------------------------------------------------+\n",
            "| Trial train_cifar_37be9_00000 result                       |\n",
            "+------------------------------------------------------------+\n",
            "| checkpoint_dir_name                      checkpoint_000001 |\n",
            "| time_this_iter_s                                  10.89398 |\n",
            "| time_total_s                                      24.18583 |\n",
            "| training_iteration                                       2 |\n",
            "| accuracy                                            0.1091 |\n",
            "| loss                                                 2.299 |\n",
            "+------------------------------------------------------------+\n",
            "Trial train_cifar_37be9_00000 saved a checkpoint for iteration 2 at: (local)/root/ray_results/train_cifar_2024-06-08_23-45-42/train_cifar_37be9_00000_0_batch_size=16,criterion=CrossEntropyLoss,epochs=10,l1=360,l2=252,learning_rate=0.0001,momentum=0.6912,op_2024-06-08_23-45-42/checkpoint_000001\n",
            "\u001b[36m(func pid=68897)\u001b[0m Finished Training\n"
          ]
        },
        {
          "output_type": "stream",
          "name": "stderr",
          "text": [
            "\u001b[36m(func pid=68897)\u001b[0m Checkpoint successfully created at: Checkpoint(filesystem=local, path=/root/ray_results/train_cifar_2024-06-08_23-45-42/train_cifar_37be9_00000_0_batch_size=16,criterion=CrossEntropyLoss,epochs=10,l1=360,l2=252,learning_rate=0.0001,momentum=0.6912,op_2024-06-08_23-45-42/checkpoint_000001)\n"
          ]
        },
        {
          "output_type": "stream",
          "name": "stdout",
          "text": [
            "\n",
            "Trial status: 1 RUNNING | 19 PENDING\n",
            "Current time: 2024-06-08 23:46:12. Total running time: 30s\n",
            "Logical resource usage: 12.0/12 CPUs, 1.0/1 GPUs (0.0/1.0 accelerator_type:L4)\n",
            "+---------------------------------------------------------------------------------------------------------------------------------------------------------------------------------------------------------------+\n",
            "| Trial name                status       learning_rate     batch_size     epochs   optimizer       momentum     weight_decay     l1     l2   criterion            iter     total time (s)     loss     accuracy |\n",
            "+---------------------------------------------------------------------------------------------------------------------------------------------------------------------------------------------------------------+\n",
            "| train_cifar_37be9_00000   RUNNING        0.000127904             16         10   sgd             0.691209      0.00303265     360    252   CrossEntropyLoss        2            24.1858    2.299       0.1091 |\n",
            "| train_cifar_37be9_00001   PENDING        0.000686988            128          5   sgd             0.514858      0.00176203     360    168   CrossEntropyLoss                                                   |\n",
            "| train_cifar_37be9_00002   PENDING        0.0421174              128          5   sgd             0.504435      0.00482545     360    168   CrossEntropyLoss                                                   |\n",
            "| train_cifar_37be9_00003   PENDING        0.0205216               32         10   sgd             0.637362      0.000116181    120    168   NLLLoss                                                            |\n",
            "| train_cifar_37be9_00004   PENDING        0.00887431              16          5   sgd             0.765598      0.00426428     240     84   CrossEntropyLoss                                                   |\n",
            "| train_cifar_37be9_00005   PENDING        0.0235392              128         20   adam            0.765034      0.000223755    240     84   CrossEntropyLoss                                                   |\n",
            "| train_cifar_37be9_00006   PENDING        0.0897215               32         20   adam            0.657465      0.00201386     360    168   CrossEntropyLoss                                                   |\n",
            "| train_cifar_37be9_00007   PENDING        0.000141282             16         20   sgd             0.625691      0.0014128      360     84   NLLLoss                                                            |\n",
            "| train_cifar_37be9_00008   PENDING        0.0104716              128         10   adam            0.633325      0.000107179    120    252   CrossEntropyLoss                                                   |\n",
            "| train_cifar_37be9_00009   PENDING        0.00011069              32         10   sgd             0.810543      0.00059152     360    168   NLLLoss                                                            |\n",
            "| train_cifar_37be9_00010   PENDING        0.0128713              128         20   adam            0.8133        0.000435187    240     84   NLLLoss                                                            |\n",
            "| train_cifar_37be9_00011   PENDING        0.000572411            128          5   sgd             0.57995       0.00627102     120    168   CrossEntropyLoss                                                   |\n",
            "| train_cifar_37be9_00012   PENDING        0.00259363             128          5   adam            0.87201       0.000580308    120     84   CrossEntropyLoss                                                   |\n",
            "| train_cifar_37be9_00013   PENDING        0.0610611               64         10   adam            0.573201      0.00816333     240     84   CrossEntropyLoss                                                   |\n",
            "| train_cifar_37be9_00014   PENDING        0.000215539             64         10   adam            0.66957       0.000294654    360    252   CrossEntropyLoss                                                   |\n",
            "| train_cifar_37be9_00015   PENDING        0.00370564              32         10   adam            0.618958      0.00091318     360    168   NLLLoss                                                            |\n",
            "| train_cifar_37be9_00016   PENDING        0.00468984              64         10   sgd             0.853646      0.000458833    120    168   CrossEntropyLoss                                                   |\n",
            "| train_cifar_37be9_00017   PENDING        0.0267104               32         20   adam            0.759795      0.000149732    240     84   CrossEntropyLoss                                                   |\n",
            "| train_cifar_37be9_00018   PENDING        0.0284903              128          5   sgd             0.752452      0.00079896     120    168   NLLLoss                                                            |\n",
            "| train_cifar_37be9_00019   PENDING        0.0354501              128          5   sgd             0.891213      0.000811317    240     84   CrossEntropyLoss                                                   |\n",
            "+---------------------------------------------------------------------------------------------------------------------------------------------------------------------------------------------------------------+\n",
            "\u001b[36m(func pid=68897)\u001b[0m [3,  2000] loss: 2.298\n",
            "\n",
            "Trial train_cifar_37be9_00000 finished iteration 3 at 2024-06-08 23:46:21. Total running time: 39s\n",
            "+------------------------------------------------------------+\n",
            "| Trial train_cifar_37be9_00000 result                       |\n",
            "+------------------------------------------------------------+\n",
            "| checkpoint_dir_name                      checkpoint_000002 |\n",
            "| time_this_iter_s                                  11.05718 |\n",
            "| time_total_s                                      35.24301 |\n",
            "| training_iteration                                       3 |\n",
            "| accuracy                                            0.1326 |\n",
            "| loss                                               2.29577 |\n",
            "+------------------------------------------------------------+\n",
            "Trial train_cifar_37be9_00000 saved a checkpoint for iteration 3 at: (local)/root/ray_results/train_cifar_2024-06-08_23-45-42/train_cifar_37be9_00000_0_batch_size=16,criterion=CrossEntropyLoss,epochs=10,l1=360,l2=252,learning_rate=0.0001,momentum=0.6912,op_2024-06-08_23-45-42/checkpoint_000002\n",
            "\u001b[36m(func pid=68897)\u001b[0m Finished Training\n"
          ]
        },
        {
          "output_type": "stream",
          "name": "stderr",
          "text": [
            "\u001b[36m(func pid=68897)\u001b[0m Checkpoint successfully created at: Checkpoint(filesystem=local, path=/root/ray_results/train_cifar_2024-06-08_23-45-42/train_cifar_37be9_00000_0_batch_size=16,criterion=CrossEntropyLoss,epochs=10,l1=360,l2=252,learning_rate=0.0001,momentum=0.6912,op_2024-06-08_23-45-42/checkpoint_000002)\n"
          ]
        },
        {
          "output_type": "stream",
          "name": "stdout",
          "text": [
            "\u001b[36m(func pid=68897)\u001b[0m [4,  2000] loss: 2.294\n",
            "\n",
            "Trial train_cifar_37be9_00000 finished iteration 4 at 2024-06-08 23:46:32. Total running time: 50s\n",
            "+------------------------------------------------------------+\n",
            "| Trial train_cifar_37be9_00000 result                       |\n",
            "+------------------------------------------------------------+\n",
            "| checkpoint_dir_name                      checkpoint_000003 |\n",
            "| time_this_iter_s                                  10.86382 |\n",
            "| time_total_s                                      46.10683 |\n",
            "| training_iteration                                       4 |\n",
            "| accuracy                                            0.1583 |\n",
            "| loss                                               2.28995 |\n",
            "+------------------------------------------------------------+\n",
            "Trial train_cifar_37be9_00000 saved a checkpoint for iteration 4 at: (local)/root/ray_results/train_cifar_2024-06-08_23-45-42/train_cifar_37be9_00000_0_batch_size=16,criterion=CrossEntropyLoss,epochs=10,l1=360,l2=252,learning_rate=0.0001,momentum=0.6912,op_2024-06-08_23-45-42/checkpoint_000003\n",
            "\u001b[36m(func pid=68897)\u001b[0m Finished Training\n"
          ]
        },
        {
          "output_type": "stream",
          "name": "stderr",
          "text": [
            "\u001b[36m(func pid=68897)\u001b[0m Checkpoint successfully created at: Checkpoint(filesystem=local, path=/root/ray_results/train_cifar_2024-06-08_23-45-42/train_cifar_37be9_00000_0_batch_size=16,criterion=CrossEntropyLoss,epochs=10,l1=360,l2=252,learning_rate=0.0001,momentum=0.6912,op_2024-06-08_23-45-42/checkpoint_000003)\n"
          ]
        },
        {
          "output_type": "stream",
          "name": "stdout",
          "text": [
            "\u001b[36m(func pid=68897)\u001b[0m [5,  2000] loss: 2.286\n",
            "\n",
            "Trial status: 1 RUNNING | 19 PENDING\n",
            "Current time: 2024-06-08 23:46:42. Total running time: 1min 0s\n",
            "Logical resource usage: 12.0/12 CPUs, 1.0/1 GPUs (0.0/1.0 accelerator_type:L4)\n",
            "+----------------------------------------------------------------------------------------------------------------------------------------------------------------------------------------------------------------+\n",
            "| Trial name                status       learning_rate     batch_size     epochs   optimizer       momentum     weight_decay     l1     l2   criterion            iter     total time (s)      loss     accuracy |\n",
            "+----------------------------------------------------------------------------------------------------------------------------------------------------------------------------------------------------------------+\n",
            "| train_cifar_37be9_00000   RUNNING        0.000127904             16         10   sgd             0.691209      0.00303265     360    252   CrossEntropyLoss        4            46.1068   2.28995       0.1583 |\n",
            "| train_cifar_37be9_00001   PENDING        0.000686988            128          5   sgd             0.514858      0.00176203     360    168   CrossEntropyLoss                                                    |\n",
            "| train_cifar_37be9_00002   PENDING        0.0421174              128          5   sgd             0.504435      0.00482545     360    168   CrossEntropyLoss                                                    |\n",
            "| train_cifar_37be9_00003   PENDING        0.0205216               32         10   sgd             0.637362      0.000116181    120    168   NLLLoss                                                             |\n",
            "| train_cifar_37be9_00004   PENDING        0.00887431              16          5   sgd             0.765598      0.00426428     240     84   CrossEntropyLoss                                                    |\n",
            "| train_cifar_37be9_00005   PENDING        0.0235392              128         20   adam            0.765034      0.000223755    240     84   CrossEntropyLoss                                                    |\n",
            "| train_cifar_37be9_00006   PENDING        0.0897215               32         20   adam            0.657465      0.00201386     360    168   CrossEntropyLoss                                                    |\n",
            "| train_cifar_37be9_00007   PENDING        0.000141282             16         20   sgd             0.625691      0.0014128      360     84   NLLLoss                                                             |\n",
            "| train_cifar_37be9_00008   PENDING        0.0104716              128         10   adam            0.633325      0.000107179    120    252   CrossEntropyLoss                                                    |\n",
            "| train_cifar_37be9_00009   PENDING        0.00011069              32         10   sgd             0.810543      0.00059152     360    168   NLLLoss                                                             |\n",
            "| train_cifar_37be9_00010   PENDING        0.0128713              128         20   adam            0.8133        0.000435187    240     84   NLLLoss                                                             |\n",
            "| train_cifar_37be9_00011   PENDING        0.000572411            128          5   sgd             0.57995       0.00627102     120    168   CrossEntropyLoss                                                    |\n",
            "| train_cifar_37be9_00012   PENDING        0.00259363             128          5   adam            0.87201       0.000580308    120     84   CrossEntropyLoss                                                    |\n",
            "| train_cifar_37be9_00013   PENDING        0.0610611               64         10   adam            0.573201      0.00816333     240     84   CrossEntropyLoss                                                    |\n",
            "| train_cifar_37be9_00014   PENDING        0.000215539             64         10   adam            0.66957       0.000294654    360    252   CrossEntropyLoss                                                    |\n",
            "| train_cifar_37be9_00015   PENDING        0.00370564              32         10   adam            0.618958      0.00091318     360    168   NLLLoss                                                             |\n",
            "| train_cifar_37be9_00016   PENDING        0.00468984              64         10   sgd             0.853646      0.000458833    120    168   CrossEntropyLoss                                                    |\n",
            "| train_cifar_37be9_00017   PENDING        0.0267104               32         20   adam            0.759795      0.000149732    240     84   CrossEntropyLoss                                                    |\n",
            "| train_cifar_37be9_00018   PENDING        0.0284903              128          5   sgd             0.752452      0.00079896     120    168   NLLLoss                                                             |\n",
            "| train_cifar_37be9_00019   PENDING        0.0354501              128          5   sgd             0.891213      0.000811317    240     84   CrossEntropyLoss                                                    |\n",
            "+----------------------------------------------------------------------------------------------------------------------------------------------------------------------------------------------------------------+\n",
            "\n",
            "Trial train_cifar_37be9_00000 finished iteration 5 at 2024-06-08 23:46:43. Total running time: 1min 1s\n",
            "+------------------------------------------------------------+\n",
            "| Trial train_cifar_37be9_00000 result                       |\n",
            "+------------------------------------------------------------+\n",
            "| checkpoint_dir_name                      checkpoint_000004 |\n",
            "| time_this_iter_s                                   10.6579 |\n",
            "| time_total_s                                      56.76472 |\n",
            "| training_iteration                                       5 |\n",
            "| accuracy                                            0.1581 |\n",
            "| loss                                               2.27738 |\n",
            "+------------------------------------------------------------+\n",
            "Trial train_cifar_37be9_00000 saved a checkpoint for iteration 5 at: (local)/root/ray_results/train_cifar_2024-06-08_23-45-42/train_cifar_37be9_00000_0_batch_size=16,criterion=CrossEntropyLoss,epochs=10,l1=360,l2=252,learning_rate=0.0001,momentum=0.6912,op_2024-06-08_23-45-42/checkpoint_000004\n",
            "\u001b[36m(func pid=68897)\u001b[0m Finished Training\n"
          ]
        },
        {
          "output_type": "stream",
          "name": "stderr",
          "text": [
            "\u001b[36m(func pid=68897)\u001b[0m Checkpoint successfully created at: Checkpoint(filesystem=local, path=/root/ray_results/train_cifar_2024-06-08_23-45-42/train_cifar_37be9_00000_0_batch_size=16,criterion=CrossEntropyLoss,epochs=10,l1=360,l2=252,learning_rate=0.0001,momentum=0.6912,op_2024-06-08_23-45-42/checkpoint_000004)\n"
          ]
        },
        {
          "output_type": "stream",
          "name": "stdout",
          "text": [
            "\u001b[36m(func pid=68897)\u001b[0m [6,  2000] loss: 2.269\n",
            "\n",
            "Trial train_cifar_37be9_00000 finished iteration 6 at 2024-06-08 23:46:54. Total running time: 1min 11s\n",
            "+------------------------------------------------------------+\n",
            "| Trial train_cifar_37be9_00000 result                       |\n",
            "+------------------------------------------------------------+\n",
            "| checkpoint_dir_name                      checkpoint_000005 |\n",
            "| time_this_iter_s                                  10.62885 |\n",
            "| time_total_s                                      67.39358 |\n",
            "| training_iteration                                       6 |\n",
            "| accuracy                                             0.178 |\n",
            "| loss                                               2.25007 |\n",
            "+------------------------------------------------------------+\n",
            "Trial train_cifar_37be9_00000 saved a checkpoint for iteration 6 at: (local)/root/ray_results/train_cifar_2024-06-08_23-45-42/train_cifar_37be9_00000_0_batch_size=16,criterion=CrossEntropyLoss,epochs=10,l1=360,l2=252,learning_rate=0.0001,momentum=0.6912,op_2024-06-08_23-45-42/checkpoint_000005\n",
            "\u001b[36m(func pid=68897)\u001b[0m Finished Training\n"
          ]
        },
        {
          "output_type": "stream",
          "name": "stderr",
          "text": [
            "\u001b[36m(func pid=68897)\u001b[0m Checkpoint successfully created at: Checkpoint(filesystem=local, path=/root/ray_results/train_cifar_2024-06-08_23-45-42/train_cifar_37be9_00000_0_batch_size=16,criterion=CrossEntropyLoss,epochs=10,l1=360,l2=252,learning_rate=0.0001,momentum=0.6912,op_2024-06-08_23-45-42/checkpoint_000005)\n"
          ]
        },
        {
          "output_type": "stream",
          "name": "stdout",
          "text": [
            "\u001b[36m(func pid=68897)\u001b[0m [7,  2000] loss: 2.238\n",
            "\n",
            "Trial train_cifar_37be9_00000 finished iteration 7 at 2024-06-08 23:47:05. Total running time: 1min 22s\n",
            "+------------------------------------------------------------+\n",
            "| Trial train_cifar_37be9_00000 result                       |\n",
            "+------------------------------------------------------------+\n",
            "| checkpoint_dir_name                      checkpoint_000006 |\n",
            "| time_this_iter_s                                  11.07846 |\n",
            "| time_total_s                                      78.47204 |\n",
            "| training_iteration                                       7 |\n",
            "| accuracy                                            0.2049 |\n",
            "| loss                                               2.21627 |\n",
            "+------------------------------------------------------------+\n",
            "Trial train_cifar_37be9_00000 saved a checkpoint for iteration 7 at: (local)/root/ray_results/train_cifar_2024-06-08_23-45-42/train_cifar_37be9_00000_0_batch_size=16,criterion=CrossEntropyLoss,epochs=10,l1=360,l2=252,learning_rate=0.0001,momentum=0.6912,op_2024-06-08_23-45-42/checkpoint_000006\n",
            "\u001b[36m(func pid=68897)\u001b[0m Finished Training\n"
          ]
        },
        {
          "output_type": "stream",
          "name": "stderr",
          "text": [
            "\u001b[36m(func pid=68897)\u001b[0m Checkpoint successfully created at: Checkpoint(filesystem=local, path=/root/ray_results/train_cifar_2024-06-08_23-45-42/train_cifar_37be9_00000_0_batch_size=16,criterion=CrossEntropyLoss,epochs=10,l1=360,l2=252,learning_rate=0.0001,momentum=0.6912,op_2024-06-08_23-45-42/checkpoint_000006)\n"
          ]
        },
        {
          "output_type": "stream",
          "name": "stdout",
          "text": [
            "\u001b[36m(func pid=68897)\u001b[0m [8,  2000] loss: 2.206\n",
            "\n",
            "Trial status: 1 RUNNING | 19 PENDING\n",
            "Current time: 2024-06-08 23:47:12. Total running time: 1min 30s\n",
            "Logical resource usage: 12.0/12 CPUs, 1.0/1 GPUs (0.0/1.0 accelerator_type:L4)\n",
            "+----------------------------------------------------------------------------------------------------------------------------------------------------------------------------------------------------------------+\n",
            "| Trial name                status       learning_rate     batch_size     epochs   optimizer       momentum     weight_decay     l1     l2   criterion            iter     total time (s)      loss     accuracy |\n",
            "+----------------------------------------------------------------------------------------------------------------------------------------------------------------------------------------------------------------+\n",
            "| train_cifar_37be9_00000   RUNNING        0.000127904             16         10   sgd             0.691209      0.00303265     360    252   CrossEntropyLoss        7             78.472   2.21627       0.2049 |\n",
            "| train_cifar_37be9_00001   PENDING        0.000686988            128          5   sgd             0.514858      0.00176203     360    168   CrossEntropyLoss                                                    |\n",
            "| train_cifar_37be9_00002   PENDING        0.0421174              128          5   sgd             0.504435      0.00482545     360    168   CrossEntropyLoss                                                    |\n",
            "| train_cifar_37be9_00003   PENDING        0.0205216               32         10   sgd             0.637362      0.000116181    120    168   NLLLoss                                                             |\n",
            "| train_cifar_37be9_00004   PENDING        0.00887431              16          5   sgd             0.765598      0.00426428     240     84   CrossEntropyLoss                                                    |\n",
            "| train_cifar_37be9_00005   PENDING        0.0235392              128         20   adam            0.765034      0.000223755    240     84   CrossEntropyLoss                                                    |\n",
            "| train_cifar_37be9_00006   PENDING        0.0897215               32         20   adam            0.657465      0.00201386     360    168   CrossEntropyLoss                                                    |\n",
            "| train_cifar_37be9_00007   PENDING        0.000141282             16         20   sgd             0.625691      0.0014128      360     84   NLLLoss                                                             |\n",
            "| train_cifar_37be9_00008   PENDING        0.0104716              128         10   adam            0.633325      0.000107179    120    252   CrossEntropyLoss                                                    |\n",
            "| train_cifar_37be9_00009   PENDING        0.00011069              32         10   sgd             0.810543      0.00059152     360    168   NLLLoss                                                             |\n",
            "| train_cifar_37be9_00010   PENDING        0.0128713              128         20   adam            0.8133        0.000435187    240     84   NLLLoss                                                             |\n",
            "| train_cifar_37be9_00011   PENDING        0.000572411            128          5   sgd             0.57995       0.00627102     120    168   CrossEntropyLoss                                                    |\n",
            "| train_cifar_37be9_00012   PENDING        0.00259363             128          5   adam            0.87201       0.000580308    120     84   CrossEntropyLoss                                                    |\n",
            "| train_cifar_37be9_00013   PENDING        0.0610611               64         10   adam            0.573201      0.00816333     240     84   CrossEntropyLoss                                                    |\n",
            "| train_cifar_37be9_00014   PENDING        0.000215539             64         10   adam            0.66957       0.000294654    360    252   CrossEntropyLoss                                                    |\n",
            "| train_cifar_37be9_00015   PENDING        0.00370564              32         10   adam            0.618958      0.00091318     360    168   NLLLoss                                                             |\n",
            "| train_cifar_37be9_00016   PENDING        0.00468984              64         10   sgd             0.853646      0.000458833    120    168   CrossEntropyLoss                                                    |\n",
            "| train_cifar_37be9_00017   PENDING        0.0267104               32         20   adam            0.759795      0.000149732    240     84   CrossEntropyLoss                                                    |\n",
            "| train_cifar_37be9_00018   PENDING        0.0284903              128          5   sgd             0.752452      0.00079896     120    168   NLLLoss                                                             |\n",
            "| train_cifar_37be9_00019   PENDING        0.0354501              128          5   sgd             0.891213      0.000811317    240     84   CrossEntropyLoss                                                    |\n",
            "+----------------------------------------------------------------------------------------------------------------------------------------------------------------------------------------------------------------+\n",
            "\n",
            "Trial train_cifar_37be9_00000 finished iteration 8 at 2024-06-08 23:47:15. Total running time: 1min 33s\n",
            "+------------------------------------------------------------+\n",
            "| Trial train_cifar_37be9_00000 result                       |\n",
            "+------------------------------------------------------------+\n",
            "| checkpoint_dir_name                      checkpoint_000007 |\n",
            "| time_this_iter_s                                  10.74722 |\n",
            "| time_total_s                                      89.21926 |\n",
            "| training_iteration                                       8 |\n",
            "| accuracy                                              0.23 |\n",
            "| loss                                               2.17829 |\n",
            "+------------------------------------------------------------+\n",
            "Trial train_cifar_37be9_00000 saved a checkpoint for iteration 8 at: (local)/root/ray_results/train_cifar_2024-06-08_23-45-42/train_cifar_37be9_00000_0_batch_size=16,criterion=CrossEntropyLoss,epochs=10,l1=360,l2=252,learning_rate=0.0001,momentum=0.6912,op_2024-06-08_23-45-42/checkpoint_000007\n",
            "\u001b[36m(func pid=68897)\u001b[0m Finished Training\n"
          ]
        },
        {
          "output_type": "stream",
          "name": "stderr",
          "text": [
            "\u001b[36m(func pid=68897)\u001b[0m Checkpoint successfully created at: Checkpoint(filesystem=local, path=/root/ray_results/train_cifar_2024-06-08_23-45-42/train_cifar_37be9_00000_0_batch_size=16,criterion=CrossEntropyLoss,epochs=10,l1=360,l2=252,learning_rate=0.0001,momentum=0.6912,op_2024-06-08_23-45-42/checkpoint_000007)\n"
          ]
        },
        {
          "output_type": "stream",
          "name": "stdout",
          "text": [
            "\u001b[36m(func pid=68897)\u001b[0m [9,  2000] loss: 2.165\n",
            "\n",
            "Trial train_cifar_37be9_00000 finished iteration 9 at 2024-06-08 23:47:26. Total running time: 1min 44s\n",
            "+------------------------------------------------------------+\n",
            "| Trial train_cifar_37be9_00000 result                       |\n",
            "+------------------------------------------------------------+\n",
            "| checkpoint_dir_name                      checkpoint_000008 |\n",
            "| time_this_iter_s                                    10.778 |\n",
            "| time_total_s                                      99.99726 |\n",
            "| training_iteration                                       9 |\n",
            "| accuracy                                            0.2445 |\n",
            "| loss                                               2.12976 |\n",
            "+------------------------------------------------------------+\n",
            "Trial train_cifar_37be9_00000 saved a checkpoint for iteration 9 at: (local)/root/ray_results/train_cifar_2024-06-08_23-45-42/train_cifar_37be9_00000_0_batch_size=16,criterion=CrossEntropyLoss,epochs=10,l1=360,l2=252,learning_rate=0.0001,momentum=0.6912,op_2024-06-08_23-45-42/checkpoint_000008\n",
            "\u001b[36m(func pid=68897)\u001b[0m Finished Training\n"
          ]
        },
        {
          "output_type": "stream",
          "name": "stderr",
          "text": [
            "\u001b[36m(func pid=68897)\u001b[0m Checkpoint successfully created at: Checkpoint(filesystem=local, path=/root/ray_results/train_cifar_2024-06-08_23-45-42/train_cifar_37be9_00000_0_batch_size=16,criterion=CrossEntropyLoss,epochs=10,l1=360,l2=252,learning_rate=0.0001,momentum=0.6912,op_2024-06-08_23-45-42/checkpoint_000008)\n"
          ]
        },
        {
          "output_type": "stream",
          "name": "stdout",
          "text": [
            "\u001b[36m(func pid=68897)\u001b[0m [10,  2000] loss: 2.113\n",
            "\n",
            "Trial train_cifar_37be9_00000 finished iteration 10 at 2024-06-08 23:47:37. Total running time: 1min 55s\n",
            "+------------------------------------------------------------+\n",
            "| Trial train_cifar_37be9_00000 result                       |\n",
            "+------------------------------------------------------------+\n",
            "| checkpoint_dir_name                      checkpoint_000009 |\n",
            "| time_this_iter_s                                  10.94351 |\n",
            "| time_total_s                                     110.94077 |\n",
            "| training_iteration                                      10 |\n",
            "| accuracy                                            0.2497 |\n",
            "| loss                                               2.08142 |\n",
            "+------------------------------------------------------------+\n",
            "Trial train_cifar_37be9_00000 saved a checkpoint for iteration 10 at: (local)/root/ray_results/train_cifar_2024-06-08_23-45-42/train_cifar_37be9_00000_0_batch_size=16,criterion=CrossEntropyLoss,epochs=10,l1=360,l2=252,learning_rate=0.0001,momentum=0.6912,op_2024-06-08_23-45-42/checkpoint_000009\n",
            "\n",
            "Trial train_cifar_37be9_00000 completed after 10 iterations at 2024-06-08 23:47:37. Total running time: 1min 55s\n"
          ]
        },
        {
          "output_type": "stream",
          "name": "stderr",
          "text": [
            "\u001b[36m(func pid=68897)\u001b[0m Checkpoint successfully created at: Checkpoint(filesystem=local, path=/root/ray_results/train_cifar_2024-06-08_23-45-42/train_cifar_37be9_00000_0_batch_size=16,criterion=CrossEntropyLoss,epochs=10,l1=360,l2=252,learning_rate=0.0001,momentum=0.6912,op_2024-06-08_23-45-42/checkpoint_000009)\n"
          ]
        },
        {
          "output_type": "stream",
          "name": "stdout",
          "text": [
            "\n",
            "Trial train_cifar_37be9_00001 started with configuration:\n",
            "+-----------------------------------------------------------+\n",
            "| Trial train_cifar_37be9_00001 config                      |\n",
            "+-----------------------------------------------------------+\n",
            "| batch_size                                            128 |\n",
            "| criterion                                CrossEntropyLoss |\n",
            "| epochs                                                  5 |\n",
            "| l1                                                    360 |\n",
            "| l2                                                    168 |\n",
            "| learning_rate                                     0.00069 |\n",
            "| momentum                                          0.51486 |\n",
            "| optimizer                                             sgd |\n",
            "| weight_decay                                      0.00176 |\n",
            "+-----------------------------------------------------------+\n",
            "\u001b[36m(func pid=71931)\u001b[0m Files already downloaded and verified\n",
            "\n",
            "Trial status: 1 TERMINATED | 1 RUNNING | 18 PENDING\n",
            "Current time: 2024-06-08 23:47:43. Total running time: 2min 0s\n",
            "Logical resource usage: 12.0/12 CPUs, 1.0/1 GPUs (0.0/1.0 accelerator_type:L4)\n",
            "+------------------------------------------------------------------------------------------------------------------------------------------------------------------------------------------------------------------+\n",
            "| Trial name                status         learning_rate     batch_size     epochs   optimizer       momentum     weight_decay     l1     l2   criterion            iter     total time (s)      loss     accuracy |\n",
            "+------------------------------------------------------------------------------------------------------------------------------------------------------------------------------------------------------------------+\n",
            "| train_cifar_37be9_00001   RUNNING          0.000686988            128          5   sgd             0.514858      0.00176203     360    168   CrossEntropyLoss                                                    |\n",
            "| train_cifar_37be9_00000   TERMINATED       0.000127904             16         10   sgd             0.691209      0.00303265     360    252   CrossEntropyLoss       10            110.941   2.08142       0.2497 |\n",
            "| train_cifar_37be9_00002   PENDING          0.0421174              128          5   sgd             0.504435      0.00482545     360    168   CrossEntropyLoss                                                    |\n",
            "| train_cifar_37be9_00003   PENDING          0.0205216               32         10   sgd             0.637362      0.000116181    120    168   NLLLoss                                                             |\n",
            "| train_cifar_37be9_00004   PENDING          0.00887431              16          5   sgd             0.765598      0.00426428     240     84   CrossEntropyLoss                                                    |\n",
            "| train_cifar_37be9_00005   PENDING          0.0235392              128         20   adam            0.765034      0.000223755    240     84   CrossEntropyLoss                                                    |\n",
            "| train_cifar_37be9_00006   PENDING          0.0897215               32         20   adam            0.657465      0.00201386     360    168   CrossEntropyLoss                                                    |\n",
            "| train_cifar_37be9_00007   PENDING          0.000141282             16         20   sgd             0.625691      0.0014128      360     84   NLLLoss                                                             |\n",
            "| train_cifar_37be9_00008   PENDING          0.0104716              128         10   adam            0.633325      0.000107179    120    252   CrossEntropyLoss                                                    |\n",
            "| train_cifar_37be9_00009   PENDING          0.00011069              32         10   sgd             0.810543      0.00059152     360    168   NLLLoss                                                             |\n",
            "| train_cifar_37be9_00010   PENDING          0.0128713              128         20   adam            0.8133        0.000435187    240     84   NLLLoss                                                             |\n",
            "| train_cifar_37be9_00011   PENDING          0.000572411            128          5   sgd             0.57995       0.00627102     120    168   CrossEntropyLoss                                                    |\n",
            "| train_cifar_37be9_00012   PENDING          0.00259363             128          5   adam            0.87201       0.000580308    120     84   CrossEntropyLoss                                                    |\n",
            "| train_cifar_37be9_00013   PENDING          0.0610611               64         10   adam            0.573201      0.00816333     240     84   CrossEntropyLoss                                                    |\n",
            "| train_cifar_37be9_00014   PENDING          0.000215539             64         10   adam            0.66957       0.000294654    360    252   CrossEntropyLoss                                                    |\n",
            "| train_cifar_37be9_00015   PENDING          0.00370564              32         10   adam            0.618958      0.00091318     360    168   NLLLoss                                                             |\n",
            "| train_cifar_37be9_00016   PENDING          0.00468984              64         10   sgd             0.853646      0.000458833    120    168   CrossEntropyLoss                                                    |\n",
            "| train_cifar_37be9_00017   PENDING          0.0267104               32         20   adam            0.759795      0.000149732    240     84   CrossEntropyLoss                                                    |\n",
            "| train_cifar_37be9_00018   PENDING          0.0284903              128          5   sgd             0.752452      0.00079896     120    168   NLLLoss                                                             |\n",
            "| train_cifar_37be9_00019   PENDING          0.0354501              128          5   sgd             0.891213      0.000811317    240     84   CrossEntropyLoss                                                    |\n",
            "+------------------------------------------------------------------------------------------------------------------------------------------------------------------------------------------------------------------+\n",
            "\u001b[36m(func pid=71931)\u001b[0m Files already downloaded and verified\n"
          ]
        },
        {
          "output_type": "stream",
          "name": "stderr",
          "text": [
            "\u001b[36m(func pid=71931)\u001b[0m /usr/local/lib/python3.10/dist-packages/torch/nn/modules/conv.py:456: UserWarning: Plan failed with a cudnnException: CUDNN_BACKEND_EXECUTION_PLAN_DESCRIPTOR: cudnnFinalize Descriptor Failed cudnn_status: CUDNN_STATUS_NOT_SUPPORTED (Triggered internally at ../aten/src/ATen/native/cudnn/Conv_v8.cpp:919.)\n",
            "\u001b[36m(func pid=71931)\u001b[0m   return F.conv2d(input, weight, bias, self.stride,\n"
          ]
        },
        {
          "output_type": "stream",
          "name": "stdout",
          "text": [
            "\n",
            "Trial train_cifar_37be9_00001 finished iteration 1 at 2024-06-08 23:47:47. Total running time: 2min 5s\n",
            "+------------------------------------------------------------+\n",
            "| Trial train_cifar_37be9_00001 result                       |\n",
            "+------------------------------------------------------------+\n",
            "| checkpoint_dir_name                      checkpoint_000000 |\n",
            "| time_this_iter_s                                   5.35428 |\n",
            "| time_total_s                                       5.35428 |\n",
            "| training_iteration                                       1 |\n",
            "| accuracy                                            0.1098 |\n",
            "| loss                                               2.30277 |\n",
            "+------------------------------------------------------------+\n",
            "Trial train_cifar_37be9_00001 saved a checkpoint for iteration 1 at: (local)/root/ray_results/train_cifar_2024-06-08_23-45-42/train_cifar_37be9_00001_1_batch_size=128,criterion=CrossEntropyLoss,epochs=5,l1=360,l2=168,learning_rate=0.0007,momentum=0.5149,op_2024-06-08_23-45-42/checkpoint_000000\n",
            "\n",
            "Trial train_cifar_37be9_00001 completed after 1 iterations at 2024-06-08 23:47:47. Total running time: 2min 5s\n"
          ]
        },
        {
          "output_type": "stream",
          "name": "stderr",
          "text": [
            "\u001b[36m(func pid=71931)\u001b[0m Checkpoint successfully created at: Checkpoint(filesystem=local, path=/root/ray_results/train_cifar_2024-06-08_23-45-42/train_cifar_37be9_00001_1_batch_size=128,criterion=CrossEntropyLoss,epochs=5,l1=360,l2=168,learning_rate=0.0007,momentum=0.5149,op_2024-06-08_23-45-42/checkpoint_000000)\n"
          ]
        },
        {
          "output_type": "stream",
          "name": "stdout",
          "text": [
            "\n",
            "Trial train_cifar_37be9_00002 started with configuration:\n",
            "+-----------------------------------------------------------+\n",
            "| Trial train_cifar_37be9_00002 config                      |\n",
            "+-----------------------------------------------------------+\n",
            "| batch_size                                            128 |\n",
            "| criterion                                CrossEntropyLoss |\n",
            "| epochs                                                  5 |\n",
            "| l1                                                    360 |\n",
            "| l2                                                    168 |\n",
            "| learning_rate                                     0.04212 |\n",
            "| momentum                                          0.50444 |\n",
            "| optimizer                                             sgd |\n",
            "| weight_decay                                      0.00483 |\n",
            "+-----------------------------------------------------------+\n",
            "\u001b[36m(func pid=72336)\u001b[0m Files already downloaded and verified\n",
            "\u001b[36m(func pid=72336)\u001b[0m Files already downloaded and verified\n"
          ]
        },
        {
          "output_type": "stream",
          "name": "stderr",
          "text": [
            "\u001b[36m(func pid=72336)\u001b[0m /usr/local/lib/python3.10/dist-packages/torch/nn/modules/conv.py:456: UserWarning: Plan failed with a cudnnException: CUDNN_BACKEND_EXECUTION_PLAN_DESCRIPTOR: cudnnFinalize Descriptor Failed cudnn_status: CUDNN_STATUS_NOT_SUPPORTED (Triggered internally at ../aten/src/ATen/native/cudnn/Conv_v8.cpp:919.)\n",
            "\u001b[36m(func pid=72336)\u001b[0m   return F.conv2d(input, weight, bias, self.stride,\n"
          ]
        },
        {
          "output_type": "stream",
          "name": "stdout",
          "text": [
            "\n",
            "Trial train_cifar_37be9_00002 finished iteration 1 at 2024-06-08 23:47:57. Total running time: 2min 15s\n",
            "+------------------------------------------------------------+\n",
            "| Trial train_cifar_37be9_00002 result                       |\n",
            "+------------------------------------------------------------+\n",
            "| checkpoint_dir_name                      checkpoint_000000 |\n",
            "| time_this_iter_s                                   5.24203 |\n",
            "| time_total_s                                       5.24203 |\n",
            "| training_iteration                                       1 |\n",
            "| accuracy                                            0.3321 |\n",
            "| loss                                               1.80362 |\n",
            "+------------------------------------------------------------+\n",
            "Trial train_cifar_37be9_00002 saved a checkpoint for iteration 1 at: (local)/root/ray_results/train_cifar_2024-06-08_23-45-42/train_cifar_37be9_00002_2_batch_size=128,criterion=CrossEntropyLoss,epochs=5,l1=360,l2=168,learning_rate=0.0421,momentum=0.5044,op_2024-06-08_23-45-42/checkpoint_000000\n",
            "\u001b[36m(func pid=72336)\u001b[0m Finished Training\n"
          ]
        },
        {
          "output_type": "stream",
          "name": "stderr",
          "text": [
            "\u001b[36m(func pid=72336)\u001b[0m Checkpoint successfully created at: Checkpoint(filesystem=local, path=/root/ray_results/train_cifar_2024-06-08_23-45-42/train_cifar_37be9_00002_2_batch_size=128,criterion=CrossEntropyLoss,epochs=5,l1=360,l2=168,learning_rate=0.0421,momentum=0.5044,op_2024-06-08_23-45-42/checkpoint_000000)\n"
          ]
        },
        {
          "output_type": "stream",
          "name": "stdout",
          "text": [
            "\n",
            "Trial train_cifar_37be9_00002 finished iteration 2 at 2024-06-08 23:48:00. Total running time: 2min 18s\n",
            "+------------------------------------------------------------+\n",
            "| Trial train_cifar_37be9_00002 result                       |\n",
            "+------------------------------------------------------------+\n",
            "| checkpoint_dir_name                      checkpoint_000001 |\n",
            "| time_this_iter_s                                   3.01482 |\n",
            "| time_total_s                                       8.25685 |\n",
            "| training_iteration                                       2 |\n",
            "| accuracy                                            0.4465 |\n",
            "| loss                                               1.51199 |\n",
            "+------------------------------------------------------------+\n",
            "Trial train_cifar_37be9_00002 saved a checkpoint for iteration 2 at: (local)/root/ray_results/train_cifar_2024-06-08_23-45-42/train_cifar_37be9_00002_2_batch_size=128,criterion=CrossEntropyLoss,epochs=5,l1=360,l2=168,learning_rate=0.0421,momentum=0.5044,op_2024-06-08_23-45-42/checkpoint_000001\n",
            "\u001b[36m(func pid=72336)\u001b[0m Finished Training\n"
          ]
        },
        {
          "output_type": "stream",
          "name": "stderr",
          "text": [
            "\u001b[36m(func pid=72336)\u001b[0m Checkpoint successfully created at: Checkpoint(filesystem=local, path=/root/ray_results/train_cifar_2024-06-08_23-45-42/train_cifar_37be9_00002_2_batch_size=128,criterion=CrossEntropyLoss,epochs=5,l1=360,l2=168,learning_rate=0.0421,momentum=0.5044,op_2024-06-08_23-45-42/checkpoint_000001)\n"
          ]
        },
        {
          "output_type": "stream",
          "name": "stdout",
          "text": [
            "\n",
            "Trial train_cifar_37be9_00002 finished iteration 3 at 2024-06-08 23:48:03. Total running time: 2min 21s\n",
            "+------------------------------------------------------------+\n",
            "| Trial train_cifar_37be9_00002 result                       |\n",
            "+------------------------------------------------------------+\n",
            "| checkpoint_dir_name                      checkpoint_000002 |\n",
            "| time_this_iter_s                                   3.14053 |\n",
            "| time_total_s                                      11.39738 |\n",
            "| training_iteration                                       3 |\n",
            "| accuracy                                            0.5044 |\n",
            "| loss                                               1.38639 |\n",
            "+------------------------------------------------------------+\n",
            "Trial train_cifar_37be9_00002 saved a checkpoint for iteration 3 at: (local)/root/ray_results/train_cifar_2024-06-08_23-45-42/train_cifar_37be9_00002_2_batch_size=128,criterion=CrossEntropyLoss,epochs=5,l1=360,l2=168,learning_rate=0.0421,momentum=0.5044,op_2024-06-08_23-45-42/checkpoint_000002\n",
            "\u001b[36m(func pid=72336)\u001b[0m Finished Training\n"
          ]
        },
        {
          "output_type": "stream",
          "name": "stderr",
          "text": [
            "\u001b[36m(func pid=72336)\u001b[0m Checkpoint successfully created at: Checkpoint(filesystem=local, path=/root/ray_results/train_cifar_2024-06-08_23-45-42/train_cifar_37be9_00002_2_batch_size=128,criterion=CrossEntropyLoss,epochs=5,l1=360,l2=168,learning_rate=0.0421,momentum=0.5044,op_2024-06-08_23-45-42/checkpoint_000002)\n"
          ]
        },
        {
          "output_type": "stream",
          "name": "stdout",
          "text": [
            "\n",
            "Trial train_cifar_37be9_00002 finished iteration 4 at 2024-06-08 23:48:06. Total running time: 2min 24s\n",
            "+------------------------------------------------------------+\n",
            "| Trial train_cifar_37be9_00002 result                       |\n",
            "+------------------------------------------------------------+\n",
            "| checkpoint_dir_name                      checkpoint_000003 |\n",
            "| time_this_iter_s                                   3.04449 |\n",
            "| time_total_s                                      14.44187 |\n",
            "| training_iteration                                       4 |\n",
            "| accuracy                                            0.4876 |\n",
            "| loss                                               1.43508 |\n",
            "+------------------------------------------------------------+\n",
            "Trial train_cifar_37be9_00002 saved a checkpoint for iteration 4 at: (local)/root/ray_results/train_cifar_2024-06-08_23-45-42/train_cifar_37be9_00002_2_batch_size=128,criterion=CrossEntropyLoss,epochs=5,l1=360,l2=168,learning_rate=0.0421,momentum=0.5044,op_2024-06-08_23-45-42/checkpoint_000003\n",
            "\u001b[36m(func pid=72336)\u001b[0m Finished Training\n"
          ]
        },
        {
          "output_type": "stream",
          "name": "stderr",
          "text": [
            "\u001b[36m(func pid=72336)\u001b[0m Checkpoint successfully created at: Checkpoint(filesystem=local, path=/root/ray_results/train_cifar_2024-06-08_23-45-42/train_cifar_37be9_00002_2_batch_size=128,criterion=CrossEntropyLoss,epochs=5,l1=360,l2=168,learning_rate=0.0421,momentum=0.5044,op_2024-06-08_23-45-42/checkpoint_000003)\n"
          ]
        },
        {
          "output_type": "stream",
          "name": "stdout",
          "text": [
            "\n",
            "Trial train_cifar_37be9_00002 finished iteration 5 at 2024-06-08 23:48:09. Total running time: 2min 27s\n",
            "+------------------------------------------------------------+\n",
            "| Trial train_cifar_37be9_00002 result                       |\n",
            "+------------------------------------------------------------+\n",
            "| checkpoint_dir_name                      checkpoint_000004 |\n",
            "| time_this_iter_s                                   3.00691 |\n",
            "| time_total_s                                      17.44878 |\n",
            "| training_iteration                                       5 |\n",
            "| accuracy                                            0.5347 |\n",
            "| loss                                               1.31026 |\n",
            "+------------------------------------------------------------+\n",
            "Trial train_cifar_37be9_00002 saved a checkpoint for iteration 5 at: (local)/root/ray_results/train_cifar_2024-06-08_23-45-42/train_cifar_37be9_00002_2_batch_size=128,criterion=CrossEntropyLoss,epochs=5,l1=360,l2=168,learning_rate=0.0421,momentum=0.5044,op_2024-06-08_23-45-42/checkpoint_000004\n",
            "\u001b[36m(func pid=72336)\u001b[0m Finished Training\n"
          ]
        },
        {
          "output_type": "stream",
          "name": "stderr",
          "text": [
            "\u001b[36m(func pid=72336)\u001b[0m Checkpoint successfully created at: Checkpoint(filesystem=local, path=/root/ray_results/train_cifar_2024-06-08_23-45-42/train_cifar_37be9_00002_2_batch_size=128,criterion=CrossEntropyLoss,epochs=5,l1=360,l2=168,learning_rate=0.0421,momentum=0.5044,op_2024-06-08_23-45-42/checkpoint_000004)\n"
          ]
        },
        {
          "output_type": "stream",
          "name": "stdout",
          "text": [
            "\n",
            "Trial status: 2 TERMINATED | 1 RUNNING | 17 PENDING\n",
            "Current time: 2024-06-08 23:48:13. Total running time: 2min 30s\n",
            "Logical resource usage: 12.0/12 CPUs, 1.0/1 GPUs (0.0/1.0 accelerator_type:L4)\n",
            "+------------------------------------------------------------------------------------------------------------------------------------------------------------------------------------------------------------------+\n",
            "| Trial name                status         learning_rate     batch_size     epochs   optimizer       momentum     weight_decay     l1     l2   criterion            iter     total time (s)      loss     accuracy |\n",
            "+------------------------------------------------------------------------------------------------------------------------------------------------------------------------------------------------------------------+\n",
            "| train_cifar_37be9_00002   RUNNING          0.0421174              128          5   sgd             0.504435      0.00482545     360    168   CrossEntropyLoss        5           17.4488    1.31026       0.5347 |\n",
            "| train_cifar_37be9_00000   TERMINATED       0.000127904             16         10   sgd             0.691209      0.00303265     360    252   CrossEntropyLoss       10          110.941     2.08142       0.2497 |\n",
            "| train_cifar_37be9_00001   TERMINATED       0.000686988            128          5   sgd             0.514858      0.00176203     360    168   CrossEntropyLoss        1            5.35428   2.30277       0.1098 |\n",
            "| train_cifar_37be9_00003   PENDING          0.0205216               32         10   sgd             0.637362      0.000116181    120    168   NLLLoss                                                             |\n",
            "| train_cifar_37be9_00004   PENDING          0.00887431              16          5   sgd             0.765598      0.00426428     240     84   CrossEntropyLoss                                                    |\n",
            "| train_cifar_37be9_00005   PENDING          0.0235392              128         20   adam            0.765034      0.000223755    240     84   CrossEntropyLoss                                                    |\n",
            "| train_cifar_37be9_00006   PENDING          0.0897215               32         20   adam            0.657465      0.00201386     360    168   CrossEntropyLoss                                                    |\n",
            "| train_cifar_37be9_00007   PENDING          0.000141282             16         20   sgd             0.625691      0.0014128      360     84   NLLLoss                                                             |\n",
            "| train_cifar_37be9_00008   PENDING          0.0104716              128         10   adam            0.633325      0.000107179    120    252   CrossEntropyLoss                                                    |\n",
            "| train_cifar_37be9_00009   PENDING          0.00011069              32         10   sgd             0.810543      0.00059152     360    168   NLLLoss                                                             |\n",
            "| train_cifar_37be9_00010   PENDING          0.0128713              128         20   adam            0.8133        0.000435187    240     84   NLLLoss                                                             |\n",
            "| train_cifar_37be9_00011   PENDING          0.000572411            128          5   sgd             0.57995       0.00627102     120    168   CrossEntropyLoss                                                    |\n",
            "| train_cifar_37be9_00012   PENDING          0.00259363             128          5   adam            0.87201       0.000580308    120     84   CrossEntropyLoss                                                    |\n",
            "| train_cifar_37be9_00013   PENDING          0.0610611               64         10   adam            0.573201      0.00816333     240     84   CrossEntropyLoss                                                    |\n",
            "| train_cifar_37be9_00014   PENDING          0.000215539             64         10   adam            0.66957       0.000294654    360    252   CrossEntropyLoss                                                    |\n",
            "| train_cifar_37be9_00015   PENDING          0.00370564              32         10   adam            0.618958      0.00091318     360    168   NLLLoss                                                             |\n",
            "| train_cifar_37be9_00016   PENDING          0.00468984              64         10   sgd             0.853646      0.000458833    120    168   CrossEntropyLoss                                                    |\n",
            "| train_cifar_37be9_00017   PENDING          0.0267104               32         20   adam            0.759795      0.000149732    240     84   CrossEntropyLoss                                                    |\n",
            "| train_cifar_37be9_00018   PENDING          0.0284903              128          5   sgd             0.752452      0.00079896     120    168   NLLLoss                                                             |\n",
            "| train_cifar_37be9_00019   PENDING          0.0354501              128          5   sgd             0.891213      0.000811317    240     84   CrossEntropyLoss                                                    |\n",
            "+------------------------------------------------------------------------------------------------------------------------------------------------------------------------------------------------------------------+\n",
            "\n",
            "Trial train_cifar_37be9_00002 finished iteration 6 at 2024-06-08 23:48:13. Total running time: 2min 30s\n",
            "+------------------------------------------------------------+\n",
            "| Trial train_cifar_37be9_00002 result                       |\n",
            "+------------------------------------------------------------+\n",
            "| checkpoint_dir_name                      checkpoint_000005 |\n",
            "| time_this_iter_s                                   3.17078 |\n",
            "| time_total_s                                      20.61956 |\n",
            "| training_iteration                                       6 |\n",
            "| accuracy                                            0.5452 |\n",
            "| loss                                               1.29074 |\n",
            "+------------------------------------------------------------+\n",
            "Trial train_cifar_37be9_00002 saved a checkpoint for iteration 6 at: (local)/root/ray_results/train_cifar_2024-06-08_23-45-42/train_cifar_37be9_00002_2_batch_size=128,criterion=CrossEntropyLoss,epochs=5,l1=360,l2=168,learning_rate=0.0421,momentum=0.5044,op_2024-06-08_23-45-42/checkpoint_000005\n",
            "\u001b[36m(func pid=72336)\u001b[0m Finished Training\n"
          ]
        },
        {
          "output_type": "stream",
          "name": "stderr",
          "text": [
            "\u001b[36m(func pid=72336)\u001b[0m Checkpoint successfully created at: Checkpoint(filesystem=local, path=/root/ray_results/train_cifar_2024-06-08_23-45-42/train_cifar_37be9_00002_2_batch_size=128,criterion=CrossEntropyLoss,epochs=5,l1=360,l2=168,learning_rate=0.0421,momentum=0.5044,op_2024-06-08_23-45-42/checkpoint_000005)\n"
          ]
        },
        {
          "output_type": "stream",
          "name": "stdout",
          "text": [
            "\n",
            "Trial train_cifar_37be9_00002 finished iteration 7 at 2024-06-08 23:48:16. Total running time: 2min 33s\n",
            "+------------------------------------------------------------+\n",
            "| Trial train_cifar_37be9_00002 result                       |\n",
            "+------------------------------------------------------------+\n",
            "| checkpoint_dir_name                      checkpoint_000006 |\n",
            "| time_this_iter_s                                   3.06057 |\n",
            "| time_total_s                                      23.68013 |\n",
            "| training_iteration                                       7 |\n",
            "| accuracy                                            0.5619 |\n",
            "| loss                                               1.23686 |\n",
            "+------------------------------------------------------------+\n",
            "Trial train_cifar_37be9_00002 saved a checkpoint for iteration 7 at: (local)/root/ray_results/train_cifar_2024-06-08_23-45-42/train_cifar_37be9_00002_2_batch_size=128,criterion=CrossEntropyLoss,epochs=5,l1=360,l2=168,learning_rate=0.0421,momentum=0.5044,op_2024-06-08_23-45-42/checkpoint_000006\n",
            "\u001b[36m(func pid=72336)\u001b[0m Finished Training\n"
          ]
        },
        {
          "output_type": "stream",
          "name": "stderr",
          "text": [
            "\u001b[36m(func pid=72336)\u001b[0m Checkpoint successfully created at: Checkpoint(filesystem=local, path=/root/ray_results/train_cifar_2024-06-08_23-45-42/train_cifar_37be9_00002_2_batch_size=128,criterion=CrossEntropyLoss,epochs=5,l1=360,l2=168,learning_rate=0.0421,momentum=0.5044,op_2024-06-08_23-45-42/checkpoint_000006)\n"
          ]
        },
        {
          "output_type": "stream",
          "name": "stdout",
          "text": [
            "\n",
            "Trial train_cifar_37be9_00002 finished iteration 8 at 2024-06-08 23:48:19. Total running time: 2min 36s\n",
            "+------------------------------------------------------------+\n",
            "| Trial train_cifar_37be9_00002 result                       |\n",
            "+------------------------------------------------------------+\n",
            "| checkpoint_dir_name                      checkpoint_000007 |\n",
            "| time_this_iter_s                                   3.09441 |\n",
            "| time_total_s                                      26.77454 |\n",
            "| training_iteration                                       8 |\n",
            "| accuracy                                            0.5864 |\n",
            "| loss                                               1.17862 |\n",
            "+------------------------------------------------------------+\n",
            "Trial train_cifar_37be9_00002 saved a checkpoint for iteration 8 at: (local)/root/ray_results/train_cifar_2024-06-08_23-45-42/train_cifar_37be9_00002_2_batch_size=128,criterion=CrossEntropyLoss,epochs=5,l1=360,l2=168,learning_rate=0.0421,momentum=0.5044,op_2024-06-08_23-45-42/checkpoint_000007\n",
            "\u001b[36m(func pid=72336)\u001b[0m Finished Training\n"
          ]
        },
        {
          "output_type": "stream",
          "name": "stderr",
          "text": [
            "\u001b[36m(func pid=72336)\u001b[0m Checkpoint successfully created at: Checkpoint(filesystem=local, path=/root/ray_results/train_cifar_2024-06-08_23-45-42/train_cifar_37be9_00002_2_batch_size=128,criterion=CrossEntropyLoss,epochs=5,l1=360,l2=168,learning_rate=0.0421,momentum=0.5044,op_2024-06-08_23-45-42/checkpoint_000007)\n"
          ]
        },
        {
          "output_type": "stream",
          "name": "stdout",
          "text": [
            "\n",
            "Trial train_cifar_37be9_00002 finished iteration 9 at 2024-06-08 23:48:22. Total running time: 2min 39s\n",
            "+------------------------------------------------------------+\n",
            "| Trial train_cifar_37be9_00002 result                       |\n",
            "+------------------------------------------------------------+\n",
            "| checkpoint_dir_name                      checkpoint_000008 |\n",
            "| time_this_iter_s                                   3.00668 |\n",
            "| time_total_s                                      29.78122 |\n",
            "| training_iteration                                       9 |\n",
            "| accuracy                                            0.5742 |\n",
            "| loss                                               1.20578 |\n",
            "+------------------------------------------------------------+\n",
            "Trial train_cifar_37be9_00002 saved a checkpoint for iteration 9 at: (local)/root/ray_results/train_cifar_2024-06-08_23-45-42/train_cifar_37be9_00002_2_batch_size=128,criterion=CrossEntropyLoss,epochs=5,l1=360,l2=168,learning_rate=0.0421,momentum=0.5044,op_2024-06-08_23-45-42/checkpoint_000008\n",
            "\u001b[36m(func pid=72336)\u001b[0m Finished Training\n"
          ]
        },
        {
          "output_type": "stream",
          "name": "stderr",
          "text": [
            "\u001b[36m(func pid=72336)\u001b[0m Checkpoint successfully created at: Checkpoint(filesystem=local, path=/root/ray_results/train_cifar_2024-06-08_23-45-42/train_cifar_37be9_00002_2_batch_size=128,criterion=CrossEntropyLoss,epochs=5,l1=360,l2=168,learning_rate=0.0421,momentum=0.5044,op_2024-06-08_23-45-42/checkpoint_000008)\n"
          ]
        },
        {
          "output_type": "stream",
          "name": "stdout",
          "text": [
            "\n",
            "Trial train_cifar_37be9_00002 finished iteration 10 at 2024-06-08 23:48:25. Total running time: 2min 42s\n",
            "+------------------------------------------------------------+\n",
            "| Trial train_cifar_37be9_00002 result                       |\n",
            "+------------------------------------------------------------+\n",
            "| checkpoint_dir_name                      checkpoint_000009 |\n",
            "| time_this_iter_s                                   3.03219 |\n",
            "| time_total_s                                      32.81341 |\n",
            "| training_iteration                                      10 |\n",
            "| accuracy                                            0.5682 |\n",
            "| loss                                               1.19385 |\n",
            "+------------------------------------------------------------+\n",
            "Trial train_cifar_37be9_00002 saved a checkpoint for iteration 10 at: (local)/root/ray_results/train_cifar_2024-06-08_23-45-42/train_cifar_37be9_00002_2_batch_size=128,criterion=CrossEntropyLoss,epochs=5,l1=360,l2=168,learning_rate=0.0421,momentum=0.5044,op_2024-06-08_23-45-42/checkpoint_000009\n",
            "\n",
            "Trial train_cifar_37be9_00002 completed after 10 iterations at 2024-06-08 23:48:25. Total running time: 2min 42s\n"
          ]
        },
        {
          "output_type": "stream",
          "name": "stderr",
          "text": [
            "\u001b[36m(func pid=72336)\u001b[0m Checkpoint successfully created at: Checkpoint(filesystem=local, path=/root/ray_results/train_cifar_2024-06-08_23-45-42/train_cifar_37be9_00002_2_batch_size=128,criterion=CrossEntropyLoss,epochs=5,l1=360,l2=168,learning_rate=0.0421,momentum=0.5044,op_2024-06-08_23-45-42/checkpoint_000009)\n"
          ]
        },
        {
          "output_type": "stream",
          "name": "stdout",
          "text": [
            "\n",
            "Trial train_cifar_37be9_00003 started with configuration:\n",
            "+--------------------------------------------------+\n",
            "| Trial train_cifar_37be9_00003 config             |\n",
            "+--------------------------------------------------+\n",
            "| batch_size                                    32 |\n",
            "| criterion                                NLLLoss |\n",
            "| epochs                                        10 |\n",
            "| l1                                           120 |\n",
            "| l2                                           168 |\n",
            "| learning_rate                            0.02052 |\n",
            "| momentum                                 0.63736 |\n",
            "| optimizer                                    sgd |\n",
            "| weight_decay                             0.00012 |\n",
            "+--------------------------------------------------+\n",
            "\u001b[36m(func pid=75022)\u001b[0m Files already downloaded and verified\n",
            "\u001b[36m(func pid=75022)\u001b[0m Files already downloaded and verified\n",
            "\n",
            "Trial train_cifar_37be9_00003 finished iteration 1 at 2024-06-08 23:48:38. Total running time: 2min 56s\n",
            "+------------------------------------------------------------+\n",
            "| Trial train_cifar_37be9_00003 result                       |\n",
            "+------------------------------------------------------------+\n",
            "| checkpoint_dir_name                      checkpoint_000000 |\n",
            "| time_this_iter_s                                   8.28301 |\n",
            "| time_total_s                                       8.28301 |\n",
            "| training_iteration                                       1 |\n",
            "| accuracy                                            0.1025 |\n",
            "| loss                                                   nan |\n",
            "+------------------------------------------------------------+\n",
            "Trial train_cifar_37be9_00003 saved a checkpoint for iteration 1 at: (local)/root/ray_results/train_cifar_2024-06-08_23-45-42/train_cifar_37be9_00003_3_batch_size=32,criterion=NLLLoss,epochs=10,l1=120,l2=168,learning_rate=0.0205,momentum=0.6374,optimizer=s_2024-06-08_23-45-42/checkpoint_000000\n",
            "\u001b[36m(func pid=75022)\u001b[0m Finished Training\n"
          ]
        },
        {
          "output_type": "stream",
          "name": "stderr",
          "text": [
            "\u001b[36m(func pid=75022)\u001b[0m Checkpoint successfully created at: Checkpoint(filesystem=local, path=/root/ray_results/train_cifar_2024-06-08_23-45-42/train_cifar_37be9_00003_3_batch_size=32,criterion=NLLLoss,epochs=10,l1=120,l2=168,learning_rate=0.0205,momentum=0.6374,optimizer=s_2024-06-08_23-45-42/checkpoint_000000)\n"
          ]
        },
        {
          "output_type": "stream",
          "name": "stdout",
          "text": [
            "\n",
            "Trial status: 3 TERMINATED | 1 RUNNING | 16 PENDING\n",
            "Current time: 2024-06-08 23:48:43. Total running time: 3min 0s\n",
            "Logical resource usage: 12.0/12 CPUs, 1.0/1 GPUs (0.0/1.0 accelerator_type:L4)\n",
            "+--------------------------------------------------------------------------------------------------------------------------------------------------------------------------------------------------------------------+\n",
            "| Trial name                status         learning_rate     batch_size     epochs   optimizer       momentum     weight_decay     l1     l2   criterion            iter     total time (s)        loss     accuracy |\n",
            "+--------------------------------------------------------------------------------------------------------------------------------------------------------------------------------------------------------------------+\n",
            "| train_cifar_37be9_00003   RUNNING          0.0205216               32         10   sgd             0.637362      0.000116181    120    168   NLLLoss                 1            8.28301   nan             0.1025 |\n",
            "| train_cifar_37be9_00000   TERMINATED       0.000127904             16         10   sgd             0.691209      0.00303265     360    252   CrossEntropyLoss       10          110.941       2.08142       0.2497 |\n",
            "| train_cifar_37be9_00001   TERMINATED       0.000686988            128          5   sgd             0.514858      0.00176203     360    168   CrossEntropyLoss        1            5.35428     2.30277       0.1098 |\n",
            "| train_cifar_37be9_00002   TERMINATED       0.0421174              128          5   sgd             0.504435      0.00482545     360    168   CrossEntropyLoss       10           32.8134      1.19385       0.5682 |\n",
            "| train_cifar_37be9_00004   PENDING          0.00887431              16          5   sgd             0.765598      0.00426428     240     84   CrossEntropyLoss                                                      |\n",
            "| train_cifar_37be9_00005   PENDING          0.0235392              128         20   adam            0.765034      0.000223755    240     84   CrossEntropyLoss                                                      |\n",
            "| train_cifar_37be9_00006   PENDING          0.0897215               32         20   adam            0.657465      0.00201386     360    168   CrossEntropyLoss                                                      |\n",
            "| train_cifar_37be9_00007   PENDING          0.000141282             16         20   sgd             0.625691      0.0014128      360     84   NLLLoss                                                               |\n",
            "| train_cifar_37be9_00008   PENDING          0.0104716              128         10   adam            0.633325      0.000107179    120    252   CrossEntropyLoss                                                      |\n",
            "| train_cifar_37be9_00009   PENDING          0.00011069              32         10   sgd             0.810543      0.00059152     360    168   NLLLoss                                                               |\n",
            "| train_cifar_37be9_00010   PENDING          0.0128713              128         20   adam            0.8133        0.000435187    240     84   NLLLoss                                                               |\n",
            "| train_cifar_37be9_00011   PENDING          0.000572411            128          5   sgd             0.57995       0.00627102     120    168   CrossEntropyLoss                                                      |\n",
            "| train_cifar_37be9_00012   PENDING          0.00259363             128          5   adam            0.87201       0.000580308    120     84   CrossEntropyLoss                                                      |\n",
            "| train_cifar_37be9_00013   PENDING          0.0610611               64         10   adam            0.573201      0.00816333     240     84   CrossEntropyLoss                                                      |\n",
            "| train_cifar_37be9_00014   PENDING          0.000215539             64         10   adam            0.66957       0.000294654    360    252   CrossEntropyLoss                                                      |\n",
            "| train_cifar_37be9_00015   PENDING          0.00370564              32         10   adam            0.618958      0.00091318     360    168   NLLLoss                                                               |\n",
            "| train_cifar_37be9_00016   PENDING          0.00468984              64         10   sgd             0.853646      0.000458833    120    168   CrossEntropyLoss                                                      |\n",
            "| train_cifar_37be9_00017   PENDING          0.0267104               32         20   adam            0.759795      0.000149732    240     84   CrossEntropyLoss                                                      |\n",
            "| train_cifar_37be9_00018   PENDING          0.0284903              128          5   sgd             0.752452      0.00079896     120    168   NLLLoss                                                               |\n",
            "| train_cifar_37be9_00019   PENDING          0.0354501              128          5   sgd             0.891213      0.000811317    240     84   CrossEntropyLoss                                                      |\n",
            "+--------------------------------------------------------------------------------------------------------------------------------------------------------------------------------------------------------------------+\n",
            "\n",
            "Trial train_cifar_37be9_00003 finished iteration 2 at 2024-06-08 23:48:44. Total running time: 3min 2s\n",
            "+------------------------------------------------------------+\n",
            "| Trial train_cifar_37be9_00003 result                       |\n",
            "+------------------------------------------------------------+\n",
            "| checkpoint_dir_name                      checkpoint_000001 |\n",
            "| time_this_iter_s                                   6.25172 |\n",
            "| time_total_s                                      14.53473 |\n",
            "| training_iteration                                       2 |\n",
            "| accuracy                                            0.1025 |\n",
            "| loss                                                   nan |\n",
            "+------------------------------------------------------------+\n",
            "Trial train_cifar_37be9_00003 saved a checkpoint for iteration 2 at: (local)/root/ray_results/train_cifar_2024-06-08_23-45-42/train_cifar_37be9_00003_3_batch_size=32,criterion=NLLLoss,epochs=10,l1=120,l2=168,learning_rate=0.0205,momentum=0.6374,optimizer=s_2024-06-08_23-45-42/checkpoint_000001\n",
            "\u001b[36m(func pid=75022)\u001b[0m Finished Training\n"
          ]
        },
        {
          "output_type": "stream",
          "name": "stderr",
          "text": [
            "\u001b[36m(func pid=75022)\u001b[0m Checkpoint successfully created at: Checkpoint(filesystem=local, path=/root/ray_results/train_cifar_2024-06-08_23-45-42/train_cifar_37be9_00003_3_batch_size=32,criterion=NLLLoss,epochs=10,l1=120,l2=168,learning_rate=0.0205,momentum=0.6374,optimizer=s_2024-06-08_23-45-42/checkpoint_000001)\n"
          ]
        },
        {
          "output_type": "stream",
          "name": "stdout",
          "text": [
            "\n",
            "Trial train_cifar_37be9_00003 finished iteration 3 at 2024-06-08 23:48:51. Total running time: 3min 8s\n",
            "+------------------------------------------------------------+\n",
            "| Trial train_cifar_37be9_00003 result                       |\n",
            "+------------------------------------------------------------+\n",
            "| checkpoint_dir_name                      checkpoint_000002 |\n",
            "| time_this_iter_s                                   6.21108 |\n",
            "| time_total_s                                      20.74581 |\n",
            "| training_iteration                                       3 |\n",
            "| accuracy                                            0.1025 |\n",
            "| loss                                                   nan |\n",
            "+------------------------------------------------------------+\n",
            "Trial train_cifar_37be9_00003 saved a checkpoint for iteration 3 at: (local)/root/ray_results/train_cifar_2024-06-08_23-45-42/train_cifar_37be9_00003_3_batch_size=32,criterion=NLLLoss,epochs=10,l1=120,l2=168,learning_rate=0.0205,momentum=0.6374,optimizer=s_2024-06-08_23-45-42/checkpoint_000002\n",
            "\u001b[36m(func pid=75022)\u001b[0m Finished Training\n"
          ]
        },
        {
          "output_type": "stream",
          "name": "stderr",
          "text": [
            "\u001b[36m(func pid=75022)\u001b[0m Checkpoint successfully created at: Checkpoint(filesystem=local, path=/root/ray_results/train_cifar_2024-06-08_23-45-42/train_cifar_37be9_00003_3_batch_size=32,criterion=NLLLoss,epochs=10,l1=120,l2=168,learning_rate=0.0205,momentum=0.6374,optimizer=s_2024-06-08_23-45-42/checkpoint_000002)\n"
          ]
        },
        {
          "output_type": "stream",
          "name": "stdout",
          "text": [
            "\n",
            "Trial train_cifar_37be9_00003 finished iteration 4 at 2024-06-08 23:48:57. Total running time: 3min 14s\n",
            "+------------------------------------------------------------+\n",
            "| Trial train_cifar_37be9_00003 result                       |\n",
            "+------------------------------------------------------------+\n",
            "| checkpoint_dir_name                      checkpoint_000003 |\n",
            "| time_this_iter_s                                   6.25246 |\n",
            "| time_total_s                                      26.99827 |\n",
            "| training_iteration                                       4 |\n",
            "| accuracy                                            0.1025 |\n",
            "| loss                                                   nan |\n",
            "+------------------------------------------------------------+\n",
            "Trial train_cifar_37be9_00003 saved a checkpoint for iteration 4 at: (local)/root/ray_results/train_cifar_2024-06-08_23-45-42/train_cifar_37be9_00003_3_batch_size=32,criterion=NLLLoss,epochs=10,l1=120,l2=168,learning_rate=0.0205,momentum=0.6374,optimizer=s_2024-06-08_23-45-42/checkpoint_000003\n",
            "\u001b[36m(func pid=75022)\u001b[0m Finished Training\n"
          ]
        },
        {
          "output_type": "stream",
          "name": "stderr",
          "text": [
            "\u001b[36m(func pid=75022)\u001b[0m Checkpoint successfully created at: Checkpoint(filesystem=local, path=/root/ray_results/train_cifar_2024-06-08_23-45-42/train_cifar_37be9_00003_3_batch_size=32,criterion=NLLLoss,epochs=10,l1=120,l2=168,learning_rate=0.0205,momentum=0.6374,optimizer=s_2024-06-08_23-45-42/checkpoint_000003)\n"
          ]
        },
        {
          "output_type": "stream",
          "name": "stdout",
          "text": [
            "\n",
            "Trial train_cifar_37be9_00003 finished iteration 5 at 2024-06-08 23:49:03. Total running time: 3min 20s\n",
            "+------------------------------------------------------------+\n",
            "| Trial train_cifar_37be9_00003 result                       |\n",
            "+------------------------------------------------------------+\n",
            "| checkpoint_dir_name                      checkpoint_000004 |\n",
            "| time_this_iter_s                                   5.79839 |\n",
            "| time_total_s                                      32.79666 |\n",
            "| training_iteration                                       5 |\n",
            "| accuracy                                            0.1025 |\n",
            "| loss                                                   nan |\n",
            "+------------------------------------------------------------+\n",
            "Trial train_cifar_37be9_00003 saved a checkpoint for iteration 5 at: (local)/root/ray_results/train_cifar_2024-06-08_23-45-42/train_cifar_37be9_00003_3_batch_size=32,criterion=NLLLoss,epochs=10,l1=120,l2=168,learning_rate=0.0205,momentum=0.6374,optimizer=s_2024-06-08_23-45-42/checkpoint_000004\n",
            "\u001b[36m(func pid=75022)\u001b[0m Finished Training\n"
          ]
        },
        {
          "output_type": "stream",
          "name": "stderr",
          "text": [
            "\u001b[36m(func pid=75022)\u001b[0m Checkpoint successfully created at: Checkpoint(filesystem=local, path=/root/ray_results/train_cifar_2024-06-08_23-45-42/train_cifar_37be9_00003_3_batch_size=32,criterion=NLLLoss,epochs=10,l1=120,l2=168,learning_rate=0.0205,momentum=0.6374,optimizer=s_2024-06-08_23-45-42/checkpoint_000004)\n"
          ]
        },
        {
          "output_type": "stream",
          "name": "stdout",
          "text": [
            "\n",
            "Trial train_cifar_37be9_00003 finished iteration 6 at 2024-06-08 23:49:09. Total running time: 3min 26s\n",
            "+------------------------------------------------------------+\n",
            "| Trial train_cifar_37be9_00003 result                       |\n",
            "+------------------------------------------------------------+\n",
            "| checkpoint_dir_name                      checkpoint_000005 |\n",
            "| time_this_iter_s                                   6.16735 |\n",
            "| time_total_s                                        38.964 |\n",
            "| training_iteration                                       6 |\n",
            "| accuracy                                            0.1025 |\n",
            "| loss                                                   nan |\n",
            "+------------------------------------------------------------+\n",
            "Trial train_cifar_37be9_00003 saved a checkpoint for iteration 6 at: (local)/root/ray_results/train_cifar_2024-06-08_23-45-42/train_cifar_37be9_00003_3_batch_size=32,criterion=NLLLoss,epochs=10,l1=120,l2=168,learning_rate=0.0205,momentum=0.6374,optimizer=s_2024-06-08_23-45-42/checkpoint_000005\n",
            "\u001b[36m(func pid=75022)\u001b[0m Finished Training\n"
          ]
        },
        {
          "output_type": "stream",
          "name": "stderr",
          "text": [
            "\u001b[36m(func pid=75022)\u001b[0m Checkpoint successfully created at: Checkpoint(filesystem=local, path=/root/ray_results/train_cifar_2024-06-08_23-45-42/train_cifar_37be9_00003_3_batch_size=32,criterion=NLLLoss,epochs=10,l1=120,l2=168,learning_rate=0.0205,momentum=0.6374,optimizer=s_2024-06-08_23-45-42/checkpoint_000005)\n"
          ]
        },
        {
          "output_type": "stream",
          "name": "stdout",
          "text": [
            "\n",
            "Trial status: 3 TERMINATED | 1 RUNNING | 16 PENDING\n",
            "Current time: 2024-06-08 23:49:13. Total running time: 3min 30s\n",
            "Logical resource usage: 12.0/12 CPUs, 1.0/1 GPUs (0.0/1.0 accelerator_type:L4)\n",
            "+--------------------------------------------------------------------------------------------------------------------------------------------------------------------------------------------------------------------+\n",
            "| Trial name                status         learning_rate     batch_size     epochs   optimizer       momentum     weight_decay     l1     l2   criterion            iter     total time (s)        loss     accuracy |\n",
            "+--------------------------------------------------------------------------------------------------------------------------------------------------------------------------------------------------------------------+\n",
            "| train_cifar_37be9_00003   RUNNING          0.0205216               32         10   sgd             0.637362      0.000116181    120    168   NLLLoss                 6           38.964     nan             0.1025 |\n",
            "| train_cifar_37be9_00000   TERMINATED       0.000127904             16         10   sgd             0.691209      0.00303265     360    252   CrossEntropyLoss       10          110.941       2.08142       0.2497 |\n",
            "| train_cifar_37be9_00001   TERMINATED       0.000686988            128          5   sgd             0.514858      0.00176203     360    168   CrossEntropyLoss        1            5.35428     2.30277       0.1098 |\n",
            "| train_cifar_37be9_00002   TERMINATED       0.0421174              128          5   sgd             0.504435      0.00482545     360    168   CrossEntropyLoss       10           32.8134      1.19385       0.5682 |\n",
            "| train_cifar_37be9_00004   PENDING          0.00887431              16          5   sgd             0.765598      0.00426428     240     84   CrossEntropyLoss                                                      |\n",
            "| train_cifar_37be9_00005   PENDING          0.0235392              128         20   adam            0.765034      0.000223755    240     84   CrossEntropyLoss                                                      |\n",
            "| train_cifar_37be9_00006   PENDING          0.0897215               32         20   adam            0.657465      0.00201386     360    168   CrossEntropyLoss                                                      |\n",
            "| train_cifar_37be9_00007   PENDING          0.000141282             16         20   sgd             0.625691      0.0014128      360     84   NLLLoss                                                               |\n",
            "| train_cifar_37be9_00008   PENDING          0.0104716              128         10   adam            0.633325      0.000107179    120    252   CrossEntropyLoss                                                      |\n",
            "| train_cifar_37be9_00009   PENDING          0.00011069              32         10   sgd             0.810543      0.00059152     360    168   NLLLoss                                                               |\n",
            "| train_cifar_37be9_00010   PENDING          0.0128713              128         20   adam            0.8133        0.000435187    240     84   NLLLoss                                                               |\n",
            "| train_cifar_37be9_00011   PENDING          0.000572411            128          5   sgd             0.57995       0.00627102     120    168   CrossEntropyLoss                                                      |\n",
            "| train_cifar_37be9_00012   PENDING          0.00259363             128          5   adam            0.87201       0.000580308    120     84   CrossEntropyLoss                                                      |\n",
            "| train_cifar_37be9_00013   PENDING          0.0610611               64         10   adam            0.573201      0.00816333     240     84   CrossEntropyLoss                                                      |\n",
            "| train_cifar_37be9_00014   PENDING          0.000215539             64         10   adam            0.66957       0.000294654    360    252   CrossEntropyLoss                                                      |\n",
            "| train_cifar_37be9_00015   PENDING          0.00370564              32         10   adam            0.618958      0.00091318     360    168   NLLLoss                                                               |\n",
            "| train_cifar_37be9_00016   PENDING          0.00468984              64         10   sgd             0.853646      0.000458833    120    168   CrossEntropyLoss                                                      |\n",
            "| train_cifar_37be9_00017   PENDING          0.0267104               32         20   adam            0.759795      0.000149732    240     84   CrossEntropyLoss                                                      |\n",
            "| train_cifar_37be9_00018   PENDING          0.0284903              128          5   sgd             0.752452      0.00079896     120    168   NLLLoss                                                               |\n",
            "| train_cifar_37be9_00019   PENDING          0.0354501              128          5   sgd             0.891213      0.000811317    240     84   CrossEntropyLoss                                                      |\n",
            "+--------------------------------------------------------------------------------------------------------------------------------------------------------------------------------------------------------------------+\n",
            "\n",
            "Trial train_cifar_37be9_00003 finished iteration 7 at 2024-06-08 23:49:15. Total running time: 3min 33s\n",
            "+------------------------------------------------------------+\n",
            "| Trial train_cifar_37be9_00003 result                       |\n",
            "+------------------------------------------------------------+\n",
            "| checkpoint_dir_name                      checkpoint_000006 |\n",
            "| time_this_iter_s                                   6.20461 |\n",
            "| time_total_s                                      45.16862 |\n",
            "| training_iteration                                       7 |\n",
            "| accuracy                                            0.1025 |\n",
            "| loss                                                   nan |\n",
            "+------------------------------------------------------------+\n",
            "Trial train_cifar_37be9_00003 saved a checkpoint for iteration 7 at: (local)/root/ray_results/train_cifar_2024-06-08_23-45-42/train_cifar_37be9_00003_3_batch_size=32,criterion=NLLLoss,epochs=10,l1=120,l2=168,learning_rate=0.0205,momentum=0.6374,optimizer=s_2024-06-08_23-45-42/checkpoint_000006\n",
            "\u001b[36m(func pid=75022)\u001b[0m Finished Training\n"
          ]
        },
        {
          "output_type": "stream",
          "name": "stderr",
          "text": [
            "\u001b[36m(func pid=75022)\u001b[0m Checkpoint successfully created at: Checkpoint(filesystem=local, path=/root/ray_results/train_cifar_2024-06-08_23-45-42/train_cifar_37be9_00003_3_batch_size=32,criterion=NLLLoss,epochs=10,l1=120,l2=168,learning_rate=0.0205,momentum=0.6374,optimizer=s_2024-06-08_23-45-42/checkpoint_000006)\n"
          ]
        },
        {
          "output_type": "stream",
          "name": "stdout",
          "text": [
            "\n",
            "Trial train_cifar_37be9_00003 finished iteration 8 at 2024-06-08 23:49:21. Total running time: 3min 39s\n",
            "+------------------------------------------------------------+\n",
            "| Trial train_cifar_37be9_00003 result                       |\n",
            "+------------------------------------------------------------+\n",
            "| checkpoint_dir_name                      checkpoint_000007 |\n",
            "| time_this_iter_s                                   6.24076 |\n",
            "| time_total_s                                      51.40938 |\n",
            "| training_iteration                                       8 |\n",
            "| accuracy                                            0.1025 |\n",
            "| loss                                                   nan |\n",
            "+------------------------------------------------------------+\n",
            "Trial train_cifar_37be9_00003 saved a checkpoint for iteration 8 at: (local)/root/ray_results/train_cifar_2024-06-08_23-45-42/train_cifar_37be9_00003_3_batch_size=32,criterion=NLLLoss,epochs=10,l1=120,l2=168,learning_rate=0.0205,momentum=0.6374,optimizer=s_2024-06-08_23-45-42/checkpoint_000007\n",
            "\u001b[36m(func pid=75022)\u001b[0m Finished Training\n"
          ]
        },
        {
          "output_type": "stream",
          "name": "stderr",
          "text": [
            "\u001b[36m(func pid=75022)\u001b[0m Checkpoint successfully created at: Checkpoint(filesystem=local, path=/root/ray_results/train_cifar_2024-06-08_23-45-42/train_cifar_37be9_00003_3_batch_size=32,criterion=NLLLoss,epochs=10,l1=120,l2=168,learning_rate=0.0205,momentum=0.6374,optimizer=s_2024-06-08_23-45-42/checkpoint_000007)\n"
          ]
        },
        {
          "output_type": "stream",
          "name": "stdout",
          "text": [
            "\n",
            "Trial train_cifar_37be9_00003 finished iteration 9 at 2024-06-08 23:49:28. Total running time: 3min 45s\n",
            "+------------------------------------------------------------+\n",
            "| Trial train_cifar_37be9_00003 result                       |\n",
            "+------------------------------------------------------------+\n",
            "| checkpoint_dir_name                      checkpoint_000008 |\n",
            "| time_this_iter_s                                   6.27007 |\n",
            "| time_total_s                                      57.67945 |\n",
            "| training_iteration                                       9 |\n",
            "| accuracy                                            0.1025 |\n",
            "| loss                                                   nan |\n",
            "+------------------------------------------------------------+\n",
            "Trial train_cifar_37be9_00003 saved a checkpoint for iteration 9 at: (local)/root/ray_results/train_cifar_2024-06-08_23-45-42/train_cifar_37be9_00003_3_batch_size=32,criterion=NLLLoss,epochs=10,l1=120,l2=168,learning_rate=0.0205,momentum=0.6374,optimizer=s_2024-06-08_23-45-42/checkpoint_000008\n",
            "\u001b[36m(func pid=75022)\u001b[0m Finished Training\n"
          ]
        },
        {
          "output_type": "stream",
          "name": "stderr",
          "text": [
            "\u001b[36m(func pid=75022)\u001b[0m Checkpoint successfully created at: Checkpoint(filesystem=local, path=/root/ray_results/train_cifar_2024-06-08_23-45-42/train_cifar_37be9_00003_3_batch_size=32,criterion=NLLLoss,epochs=10,l1=120,l2=168,learning_rate=0.0205,momentum=0.6374,optimizer=s_2024-06-08_23-45-42/checkpoint_000008)\n"
          ]
        },
        {
          "output_type": "stream",
          "name": "stdout",
          "text": [
            "\n",
            "Trial train_cifar_37be9_00003 finished iteration 10 at 2024-06-08 23:49:34. Total running time: 3min 52s\n",
            "+------------------------------------------------------------+\n",
            "| Trial train_cifar_37be9_00003 result                       |\n",
            "+------------------------------------------------------------+\n",
            "| checkpoint_dir_name                      checkpoint_000009 |\n",
            "| time_this_iter_s                                   6.46663 |\n",
            "| time_total_s                                      64.14608 |\n",
            "| training_iteration                                      10 |\n",
            "| accuracy                                            0.1025 |\n",
            "| loss                                                   nan |\n",
            "+------------------------------------------------------------+\n",
            "Trial train_cifar_37be9_00003 saved a checkpoint for iteration 10 at: (local)/root/ray_results/train_cifar_2024-06-08_23-45-42/train_cifar_37be9_00003_3_batch_size=32,criterion=NLLLoss,epochs=10,l1=120,l2=168,learning_rate=0.0205,momentum=0.6374,optimizer=s_2024-06-08_23-45-42/checkpoint_000009\n",
            "\n",
            "Trial train_cifar_37be9_00003 completed after 10 iterations at 2024-06-08 23:49:34. Total running time: 3min 52s\n"
          ]
        },
        {
          "output_type": "stream",
          "name": "stderr",
          "text": [
            "\u001b[36m(func pid=75022)\u001b[0m Checkpoint successfully created at: Checkpoint(filesystem=local, path=/root/ray_results/train_cifar_2024-06-08_23-45-42/train_cifar_37be9_00003_3_batch_size=32,criterion=NLLLoss,epochs=10,l1=120,l2=168,learning_rate=0.0205,momentum=0.6374,optimizer=s_2024-06-08_23-45-42/checkpoint_000009)\n"
          ]
        },
        {
          "output_type": "stream",
          "name": "stdout",
          "text": [
            "\n",
            "Trial train_cifar_37be9_00004 started with configuration:\n",
            "+-----------------------------------------------------------+\n",
            "| Trial train_cifar_37be9_00004 config                      |\n",
            "+-----------------------------------------------------------+\n",
            "| batch_size                                             16 |\n",
            "| criterion                                CrossEntropyLoss |\n",
            "| epochs                                                  5 |\n",
            "| l1                                                    240 |\n",
            "| l2                                                     84 |\n",
            "| learning_rate                                     0.00887 |\n",
            "| momentum                                           0.7656 |\n",
            "| optimizer                                             sgd |\n",
            "| weight_decay                                      0.00426 |\n",
            "+-----------------------------------------------------------+\n",
            "\u001b[36m(func pid=77847)\u001b[0m Files already downloaded and verified\n",
            "\u001b[36m(func pid=77847)\u001b[0m Files already downloaded and verified\n",
            "\n",
            "Trial status: 4 TERMINATED | 1 RUNNING | 15 PENDING\n",
            "Current time: 2024-06-08 23:49:43. Total running time: 4min 0s\n",
            "Logical resource usage: 12.0/12 CPUs, 1.0/1 GPUs (0.0/1.0 accelerator_type:L4)\n",
            "+--------------------------------------------------------------------------------------------------------------------------------------------------------------------------------------------------------------------+\n",
            "| Trial name                status         learning_rate     batch_size     epochs   optimizer       momentum     weight_decay     l1     l2   criterion            iter     total time (s)        loss     accuracy |\n",
            "+--------------------------------------------------------------------------------------------------------------------------------------------------------------------------------------------------------------------+\n",
            "| train_cifar_37be9_00004   RUNNING          0.00887431              16          5   sgd             0.765598      0.00426428     240     84   CrossEntropyLoss                                                      |\n",
            "| train_cifar_37be9_00000   TERMINATED       0.000127904             16         10   sgd             0.691209      0.00303265     360    252   CrossEntropyLoss       10          110.941       2.08142       0.2497 |\n",
            "| train_cifar_37be9_00001   TERMINATED       0.000686988            128          5   sgd             0.514858      0.00176203     360    168   CrossEntropyLoss        1            5.35428     2.30277       0.1098 |\n",
            "| train_cifar_37be9_00002   TERMINATED       0.0421174              128          5   sgd             0.504435      0.00482545     360    168   CrossEntropyLoss       10           32.8134      1.19385       0.5682 |\n",
            "| train_cifar_37be9_00003   TERMINATED       0.0205216               32         10   sgd             0.637362      0.000116181    120    168   NLLLoss                10           64.1461    nan             0.1025 |\n",
            "| train_cifar_37be9_00005   PENDING          0.0235392              128         20   adam            0.765034      0.000223755    240     84   CrossEntropyLoss                                                      |\n",
            "| train_cifar_37be9_00006   PENDING          0.0897215               32         20   adam            0.657465      0.00201386     360    168   CrossEntropyLoss                                                      |\n",
            "| train_cifar_37be9_00007   PENDING          0.000141282             16         20   sgd             0.625691      0.0014128      360     84   NLLLoss                                                               |\n",
            "| train_cifar_37be9_00008   PENDING          0.0104716              128         10   adam            0.633325      0.000107179    120    252   CrossEntropyLoss                                                      |\n",
            "| train_cifar_37be9_00009   PENDING          0.00011069              32         10   sgd             0.810543      0.00059152     360    168   NLLLoss                                                               |\n",
            "| train_cifar_37be9_00010   PENDING          0.0128713              128         20   adam            0.8133        0.000435187    240     84   NLLLoss                                                               |\n",
            "| train_cifar_37be9_00011   PENDING          0.000572411            128          5   sgd             0.57995       0.00627102     120    168   CrossEntropyLoss                                                      |\n",
            "| train_cifar_37be9_00012   PENDING          0.00259363             128          5   adam            0.87201       0.000580308    120     84   CrossEntropyLoss                                                      |\n",
            "| train_cifar_37be9_00013   PENDING          0.0610611               64         10   adam            0.573201      0.00816333     240     84   CrossEntropyLoss                                                      |\n",
            "| train_cifar_37be9_00014   PENDING          0.000215539             64         10   adam            0.66957       0.000294654    360    252   CrossEntropyLoss                                                      |\n",
            "| train_cifar_37be9_00015   PENDING          0.00370564              32         10   adam            0.618958      0.00091318     360    168   NLLLoss                                                               |\n",
            "| train_cifar_37be9_00016   PENDING          0.00468984              64         10   sgd             0.853646      0.000458833    120    168   CrossEntropyLoss                                                      |\n",
            "| train_cifar_37be9_00017   PENDING          0.0267104               32         20   adam            0.759795      0.000149732    240     84   CrossEntropyLoss                                                      |\n",
            "| train_cifar_37be9_00018   PENDING          0.0284903              128          5   sgd             0.752452      0.00079896     120    168   NLLLoss                                                               |\n",
            "| train_cifar_37be9_00019   PENDING          0.0354501              128          5   sgd             0.891213      0.000811317    240     84   CrossEntropyLoss                                                      |\n",
            "+--------------------------------------------------------------------------------------------------------------------------------------------------------------------------------------------------------------------+\n",
            "\u001b[36m(func pid=77847)\u001b[0m [1,  2000] loss: 1.868\n",
            "\n",
            "Trial train_cifar_37be9_00004 finished iteration 1 at 2024-06-08 23:49:52. Total running time: 4min 9s\n",
            "+------------------------------------------------------------+\n",
            "| Trial train_cifar_37be9_00004 result                       |\n",
            "+------------------------------------------------------------+\n",
            "| checkpoint_dir_name                      checkpoint_000000 |\n",
            "| time_this_iter_s                                  12.93103 |\n",
            "| time_total_s                                      12.93103 |\n",
            "| training_iteration                                       1 |\n",
            "| accuracy                                            0.4416 |\n",
            "| loss                                               1.54829 |\n",
            "+------------------------------------------------------------+\n",
            "Trial train_cifar_37be9_00004 saved a checkpoint for iteration 1 at: (local)/root/ray_results/train_cifar_2024-06-08_23-45-42/train_cifar_37be9_00004_4_batch_size=16,criterion=CrossEntropyLoss,epochs=5,l1=240,l2=84,learning_rate=0.0089,momentum=0.7656,opti_2024-06-08_23-45-42/checkpoint_000000\n",
            "\u001b[36m(func pid=77847)\u001b[0m Finished Training\n"
          ]
        },
        {
          "output_type": "stream",
          "name": "stderr",
          "text": [
            "\u001b[36m(func pid=77847)\u001b[0m Checkpoint successfully created at: Checkpoint(filesystem=local, path=/root/ray_results/train_cifar_2024-06-08_23-45-42/train_cifar_37be9_00004_4_batch_size=16,criterion=CrossEntropyLoss,epochs=5,l1=240,l2=84,learning_rate=0.0089,momentum=0.7656,opti_2024-06-08_23-45-42/checkpoint_000000)\n"
          ]
        },
        {
          "output_type": "stream",
          "name": "stdout",
          "text": [
            "\u001b[36m(func pid=77847)\u001b[0m [2,  2000] loss: 1.447\n",
            "\n",
            "Trial train_cifar_37be9_00004 finished iteration 2 at 2024-06-08 23:50:02. Total running time: 4min 20s\n",
            "+------------------------------------------------------------+\n",
            "| Trial train_cifar_37be9_00004 result                       |\n",
            "+------------------------------------------------------------+\n",
            "| checkpoint_dir_name                      checkpoint_000001 |\n",
            "| time_this_iter_s                                  10.54393 |\n",
            "| time_total_s                                      23.47497 |\n",
            "| training_iteration                                       2 |\n",
            "| accuracy                                            0.4942 |\n",
            "| loss                                               1.41643 |\n",
            "+------------------------------------------------------------+\n",
            "Trial train_cifar_37be9_00004 saved a checkpoint for iteration 2 at: (local)/root/ray_results/train_cifar_2024-06-08_23-45-42/train_cifar_37be9_00004_4_batch_size=16,criterion=CrossEntropyLoss,epochs=5,l1=240,l2=84,learning_rate=0.0089,momentum=0.7656,opti_2024-06-08_23-45-42/checkpoint_000001\n",
            "\u001b[36m(func pid=77847)\u001b[0m Finished Training\n"
          ]
        },
        {
          "output_type": "stream",
          "name": "stderr",
          "text": [
            "\u001b[36m(func pid=77847)\u001b[0m Checkpoint successfully created at: Checkpoint(filesystem=local, path=/root/ray_results/train_cifar_2024-06-08_23-45-42/train_cifar_37be9_00004_4_batch_size=16,criterion=CrossEntropyLoss,epochs=5,l1=240,l2=84,learning_rate=0.0089,momentum=0.7656,opti_2024-06-08_23-45-42/checkpoint_000001)\n"
          ]
        },
        {
          "output_type": "stream",
          "name": "stdout",
          "text": [
            "\u001b[36m(func pid=77847)\u001b[0m [3,  2000] loss: 1.315\n",
            "\n",
            "Trial status: 4 TERMINATED | 1 RUNNING | 15 PENDING\n",
            "Current time: 2024-06-08 23:50:13. Total running time: 4min 30s\n",
            "Logical resource usage: 12.0/12 CPUs, 1.0/1 GPUs (0.0/1.0 accelerator_type:L4)\n",
            "+--------------------------------------------------------------------------------------------------------------------------------------------------------------------------------------------------------------------+\n",
            "| Trial name                status         learning_rate     batch_size     epochs   optimizer       momentum     weight_decay     l1     l2   criterion            iter     total time (s)        loss     accuracy |\n",
            "+--------------------------------------------------------------------------------------------------------------------------------------------------------------------------------------------------------------------+\n",
            "| train_cifar_37be9_00004   RUNNING          0.00887431              16          5   sgd             0.765598      0.00426428     240     84   CrossEntropyLoss        2           23.475       1.41643       0.4942 |\n",
            "| train_cifar_37be9_00000   TERMINATED       0.000127904             16         10   sgd             0.691209      0.00303265     360    252   CrossEntropyLoss       10          110.941       2.08142       0.2497 |\n",
            "| train_cifar_37be9_00001   TERMINATED       0.000686988            128          5   sgd             0.514858      0.00176203     360    168   CrossEntropyLoss        1            5.35428     2.30277       0.1098 |\n",
            "| train_cifar_37be9_00002   TERMINATED       0.0421174              128          5   sgd             0.504435      0.00482545     360    168   CrossEntropyLoss       10           32.8134      1.19385       0.5682 |\n",
            "| train_cifar_37be9_00003   TERMINATED       0.0205216               32         10   sgd             0.637362      0.000116181    120    168   NLLLoss                10           64.1461    nan             0.1025 |\n",
            "| train_cifar_37be9_00005   PENDING          0.0235392              128         20   adam            0.765034      0.000223755    240     84   CrossEntropyLoss                                                      |\n",
            "| train_cifar_37be9_00006   PENDING          0.0897215               32         20   adam            0.657465      0.00201386     360    168   CrossEntropyLoss                                                      |\n",
            "| train_cifar_37be9_00007   PENDING          0.000141282             16         20   sgd             0.625691      0.0014128      360     84   NLLLoss                                                               |\n",
            "| train_cifar_37be9_00008   PENDING          0.0104716              128         10   adam            0.633325      0.000107179    120    252   CrossEntropyLoss                                                      |\n",
            "| train_cifar_37be9_00009   PENDING          0.00011069              32         10   sgd             0.810543      0.00059152     360    168   NLLLoss                                                               |\n",
            "| train_cifar_37be9_00010   PENDING          0.0128713              128         20   adam            0.8133        0.000435187    240     84   NLLLoss                                                               |\n",
            "| train_cifar_37be9_00011   PENDING          0.000572411            128          5   sgd             0.57995       0.00627102     120    168   CrossEntropyLoss                                                      |\n",
            "| train_cifar_37be9_00012   PENDING          0.00259363             128          5   adam            0.87201       0.000580308    120     84   CrossEntropyLoss                                                      |\n",
            "| train_cifar_37be9_00013   PENDING          0.0610611               64         10   adam            0.573201      0.00816333     240     84   CrossEntropyLoss                                                      |\n",
            "| train_cifar_37be9_00014   PENDING          0.000215539             64         10   adam            0.66957       0.000294654    360    252   CrossEntropyLoss                                                      |\n",
            "| train_cifar_37be9_00015   PENDING          0.00370564              32         10   adam            0.618958      0.00091318     360    168   NLLLoss                                                               |\n",
            "| train_cifar_37be9_00016   PENDING          0.00468984              64         10   sgd             0.853646      0.000458833    120    168   CrossEntropyLoss                                                      |\n",
            "| train_cifar_37be9_00017   PENDING          0.0267104               32         20   adam            0.759795      0.000149732    240     84   CrossEntropyLoss                                                      |\n",
            "| train_cifar_37be9_00018   PENDING          0.0284903              128          5   sgd             0.752452      0.00079896     120    168   NLLLoss                                                               |\n",
            "| train_cifar_37be9_00019   PENDING          0.0354501              128          5   sgd             0.891213      0.000811317    240     84   CrossEntropyLoss                                                      |\n",
            "+--------------------------------------------------------------------------------------------------------------------------------------------------------------------------------------------------------------------+\n",
            "\n",
            "Trial train_cifar_37be9_00004 finished iteration 3 at 2024-06-08 23:50:13. Total running time: 4min 31s\n",
            "+------------------------------------------------------------+\n",
            "| Trial train_cifar_37be9_00004 result                       |\n",
            "+------------------------------------------------------------+\n",
            "| checkpoint_dir_name                      checkpoint_000002 |\n",
            "| time_this_iter_s                                  10.66751 |\n",
            "| time_total_s                                      34.14247 |\n",
            "| training_iteration                                       3 |\n",
            "| accuracy                                            0.5642 |\n",
            "| loss                                               1.23173 |\n",
            "+------------------------------------------------------------+\n",
            "Trial train_cifar_37be9_00004 saved a checkpoint for iteration 3 at: (local)/root/ray_results/train_cifar_2024-06-08_23-45-42/train_cifar_37be9_00004_4_batch_size=16,criterion=CrossEntropyLoss,epochs=5,l1=240,l2=84,learning_rate=0.0089,momentum=0.7656,opti_2024-06-08_23-45-42/checkpoint_000002\n",
            "\u001b[36m(func pid=77847)\u001b[0m Finished Training\n"
          ]
        },
        {
          "output_type": "stream",
          "name": "stderr",
          "text": [
            "\u001b[36m(func pid=77847)\u001b[0m Checkpoint successfully created at: Checkpoint(filesystem=local, path=/root/ray_results/train_cifar_2024-06-08_23-45-42/train_cifar_37be9_00004_4_batch_size=16,criterion=CrossEntropyLoss,epochs=5,l1=240,l2=84,learning_rate=0.0089,momentum=0.7656,opti_2024-06-08_23-45-42/checkpoint_000002)\n"
          ]
        },
        {
          "output_type": "stream",
          "name": "stdout",
          "text": [
            "\u001b[36m(func pid=77847)\u001b[0m [4,  2000] loss: 1.217\n",
            "\n",
            "Trial train_cifar_37be9_00004 finished iteration 4 at 2024-06-08 23:50:24. Total running time: 4min 41s\n",
            "+------------------------------------------------------------+\n",
            "| Trial train_cifar_37be9_00004 result                       |\n",
            "+------------------------------------------------------------+\n",
            "| checkpoint_dir_name                      checkpoint_000003 |\n",
            "| time_this_iter_s                                  10.54075 |\n",
            "| time_total_s                                      44.68322 |\n",
            "| training_iteration                                       4 |\n",
            "| accuracy                                             0.588 |\n",
            "| loss                                               1.18071 |\n",
            "+------------------------------------------------------------+\n",
            "Trial train_cifar_37be9_00004 saved a checkpoint for iteration 4 at: (local)/root/ray_results/train_cifar_2024-06-08_23-45-42/train_cifar_37be9_00004_4_batch_size=16,criterion=CrossEntropyLoss,epochs=5,l1=240,l2=84,learning_rate=0.0089,momentum=0.7656,opti_2024-06-08_23-45-42/checkpoint_000003\n",
            "\u001b[36m(func pid=77847)\u001b[0m Finished Training\n"
          ]
        },
        {
          "output_type": "stream",
          "name": "stderr",
          "text": [
            "\u001b[36m(func pid=77847)\u001b[0m Checkpoint successfully created at: Checkpoint(filesystem=local, path=/root/ray_results/train_cifar_2024-06-08_23-45-42/train_cifar_37be9_00004_4_batch_size=16,criterion=CrossEntropyLoss,epochs=5,l1=240,l2=84,learning_rate=0.0089,momentum=0.7656,opti_2024-06-08_23-45-42/checkpoint_000003)\n"
          ]
        },
        {
          "output_type": "stream",
          "name": "stdout",
          "text": [
            "\u001b[36m(func pid=77847)\u001b[0m [5,  2000] loss: 1.167\n",
            "\n",
            "Trial train_cifar_37be9_00004 finished iteration 5 at 2024-06-08 23:50:34. Total running time: 4min 52s\n",
            "+------------------------------------------------------------+\n",
            "| Trial train_cifar_37be9_00004 result                       |\n",
            "+------------------------------------------------------------+\n",
            "| checkpoint_dir_name                      checkpoint_000004 |\n",
            "| time_this_iter_s                                  10.43462 |\n",
            "| time_total_s                                      55.11784 |\n",
            "| training_iteration                                       5 |\n",
            "| accuracy                                            0.5859 |\n",
            "| loss                                                1.1656 |\n",
            "+------------------------------------------------------------+\n",
            "Trial train_cifar_37be9_00004 saved a checkpoint for iteration 5 at: (local)/root/ray_results/train_cifar_2024-06-08_23-45-42/train_cifar_37be9_00004_4_batch_size=16,criterion=CrossEntropyLoss,epochs=5,l1=240,l2=84,learning_rate=0.0089,momentum=0.7656,opti_2024-06-08_23-45-42/checkpoint_000004\n",
            "\u001b[36m(func pid=77847)\u001b[0m Finished Training\n"
          ]
        },
        {
          "output_type": "stream",
          "name": "stderr",
          "text": [
            "\u001b[36m(func pid=77847)\u001b[0m Checkpoint successfully created at: Checkpoint(filesystem=local, path=/root/ray_results/train_cifar_2024-06-08_23-45-42/train_cifar_37be9_00004_4_batch_size=16,criterion=CrossEntropyLoss,epochs=5,l1=240,l2=84,learning_rate=0.0089,momentum=0.7656,opti_2024-06-08_23-45-42/checkpoint_000004)\n"
          ]
        },
        {
          "output_type": "stream",
          "name": "stdout",
          "text": [
            "\u001b[36m(func pid=77847)\u001b[0m [6,  2000] loss: 1.113\n",
            "\n",
            "Trial status: 4 TERMINATED | 1 RUNNING | 15 PENDING\n",
            "Current time: 2024-06-08 23:50:43. Total running time: 5min 0s\n",
            "Logical resource usage: 12.0/12 CPUs, 1.0/1 GPUs (0.0/1.0 accelerator_type:L4)\n",
            "+--------------------------------------------------------------------------------------------------------------------------------------------------------------------------------------------------------------------+\n",
            "| Trial name                status         learning_rate     batch_size     epochs   optimizer       momentum     weight_decay     l1     l2   criterion            iter     total time (s)        loss     accuracy |\n",
            "+--------------------------------------------------------------------------------------------------------------------------------------------------------------------------------------------------------------------+\n",
            "| train_cifar_37be9_00004   RUNNING          0.00887431              16          5   sgd             0.765598      0.00426428     240     84   CrossEntropyLoss        5           55.1178      1.1656        0.5859 |\n",
            "| train_cifar_37be9_00000   TERMINATED       0.000127904             16         10   sgd             0.691209      0.00303265     360    252   CrossEntropyLoss       10          110.941       2.08142       0.2497 |\n",
            "| train_cifar_37be9_00001   TERMINATED       0.000686988            128          5   sgd             0.514858      0.00176203     360    168   CrossEntropyLoss        1            5.35428     2.30277       0.1098 |\n",
            "| train_cifar_37be9_00002   TERMINATED       0.0421174              128          5   sgd             0.504435      0.00482545     360    168   CrossEntropyLoss       10           32.8134      1.19385       0.5682 |\n",
            "| train_cifar_37be9_00003   TERMINATED       0.0205216               32         10   sgd             0.637362      0.000116181    120    168   NLLLoss                10           64.1461    nan             0.1025 |\n",
            "| train_cifar_37be9_00005   PENDING          0.0235392              128         20   adam            0.765034      0.000223755    240     84   CrossEntropyLoss                                                      |\n",
            "| train_cifar_37be9_00006   PENDING          0.0897215               32         20   adam            0.657465      0.00201386     360    168   CrossEntropyLoss                                                      |\n",
            "| train_cifar_37be9_00007   PENDING          0.000141282             16         20   sgd             0.625691      0.0014128      360     84   NLLLoss                                                               |\n",
            "| train_cifar_37be9_00008   PENDING          0.0104716              128         10   adam            0.633325      0.000107179    120    252   CrossEntropyLoss                                                      |\n",
            "| train_cifar_37be9_00009   PENDING          0.00011069              32         10   sgd             0.810543      0.00059152     360    168   NLLLoss                                                               |\n",
            "| train_cifar_37be9_00010   PENDING          0.0128713              128         20   adam            0.8133        0.000435187    240     84   NLLLoss                                                               |\n",
            "| train_cifar_37be9_00011   PENDING          0.000572411            128          5   sgd             0.57995       0.00627102     120    168   CrossEntropyLoss                                                      |\n",
            "| train_cifar_37be9_00012   PENDING          0.00259363             128          5   adam            0.87201       0.000580308    120     84   CrossEntropyLoss                                                      |\n",
            "| train_cifar_37be9_00013   PENDING          0.0610611               64         10   adam            0.573201      0.00816333     240     84   CrossEntropyLoss                                                      |\n",
            "| train_cifar_37be9_00014   PENDING          0.000215539             64         10   adam            0.66957       0.000294654    360    252   CrossEntropyLoss                                                      |\n",
            "| train_cifar_37be9_00015   PENDING          0.00370564              32         10   adam            0.618958      0.00091318     360    168   NLLLoss                                                               |\n",
            "| train_cifar_37be9_00016   PENDING          0.00468984              64         10   sgd             0.853646      0.000458833    120    168   CrossEntropyLoss                                                      |\n",
            "| train_cifar_37be9_00017   PENDING          0.0267104               32         20   adam            0.759795      0.000149732    240     84   CrossEntropyLoss                                                      |\n",
            "| train_cifar_37be9_00018   PENDING          0.0284903              128          5   sgd             0.752452      0.00079896     120    168   NLLLoss                                                               |\n",
            "| train_cifar_37be9_00019   PENDING          0.0354501              128          5   sgd             0.891213      0.000811317    240     84   CrossEntropyLoss                                                      |\n",
            "+--------------------------------------------------------------------------------------------------------------------------------------------------------------------------------------------------------------------+\n",
            "\n",
            "Trial train_cifar_37be9_00004 finished iteration 6 at 2024-06-08 23:50:45. Total running time: 5min 2s\n",
            "+------------------------------------------------------------+\n",
            "| Trial train_cifar_37be9_00004 result                       |\n",
            "+------------------------------------------------------------+\n",
            "| checkpoint_dir_name                      checkpoint_000005 |\n",
            "| time_this_iter_s                                  10.48987 |\n",
            "| time_total_s                                      65.60771 |\n",
            "| training_iteration                                       6 |\n",
            "| accuracy                                            0.6038 |\n",
            "| loss                                               1.12585 |\n",
            "+------------------------------------------------------------+\n",
            "Trial train_cifar_37be9_00004 saved a checkpoint for iteration 6 at: (local)/root/ray_results/train_cifar_2024-06-08_23-45-42/train_cifar_37be9_00004_4_batch_size=16,criterion=CrossEntropyLoss,epochs=5,l1=240,l2=84,learning_rate=0.0089,momentum=0.7656,opti_2024-06-08_23-45-42/checkpoint_000005\n",
            "\u001b[36m(func pid=77847)\u001b[0m Finished Training\n"
          ]
        },
        {
          "output_type": "stream",
          "name": "stderr",
          "text": [
            "\u001b[36m(func pid=77847)\u001b[0m Checkpoint successfully created at: Checkpoint(filesystem=local, path=/root/ray_results/train_cifar_2024-06-08_23-45-42/train_cifar_37be9_00004_4_batch_size=16,criterion=CrossEntropyLoss,epochs=5,l1=240,l2=84,learning_rate=0.0089,momentum=0.7656,opti_2024-06-08_23-45-42/checkpoint_000005)\n"
          ]
        },
        {
          "output_type": "stream",
          "name": "stdout",
          "text": [
            "\u001b[36m(func pid=77847)\u001b[0m [7,  2000] loss: 1.070\n",
            "\n",
            "Trial train_cifar_37be9_00004 finished iteration 7 at 2024-06-08 23:50:55. Total running time: 5min 13s\n",
            "+------------------------------------------------------------+\n",
            "| Trial train_cifar_37be9_00004 result                       |\n",
            "+------------------------------------------------------------+\n",
            "| checkpoint_dir_name                      checkpoint_000006 |\n",
            "| time_this_iter_s                                  10.70139 |\n",
            "| time_total_s                                       76.3091 |\n",
            "| training_iteration                                       7 |\n",
            "| accuracy                                            0.5994 |\n",
            "| loss                                               1.15163 |\n",
            "+------------------------------------------------------------+\n",
            "Trial train_cifar_37be9_00004 saved a checkpoint for iteration 7 at: (local)/root/ray_results/train_cifar_2024-06-08_23-45-42/train_cifar_37be9_00004_4_batch_size=16,criterion=CrossEntropyLoss,epochs=5,l1=240,l2=84,learning_rate=0.0089,momentum=0.7656,opti_2024-06-08_23-45-42/checkpoint_000006\n",
            "\u001b[36m(func pid=77847)\u001b[0m Finished Training\n"
          ]
        },
        {
          "output_type": "stream",
          "name": "stderr",
          "text": [
            "\u001b[36m(func pid=77847)\u001b[0m Checkpoint successfully created at: Checkpoint(filesystem=local, path=/root/ray_results/train_cifar_2024-06-08_23-45-42/train_cifar_37be9_00004_4_batch_size=16,criterion=CrossEntropyLoss,epochs=5,l1=240,l2=84,learning_rate=0.0089,momentum=0.7656,opti_2024-06-08_23-45-42/checkpoint_000006)\n"
          ]
        },
        {
          "output_type": "stream",
          "name": "stdout",
          "text": [
            "\u001b[36m(func pid=77847)\u001b[0m [8,  2000] loss: 1.046\n",
            "\n",
            "Trial train_cifar_37be9_00004 finished iteration 8 at 2024-06-08 23:51:06. Total running time: 5min 24s\n",
            "+------------------------------------------------------------+\n",
            "| Trial train_cifar_37be9_00004 result                       |\n",
            "+------------------------------------------------------------+\n",
            "| checkpoint_dir_name                      checkpoint_000007 |\n",
            "| time_this_iter_s                                  10.64908 |\n",
            "| time_total_s                                      86.95818 |\n",
            "| training_iteration                                       8 |\n",
            "| accuracy                                            0.5407 |\n",
            "| loss                                                  1.33 |\n",
            "+------------------------------------------------------------+\n",
            "Trial train_cifar_37be9_00004 saved a checkpoint for iteration 8 at: (local)/root/ray_results/train_cifar_2024-06-08_23-45-42/train_cifar_37be9_00004_4_batch_size=16,criterion=CrossEntropyLoss,epochs=5,l1=240,l2=84,learning_rate=0.0089,momentum=0.7656,opti_2024-06-08_23-45-42/checkpoint_000007\n",
            "\u001b[36m(func pid=77847)\u001b[0m Finished Training\n"
          ]
        },
        {
          "output_type": "stream",
          "name": "stderr",
          "text": [
            "\u001b[36m(func pid=77847)\u001b[0m Checkpoint successfully created at: Checkpoint(filesystem=local, path=/root/ray_results/train_cifar_2024-06-08_23-45-42/train_cifar_37be9_00004_4_batch_size=16,criterion=CrossEntropyLoss,epochs=5,l1=240,l2=84,learning_rate=0.0089,momentum=0.7656,opti_2024-06-08_23-45-42/checkpoint_000007)\n"
          ]
        },
        {
          "output_type": "stream",
          "name": "stdout",
          "text": [
            "\n",
            "Trial status: 4 TERMINATED | 1 RUNNING | 15 PENDING\n",
            "Current time: 2024-06-08 23:51:13. Total running time: 5min 30s\n",
            "Logical resource usage: 12.0/12 CPUs, 1.0/1 GPUs (0.0/1.0 accelerator_type:L4)\n",
            "+--------------------------------------------------------------------------------------------------------------------------------------------------------------------------------------------------------------------+\n",
            "| Trial name                status         learning_rate     batch_size     epochs   optimizer       momentum     weight_decay     l1     l2   criterion            iter     total time (s)        loss     accuracy |\n",
            "+--------------------------------------------------------------------------------------------------------------------------------------------------------------------------------------------------------------------+\n",
            "| train_cifar_37be9_00004   RUNNING          0.00887431              16          5   sgd             0.765598      0.00426428     240     84   CrossEntropyLoss        8           86.9582      1.33          0.5407 |\n",
            "| train_cifar_37be9_00000   TERMINATED       0.000127904             16         10   sgd             0.691209      0.00303265     360    252   CrossEntropyLoss       10          110.941       2.08142       0.2497 |\n",
            "| train_cifar_37be9_00001   TERMINATED       0.000686988            128          5   sgd             0.514858      0.00176203     360    168   CrossEntropyLoss        1            5.35428     2.30277       0.1098 |\n",
            "| train_cifar_37be9_00002   TERMINATED       0.0421174              128          5   sgd             0.504435      0.00482545     360    168   CrossEntropyLoss       10           32.8134      1.19385       0.5682 |\n",
            "| train_cifar_37be9_00003   TERMINATED       0.0205216               32         10   sgd             0.637362      0.000116181    120    168   NLLLoss                10           64.1461    nan             0.1025 |\n",
            "| train_cifar_37be9_00005   PENDING          0.0235392              128         20   adam            0.765034      0.000223755    240     84   CrossEntropyLoss                                                      |\n",
            "| train_cifar_37be9_00006   PENDING          0.0897215               32         20   adam            0.657465      0.00201386     360    168   CrossEntropyLoss                                                      |\n",
            "| train_cifar_37be9_00007   PENDING          0.000141282             16         20   sgd             0.625691      0.0014128      360     84   NLLLoss                                                               |\n",
            "| train_cifar_37be9_00008   PENDING          0.0104716              128         10   adam            0.633325      0.000107179    120    252   CrossEntropyLoss                                                      |\n",
            "| train_cifar_37be9_00009   PENDING          0.00011069              32         10   sgd             0.810543      0.00059152     360    168   NLLLoss                                                               |\n",
            "| train_cifar_37be9_00010   PENDING          0.0128713              128         20   adam            0.8133        0.000435187    240     84   NLLLoss                                                               |\n",
            "| train_cifar_37be9_00011   PENDING          0.000572411            128          5   sgd             0.57995       0.00627102     120    168   CrossEntropyLoss                                                      |\n",
            "| train_cifar_37be9_00012   PENDING          0.00259363             128          5   adam            0.87201       0.000580308    120     84   CrossEntropyLoss                                                      |\n",
            "| train_cifar_37be9_00013   PENDING          0.0610611               64         10   adam            0.573201      0.00816333     240     84   CrossEntropyLoss                                                      |\n",
            "| train_cifar_37be9_00014   PENDING          0.000215539             64         10   adam            0.66957       0.000294654    360    252   CrossEntropyLoss                                                      |\n",
            "| train_cifar_37be9_00015   PENDING          0.00370564              32         10   adam            0.618958      0.00091318     360    168   NLLLoss                                                               |\n",
            "| train_cifar_37be9_00016   PENDING          0.00468984              64         10   sgd             0.853646      0.000458833    120    168   CrossEntropyLoss                                                      |\n",
            "| train_cifar_37be9_00017   PENDING          0.0267104               32         20   adam            0.759795      0.000149732    240     84   CrossEntropyLoss                                                      |\n",
            "| train_cifar_37be9_00018   PENDING          0.0284903              128          5   sgd             0.752452      0.00079896     120    168   NLLLoss                                                               |\n",
            "| train_cifar_37be9_00019   PENDING          0.0354501              128          5   sgd             0.891213      0.000811317    240     84   CrossEntropyLoss                                                      |\n",
            "+--------------------------------------------------------------------------------------------------------------------------------------------------------------------------------------------------------------------+\n",
            "\u001b[36m(func pid=77847)\u001b[0m [9,  2000] loss: 1.022\n",
            "\n",
            "Trial train_cifar_37be9_00004 finished iteration 9 at 2024-06-08 23:51:17. Total running time: 5min 34s\n",
            "+------------------------------------------------------------+\n",
            "| Trial train_cifar_37be9_00004 result                       |\n",
            "+------------------------------------------------------------+\n",
            "| checkpoint_dir_name                      checkpoint_000008 |\n",
            "| time_this_iter_s                                   10.7926 |\n",
            "| time_total_s                                      97.75079 |\n",
            "| training_iteration                                       9 |\n",
            "| accuracy                                            0.5929 |\n",
            "| loss                                               1.18197 |\n",
            "+------------------------------------------------------------+\n",
            "Trial train_cifar_37be9_00004 saved a checkpoint for iteration 9 at: (local)/root/ray_results/train_cifar_2024-06-08_23-45-42/train_cifar_37be9_00004_4_batch_size=16,criterion=CrossEntropyLoss,epochs=5,l1=240,l2=84,learning_rate=0.0089,momentum=0.7656,opti_2024-06-08_23-45-42/checkpoint_000008\n",
            "\u001b[36m(func pid=77847)\u001b[0m Finished Training\n"
          ]
        },
        {
          "output_type": "stream",
          "name": "stderr",
          "text": [
            "\u001b[36m(func pid=77847)\u001b[0m Checkpoint successfully created at: Checkpoint(filesystem=local, path=/root/ray_results/train_cifar_2024-06-08_23-45-42/train_cifar_37be9_00004_4_batch_size=16,criterion=CrossEntropyLoss,epochs=5,l1=240,l2=84,learning_rate=0.0089,momentum=0.7656,opti_2024-06-08_23-45-42/checkpoint_000008)\n"
          ]
        },
        {
          "output_type": "stream",
          "name": "stdout",
          "text": [
            "\u001b[36m(func pid=77847)\u001b[0m [10,  2000] loss: 1.005\n",
            "\n",
            "Trial train_cifar_37be9_00004 finished iteration 10 at 2024-06-08 23:51:28. Total running time: 5min 45s\n",
            "+------------------------------------------------------------+\n",
            "| Trial train_cifar_37be9_00004 result                       |\n",
            "+------------------------------------------------------------+\n",
            "| checkpoint_dir_name                      checkpoint_000009 |\n",
            "| time_this_iter_s                                  10.88329 |\n",
            "| time_total_s                                     108.63408 |\n",
            "| training_iteration                                      10 |\n",
            "| accuracy                                            0.6253 |\n",
            "| loss                                               1.07806 |\n",
            "+------------------------------------------------------------+\n",
            "Trial train_cifar_37be9_00004 saved a checkpoint for iteration 10 at: (local)/root/ray_results/train_cifar_2024-06-08_23-45-42/train_cifar_37be9_00004_4_batch_size=16,criterion=CrossEntropyLoss,epochs=5,l1=240,l2=84,learning_rate=0.0089,momentum=0.7656,opti_2024-06-08_23-45-42/checkpoint_000009\n",
            "\n",
            "Trial train_cifar_37be9_00004 completed after 10 iterations at 2024-06-08 23:51:28. Total running time: 5min 45s\n"
          ]
        },
        {
          "output_type": "stream",
          "name": "stderr",
          "text": [
            "\u001b[36m(func pid=77847)\u001b[0m Checkpoint successfully created at: Checkpoint(filesystem=local, path=/root/ray_results/train_cifar_2024-06-08_23-45-42/train_cifar_37be9_00004_4_batch_size=16,criterion=CrossEntropyLoss,epochs=5,l1=240,l2=84,learning_rate=0.0089,momentum=0.7656,opti_2024-06-08_23-45-42/checkpoint_000009)\n"
          ]
        },
        {
          "output_type": "stream",
          "name": "stdout",
          "text": [
            "\n",
            "Trial train_cifar_37be9_00005 started with configuration:\n",
            "+-----------------------------------------------------------+\n",
            "| Trial train_cifar_37be9_00005 config                      |\n",
            "+-----------------------------------------------------------+\n",
            "| batch_size                                            128 |\n",
            "| criterion                                CrossEntropyLoss |\n",
            "| epochs                                                 20 |\n",
            "| l1                                                    240 |\n",
            "| l2                                                     84 |\n",
            "| learning_rate                                     0.02354 |\n",
            "| momentum                                          0.76503 |\n",
            "| optimizer                                            adam |\n",
            "| weight_decay                                      0.00022 |\n",
            "+-----------------------------------------------------------+\n",
            "\u001b[36m(func pid=80860)\u001b[0m Files already downloaded and verified\n",
            "\u001b[36m(func pid=80860)\u001b[0m Files already downloaded and verified\n"
          ]
        },
        {
          "output_type": "stream",
          "name": "stderr",
          "text": [
            "\u001b[36m(func pid=80860)\u001b[0m /usr/local/lib/python3.10/dist-packages/torch/nn/modules/conv.py:456: UserWarning: Plan failed with a cudnnException: CUDNN_BACKEND_EXECUTION_PLAN_DESCRIPTOR: cudnnFinalize Descriptor Failed cudnn_status: CUDNN_STATUS_NOT_SUPPORTED (Triggered internally at ../aten/src/ATen/native/cudnn/Conv_v8.cpp:919.)\n",
            "\u001b[36m(func pid=80860)\u001b[0m   return F.conv2d(input, weight, bias, self.stride,\n"
          ]
        },
        {
          "output_type": "stream",
          "name": "stdout",
          "text": [
            "\n",
            "Trial train_cifar_37be9_00005 finished iteration 1 at 2024-06-08 23:51:38. Total running time: 5min 56s\n",
            "+------------------------------------------------------------+\n",
            "| Trial train_cifar_37be9_00005 result                       |\n",
            "+------------------------------------------------------------+\n",
            "| checkpoint_dir_name                      checkpoint_000000 |\n",
            "| time_this_iter_s                                   5.39503 |\n",
            "| time_total_s                                       5.39503 |\n",
            "| training_iteration                                       1 |\n",
            "| accuracy                                            0.2568 |\n",
            "| loss                                               1.95539 |\n",
            "+------------------------------------------------------------+\n",
            "Trial train_cifar_37be9_00005 saved a checkpoint for iteration 1 at: (local)/root/ray_results/train_cifar_2024-06-08_23-45-42/train_cifar_37be9_00005_5_batch_size=128,criterion=CrossEntropyLoss,epochs=20,l1=240,l2=84,learning_rate=0.0235,momentum=0.7650,op_2024-06-08_23-45-42/checkpoint_000000\n",
            "\u001b[36m(func pid=80860)\u001b[0m Finished Training\n"
          ]
        },
        {
          "output_type": "stream",
          "name": "stderr",
          "text": [
            "\u001b[36m(func pid=80860)\u001b[0m Checkpoint successfully created at: Checkpoint(filesystem=local, path=/root/ray_results/train_cifar_2024-06-08_23-45-42/train_cifar_37be9_00005_5_batch_size=128,criterion=CrossEntropyLoss,epochs=20,l1=240,l2=84,learning_rate=0.0235,momentum=0.7650,op_2024-06-08_23-45-42/checkpoint_000000)\n"
          ]
        },
        {
          "output_type": "stream",
          "name": "stdout",
          "text": [
            "\n",
            "Trial train_cifar_37be9_00005 finished iteration 2 at 2024-06-08 23:51:41. Total running time: 5min 59s\n",
            "+------------------------------------------------------------+\n",
            "| Trial train_cifar_37be9_00005 result                       |\n",
            "+------------------------------------------------------------+\n",
            "| checkpoint_dir_name                      checkpoint_000001 |\n",
            "| time_this_iter_s                                   3.13561 |\n",
            "| time_total_s                                       8.53064 |\n",
            "| training_iteration                                       2 |\n",
            "| accuracy                                            0.2784 |\n",
            "| loss                                               1.88868 |\n",
            "+------------------------------------------------------------+\n",
            "Trial train_cifar_37be9_00005 saved a checkpoint for iteration 2 at: (local)/root/ray_results/train_cifar_2024-06-08_23-45-42/train_cifar_37be9_00005_5_batch_size=128,criterion=CrossEntropyLoss,epochs=20,l1=240,l2=84,learning_rate=0.0235,momentum=0.7650,op_2024-06-08_23-45-42/checkpoint_000001\n",
            "\n",
            "Trial train_cifar_37be9_00005 completed after 2 iterations at 2024-06-08 23:51:41. Total running time: 5min 59s\n"
          ]
        },
        {
          "output_type": "stream",
          "name": "stderr",
          "text": [
            "\u001b[36m(func pid=80860)\u001b[0m Checkpoint successfully created at: Checkpoint(filesystem=local, path=/root/ray_results/train_cifar_2024-06-08_23-45-42/train_cifar_37be9_00005_5_batch_size=128,criterion=CrossEntropyLoss,epochs=20,l1=240,l2=84,learning_rate=0.0235,momentum=0.7650,op_2024-06-08_23-45-42/checkpoint_000001)\n"
          ]
        },
        {
          "output_type": "stream",
          "name": "stdout",
          "text": [
            "\n",
            "Trial status: 6 TERMINATED | 14 PENDING\n",
            "Current time: 2024-06-08 23:51:43. Total running time: 6min 1s\n",
            "Logical resource usage: 12.0/12 CPUs, 1.0/1 GPUs (0.0/1.0 accelerator_type:L4)\n",
            "+--------------------------------------------------------------------------------------------------------------------------------------------------------------------------------------------------------------------+\n",
            "| Trial name                status         learning_rate     batch_size     epochs   optimizer       momentum     weight_decay     l1     l2   criterion            iter     total time (s)        loss     accuracy |\n",
            "+--------------------------------------------------------------------------------------------------------------------------------------------------------------------------------------------------------------------+\n",
            "| train_cifar_37be9_00000   TERMINATED       0.000127904             16         10   sgd             0.691209      0.00303265     360    252   CrossEntropyLoss       10          110.941       2.08142       0.2497 |\n",
            "| train_cifar_37be9_00001   TERMINATED       0.000686988            128          5   sgd             0.514858      0.00176203     360    168   CrossEntropyLoss        1            5.35428     2.30277       0.1098 |\n",
            "| train_cifar_37be9_00002   TERMINATED       0.0421174              128          5   sgd             0.504435      0.00482545     360    168   CrossEntropyLoss       10           32.8134      1.19385       0.5682 |\n",
            "| train_cifar_37be9_00003   TERMINATED       0.0205216               32         10   sgd             0.637362      0.000116181    120    168   NLLLoss                10           64.1461    nan             0.1025 |\n",
            "| train_cifar_37be9_00004   TERMINATED       0.00887431              16          5   sgd             0.765598      0.00426428     240     84   CrossEntropyLoss       10          108.634       1.07806       0.6253 |\n",
            "| train_cifar_37be9_00005   TERMINATED       0.0235392              128         20   adam            0.765034      0.000223755    240     84   CrossEntropyLoss        2            8.53064     1.88868       0.2784 |\n",
            "| train_cifar_37be9_00006   PENDING          0.0897215               32         20   adam            0.657465      0.00201386     360    168   CrossEntropyLoss                                                      |\n",
            "| train_cifar_37be9_00007   PENDING          0.000141282             16         20   sgd             0.625691      0.0014128      360     84   NLLLoss                                                               |\n",
            "| train_cifar_37be9_00008   PENDING          0.0104716              128         10   adam            0.633325      0.000107179    120    252   CrossEntropyLoss                                                      |\n",
            "| train_cifar_37be9_00009   PENDING          0.00011069              32         10   sgd             0.810543      0.00059152     360    168   NLLLoss                                                               |\n",
            "| train_cifar_37be9_00010   PENDING          0.0128713              128         20   adam            0.8133        0.000435187    240     84   NLLLoss                                                               |\n",
            "| train_cifar_37be9_00011   PENDING          0.000572411            128          5   sgd             0.57995       0.00627102     120    168   CrossEntropyLoss                                                      |\n",
            "| train_cifar_37be9_00012   PENDING          0.00259363             128          5   adam            0.87201       0.000580308    120     84   CrossEntropyLoss                                                      |\n",
            "| train_cifar_37be9_00013   PENDING          0.0610611               64         10   adam            0.573201      0.00816333     240     84   CrossEntropyLoss                                                      |\n",
            "| train_cifar_37be9_00014   PENDING          0.000215539             64         10   adam            0.66957       0.000294654    360    252   CrossEntropyLoss                                                      |\n",
            "| train_cifar_37be9_00015   PENDING          0.00370564              32         10   adam            0.618958      0.00091318     360    168   NLLLoss                                                               |\n",
            "| train_cifar_37be9_00016   PENDING          0.00468984              64         10   sgd             0.853646      0.000458833    120    168   CrossEntropyLoss                                                      |\n",
            "| train_cifar_37be9_00017   PENDING          0.0267104               32         20   adam            0.759795      0.000149732    240     84   CrossEntropyLoss                                                      |\n",
            "| train_cifar_37be9_00018   PENDING          0.0284903              128          5   sgd             0.752452      0.00079896     120    168   NLLLoss                                                               |\n",
            "| train_cifar_37be9_00019   PENDING          0.0354501              128          5   sgd             0.891213      0.000811317    240     84   CrossEntropyLoss                                                      |\n",
            "+--------------------------------------------------------------------------------------------------------------------------------------------------------------------------------------------------------------------+\n",
            "\n",
            "Trial train_cifar_37be9_00006 started with configuration:\n",
            "+-----------------------------------------------------------+\n",
            "| Trial train_cifar_37be9_00006 config                      |\n",
            "+-----------------------------------------------------------+\n",
            "| batch_size                                             32 |\n",
            "| criterion                                CrossEntropyLoss |\n",
            "| epochs                                                 20 |\n",
            "| l1                                                    360 |\n",
            "| l2                                                    168 |\n",
            "| learning_rate                                     0.08972 |\n",
            "| momentum                                          0.65747 |\n",
            "| optimizer                                            adam |\n",
            "| weight_decay                                      0.00201 |\n",
            "+-----------------------------------------------------------+\n",
            "\u001b[36m(func pid=81521)\u001b[0m Files already downloaded and verified\n",
            "\u001b[36m(func pid=81521)\u001b[0m Files already downloaded and verified\n",
            "\n",
            "Trial train_cifar_37be9_00006 finished iteration 1 at 2024-06-08 23:51:55. Total running time: 6min 12s\n",
            "+------------------------------------------------------------+\n",
            "| Trial train_cifar_37be9_00006 result                       |\n",
            "+------------------------------------------------------------+\n",
            "| checkpoint_dir_name                      checkpoint_000000 |\n",
            "| time_this_iter_s                                    8.8345 |\n",
            "| time_total_s                                        8.8345 |\n",
            "| training_iteration                                       1 |\n",
            "| accuracy                                            0.0976 |\n",
            "| loss                                                2.3182 |\n",
            "+------------------------------------------------------------+\n",
            "Trial train_cifar_37be9_00006 saved a checkpoint for iteration 1 at: (local)/root/ray_results/train_cifar_2024-06-08_23-45-42/train_cifar_37be9_00006_6_batch_size=32,criterion=CrossEntropyLoss,epochs=20,l1=360,l2=168,learning_rate=0.0897,momentum=0.6575,op_2024-06-08_23-45-42/checkpoint_000000\n",
            "\n",
            "Trial train_cifar_37be9_00006 completed after 1 iterations at 2024-06-08 23:51:55. Total running time: 6min 12s\n"
          ]
        },
        {
          "output_type": "stream",
          "name": "stderr",
          "text": [
            "\u001b[36m(func pid=81521)\u001b[0m Checkpoint successfully created at: Checkpoint(filesystem=local, path=/root/ray_results/train_cifar_2024-06-08_23-45-42/train_cifar_37be9_00006_6_batch_size=32,criterion=CrossEntropyLoss,epochs=20,l1=360,l2=168,learning_rate=0.0897,momentum=0.6575,op_2024-06-08_23-45-42/checkpoint_000000)\n"
          ]
        },
        {
          "output_type": "stream",
          "name": "stdout",
          "text": [
            "\n",
            "Trial train_cifar_37be9_00007 started with configuration:\n",
            "+--------------------------------------------------+\n",
            "| Trial train_cifar_37be9_00007 config             |\n",
            "+--------------------------------------------------+\n",
            "| batch_size                                    16 |\n",
            "| criterion                                NLLLoss |\n",
            "| epochs                                        20 |\n",
            "| l1                                           360 |\n",
            "| l2                                            84 |\n",
            "| learning_rate                            0.00014 |\n",
            "| momentum                                 0.62569 |\n",
            "| optimizer                                    sgd |\n",
            "| weight_decay                             0.00141 |\n",
            "+--------------------------------------------------+\n",
            "\u001b[36m(func pid=81943)\u001b[0m Files already downloaded and verified\n",
            "\u001b[36m(func pid=81943)\u001b[0m Files already downloaded and verified\n",
            "\u001b[36m(func pid=81943)\u001b[0m [1,  2000] loss: 0.005\n",
            "\n",
            "Trial train_cifar_37be9_00007 finished iteration 1 at 2024-06-08 23:52:13. Total running time: 6min 30s\n",
            "+------------------------------------------------------------+\n",
            "| Trial train_cifar_37be9_00007 result                       |\n",
            "+------------------------------------------------------------+\n",
            "| checkpoint_dir_name                      checkpoint_000000 |\n",
            "| time_this_iter_s                                  12.78989 |\n",
            "| time_total_s                                      12.78989 |\n",
            "| training_iteration                                       1 |\n",
            "| accuracy                                            0.1003 |\n",
            "| loss                                              -0.07264 |\n",
            "+------------------------------------------------------------+\n",
            "Trial train_cifar_37be9_00007 saved a checkpoint for iteration 1 at: (local)/root/ray_results/train_cifar_2024-06-08_23-45-42/train_cifar_37be9_00007_7_batch_size=16,criterion=NLLLoss,epochs=20,l1=360,l2=84,learning_rate=0.0001,momentum=0.6257,optimizer=sg_2024-06-08_23-45-42/checkpoint_000000\n",
            "\u001b[36m(func pid=81943)\u001b[0m Finished Training\n"
          ]
        },
        {
          "output_type": "stream",
          "name": "stderr",
          "text": [
            "\u001b[36m(func pid=81943)\u001b[0m Checkpoint successfully created at: Checkpoint(filesystem=local, path=/root/ray_results/train_cifar_2024-06-08_23-45-42/train_cifar_37be9_00007_7_batch_size=16,criterion=NLLLoss,epochs=20,l1=360,l2=84,learning_rate=0.0001,momentum=0.6257,optimizer=sg_2024-06-08_23-45-42/checkpoint_000000)\n"
          ]
        },
        {
          "output_type": "stream",
          "name": "stdout",
          "text": [
            "\n",
            "Trial status: 7 TERMINATED | 1 RUNNING | 12 PENDING\n",
            "Current time: 2024-06-08 23:52:13. Total running time: 6min 31s\n",
            "Logical resource usage: 12.0/12 CPUs, 1.0/1 GPUs (0.0/1.0 accelerator_type:L4)\n",
            "+----------------------------------------------------------------------------------------------------------------------------------------------------------------------------------------------------------------------+\n",
            "| Trial name                status         learning_rate     batch_size     epochs   optimizer       momentum     weight_decay     l1     l2   criterion            iter     total time (s)          loss     accuracy |\n",
            "+----------------------------------------------------------------------------------------------------------------------------------------------------------------------------------------------------------------------+\n",
            "| train_cifar_37be9_00007   RUNNING          0.000141282             16         20   sgd             0.625691      0.0014128      360     84   NLLLoss                 1           12.7899     -0.0726358       0.1003 |\n",
            "| train_cifar_37be9_00000   TERMINATED       0.000127904             16         10   sgd             0.691209      0.00303265     360    252   CrossEntropyLoss       10          110.941       2.08142         0.2497 |\n",
            "| train_cifar_37be9_00001   TERMINATED       0.000686988            128          5   sgd             0.514858      0.00176203     360    168   CrossEntropyLoss        1            5.35428     2.30277         0.1098 |\n",
            "| train_cifar_37be9_00002   TERMINATED       0.0421174              128          5   sgd             0.504435      0.00482545     360    168   CrossEntropyLoss       10           32.8134      1.19385         0.5682 |\n",
            "| train_cifar_37be9_00003   TERMINATED       0.0205216               32         10   sgd             0.637362      0.000116181    120    168   NLLLoss                10           64.1461    nan               0.1025 |\n",
            "| train_cifar_37be9_00004   TERMINATED       0.00887431              16          5   sgd             0.765598      0.00426428     240     84   CrossEntropyLoss       10          108.634       1.07806         0.6253 |\n",
            "| train_cifar_37be9_00005   TERMINATED       0.0235392              128         20   adam            0.765034      0.000223755    240     84   CrossEntropyLoss        2            8.53064     1.88868         0.2784 |\n",
            "| train_cifar_37be9_00006   TERMINATED       0.0897215               32         20   adam            0.657465      0.00201386     360    168   CrossEntropyLoss        1            8.8345      2.3182          0.0976 |\n",
            "| train_cifar_37be9_00008   PENDING          0.0104716              128         10   adam            0.633325      0.000107179    120    252   CrossEntropyLoss                                                        |\n",
            "| train_cifar_37be9_00009   PENDING          0.00011069              32         10   sgd             0.810543      0.00059152     360    168   NLLLoss                                                                 |\n",
            "| train_cifar_37be9_00010   PENDING          0.0128713              128         20   adam            0.8133        0.000435187    240     84   NLLLoss                                                                 |\n",
            "| train_cifar_37be9_00011   PENDING          0.000572411            128          5   sgd             0.57995       0.00627102     120    168   CrossEntropyLoss                                                        |\n",
            "| train_cifar_37be9_00012   PENDING          0.00259363             128          5   adam            0.87201       0.000580308    120     84   CrossEntropyLoss                                                        |\n",
            "| train_cifar_37be9_00013   PENDING          0.0610611               64         10   adam            0.573201      0.00816333     240     84   CrossEntropyLoss                                                        |\n",
            "| train_cifar_37be9_00014   PENDING          0.000215539             64         10   adam            0.66957       0.000294654    360    252   CrossEntropyLoss                                                        |\n",
            "| train_cifar_37be9_00015   PENDING          0.00370564              32         10   adam            0.618958      0.00091318     360    168   NLLLoss                                                                 |\n",
            "| train_cifar_37be9_00016   PENDING          0.00468984              64         10   sgd             0.853646      0.000458833    120    168   CrossEntropyLoss                                                        |\n",
            "| train_cifar_37be9_00017   PENDING          0.0267104               32         20   adam            0.759795      0.000149732    240     84   CrossEntropyLoss                                                        |\n",
            "| train_cifar_37be9_00018   PENDING          0.0284903              128          5   sgd             0.752452      0.00079896     120    168   NLLLoss                                                                 |\n",
            "| train_cifar_37be9_00019   PENDING          0.0354501              128          5   sgd             0.891213      0.000811317    240     84   CrossEntropyLoss                                                        |\n",
            "+----------------------------------------------------------------------------------------------------------------------------------------------------------------------------------------------------------------------+\n",
            "\u001b[36m(func pid=81943)\u001b[0m [2,  2000] loss: -0.159\n",
            "\n",
            "Trial train_cifar_37be9_00007 finished iteration 2 at 2024-06-08 23:52:24. Total running time: 6min 41s\n",
            "+------------------------------------------------------------+\n",
            "| Trial train_cifar_37be9_00007 result                       |\n",
            "+------------------------------------------------------------+\n",
            "| checkpoint_dir_name                      checkpoint_000001 |\n",
            "| time_this_iter_s                                  10.83239 |\n",
            "| time_total_s                                      23.62228 |\n",
            "| training_iteration                                       2 |\n",
            "| accuracy                                            0.1071 |\n",
            "| loss                                               -1.3277 |\n",
            "+------------------------------------------------------------+\n",
            "Trial train_cifar_37be9_00007 saved a checkpoint for iteration 2 at: (local)/root/ray_results/train_cifar_2024-06-08_23-45-42/train_cifar_37be9_00007_7_batch_size=16,criterion=NLLLoss,epochs=20,l1=360,l2=84,learning_rate=0.0001,momentum=0.6257,optimizer=sg_2024-06-08_23-45-42/checkpoint_000001\n",
            "\u001b[36m(func pid=81943)\u001b[0m Finished Training\n"
          ]
        },
        {
          "output_type": "stream",
          "name": "stderr",
          "text": [
            "\u001b[36m(func pid=81943)\u001b[0m Checkpoint successfully created at: Checkpoint(filesystem=local, path=/root/ray_results/train_cifar_2024-06-08_23-45-42/train_cifar_37be9_00007_7_batch_size=16,criterion=NLLLoss,epochs=20,l1=360,l2=84,learning_rate=0.0001,momentum=0.6257,optimizer=sg_2024-06-08_23-45-42/checkpoint_000001)\n"
          ]
        },
        {
          "output_type": "stream",
          "name": "stdout",
          "text": [
            "\u001b[36m(func pid=81943)\u001b[0m [3,  2000] loss: nan\n",
            "\n",
            "Trial train_cifar_37be9_00007 finished iteration 3 at 2024-06-08 23:52:34. Total running time: 6min 52s\n",
            "+------------------------------------------------------------+\n",
            "| Trial train_cifar_37be9_00007 result                       |\n",
            "+------------------------------------------------------------+\n",
            "| checkpoint_dir_name                      checkpoint_000002 |\n",
            "| time_this_iter_s                                  10.65993 |\n",
            "| time_total_s                                      34.28221 |\n",
            "| training_iteration                                       3 |\n",
            "| accuracy                                            0.1023 |\n",
            "| loss                                                   nan |\n",
            "+------------------------------------------------------------+\n",
            "Trial train_cifar_37be9_00007 saved a checkpoint for iteration 3 at: (local)/root/ray_results/train_cifar_2024-06-08_23-45-42/train_cifar_37be9_00007_7_batch_size=16,criterion=NLLLoss,epochs=20,l1=360,l2=84,learning_rate=0.0001,momentum=0.6257,optimizer=sg_2024-06-08_23-45-42/checkpoint_000002\n",
            "\u001b[36m(func pid=81943)\u001b[0m Finished Training\n"
          ]
        },
        {
          "output_type": "stream",
          "name": "stderr",
          "text": [
            "\u001b[36m(func pid=81943)\u001b[0m Checkpoint successfully created at: Checkpoint(filesystem=local, path=/root/ray_results/train_cifar_2024-06-08_23-45-42/train_cifar_37be9_00007_7_batch_size=16,criterion=NLLLoss,epochs=20,l1=360,l2=84,learning_rate=0.0001,momentum=0.6257,optimizer=sg_2024-06-08_23-45-42/checkpoint_000002)\n"
          ]
        },
        {
          "output_type": "stream",
          "name": "stdout",
          "text": [
            "\u001b[36m(func pid=81943)\u001b[0m [4,  2000] loss: nan\n",
            "\n",
            "Trial status: 7 TERMINATED | 1 RUNNING | 12 PENDING\n",
            "Current time: 2024-06-08 23:52:43. Total running time: 7min 1s\n",
            "Logical resource usage: 12.0/12 CPUs, 1.0/1 GPUs (0.0/1.0 accelerator_type:L4)\n",
            "+--------------------------------------------------------------------------------------------------------------------------------------------------------------------------------------------------------------------+\n",
            "| Trial name                status         learning_rate     batch_size     epochs   optimizer       momentum     weight_decay     l1     l2   criterion            iter     total time (s)        loss     accuracy |\n",
            "+--------------------------------------------------------------------------------------------------------------------------------------------------------------------------------------------------------------------+\n",
            "| train_cifar_37be9_00007   RUNNING          0.000141282             16         20   sgd             0.625691      0.0014128      360     84   NLLLoss                 3           34.2822    nan             0.1023 |\n",
            "| train_cifar_37be9_00000   TERMINATED       0.000127904             16         10   sgd             0.691209      0.00303265     360    252   CrossEntropyLoss       10          110.941       2.08142       0.2497 |\n",
            "| train_cifar_37be9_00001   TERMINATED       0.000686988            128          5   sgd             0.514858      0.00176203     360    168   CrossEntropyLoss        1            5.35428     2.30277       0.1098 |\n",
            "| train_cifar_37be9_00002   TERMINATED       0.0421174              128          5   sgd             0.504435      0.00482545     360    168   CrossEntropyLoss       10           32.8134      1.19385       0.5682 |\n",
            "| train_cifar_37be9_00003   TERMINATED       0.0205216               32         10   sgd             0.637362      0.000116181    120    168   NLLLoss                10           64.1461    nan             0.1025 |\n",
            "| train_cifar_37be9_00004   TERMINATED       0.00887431              16          5   sgd             0.765598      0.00426428     240     84   CrossEntropyLoss       10          108.634       1.07806       0.6253 |\n",
            "| train_cifar_37be9_00005   TERMINATED       0.0235392              128         20   adam            0.765034      0.000223755    240     84   CrossEntropyLoss        2            8.53064     1.88868       0.2784 |\n",
            "| train_cifar_37be9_00006   TERMINATED       0.0897215               32         20   adam            0.657465      0.00201386     360    168   CrossEntropyLoss        1            8.8345      2.3182        0.0976 |\n",
            "| train_cifar_37be9_00008   PENDING          0.0104716              128         10   adam            0.633325      0.000107179    120    252   CrossEntropyLoss                                                      |\n",
            "| train_cifar_37be9_00009   PENDING          0.00011069              32         10   sgd             0.810543      0.00059152     360    168   NLLLoss                                                               |\n",
            "| train_cifar_37be9_00010   PENDING          0.0128713              128         20   adam            0.8133        0.000435187    240     84   NLLLoss                                                               |\n",
            "| train_cifar_37be9_00011   PENDING          0.000572411            128          5   sgd             0.57995       0.00627102     120    168   CrossEntropyLoss                                                      |\n",
            "| train_cifar_37be9_00012   PENDING          0.00259363             128          5   adam            0.87201       0.000580308    120     84   CrossEntropyLoss                                                      |\n",
            "| train_cifar_37be9_00013   PENDING          0.0610611               64         10   adam            0.573201      0.00816333     240     84   CrossEntropyLoss                                                      |\n",
            "| train_cifar_37be9_00014   PENDING          0.000215539             64         10   adam            0.66957       0.000294654    360    252   CrossEntropyLoss                                                      |\n",
            "| train_cifar_37be9_00015   PENDING          0.00370564              32         10   adam            0.618958      0.00091318     360    168   NLLLoss                                                               |\n",
            "| train_cifar_37be9_00016   PENDING          0.00468984              64         10   sgd             0.853646      0.000458833    120    168   CrossEntropyLoss                                                      |\n",
            "| train_cifar_37be9_00017   PENDING          0.0267104               32         20   adam            0.759795      0.000149732    240     84   CrossEntropyLoss                                                      |\n",
            "| train_cifar_37be9_00018   PENDING          0.0284903              128          5   sgd             0.752452      0.00079896     120    168   NLLLoss                                                               |\n",
            "| train_cifar_37be9_00019   PENDING          0.0354501              128          5   sgd             0.891213      0.000811317    240     84   CrossEntropyLoss                                                      |\n",
            "+--------------------------------------------------------------------------------------------------------------------------------------------------------------------------------------------------------------------+\n",
            "\n",
            "Trial train_cifar_37be9_00007 finished iteration 4 at 2024-06-08 23:52:45. Total running time: 7min 2s\n",
            "+------------------------------------------------------------+\n",
            "| Trial train_cifar_37be9_00007 result                       |\n",
            "+------------------------------------------------------------+\n",
            "| checkpoint_dir_name                      checkpoint_000003 |\n",
            "| time_this_iter_s                                  10.65811 |\n",
            "| time_total_s                                      44.94032 |\n",
            "| training_iteration                                       4 |\n",
            "| accuracy                                            0.1023 |\n",
            "| loss                                                   nan |\n",
            "+------------------------------------------------------------+\n",
            "Trial train_cifar_37be9_00007 saved a checkpoint for iteration 4 at: (local)/root/ray_results/train_cifar_2024-06-08_23-45-42/train_cifar_37be9_00007_7_batch_size=16,criterion=NLLLoss,epochs=20,l1=360,l2=84,learning_rate=0.0001,momentum=0.6257,optimizer=sg_2024-06-08_23-45-42/checkpoint_000003\n",
            "\u001b[36m(func pid=81943)\u001b[0m Finished Training\n"
          ]
        },
        {
          "output_type": "stream",
          "name": "stderr",
          "text": [
            "\u001b[36m(func pid=81943)\u001b[0m Checkpoint successfully created at: Checkpoint(filesystem=local, path=/root/ray_results/train_cifar_2024-06-08_23-45-42/train_cifar_37be9_00007_7_batch_size=16,criterion=NLLLoss,epochs=20,l1=360,l2=84,learning_rate=0.0001,momentum=0.6257,optimizer=sg_2024-06-08_23-45-42/checkpoint_000003)\n"
          ]
        },
        {
          "output_type": "stream",
          "name": "stdout",
          "text": [
            "\u001b[36m(func pid=81943)\u001b[0m [5,  2000] loss: nan\n",
            "\n",
            "Trial train_cifar_37be9_00007 finished iteration 5 at 2024-06-08 23:52:55. Total running time: 7min 13s\n",
            "+------------------------------------------------------------+\n",
            "| Trial train_cifar_37be9_00007 result                       |\n",
            "+------------------------------------------------------------+\n",
            "| checkpoint_dir_name                      checkpoint_000004 |\n",
            "| time_this_iter_s                                  10.49372 |\n",
            "| time_total_s                                      55.43403 |\n",
            "| training_iteration                                       5 |\n",
            "| accuracy                                            0.1023 |\n",
            "| loss                                                   nan |\n",
            "+------------------------------------------------------------+\n",
            "Trial train_cifar_37be9_00007 saved a checkpoint for iteration 5 at: (local)/root/ray_results/train_cifar_2024-06-08_23-45-42/train_cifar_37be9_00007_7_batch_size=16,criterion=NLLLoss,epochs=20,l1=360,l2=84,learning_rate=0.0001,momentum=0.6257,optimizer=sg_2024-06-08_23-45-42/checkpoint_000004\n",
            "\u001b[36m(func pid=81943)\u001b[0m Finished Training\n"
          ]
        },
        {
          "output_type": "stream",
          "name": "stderr",
          "text": [
            "\u001b[36m(func pid=81943)\u001b[0m Checkpoint successfully created at: Checkpoint(filesystem=local, path=/root/ray_results/train_cifar_2024-06-08_23-45-42/train_cifar_37be9_00007_7_batch_size=16,criterion=NLLLoss,epochs=20,l1=360,l2=84,learning_rate=0.0001,momentum=0.6257,optimizer=sg_2024-06-08_23-45-42/checkpoint_000004)\n"
          ]
        },
        {
          "output_type": "stream",
          "name": "stdout",
          "text": [
            "\u001b[36m(func pid=81943)\u001b[0m [6,  2000] loss: nan\n",
            "\n",
            "Trial train_cifar_37be9_00007 finished iteration 6 at 2024-06-08 23:53:06. Total running time: 7min 24s\n",
            "+------------------------------------------------------------+\n",
            "| Trial train_cifar_37be9_00007 result                       |\n",
            "+------------------------------------------------------------+\n",
            "| checkpoint_dir_name                      checkpoint_000005 |\n",
            "| time_this_iter_s                                  10.61659 |\n",
            "| time_total_s                                      66.05063 |\n",
            "| training_iteration                                       6 |\n",
            "| accuracy                                            0.1023 |\n",
            "| loss                                                   nan |\n",
            "+------------------------------------------------------------+\n",
            "Trial train_cifar_37be9_00007 saved a checkpoint for iteration 6 at: (local)/root/ray_results/train_cifar_2024-06-08_23-45-42/train_cifar_37be9_00007_7_batch_size=16,criterion=NLLLoss,epochs=20,l1=360,l2=84,learning_rate=0.0001,momentum=0.6257,optimizer=sg_2024-06-08_23-45-42/checkpoint_000005\n",
            "\u001b[36m(func pid=81943)\u001b[0m Finished Training\n"
          ]
        },
        {
          "output_type": "stream",
          "name": "stderr",
          "text": [
            "\u001b[36m(func pid=81943)\u001b[0m Checkpoint successfully created at: Checkpoint(filesystem=local, path=/root/ray_results/train_cifar_2024-06-08_23-45-42/train_cifar_37be9_00007_7_batch_size=16,criterion=NLLLoss,epochs=20,l1=360,l2=84,learning_rate=0.0001,momentum=0.6257,optimizer=sg_2024-06-08_23-45-42/checkpoint_000005)\n"
          ]
        },
        {
          "output_type": "stream",
          "name": "stdout",
          "text": [
            "\n",
            "Trial status: 7 TERMINATED | 1 RUNNING | 12 PENDING\n",
            "Current time: 2024-06-08 23:53:13. Total running time: 7min 31s\n",
            "Logical resource usage: 12.0/12 CPUs, 1.0/1 GPUs (0.0/1.0 accelerator_type:L4)\n",
            "+--------------------------------------------------------------------------------------------------------------------------------------------------------------------------------------------------------------------+\n",
            "| Trial name                status         learning_rate     batch_size     epochs   optimizer       momentum     weight_decay     l1     l2   criterion            iter     total time (s)        loss     accuracy |\n",
            "+--------------------------------------------------------------------------------------------------------------------------------------------------------------------------------------------------------------------+\n",
            "| train_cifar_37be9_00007   RUNNING          0.000141282             16         20   sgd             0.625691      0.0014128      360     84   NLLLoss                 6           66.0506    nan             0.1023 |\n",
            "| train_cifar_37be9_00000   TERMINATED       0.000127904             16         10   sgd             0.691209      0.00303265     360    252   CrossEntropyLoss       10          110.941       2.08142       0.2497 |\n",
            "| train_cifar_37be9_00001   TERMINATED       0.000686988            128          5   sgd             0.514858      0.00176203     360    168   CrossEntropyLoss        1            5.35428     2.30277       0.1098 |\n",
            "| train_cifar_37be9_00002   TERMINATED       0.0421174              128          5   sgd             0.504435      0.00482545     360    168   CrossEntropyLoss       10           32.8134      1.19385       0.5682 |\n",
            "| train_cifar_37be9_00003   TERMINATED       0.0205216               32         10   sgd             0.637362      0.000116181    120    168   NLLLoss                10           64.1461    nan             0.1025 |\n",
            "| train_cifar_37be9_00004   TERMINATED       0.00887431              16          5   sgd             0.765598      0.00426428     240     84   CrossEntropyLoss       10          108.634       1.07806       0.6253 |\n",
            "| train_cifar_37be9_00005   TERMINATED       0.0235392              128         20   adam            0.765034      0.000223755    240     84   CrossEntropyLoss        2            8.53064     1.88868       0.2784 |\n",
            "| train_cifar_37be9_00006   TERMINATED       0.0897215               32         20   adam            0.657465      0.00201386     360    168   CrossEntropyLoss        1            8.8345      2.3182        0.0976 |\n",
            "| train_cifar_37be9_00008   PENDING          0.0104716              128         10   adam            0.633325      0.000107179    120    252   CrossEntropyLoss                                                      |\n",
            "| train_cifar_37be9_00009   PENDING          0.00011069              32         10   sgd             0.810543      0.00059152     360    168   NLLLoss                                                               |\n",
            "| train_cifar_37be9_00010   PENDING          0.0128713              128         20   adam            0.8133        0.000435187    240     84   NLLLoss                                                               |\n",
            "| train_cifar_37be9_00011   PENDING          0.000572411            128          5   sgd             0.57995       0.00627102     120    168   CrossEntropyLoss                                                      |\n",
            "| train_cifar_37be9_00012   PENDING          0.00259363             128          5   adam            0.87201       0.000580308    120     84   CrossEntropyLoss                                                      |\n",
            "| train_cifar_37be9_00013   PENDING          0.0610611               64         10   adam            0.573201      0.00816333     240     84   CrossEntropyLoss                                                      |\n",
            "| train_cifar_37be9_00014   PENDING          0.000215539             64         10   adam            0.66957       0.000294654    360    252   CrossEntropyLoss                                                      |\n",
            "| train_cifar_37be9_00015   PENDING          0.00370564              32         10   adam            0.618958      0.00091318     360    168   NLLLoss                                                               |\n",
            "| train_cifar_37be9_00016   PENDING          0.00468984              64         10   sgd             0.853646      0.000458833    120    168   CrossEntropyLoss                                                      |\n",
            "| train_cifar_37be9_00017   PENDING          0.0267104               32         20   adam            0.759795      0.000149732    240     84   CrossEntropyLoss                                                      |\n",
            "| train_cifar_37be9_00018   PENDING          0.0284903              128          5   sgd             0.752452      0.00079896     120    168   NLLLoss                                                               |\n",
            "| train_cifar_37be9_00019   PENDING          0.0354501              128          5   sgd             0.891213      0.000811317    240     84   CrossEntropyLoss                                                      |\n",
            "+--------------------------------------------------------------------------------------------------------------------------------------------------------------------------------------------------------------------+\n",
            "\u001b[36m(func pid=81943)\u001b[0m [7,  2000] loss: nan\n",
            "\n",
            "Trial train_cifar_37be9_00007 finished iteration 7 at 2024-06-08 23:53:17. Total running time: 7min 34s\n",
            "+------------------------------------------------------------+\n",
            "| Trial train_cifar_37be9_00007 result                       |\n",
            "+------------------------------------------------------------+\n",
            "| checkpoint_dir_name                      checkpoint_000006 |\n",
            "| time_this_iter_s                                  10.61355 |\n",
            "| time_total_s                                      76.66418 |\n",
            "| training_iteration                                       7 |\n",
            "| accuracy                                            0.1023 |\n",
            "| loss                                                   nan |\n",
            "+------------------------------------------------------------+\n",
            "Trial train_cifar_37be9_00007 saved a checkpoint for iteration 7 at: (local)/root/ray_results/train_cifar_2024-06-08_23-45-42/train_cifar_37be9_00007_7_batch_size=16,criterion=NLLLoss,epochs=20,l1=360,l2=84,learning_rate=0.0001,momentum=0.6257,optimizer=sg_2024-06-08_23-45-42/checkpoint_000006\n",
            "\u001b[36m(func pid=81943)\u001b[0m Finished Training\n"
          ]
        },
        {
          "output_type": "stream",
          "name": "stderr",
          "text": [
            "\u001b[36m(func pid=81943)\u001b[0m Checkpoint successfully created at: Checkpoint(filesystem=local, path=/root/ray_results/train_cifar_2024-06-08_23-45-42/train_cifar_37be9_00007_7_batch_size=16,criterion=NLLLoss,epochs=20,l1=360,l2=84,learning_rate=0.0001,momentum=0.6257,optimizer=sg_2024-06-08_23-45-42/checkpoint_000006)\n"
          ]
        },
        {
          "output_type": "stream",
          "name": "stdout",
          "text": [
            "\u001b[36m(func pid=81943)\u001b[0m [8,  2000] loss: nan\n",
            "\n",
            "Trial train_cifar_37be9_00007 finished iteration 8 at 2024-06-08 23:53:27. Total running time: 7min 45s\n",
            "+------------------------------------------------------------+\n",
            "| Trial train_cifar_37be9_00007 result                       |\n",
            "+------------------------------------------------------------+\n",
            "| checkpoint_dir_name                      checkpoint_000007 |\n",
            "| time_this_iter_s                                  10.74446 |\n",
            "| time_total_s                                      87.40864 |\n",
            "| training_iteration                                       8 |\n",
            "| accuracy                                            0.1023 |\n",
            "| loss                                                   nan |\n",
            "+------------------------------------------------------------+\n",
            "Trial train_cifar_37be9_00007 saved a checkpoint for iteration 8 at: (local)/root/ray_results/train_cifar_2024-06-08_23-45-42/train_cifar_37be9_00007_7_batch_size=16,criterion=NLLLoss,epochs=20,l1=360,l2=84,learning_rate=0.0001,momentum=0.6257,optimizer=sg_2024-06-08_23-45-42/checkpoint_000007\n",
            "\u001b[36m(func pid=81943)\u001b[0m Finished Training\n"
          ]
        },
        {
          "output_type": "stream",
          "name": "stderr",
          "text": [
            "\u001b[36m(func pid=81943)\u001b[0m Checkpoint successfully created at: Checkpoint(filesystem=local, path=/root/ray_results/train_cifar_2024-06-08_23-45-42/train_cifar_37be9_00007_7_batch_size=16,criterion=NLLLoss,epochs=20,l1=360,l2=84,learning_rate=0.0001,momentum=0.6257,optimizer=sg_2024-06-08_23-45-42/checkpoint_000007)\n"
          ]
        },
        {
          "output_type": "stream",
          "name": "stdout",
          "text": [
            "\u001b[36m(func pid=81943)\u001b[0m [9,  2000] loss: nan\n",
            "\n",
            "Trial train_cifar_37be9_00007 finished iteration 9 at 2024-06-08 23:53:38. Total running time: 7min 55s\n",
            "+------------------------------------------------------------+\n",
            "| Trial train_cifar_37be9_00007 result                       |\n",
            "+------------------------------------------------------------+\n",
            "| checkpoint_dir_name                      checkpoint_000008 |\n",
            "| time_this_iter_s                                  10.41597 |\n",
            "| time_total_s                                      97.82461 |\n",
            "| training_iteration                                       9 |\n",
            "| accuracy                                            0.1023 |\n",
            "| loss                                                   nan |\n",
            "+------------------------------------------------------------+\n",
            "Trial train_cifar_37be9_00007 saved a checkpoint for iteration 9 at: (local)/root/ray_results/train_cifar_2024-06-08_23-45-42/train_cifar_37be9_00007_7_batch_size=16,criterion=NLLLoss,epochs=20,l1=360,l2=84,learning_rate=0.0001,momentum=0.6257,optimizer=sg_2024-06-08_23-45-42/checkpoint_000008\n",
            "\u001b[36m(func pid=81943)\u001b[0m Finished Training\n"
          ]
        },
        {
          "output_type": "stream",
          "name": "stderr",
          "text": [
            "\u001b[36m(func pid=81943)\u001b[0m Checkpoint successfully created at: Checkpoint(filesystem=local, path=/root/ray_results/train_cifar_2024-06-08_23-45-42/train_cifar_37be9_00007_7_batch_size=16,criterion=NLLLoss,epochs=20,l1=360,l2=84,learning_rate=0.0001,momentum=0.6257,optimizer=sg_2024-06-08_23-45-42/checkpoint_000008)\n"
          ]
        },
        {
          "output_type": "stream",
          "name": "stdout",
          "text": [
            "\n",
            "Trial status: 7 TERMINATED | 1 RUNNING | 12 PENDING\n",
            "Current time: 2024-06-08 23:53:43. Total running time: 8min 1s\n",
            "Logical resource usage: 12.0/12 CPUs, 1.0/1 GPUs (0.0/1.0 accelerator_type:L4)\n",
            "+--------------------------------------------------------------------------------------------------------------------------------------------------------------------------------------------------------------------+\n",
            "| Trial name                status         learning_rate     batch_size     epochs   optimizer       momentum     weight_decay     l1     l2   criterion            iter     total time (s)        loss     accuracy |\n",
            "+--------------------------------------------------------------------------------------------------------------------------------------------------------------------------------------------------------------------+\n",
            "| train_cifar_37be9_00007   RUNNING          0.000141282             16         20   sgd             0.625691      0.0014128      360     84   NLLLoss                 9           97.8246    nan             0.1023 |\n",
            "| train_cifar_37be9_00000   TERMINATED       0.000127904             16         10   sgd             0.691209      0.00303265     360    252   CrossEntropyLoss       10          110.941       2.08142       0.2497 |\n",
            "| train_cifar_37be9_00001   TERMINATED       0.000686988            128          5   sgd             0.514858      0.00176203     360    168   CrossEntropyLoss        1            5.35428     2.30277       0.1098 |\n",
            "| train_cifar_37be9_00002   TERMINATED       0.0421174              128          5   sgd             0.504435      0.00482545     360    168   CrossEntropyLoss       10           32.8134      1.19385       0.5682 |\n",
            "| train_cifar_37be9_00003   TERMINATED       0.0205216               32         10   sgd             0.637362      0.000116181    120    168   NLLLoss                10           64.1461    nan             0.1025 |\n",
            "| train_cifar_37be9_00004   TERMINATED       0.00887431              16          5   sgd             0.765598      0.00426428     240     84   CrossEntropyLoss       10          108.634       1.07806       0.6253 |\n",
            "| train_cifar_37be9_00005   TERMINATED       0.0235392              128         20   adam            0.765034      0.000223755    240     84   CrossEntropyLoss        2            8.53064     1.88868       0.2784 |\n",
            "| train_cifar_37be9_00006   TERMINATED       0.0897215               32         20   adam            0.657465      0.00201386     360    168   CrossEntropyLoss        1            8.8345      2.3182        0.0976 |\n",
            "| train_cifar_37be9_00008   PENDING          0.0104716              128         10   adam            0.633325      0.000107179    120    252   CrossEntropyLoss                                                      |\n",
            "| train_cifar_37be9_00009   PENDING          0.00011069              32         10   sgd             0.810543      0.00059152     360    168   NLLLoss                                                               |\n",
            "| train_cifar_37be9_00010   PENDING          0.0128713              128         20   adam            0.8133        0.000435187    240     84   NLLLoss                                                               |\n",
            "| train_cifar_37be9_00011   PENDING          0.000572411            128          5   sgd             0.57995       0.00627102     120    168   CrossEntropyLoss                                                      |\n",
            "| train_cifar_37be9_00012   PENDING          0.00259363             128          5   adam            0.87201       0.000580308    120     84   CrossEntropyLoss                                                      |\n",
            "| train_cifar_37be9_00013   PENDING          0.0610611               64         10   adam            0.573201      0.00816333     240     84   CrossEntropyLoss                                                      |\n",
            "| train_cifar_37be9_00014   PENDING          0.000215539             64         10   adam            0.66957       0.000294654    360    252   CrossEntropyLoss                                                      |\n",
            "| train_cifar_37be9_00015   PENDING          0.00370564              32         10   adam            0.618958      0.00091318     360    168   NLLLoss                                                               |\n",
            "| train_cifar_37be9_00016   PENDING          0.00468984              64         10   sgd             0.853646      0.000458833    120    168   CrossEntropyLoss                                                      |\n",
            "| train_cifar_37be9_00017   PENDING          0.0267104               32         20   adam            0.759795      0.000149732    240     84   CrossEntropyLoss                                                      |\n",
            "| train_cifar_37be9_00018   PENDING          0.0284903              128          5   sgd             0.752452      0.00079896     120    168   NLLLoss                                                               |\n",
            "| train_cifar_37be9_00019   PENDING          0.0354501              128          5   sgd             0.891213      0.000811317    240     84   CrossEntropyLoss                                                      |\n",
            "+--------------------------------------------------------------------------------------------------------------------------------------------------------------------------------------------------------------------+\n",
            "\u001b[36m(func pid=81943)\u001b[0m [10,  2000] loss: nan\n",
            "\n",
            "Trial train_cifar_37be9_00007 finished iteration 10 at 2024-06-08 23:53:49. Total running time: 8min 6s\n",
            "+------------------------------------------------------------+\n",
            "| Trial train_cifar_37be9_00007 result                       |\n",
            "+------------------------------------------------------------+\n",
            "| checkpoint_dir_name                      checkpoint_000009 |\n",
            "| time_this_iter_s                                  10.82651 |\n",
            "| time_total_s                                     108.65112 |\n",
            "| training_iteration                                      10 |\n",
            "| accuracy                                            0.1023 |\n",
            "| loss                                                   nan |\n",
            "+------------------------------------------------------------+\n",
            "Trial train_cifar_37be9_00007 saved a checkpoint for iteration 10 at: (local)/root/ray_results/train_cifar_2024-06-08_23-45-42/train_cifar_37be9_00007_7_batch_size=16,criterion=NLLLoss,epochs=20,l1=360,l2=84,learning_rate=0.0001,momentum=0.6257,optimizer=sg_2024-06-08_23-45-42/checkpoint_000009\n",
            "\n",
            "Trial train_cifar_37be9_00007 completed after 10 iterations at 2024-06-08 23:53:49. Total running time: 8min 6s\n"
          ]
        },
        {
          "output_type": "stream",
          "name": "stderr",
          "text": [
            "\u001b[36m(func pid=81943)\u001b[0m Checkpoint successfully created at: Checkpoint(filesystem=local, path=/root/ray_results/train_cifar_2024-06-08_23-45-42/train_cifar_37be9_00007_7_batch_size=16,criterion=NLLLoss,epochs=20,l1=360,l2=84,learning_rate=0.0001,momentum=0.6257,optimizer=sg_2024-06-08_23-45-42/checkpoint_000009)\n"
          ]
        },
        {
          "output_type": "stream",
          "name": "stdout",
          "text": [
            "\n",
            "Trial train_cifar_37be9_00008 started with configuration:\n",
            "+-----------------------------------------------------------+\n",
            "| Trial train_cifar_37be9_00008 config                      |\n",
            "+-----------------------------------------------------------+\n",
            "| batch_size                                            128 |\n",
            "| criterion                                CrossEntropyLoss |\n",
            "| epochs                                                 10 |\n",
            "| l1                                                    120 |\n",
            "| l2                                                    252 |\n",
            "| learning_rate                                     0.01047 |\n",
            "| momentum                                          0.63333 |\n",
            "| optimizer                                            adam |\n",
            "| weight_decay                                      0.00011 |\n",
            "+-----------------------------------------------------------+\n",
            "\u001b[36m(func pid=84963)\u001b[0m Files already downloaded and verified\n",
            "\u001b[36m(func pid=84963)\u001b[0m Files already downloaded and verified\n"
          ]
        },
        {
          "output_type": "stream",
          "name": "stderr",
          "text": [
            "\u001b[36m(func pid=84963)\u001b[0m /usr/local/lib/python3.10/dist-packages/torch/nn/modules/conv.py:456: UserWarning: Plan failed with a cudnnException: CUDNN_BACKEND_EXECUTION_PLAN_DESCRIPTOR: cudnnFinalize Descriptor Failed cudnn_status: CUDNN_STATUS_NOT_SUPPORTED (Triggered internally at ../aten/src/ATen/native/cudnn/Conv_v8.cpp:919.)\n",
            "\u001b[36m(func pid=84963)\u001b[0m   return F.conv2d(input, weight, bias, self.stride,\n"
          ]
        },
        {
          "output_type": "stream",
          "name": "stdout",
          "text": [
            "\n",
            "Trial train_cifar_37be9_00008 finished iteration 1 at 2024-06-08 23:53:59. Total running time: 8min 17s\n",
            "+------------------------------------------------------------+\n",
            "| Trial train_cifar_37be9_00008 result                       |\n",
            "+------------------------------------------------------------+\n",
            "| checkpoint_dir_name                      checkpoint_000000 |\n",
            "| time_this_iter_s                                   5.30015 |\n",
            "| time_total_s                                       5.30015 |\n",
            "| training_iteration                                       1 |\n",
            "| accuracy                                            0.3998 |\n",
            "| loss                                               1.60569 |\n",
            "+------------------------------------------------------------+\n",
            "Trial train_cifar_37be9_00008 saved a checkpoint for iteration 1 at: (local)/root/ray_results/train_cifar_2024-06-08_23-45-42/train_cifar_37be9_00008_8_batch_size=128,criterion=CrossEntropyLoss,epochs=10,l1=120,l2=252,learning_rate=0.0105,momentum=0.6333,o_2024-06-08_23-45-42/checkpoint_000000\n",
            "\u001b[36m(func pid=84963)\u001b[0m Finished Training\n"
          ]
        },
        {
          "output_type": "stream",
          "name": "stderr",
          "text": [
            "\u001b[36m(func pid=84963)\u001b[0m Checkpoint successfully created at: Checkpoint(filesystem=local, path=/root/ray_results/train_cifar_2024-06-08_23-45-42/train_cifar_37be9_00008_8_batch_size=128,criterion=CrossEntropyLoss,epochs=10,l1=120,l2=252,learning_rate=0.0105,momentum=0.6333,o_2024-06-08_23-45-42/checkpoint_000000)\n"
          ]
        },
        {
          "output_type": "stream",
          "name": "stdout",
          "text": [
            "\n",
            "Trial train_cifar_37be9_00008 finished iteration 2 at 2024-06-08 23:54:02. Total running time: 8min 20s\n",
            "+------------------------------------------------------------+\n",
            "| Trial train_cifar_37be9_00008 result                       |\n",
            "+------------------------------------------------------------+\n",
            "| checkpoint_dir_name                      checkpoint_000001 |\n",
            "| time_this_iter_s                                   3.10501 |\n",
            "| time_total_s                                       8.40516 |\n",
            "| training_iteration                                       2 |\n",
            "| accuracy                                            0.4256 |\n",
            "| loss                                               1.55373 |\n",
            "+------------------------------------------------------------+\n",
            "Trial train_cifar_37be9_00008 saved a checkpoint for iteration 2 at: (local)/root/ray_results/train_cifar_2024-06-08_23-45-42/train_cifar_37be9_00008_8_batch_size=128,criterion=CrossEntropyLoss,epochs=10,l1=120,l2=252,learning_rate=0.0105,momentum=0.6333,o_2024-06-08_23-45-42/checkpoint_000001\n",
            "\n",
            "Trial train_cifar_37be9_00008 completed after 2 iterations at 2024-06-08 23:54:02. Total running time: 8min 20s\n"
          ]
        },
        {
          "output_type": "stream",
          "name": "stderr",
          "text": [
            "\u001b[36m(func pid=84963)\u001b[0m Checkpoint successfully created at: Checkpoint(filesystem=local, path=/root/ray_results/train_cifar_2024-06-08_23-45-42/train_cifar_37be9_00008_8_batch_size=128,criterion=CrossEntropyLoss,epochs=10,l1=120,l2=252,learning_rate=0.0105,momentum=0.6333,o_2024-06-08_23-45-42/checkpoint_000001)\n"
          ]
        },
        {
          "output_type": "stream",
          "name": "stdout",
          "text": [
            "\n",
            "Trial train_cifar_37be9_00009 started with configuration:\n",
            "+--------------------------------------------------+\n",
            "| Trial train_cifar_37be9_00009 config             |\n",
            "+--------------------------------------------------+\n",
            "| batch_size                                    32 |\n",
            "| criterion                                NLLLoss |\n",
            "| epochs                                        10 |\n",
            "| l1                                           360 |\n",
            "| l2                                           168 |\n",
            "| learning_rate                            0.00011 |\n",
            "| momentum                                 0.81054 |\n",
            "| optimizer                                    sgd |\n",
            "| weight_decay                             0.00059 |\n",
            "+--------------------------------------------------+\n",
            "\u001b[36m(func pid=85620)\u001b[0m Files already downloaded and verified\n",
            "\u001b[36m(func pid=85620)\u001b[0m Files already downloaded and verified\n",
            "\n",
            "Trial status: 9 TERMINATED | 1 RUNNING | 10 PENDING\n",
            "Current time: 2024-06-08 23:54:13. Total running time: 8min 31s\n",
            "Logical resource usage: 12.0/12 CPUs, 1.0/1 GPUs (0.0/1.0 accelerator_type:L4)\n",
            "+--------------------------------------------------------------------------------------------------------------------------------------------------------------------------------------------------------------------+\n",
            "| Trial name                status         learning_rate     batch_size     epochs   optimizer       momentum     weight_decay     l1     l2   criterion            iter     total time (s)        loss     accuracy |\n",
            "+--------------------------------------------------------------------------------------------------------------------------------------------------------------------------------------------------------------------+\n",
            "| train_cifar_37be9_00009   RUNNING          0.00011069              32         10   sgd             0.810543      0.00059152     360    168   NLLLoss                                                               |\n",
            "| train_cifar_37be9_00000   TERMINATED       0.000127904             16         10   sgd             0.691209      0.00303265     360    252   CrossEntropyLoss       10          110.941       2.08142       0.2497 |\n",
            "| train_cifar_37be9_00001   TERMINATED       0.000686988            128          5   sgd             0.514858      0.00176203     360    168   CrossEntropyLoss        1            5.35428     2.30277       0.1098 |\n",
            "| train_cifar_37be9_00002   TERMINATED       0.0421174              128          5   sgd             0.504435      0.00482545     360    168   CrossEntropyLoss       10           32.8134      1.19385       0.5682 |\n",
            "| train_cifar_37be9_00003   TERMINATED       0.0205216               32         10   sgd             0.637362      0.000116181    120    168   NLLLoss                10           64.1461    nan             0.1025 |\n",
            "| train_cifar_37be9_00004   TERMINATED       0.00887431              16          5   sgd             0.765598      0.00426428     240     84   CrossEntropyLoss       10          108.634       1.07806       0.6253 |\n",
            "| train_cifar_37be9_00005   TERMINATED       0.0235392              128         20   adam            0.765034      0.000223755    240     84   CrossEntropyLoss        2            8.53064     1.88868       0.2784 |\n",
            "| train_cifar_37be9_00006   TERMINATED       0.0897215               32         20   adam            0.657465      0.00201386     360    168   CrossEntropyLoss        1            8.8345      2.3182        0.0976 |\n",
            "| train_cifar_37be9_00007   TERMINATED       0.000141282             16         20   sgd             0.625691      0.0014128      360     84   NLLLoss                10          108.651     nan             0.1023 |\n",
            "| train_cifar_37be9_00008   TERMINATED       0.0104716              128         10   adam            0.633325      0.000107179    120    252   CrossEntropyLoss        2            8.40516     1.55373       0.4256 |\n",
            "| train_cifar_37be9_00010   PENDING          0.0128713              128         20   adam            0.8133        0.000435187    240     84   NLLLoss                                                               |\n",
            "| train_cifar_37be9_00011   PENDING          0.000572411            128          5   sgd             0.57995       0.00627102     120    168   CrossEntropyLoss                                                      |\n",
            "| train_cifar_37be9_00012   PENDING          0.00259363             128          5   adam            0.87201       0.000580308    120     84   CrossEntropyLoss                                                      |\n",
            "| train_cifar_37be9_00013   PENDING          0.0610611               64         10   adam            0.573201      0.00816333     240     84   CrossEntropyLoss                                                      |\n",
            "| train_cifar_37be9_00014   PENDING          0.000215539             64         10   adam            0.66957       0.000294654    360    252   CrossEntropyLoss                                                      |\n",
            "| train_cifar_37be9_00015   PENDING          0.00370564              32         10   adam            0.618958      0.00091318     360    168   NLLLoss                                                               |\n",
            "| train_cifar_37be9_00016   PENDING          0.00468984              64         10   sgd             0.853646      0.000458833    120    168   CrossEntropyLoss                                                      |\n",
            "| train_cifar_37be9_00017   PENDING          0.0267104               32         20   adam            0.759795      0.000149732    240     84   CrossEntropyLoss                                                      |\n",
            "| train_cifar_37be9_00018   PENDING          0.0284903              128          5   sgd             0.752452      0.00079896     120    168   NLLLoss                                                               |\n",
            "| train_cifar_37be9_00019   PENDING          0.0354501              128          5   sgd             0.891213      0.000811317    240     84   CrossEntropyLoss                                                      |\n",
            "+--------------------------------------------------------------------------------------------------------------------------------------------------------------------------------------------------------------------+\n",
            "\n",
            "Trial train_cifar_37be9_00009 finished iteration 1 at 2024-06-08 23:54:15. Total running time: 8min 33s\n",
            "+------------------------------------------------------------+\n",
            "| Trial train_cifar_37be9_00009 result                       |\n",
            "+------------------------------------------------------------+\n",
            "| checkpoint_dir_name                      checkpoint_000000 |\n",
            "| time_this_iter_s                                   8.27721 |\n",
            "| time_total_s                                       8.27721 |\n",
            "| training_iteration                                       1 |\n",
            "| accuracy                                            0.1149 |\n",
            "| loss                                              -0.10997 |\n",
            "+------------------------------------------------------------+\n",
            "Trial train_cifar_37be9_00009 saved a checkpoint for iteration 1 at: (local)/root/ray_results/train_cifar_2024-06-08_23-45-42/train_cifar_37be9_00009_9_batch_size=32,criterion=NLLLoss,epochs=10,l1=360,l2=168,learning_rate=0.0001,momentum=0.8105,optimizer=s_2024-06-08_23-45-42/checkpoint_000000\n",
            "\u001b[36m(func pid=85620)\u001b[0m Finished Training\n"
          ]
        },
        {
          "output_type": "stream",
          "name": "stderr",
          "text": [
            "\u001b[36m(func pid=85620)\u001b[0m Checkpoint successfully created at: Checkpoint(filesystem=local, path=/root/ray_results/train_cifar_2024-06-08_23-45-42/train_cifar_37be9_00009_9_batch_size=32,criterion=NLLLoss,epochs=10,l1=360,l2=168,learning_rate=0.0001,momentum=0.8105,optimizer=s_2024-06-08_23-45-42/checkpoint_000000)\n"
          ]
        },
        {
          "output_type": "stream",
          "name": "stdout",
          "text": [
            "\n",
            "Trial train_cifar_37be9_00009 finished iteration 2 at 2024-06-08 23:54:22. Total running time: 8min 39s\n",
            "+------------------------------------------------------------+\n",
            "| Trial train_cifar_37be9_00009 result                       |\n",
            "+------------------------------------------------------------+\n",
            "| checkpoint_dir_name                      checkpoint_000001 |\n",
            "| time_this_iter_s                                   6.29384 |\n",
            "| time_total_s                                      14.57105 |\n",
            "| training_iteration                                       2 |\n",
            "| accuracy                                            0.1006 |\n",
            "| loss                                                   nan |\n",
            "+------------------------------------------------------------+\n",
            "Trial train_cifar_37be9_00009 saved a checkpoint for iteration 2 at: (local)/root/ray_results/train_cifar_2024-06-08_23-45-42/train_cifar_37be9_00009_9_batch_size=32,criterion=NLLLoss,epochs=10,l1=360,l2=168,learning_rate=0.0001,momentum=0.8105,optimizer=s_2024-06-08_23-45-42/checkpoint_000001\n",
            "\u001b[36m(func pid=85620)\u001b[0m Finished Training\n"
          ]
        },
        {
          "output_type": "stream",
          "name": "stderr",
          "text": [
            "\u001b[36m(func pid=85620)\u001b[0m Checkpoint successfully created at: Checkpoint(filesystem=local, path=/root/ray_results/train_cifar_2024-06-08_23-45-42/train_cifar_37be9_00009_9_batch_size=32,criterion=NLLLoss,epochs=10,l1=360,l2=168,learning_rate=0.0001,momentum=0.8105,optimizer=s_2024-06-08_23-45-42/checkpoint_000001)\n"
          ]
        },
        {
          "output_type": "stream",
          "name": "stdout",
          "text": [
            "\n",
            "Trial train_cifar_37be9_00009 finished iteration 3 at 2024-06-08 23:54:27. Total running time: 8min 45s\n",
            "+------------------------------------------------------------+\n",
            "| Trial train_cifar_37be9_00009 result                       |\n",
            "+------------------------------------------------------------+\n",
            "| checkpoint_dir_name                      checkpoint_000002 |\n",
            "| time_this_iter_s                                   5.90828 |\n",
            "| time_total_s                                      20.47933 |\n",
            "| training_iteration                                       3 |\n",
            "| accuracy                                            0.1006 |\n",
            "| loss                                                   nan |\n",
            "+------------------------------------------------------------+\n",
            "Trial train_cifar_37be9_00009 saved a checkpoint for iteration 3 at: (local)/root/ray_results/train_cifar_2024-06-08_23-45-42/train_cifar_37be9_00009_9_batch_size=32,criterion=NLLLoss,epochs=10,l1=360,l2=168,learning_rate=0.0001,momentum=0.8105,optimizer=s_2024-06-08_23-45-42/checkpoint_000002\n",
            "\u001b[36m(func pid=85620)\u001b[0m Finished Training\n"
          ]
        },
        {
          "output_type": "stream",
          "name": "stderr",
          "text": [
            "\u001b[36m(func pid=85620)\u001b[0m Checkpoint successfully created at: Checkpoint(filesystem=local, path=/root/ray_results/train_cifar_2024-06-08_23-45-42/train_cifar_37be9_00009_9_batch_size=32,criterion=NLLLoss,epochs=10,l1=360,l2=168,learning_rate=0.0001,momentum=0.8105,optimizer=s_2024-06-08_23-45-42/checkpoint_000002)\n"
          ]
        },
        {
          "output_type": "stream",
          "name": "stdout",
          "text": [
            "\n",
            "Trial train_cifar_37be9_00009 finished iteration 4 at 2024-06-08 23:54:34. Total running time: 8min 51s\n",
            "+------------------------------------------------------------+\n",
            "| Trial train_cifar_37be9_00009 result                       |\n",
            "+------------------------------------------------------------+\n",
            "| checkpoint_dir_name                      checkpoint_000003 |\n",
            "| time_this_iter_s                                   6.18231 |\n",
            "| time_total_s                                      26.66164 |\n",
            "| training_iteration                                       4 |\n",
            "| accuracy                                            0.1006 |\n",
            "| loss                                                   nan |\n",
            "+------------------------------------------------------------+\n",
            "Trial train_cifar_37be9_00009 saved a checkpoint for iteration 4 at: (local)/root/ray_results/train_cifar_2024-06-08_23-45-42/train_cifar_37be9_00009_9_batch_size=32,criterion=NLLLoss,epochs=10,l1=360,l2=168,learning_rate=0.0001,momentum=0.8105,optimizer=s_2024-06-08_23-45-42/checkpoint_000003\n",
            "\u001b[36m(func pid=85620)\u001b[0m Finished Training\n"
          ]
        },
        {
          "output_type": "stream",
          "name": "stderr",
          "text": [
            "\u001b[36m(func pid=85620)\u001b[0m Checkpoint successfully created at: Checkpoint(filesystem=local, path=/root/ray_results/train_cifar_2024-06-08_23-45-42/train_cifar_37be9_00009_9_batch_size=32,criterion=NLLLoss,epochs=10,l1=360,l2=168,learning_rate=0.0001,momentum=0.8105,optimizer=s_2024-06-08_23-45-42/checkpoint_000003)\n"
          ]
        },
        {
          "output_type": "stream",
          "name": "stdout",
          "text": [
            "\n",
            "Trial train_cifar_37be9_00009 finished iteration 5 at 2024-06-08 23:54:40. Total running time: 8min 57s\n",
            "+------------------------------------------------------------+\n",
            "| Trial train_cifar_37be9_00009 result                       |\n",
            "+------------------------------------------------------------+\n",
            "| checkpoint_dir_name                      checkpoint_000004 |\n",
            "| time_this_iter_s                                   6.17673 |\n",
            "| time_total_s                                      32.83837 |\n",
            "| training_iteration                                       5 |\n",
            "| accuracy                                            0.1006 |\n",
            "| loss                                                   nan |\n",
            "+------------------------------------------------------------+\n",
            "Trial train_cifar_37be9_00009 saved a checkpoint for iteration 5 at: (local)/root/ray_results/train_cifar_2024-06-08_23-45-42/train_cifar_37be9_00009_9_batch_size=32,criterion=NLLLoss,epochs=10,l1=360,l2=168,learning_rate=0.0001,momentum=0.8105,optimizer=s_2024-06-08_23-45-42/checkpoint_000004\n",
            "\u001b[36m(func pid=85620)\u001b[0m Finished Training\n"
          ]
        },
        {
          "output_type": "stream",
          "name": "stderr",
          "text": [
            "\u001b[36m(func pid=85620)\u001b[0m Checkpoint successfully created at: Checkpoint(filesystem=local, path=/root/ray_results/train_cifar_2024-06-08_23-45-42/train_cifar_37be9_00009_9_batch_size=32,criterion=NLLLoss,epochs=10,l1=360,l2=168,learning_rate=0.0001,momentum=0.8105,optimizer=s_2024-06-08_23-45-42/checkpoint_000004)\n"
          ]
        },
        {
          "output_type": "stream",
          "name": "stdout",
          "text": [
            "\n",
            "Trial status: 9 TERMINATED | 1 RUNNING | 10 PENDING\n",
            "Current time: 2024-06-08 23:54:43. Total running time: 9min 1s\n",
            "Logical resource usage: 12.0/12 CPUs, 1.0/1 GPUs (0.0/1.0 accelerator_type:L4)\n",
            "+--------------------------------------------------------------------------------------------------------------------------------------------------------------------------------------------------------------------+\n",
            "| Trial name                status         learning_rate     batch_size     epochs   optimizer       momentum     weight_decay     l1     l2   criterion            iter     total time (s)        loss     accuracy |\n",
            "+--------------------------------------------------------------------------------------------------------------------------------------------------------------------------------------------------------------------+\n",
            "| train_cifar_37be9_00009   RUNNING          0.00011069              32         10   sgd             0.810543      0.00059152     360    168   NLLLoss                 5           32.8384    nan             0.1006 |\n",
            "| train_cifar_37be9_00000   TERMINATED       0.000127904             16         10   sgd             0.691209      0.00303265     360    252   CrossEntropyLoss       10          110.941       2.08142       0.2497 |\n",
            "| train_cifar_37be9_00001   TERMINATED       0.000686988            128          5   sgd             0.514858      0.00176203     360    168   CrossEntropyLoss        1            5.35428     2.30277       0.1098 |\n",
            "| train_cifar_37be9_00002   TERMINATED       0.0421174              128          5   sgd             0.504435      0.00482545     360    168   CrossEntropyLoss       10           32.8134      1.19385       0.5682 |\n",
            "| train_cifar_37be9_00003   TERMINATED       0.0205216               32         10   sgd             0.637362      0.000116181    120    168   NLLLoss                10           64.1461    nan             0.1025 |\n",
            "| train_cifar_37be9_00004   TERMINATED       0.00887431              16          5   sgd             0.765598      0.00426428     240     84   CrossEntropyLoss       10          108.634       1.07806       0.6253 |\n",
            "| train_cifar_37be9_00005   TERMINATED       0.0235392              128         20   adam            0.765034      0.000223755    240     84   CrossEntropyLoss        2            8.53064     1.88868       0.2784 |\n",
            "| train_cifar_37be9_00006   TERMINATED       0.0897215               32         20   adam            0.657465      0.00201386     360    168   CrossEntropyLoss        1            8.8345      2.3182        0.0976 |\n",
            "| train_cifar_37be9_00007   TERMINATED       0.000141282             16         20   sgd             0.625691      0.0014128      360     84   NLLLoss                10          108.651     nan             0.1023 |\n",
            "| train_cifar_37be9_00008   TERMINATED       0.0104716              128         10   adam            0.633325      0.000107179    120    252   CrossEntropyLoss        2            8.40516     1.55373       0.4256 |\n",
            "| train_cifar_37be9_00010   PENDING          0.0128713              128         20   adam            0.8133        0.000435187    240     84   NLLLoss                                                               |\n",
            "| train_cifar_37be9_00011   PENDING          0.000572411            128          5   sgd             0.57995       0.00627102     120    168   CrossEntropyLoss                                                      |\n",
            "| train_cifar_37be9_00012   PENDING          0.00259363             128          5   adam            0.87201       0.000580308    120     84   CrossEntropyLoss                                                      |\n",
            "| train_cifar_37be9_00013   PENDING          0.0610611               64         10   adam            0.573201      0.00816333     240     84   CrossEntropyLoss                                                      |\n",
            "| train_cifar_37be9_00014   PENDING          0.000215539             64         10   adam            0.66957       0.000294654    360    252   CrossEntropyLoss                                                      |\n",
            "| train_cifar_37be9_00015   PENDING          0.00370564              32         10   adam            0.618958      0.00091318     360    168   NLLLoss                                                               |\n",
            "| train_cifar_37be9_00016   PENDING          0.00468984              64         10   sgd             0.853646      0.000458833    120    168   CrossEntropyLoss                                                      |\n",
            "| train_cifar_37be9_00017   PENDING          0.0267104               32         20   adam            0.759795      0.000149732    240     84   CrossEntropyLoss                                                      |\n",
            "| train_cifar_37be9_00018   PENDING          0.0284903              128          5   sgd             0.752452      0.00079896     120    168   NLLLoss                                                               |\n",
            "| train_cifar_37be9_00019   PENDING          0.0354501              128          5   sgd             0.891213      0.000811317    240     84   CrossEntropyLoss                                                      |\n",
            "+--------------------------------------------------------------------------------------------------------------------------------------------------------------------------------------------------------------------+\n",
            "\n",
            "Trial train_cifar_37be9_00009 finished iteration 6 at 2024-06-08 23:54:46. Total running time: 9min 4s\n",
            "+------------------------------------------------------------+\n",
            "| Trial train_cifar_37be9_00009 result                       |\n",
            "+------------------------------------------------------------+\n",
            "| checkpoint_dir_name                      checkpoint_000005 |\n",
            "| time_this_iter_s                                   6.32029 |\n",
            "| time_total_s                                      39.15866 |\n",
            "| training_iteration                                       6 |\n",
            "| accuracy                                            0.1006 |\n",
            "| loss                                                   nan |\n",
            "+------------------------------------------------------------+\n",
            "Trial train_cifar_37be9_00009 saved a checkpoint for iteration 6 at: (local)/root/ray_results/train_cifar_2024-06-08_23-45-42/train_cifar_37be9_00009_9_batch_size=32,criterion=NLLLoss,epochs=10,l1=360,l2=168,learning_rate=0.0001,momentum=0.8105,optimizer=s_2024-06-08_23-45-42/checkpoint_000005\n",
            "\u001b[36m(func pid=85620)\u001b[0m Finished Training\n"
          ]
        },
        {
          "output_type": "stream",
          "name": "stderr",
          "text": [
            "\u001b[36m(func pid=85620)\u001b[0m Checkpoint successfully created at: Checkpoint(filesystem=local, path=/root/ray_results/train_cifar_2024-06-08_23-45-42/train_cifar_37be9_00009_9_batch_size=32,criterion=NLLLoss,epochs=10,l1=360,l2=168,learning_rate=0.0001,momentum=0.8105,optimizer=s_2024-06-08_23-45-42/checkpoint_000005)\n"
          ]
        },
        {
          "output_type": "stream",
          "name": "stdout",
          "text": [
            "\n",
            "Trial train_cifar_37be9_00009 finished iteration 7 at 2024-06-08 23:54:52. Total running time: 9min 10s\n",
            "+------------------------------------------------------------+\n",
            "| Trial train_cifar_37be9_00009 result                       |\n",
            "+------------------------------------------------------------+\n",
            "| checkpoint_dir_name                      checkpoint_000006 |\n",
            "| time_this_iter_s                                   6.16578 |\n",
            "| time_total_s                                      45.32444 |\n",
            "| training_iteration                                       7 |\n",
            "| accuracy                                            0.1006 |\n",
            "| loss                                                   nan |\n",
            "+------------------------------------------------------------+\n",
            "Trial train_cifar_37be9_00009 saved a checkpoint for iteration 7 at: (local)/root/ray_results/train_cifar_2024-06-08_23-45-42/train_cifar_37be9_00009_9_batch_size=32,criterion=NLLLoss,epochs=10,l1=360,l2=168,learning_rate=0.0001,momentum=0.8105,optimizer=s_2024-06-08_23-45-42/checkpoint_000006\n",
            "\u001b[36m(func pid=85620)\u001b[0m Finished Training\n"
          ]
        },
        {
          "output_type": "stream",
          "name": "stderr",
          "text": [
            "\u001b[36m(func pid=85620)\u001b[0m Checkpoint successfully created at: Checkpoint(filesystem=local, path=/root/ray_results/train_cifar_2024-06-08_23-45-42/train_cifar_37be9_00009_9_batch_size=32,criterion=NLLLoss,epochs=10,l1=360,l2=168,learning_rate=0.0001,momentum=0.8105,optimizer=s_2024-06-08_23-45-42/checkpoint_000006)\n"
          ]
        },
        {
          "output_type": "stream",
          "name": "stdout",
          "text": [
            "\n",
            "Trial train_cifar_37be9_00009 finished iteration 8 at 2024-06-08 23:54:59. Total running time: 9min 16s\n",
            "+------------------------------------------------------------+\n",
            "| Trial train_cifar_37be9_00009 result                       |\n",
            "+------------------------------------------------------------+\n",
            "| checkpoint_dir_name                      checkpoint_000007 |\n",
            "| time_this_iter_s                                    6.1837 |\n",
            "| time_total_s                                      51.50814 |\n",
            "| training_iteration                                       8 |\n",
            "| accuracy                                            0.1006 |\n",
            "| loss                                                   nan |\n",
            "+------------------------------------------------------------+\n",
            "Trial train_cifar_37be9_00009 saved a checkpoint for iteration 8 at: (local)/root/ray_results/train_cifar_2024-06-08_23-45-42/train_cifar_37be9_00009_9_batch_size=32,criterion=NLLLoss,epochs=10,l1=360,l2=168,learning_rate=0.0001,momentum=0.8105,optimizer=s_2024-06-08_23-45-42/checkpoint_000007\n",
            "\u001b[36m(func pid=85620)\u001b[0m Finished Training\n"
          ]
        },
        {
          "output_type": "stream",
          "name": "stderr",
          "text": [
            "\u001b[36m(func pid=85620)\u001b[0m Checkpoint successfully created at: Checkpoint(filesystem=local, path=/root/ray_results/train_cifar_2024-06-08_23-45-42/train_cifar_37be9_00009_9_batch_size=32,criterion=NLLLoss,epochs=10,l1=360,l2=168,learning_rate=0.0001,momentum=0.8105,optimizer=s_2024-06-08_23-45-42/checkpoint_000007)\n"
          ]
        },
        {
          "output_type": "stream",
          "name": "stdout",
          "text": [
            "\n",
            "Trial train_cifar_37be9_00009 finished iteration 9 at 2024-06-08 23:55:05. Total running time: 9min 22s\n",
            "+------------------------------------------------------------+\n",
            "| Trial train_cifar_37be9_00009 result                       |\n",
            "+------------------------------------------------------------+\n",
            "| checkpoint_dir_name                      checkpoint_000008 |\n",
            "| time_this_iter_s                                   6.11328 |\n",
            "| time_total_s                                      57.62142 |\n",
            "| training_iteration                                       9 |\n",
            "| accuracy                                            0.1006 |\n",
            "| loss                                                   nan |\n",
            "+------------------------------------------------------------+\n",
            "Trial train_cifar_37be9_00009 saved a checkpoint for iteration 9 at: (local)/root/ray_results/train_cifar_2024-06-08_23-45-42/train_cifar_37be9_00009_9_batch_size=32,criterion=NLLLoss,epochs=10,l1=360,l2=168,learning_rate=0.0001,momentum=0.8105,optimizer=s_2024-06-08_23-45-42/checkpoint_000008\n",
            "\u001b[36m(func pid=85620)\u001b[0m Finished Training\n"
          ]
        },
        {
          "output_type": "stream",
          "name": "stderr",
          "text": [
            "\u001b[36m(func pid=85620)\u001b[0m Checkpoint successfully created at: Checkpoint(filesystem=local, path=/root/ray_results/train_cifar_2024-06-08_23-45-42/train_cifar_37be9_00009_9_batch_size=32,criterion=NLLLoss,epochs=10,l1=360,l2=168,learning_rate=0.0001,momentum=0.8105,optimizer=s_2024-06-08_23-45-42/checkpoint_000008)\n"
          ]
        },
        {
          "output_type": "stream",
          "name": "stdout",
          "text": [
            "\n",
            "Trial train_cifar_37be9_00009 finished iteration 10 at 2024-06-08 23:55:11. Total running time: 9min 28s\n",
            "+------------------------------------------------------------+\n",
            "| Trial train_cifar_37be9_00009 result                       |\n",
            "+------------------------------------------------------------+\n",
            "| checkpoint_dir_name                      checkpoint_000009 |\n",
            "| time_this_iter_s                                   5.98856 |\n",
            "| time_total_s                                      63.60997 |\n",
            "| training_iteration                                      10 |\n",
            "| accuracy                                            0.1006 |\n",
            "| loss                                                   nan |\n",
            "+------------------------------------------------------------+\n",
            "Trial train_cifar_37be9_00009 saved a checkpoint for iteration 10 at: (local)/root/ray_results/train_cifar_2024-06-08_23-45-42/train_cifar_37be9_00009_9_batch_size=32,criterion=NLLLoss,epochs=10,l1=360,l2=168,learning_rate=0.0001,momentum=0.8105,optimizer=s_2024-06-08_23-45-42/checkpoint_000009\n",
            "\n",
            "Trial train_cifar_37be9_00009 completed after 10 iterations at 2024-06-08 23:55:11. Total running time: 9min 28s\n"
          ]
        },
        {
          "output_type": "stream",
          "name": "stderr",
          "text": [
            "\u001b[36m(func pid=85620)\u001b[0m Checkpoint successfully created at: Checkpoint(filesystem=local, path=/root/ray_results/train_cifar_2024-06-08_23-45-42/train_cifar_37be9_00009_9_batch_size=32,criterion=NLLLoss,epochs=10,l1=360,l2=168,learning_rate=0.0001,momentum=0.8105,optimizer=s_2024-06-08_23-45-42/checkpoint_000009)\n"
          ]
        },
        {
          "output_type": "stream",
          "name": "stdout",
          "text": [
            "\n",
            "Trial status: 10 TERMINATED | 10 PENDING\n",
            "Current time: 2024-06-08 23:55:13. Total running time: 9min 31s\n",
            "Logical resource usage: 12.0/12 CPUs, 1.0/1 GPUs (0.0/1.0 accelerator_type:L4)\n",
            "+--------------------------------------------------------------------------------------------------------------------------------------------------------------------------------------------------------------------+\n",
            "| Trial name                status         learning_rate     batch_size     epochs   optimizer       momentum     weight_decay     l1     l2   criterion            iter     total time (s)        loss     accuracy |\n",
            "+--------------------------------------------------------------------------------------------------------------------------------------------------------------------------------------------------------------------+\n",
            "| train_cifar_37be9_00000   TERMINATED       0.000127904             16         10   sgd             0.691209      0.00303265     360    252   CrossEntropyLoss       10          110.941       2.08142       0.2497 |\n",
            "| train_cifar_37be9_00001   TERMINATED       0.000686988            128          5   sgd             0.514858      0.00176203     360    168   CrossEntropyLoss        1            5.35428     2.30277       0.1098 |\n",
            "| train_cifar_37be9_00002   TERMINATED       0.0421174              128          5   sgd             0.504435      0.00482545     360    168   CrossEntropyLoss       10           32.8134      1.19385       0.5682 |\n",
            "| train_cifar_37be9_00003   TERMINATED       0.0205216               32         10   sgd             0.637362      0.000116181    120    168   NLLLoss                10           64.1461    nan             0.1025 |\n",
            "| train_cifar_37be9_00004   TERMINATED       0.00887431              16          5   sgd             0.765598      0.00426428     240     84   CrossEntropyLoss       10          108.634       1.07806       0.6253 |\n",
            "| train_cifar_37be9_00005   TERMINATED       0.0235392              128         20   adam            0.765034      0.000223755    240     84   CrossEntropyLoss        2            8.53064     1.88868       0.2784 |\n",
            "| train_cifar_37be9_00006   TERMINATED       0.0897215               32         20   adam            0.657465      0.00201386     360    168   CrossEntropyLoss        1            8.8345      2.3182        0.0976 |\n",
            "| train_cifar_37be9_00007   TERMINATED       0.000141282             16         20   sgd             0.625691      0.0014128      360     84   NLLLoss                10          108.651     nan             0.1023 |\n",
            "| train_cifar_37be9_00008   TERMINATED       0.0104716              128         10   adam            0.633325      0.000107179    120    252   CrossEntropyLoss        2            8.40516     1.55373       0.4256 |\n",
            "| train_cifar_37be9_00009   TERMINATED       0.00011069              32         10   sgd             0.810543      0.00059152     360    168   NLLLoss                10           63.61      nan             0.1006 |\n",
            "| train_cifar_37be9_00010   PENDING          0.0128713              128         20   adam            0.8133        0.000435187    240     84   NLLLoss                                                               |\n",
            "| train_cifar_37be9_00011   PENDING          0.000572411            128          5   sgd             0.57995       0.00627102     120    168   CrossEntropyLoss                                                      |\n",
            "| train_cifar_37be9_00012   PENDING          0.00259363             128          5   adam            0.87201       0.000580308    120     84   CrossEntropyLoss                                                      |\n",
            "| train_cifar_37be9_00013   PENDING          0.0610611               64         10   adam            0.573201      0.00816333     240     84   CrossEntropyLoss                                                      |\n",
            "| train_cifar_37be9_00014   PENDING          0.000215539             64         10   adam            0.66957       0.000294654    360    252   CrossEntropyLoss                                                      |\n",
            "| train_cifar_37be9_00015   PENDING          0.00370564              32         10   adam            0.618958      0.00091318     360    168   NLLLoss                                                               |\n",
            "| train_cifar_37be9_00016   PENDING          0.00468984              64         10   sgd             0.853646      0.000458833    120    168   CrossEntropyLoss                                                      |\n",
            "| train_cifar_37be9_00017   PENDING          0.0267104               32         20   adam            0.759795      0.000149732    240     84   CrossEntropyLoss                                                      |\n",
            "| train_cifar_37be9_00018   PENDING          0.0284903              128          5   sgd             0.752452      0.00079896     120    168   NLLLoss                                                               |\n",
            "| train_cifar_37be9_00019   PENDING          0.0354501              128          5   sgd             0.891213      0.000811317    240     84   CrossEntropyLoss                                                      |\n",
            "+--------------------------------------------------------------------------------------------------------------------------------------------------------------------------------------------------------------------+\n",
            "\n",
            "Trial train_cifar_37be9_00010 started with configuration:\n",
            "+--------------------------------------------------+\n",
            "| Trial train_cifar_37be9_00010 config             |\n",
            "+--------------------------------------------------+\n",
            "| batch_size                                   128 |\n",
            "| criterion                                NLLLoss |\n",
            "| epochs                                        20 |\n",
            "| l1                                           240 |\n",
            "| l2                                            84 |\n",
            "| learning_rate                            0.01287 |\n",
            "| momentum                                  0.8133 |\n",
            "| optimizer                                   adam |\n",
            "| weight_decay                             0.00044 |\n",
            "+--------------------------------------------------+\n",
            "\u001b[36m(func pid=88441)\u001b[0m Files already downloaded and verified\n",
            "\u001b[36m(func pid=88441)\u001b[0m Files already downloaded and verified\n"
          ]
        },
        {
          "output_type": "stream",
          "name": "stderr",
          "text": [
            "\u001b[36m(func pid=88441)\u001b[0m /usr/local/lib/python3.10/dist-packages/torch/nn/modules/conv.py:456: UserWarning: Plan failed with a cudnnException: CUDNN_BACKEND_EXECUTION_PLAN_DESCRIPTOR: cudnnFinalize Descriptor Failed cudnn_status: CUDNN_STATUS_NOT_SUPPORTED (Triggered internally at ../aten/src/ATen/native/cudnn/Conv_v8.cpp:919.)\n",
            "\u001b[36m(func pid=88441)\u001b[0m   return F.conv2d(input, weight, bias, self.stride,\n"
          ]
        },
        {
          "output_type": "stream",
          "name": "stdout",
          "text": [
            "\n",
            "Trial train_cifar_37be9_00010 finished iteration 1 at 2024-06-08 23:55:21. Total running time: 9min 39s\n",
            "+---------------------------------------------------------------+\n",
            "| Trial train_cifar_37be9_00010 result                          |\n",
            "+---------------------------------------------------------------+\n",
            "| checkpoint_dir_name                         checkpoint_000000 |\n",
            "| time_this_iter_s                                      5.29557 |\n",
            "| time_total_s                                          5.29557 |\n",
            "| training_iteration                                          1 |\n",
            "| accuracy                                               0.0984 |\n",
            "| loss                                     -496101234384170.125 |\n",
            "+---------------------------------------------------------------+\n",
            "Trial train_cifar_37be9_00010 saved a checkpoint for iteration 1 at: (local)/root/ray_results/train_cifar_2024-06-08_23-45-42/train_cifar_37be9_00010_10_batch_size=128,criterion=NLLLoss,epochs=20,l1=240,l2=84,learning_rate=0.0129,momentum=0.8133,optimizer=_2024-06-08_23-45-42/checkpoint_000000\n",
            "\u001b[36m(func pid=88441)\u001b[0m Finished Training\n"
          ]
        },
        {
          "output_type": "stream",
          "name": "stderr",
          "text": [
            "\u001b[36m(func pid=88441)\u001b[0m Checkpoint successfully created at: Checkpoint(filesystem=local, path=/root/ray_results/train_cifar_2024-06-08_23-45-42/train_cifar_37be9_00010_10_batch_size=128,criterion=NLLLoss,epochs=20,l1=240,l2=84,learning_rate=0.0129,momentum=0.8133,optimizer=_2024-06-08_23-45-42/checkpoint_000000)\n"
          ]
        },
        {
          "output_type": "stream",
          "name": "stdout",
          "text": [
            "\n",
            "Trial train_cifar_37be9_00010 finished iteration 2 at 2024-06-08 23:55:24. Total running time: 9min 42s\n",
            "+--------------------------------------------------------------+\n",
            "| Trial train_cifar_37be9_00010 result                         |\n",
            "+--------------------------------------------------------------+\n",
            "| checkpoint_dir_name                        checkpoint_000001 |\n",
            "| time_this_iter_s                                     3.16734 |\n",
            "| time_total_s                                         8.46291 |\n",
            "| training_iteration                                         2 |\n",
            "| accuracy                                               0.102 |\n",
            "| loss                                     -29020258783849616. |\n",
            "+--------------------------------------------------------------+\n",
            "Trial train_cifar_37be9_00010 saved a checkpoint for iteration 2 at: (local)/root/ray_results/train_cifar_2024-06-08_23-45-42/train_cifar_37be9_00010_10_batch_size=128,criterion=NLLLoss,epochs=20,l1=240,l2=84,learning_rate=0.0129,momentum=0.8133,optimizer=_2024-06-08_23-45-42/checkpoint_000001\n",
            "\u001b[36m(func pid=88441)\u001b[0m Finished Training\n"
          ]
        },
        {
          "output_type": "stream",
          "name": "stderr",
          "text": [
            "\u001b[36m(func pid=88441)\u001b[0m Checkpoint successfully created at: Checkpoint(filesystem=local, path=/root/ray_results/train_cifar_2024-06-08_23-45-42/train_cifar_37be9_00010_10_batch_size=128,criterion=NLLLoss,epochs=20,l1=240,l2=84,learning_rate=0.0129,momentum=0.8133,optimizer=_2024-06-08_23-45-42/checkpoint_000001)\n"
          ]
        },
        {
          "output_type": "stream",
          "name": "stdout",
          "text": [
            "\n",
            "Trial train_cifar_37be9_00010 finished iteration 3 at 2024-06-08 23:55:28. Total running time: 9min 45s\n",
            "+---------------------------------------------------------------+\n",
            "| Trial train_cifar_37be9_00010 result                          |\n",
            "+---------------------------------------------------------------+\n",
            "| checkpoint_dir_name                         checkpoint_000002 |\n",
            "| time_this_iter_s                                      3.08564 |\n",
            "| time_total_s                                         11.54856 |\n",
            "| training_iteration                                          3 |\n",
            "| accuracy                                                0.102 |\n",
            "| loss                                     -254138952763160768. |\n",
            "+---------------------------------------------------------------+\n",
            "Trial train_cifar_37be9_00010 saved a checkpoint for iteration 3 at: (local)/root/ray_results/train_cifar_2024-06-08_23-45-42/train_cifar_37be9_00010_10_batch_size=128,criterion=NLLLoss,epochs=20,l1=240,l2=84,learning_rate=0.0129,momentum=0.8133,optimizer=_2024-06-08_23-45-42/checkpoint_000002\n",
            "\u001b[36m(func pid=88441)\u001b[0m Finished Training\n"
          ]
        },
        {
          "output_type": "stream",
          "name": "stderr",
          "text": [
            "\u001b[36m(func pid=88441)\u001b[0m Checkpoint successfully created at: Checkpoint(filesystem=local, path=/root/ray_results/train_cifar_2024-06-08_23-45-42/train_cifar_37be9_00010_10_batch_size=128,criterion=NLLLoss,epochs=20,l1=240,l2=84,learning_rate=0.0129,momentum=0.8133,optimizer=_2024-06-08_23-45-42/checkpoint_000002)\n"
          ]
        },
        {
          "output_type": "stream",
          "name": "stdout",
          "text": [
            "\n",
            "Trial train_cifar_37be9_00010 finished iteration 4 at 2024-06-08 23:55:31. Total running time: 9min 48s\n",
            "+----------------------------------------------------------------+\n",
            "| Trial train_cifar_37be9_00010 result                           |\n",
            "+----------------------------------------------------------------+\n",
            "| checkpoint_dir_name                          checkpoint_000003 |\n",
            "| time_this_iter_s                                       3.25745 |\n",
            "| time_total_s                                          14.80601 |\n",
            "| training_iteration                                           4 |\n",
            "| accuracy                                                 0.102 |\n",
            "| loss                                     -1092013456038373888. |\n",
            "+----------------------------------------------------------------+\n",
            "Trial train_cifar_37be9_00010 saved a checkpoint for iteration 4 at: (local)/root/ray_results/train_cifar_2024-06-08_23-45-42/train_cifar_37be9_00010_10_batch_size=128,criterion=NLLLoss,epochs=20,l1=240,l2=84,learning_rate=0.0129,momentum=0.8133,optimizer=_2024-06-08_23-45-42/checkpoint_000003\n",
            "\u001b[36m(func pid=88441)\u001b[0m Finished Training\n"
          ]
        },
        {
          "output_type": "stream",
          "name": "stderr",
          "text": [
            "\u001b[36m(func pid=88441)\u001b[0m Checkpoint successfully created at: Checkpoint(filesystem=local, path=/root/ray_results/train_cifar_2024-06-08_23-45-42/train_cifar_37be9_00010_10_batch_size=128,criterion=NLLLoss,epochs=20,l1=240,l2=84,learning_rate=0.0129,momentum=0.8133,optimizer=_2024-06-08_23-45-42/checkpoint_000003)\n"
          ]
        },
        {
          "output_type": "stream",
          "name": "stdout",
          "text": [
            "\n",
            "Trial train_cifar_37be9_00010 finished iteration 5 at 2024-06-08 23:55:34. Total running time: 9min 52s\n",
            "+----------------------------------------------------------------+\n",
            "| Trial train_cifar_37be9_00010 result                           |\n",
            "+----------------------------------------------------------------+\n",
            "| checkpoint_dir_name                          checkpoint_000004 |\n",
            "| time_this_iter_s                                       3.26874 |\n",
            "| time_total_s                                          18.07475 |\n",
            "| training_iteration                                           5 |\n",
            "| accuracy                                                0.0984 |\n",
            "| loss                                     -3222469437187075584. |\n",
            "+----------------------------------------------------------------+\n",
            "Trial train_cifar_37be9_00010 saved a checkpoint for iteration 5 at: (local)/root/ray_results/train_cifar_2024-06-08_23-45-42/train_cifar_37be9_00010_10_batch_size=128,criterion=NLLLoss,epochs=20,l1=240,l2=84,learning_rate=0.0129,momentum=0.8133,optimizer=_2024-06-08_23-45-42/checkpoint_000004\n",
            "\u001b[36m(func pid=88441)\u001b[0m Finished Training\n"
          ]
        },
        {
          "output_type": "stream",
          "name": "stderr",
          "text": [
            "\u001b[36m(func pid=88441)\u001b[0m Checkpoint successfully created at: Checkpoint(filesystem=local, path=/root/ray_results/train_cifar_2024-06-08_23-45-42/train_cifar_37be9_00010_10_batch_size=128,criterion=NLLLoss,epochs=20,l1=240,l2=84,learning_rate=0.0129,momentum=0.8133,optimizer=_2024-06-08_23-45-42/checkpoint_000004)\n"
          ]
        },
        {
          "output_type": "stream",
          "name": "stdout",
          "text": [
            "\n",
            "Trial train_cifar_37be9_00010 finished iteration 6 at 2024-06-08 23:55:37. Total running time: 9min 55s\n",
            "+----------------------------------------------------------------+\n",
            "| Trial train_cifar_37be9_00010 result                           |\n",
            "+----------------------------------------------------------------+\n",
            "| checkpoint_dir_name                          checkpoint_000005 |\n",
            "| time_this_iter_s                                       3.21625 |\n",
            "| time_total_s                                            21.291 |\n",
            "| training_iteration                                           6 |\n",
            "| accuracy                                                 0.102 |\n",
            "| loss                                     -7618713298977337344. |\n",
            "+----------------------------------------------------------------+\n",
            "Trial train_cifar_37be9_00010 saved a checkpoint for iteration 6 at: (local)/root/ray_results/train_cifar_2024-06-08_23-45-42/train_cifar_37be9_00010_10_batch_size=128,criterion=NLLLoss,epochs=20,l1=240,l2=84,learning_rate=0.0129,momentum=0.8133,optimizer=_2024-06-08_23-45-42/checkpoint_000005\n",
            "\u001b[36m(func pid=88441)\u001b[0m Finished Training\n"
          ]
        },
        {
          "output_type": "stream",
          "name": "stderr",
          "text": [
            "\u001b[36m(func pid=88441)\u001b[0m Checkpoint successfully created at: Checkpoint(filesystem=local, path=/root/ray_results/train_cifar_2024-06-08_23-45-42/train_cifar_37be9_00010_10_batch_size=128,criterion=NLLLoss,epochs=20,l1=240,l2=84,learning_rate=0.0129,momentum=0.8133,optimizer=_2024-06-08_23-45-42/checkpoint_000005)\n"
          ]
        },
        {
          "output_type": "stream",
          "name": "stdout",
          "text": [
            "\n",
            "Trial train_cifar_37be9_00010 finished iteration 7 at 2024-06-08 23:55:40. Total running time: 9min 58s\n",
            "+-----------------------------------------------------------------+\n",
            "| Trial train_cifar_37be9_00010 result                            |\n",
            "+-----------------------------------------------------------------+\n",
            "| checkpoint_dir_name                           checkpoint_000006 |\n",
            "| time_this_iter_s                                        3.13384 |\n",
            "| time_total_s                                           24.42483 |\n",
            "| training_iteration                                            7 |\n",
            "| accuracy                                                 0.1016 |\n",
            "| loss                                     -15421366653903325184. |\n",
            "+-----------------------------------------------------------------+\n",
            "Trial train_cifar_37be9_00010 saved a checkpoint for iteration 7 at: (local)/root/ray_results/train_cifar_2024-06-08_23-45-42/train_cifar_37be9_00010_10_batch_size=128,criterion=NLLLoss,epochs=20,l1=240,l2=84,learning_rate=0.0129,momentum=0.8133,optimizer=_2024-06-08_23-45-42/checkpoint_000006\n",
            "\u001b[36m(func pid=88441)\u001b[0m Finished Training\n"
          ]
        },
        {
          "output_type": "stream",
          "name": "stderr",
          "text": [
            "\u001b[36m(func pid=88441)\u001b[0m Checkpoint successfully created at: Checkpoint(filesystem=local, path=/root/ray_results/train_cifar_2024-06-08_23-45-42/train_cifar_37be9_00010_10_batch_size=128,criterion=NLLLoss,epochs=20,l1=240,l2=84,learning_rate=0.0129,momentum=0.8133,optimizer=_2024-06-08_23-45-42/checkpoint_000006)\n"
          ]
        },
        {
          "output_type": "stream",
          "name": "stdout",
          "text": [
            "\n",
            "Trial status: 10 TERMINATED | 1 RUNNING | 9 PENDING\n",
            "Current time: 2024-06-08 23:55:43. Total running time: 10min 1s\n",
            "Logical resource usage: 12.0/12 CPUs, 1.0/1 GPUs (0.0/1.0 accelerator_type:L4)\n",
            "+------------------------------------------------------------------------------------------------------------------------------------------------------------------------------------------------------------------------+\n",
            "| Trial name                status         learning_rate     batch_size     epochs   optimizer       momentum     weight_decay     l1     l2   criterion            iter     total time (s)            loss     accuracy |\n",
            "+------------------------------------------------------------------------------------------------------------------------------------------------------------------------------------------------------------------------+\n",
            "| train_cifar_37be9_00010   RUNNING          0.0128713              128         20   adam            0.8133        0.000435187    240     84   NLLLoss                 7           24.4248     -1.54214e+19       0.1016 |\n",
            "| train_cifar_37be9_00000   TERMINATED       0.000127904             16         10   sgd             0.691209      0.00303265     360    252   CrossEntropyLoss       10          110.941       2.08142           0.2497 |\n",
            "| train_cifar_37be9_00001   TERMINATED       0.000686988            128          5   sgd             0.514858      0.00176203     360    168   CrossEntropyLoss        1            5.35428     2.30277           0.1098 |\n",
            "| train_cifar_37be9_00002   TERMINATED       0.0421174              128          5   sgd             0.504435      0.00482545     360    168   CrossEntropyLoss       10           32.8134      1.19385           0.5682 |\n",
            "| train_cifar_37be9_00003   TERMINATED       0.0205216               32         10   sgd             0.637362      0.000116181    120    168   NLLLoss                10           64.1461    nan                 0.1025 |\n",
            "| train_cifar_37be9_00004   TERMINATED       0.00887431              16          5   sgd             0.765598      0.00426428     240     84   CrossEntropyLoss       10          108.634       1.07806           0.6253 |\n",
            "| train_cifar_37be9_00005   TERMINATED       0.0235392              128         20   adam            0.765034      0.000223755    240     84   CrossEntropyLoss        2            8.53064     1.88868           0.2784 |\n",
            "| train_cifar_37be9_00006   TERMINATED       0.0897215               32         20   adam            0.657465      0.00201386     360    168   CrossEntropyLoss        1            8.8345      2.3182            0.0976 |\n",
            "| train_cifar_37be9_00007   TERMINATED       0.000141282             16         20   sgd             0.625691      0.0014128      360     84   NLLLoss                10          108.651     nan                 0.1023 |\n",
            "| train_cifar_37be9_00008   TERMINATED       0.0104716              128         10   adam            0.633325      0.000107179    120    252   CrossEntropyLoss        2            8.40516     1.55373           0.4256 |\n",
            "| train_cifar_37be9_00009   TERMINATED       0.00011069              32         10   sgd             0.810543      0.00059152     360    168   NLLLoss                10           63.61      nan                 0.1006 |\n",
            "| train_cifar_37be9_00011   PENDING          0.000572411            128          5   sgd             0.57995       0.00627102     120    168   CrossEntropyLoss                                                          |\n",
            "| train_cifar_37be9_00012   PENDING          0.00259363             128          5   adam            0.87201       0.000580308    120     84   CrossEntropyLoss                                                          |\n",
            "| train_cifar_37be9_00013   PENDING          0.0610611               64         10   adam            0.573201      0.00816333     240     84   CrossEntropyLoss                                                          |\n",
            "| train_cifar_37be9_00014   PENDING          0.000215539             64         10   adam            0.66957       0.000294654    360    252   CrossEntropyLoss                                                          |\n",
            "| train_cifar_37be9_00015   PENDING          0.00370564              32         10   adam            0.618958      0.00091318     360    168   NLLLoss                                                                   |\n",
            "| train_cifar_37be9_00016   PENDING          0.00468984              64         10   sgd             0.853646      0.000458833    120    168   CrossEntropyLoss                                                          |\n",
            "| train_cifar_37be9_00017   PENDING          0.0267104               32         20   adam            0.759795      0.000149732    240     84   CrossEntropyLoss                                                          |\n",
            "| train_cifar_37be9_00018   PENDING          0.0284903              128          5   sgd             0.752452      0.00079896     120    168   NLLLoss                                                                   |\n",
            "| train_cifar_37be9_00019   PENDING          0.0354501              128          5   sgd             0.891213      0.000811317    240     84   CrossEntropyLoss                                                          |\n",
            "+------------------------------------------------------------------------------------------------------------------------------------------------------------------------------------------------------------------------+\n",
            "\n",
            "Trial train_cifar_37be9_00010 finished iteration 8 at 2024-06-08 23:55:44. Total running time: 10min 1s\n",
            "+-----------------------------------------------------------------+\n",
            "| Trial train_cifar_37be9_00010 result                            |\n",
            "+-----------------------------------------------------------------+\n",
            "| checkpoint_dir_name                           checkpoint_000007 |\n",
            "| time_this_iter_s                                        3.16251 |\n",
            "| time_total_s                                           27.58735 |\n",
            "| training_iteration                                            8 |\n",
            "| accuracy                                                  0.102 |\n",
            "| loss                                     -28035591548778078208. |\n",
            "+-----------------------------------------------------------------+\n",
            "Trial train_cifar_37be9_00010 saved a checkpoint for iteration 8 at: (local)/root/ray_results/train_cifar_2024-06-08_23-45-42/train_cifar_37be9_00010_10_batch_size=128,criterion=NLLLoss,epochs=20,l1=240,l2=84,learning_rate=0.0129,momentum=0.8133,optimizer=_2024-06-08_23-45-42/checkpoint_000007\n",
            "\u001b[36m(func pid=88441)\u001b[0m Finished Training\n"
          ]
        },
        {
          "output_type": "stream",
          "name": "stderr",
          "text": [
            "\u001b[36m(func pid=88441)\u001b[0m Checkpoint successfully created at: Checkpoint(filesystem=local, path=/root/ray_results/train_cifar_2024-06-08_23-45-42/train_cifar_37be9_00010_10_batch_size=128,criterion=NLLLoss,epochs=20,l1=240,l2=84,learning_rate=0.0129,momentum=0.8133,optimizer=_2024-06-08_23-45-42/checkpoint_000007)\n"
          ]
        },
        {
          "output_type": "stream",
          "name": "stdout",
          "text": [
            "\n",
            "Trial train_cifar_37be9_00010 finished iteration 9 at 2024-06-08 23:55:47. Total running time: 10min 4s\n",
            "+-----------------------------------------------------------------+\n",
            "| Trial train_cifar_37be9_00010 result                            |\n",
            "+-----------------------------------------------------------------+\n",
            "| checkpoint_dir_name                           checkpoint_000008 |\n",
            "| time_this_iter_s                                        3.10322 |\n",
            "| time_total_s                                           30.69057 |\n",
            "| training_iteration                                            9 |\n",
            "| accuracy                                                 0.1016 |\n",
            "| loss                                     -46879180210949038080. |\n",
            "+-----------------------------------------------------------------+\n",
            "Trial train_cifar_37be9_00010 saved a checkpoint for iteration 9 at: (local)/root/ray_results/train_cifar_2024-06-08_23-45-42/train_cifar_37be9_00010_10_batch_size=128,criterion=NLLLoss,epochs=20,l1=240,l2=84,learning_rate=0.0129,momentum=0.8133,optimizer=_2024-06-08_23-45-42/checkpoint_000008\n",
            "\u001b[36m(func pid=88441)\u001b[0m Finished Training\n"
          ]
        },
        {
          "output_type": "stream",
          "name": "stderr",
          "text": [
            "\u001b[36m(func pid=88441)\u001b[0m Checkpoint successfully created at: Checkpoint(filesystem=local, path=/root/ray_results/train_cifar_2024-06-08_23-45-42/train_cifar_37be9_00010_10_batch_size=128,criterion=NLLLoss,epochs=20,l1=240,l2=84,learning_rate=0.0129,momentum=0.8133,optimizer=_2024-06-08_23-45-42/checkpoint_000008)\n"
          ]
        },
        {
          "output_type": "stream",
          "name": "stdout",
          "text": [
            "\n",
            "Trial train_cifar_37be9_00010 finished iteration 10 at 2024-06-08 23:55:50. Total running time: 10min 7s\n",
            "+-----------------------------------------------------------------+\n",
            "| Trial train_cifar_37be9_00010 result                            |\n",
            "+-----------------------------------------------------------------+\n",
            "| checkpoint_dir_name                           checkpoint_000009 |\n",
            "| time_this_iter_s                                        3.11186 |\n",
            "| time_total_s                                           33.80243 |\n",
            "| training_iteration                                           10 |\n",
            "| accuracy                                                 0.1016 |\n",
            "| loss                                     -73607201578635894784. |\n",
            "+-----------------------------------------------------------------+\n",
            "Trial train_cifar_37be9_00010 saved a checkpoint for iteration 10 at: (local)/root/ray_results/train_cifar_2024-06-08_23-45-42/train_cifar_37be9_00010_10_batch_size=128,criterion=NLLLoss,epochs=20,l1=240,l2=84,learning_rate=0.0129,momentum=0.8133,optimizer=_2024-06-08_23-45-42/checkpoint_000009\n",
            "\n",
            "Trial train_cifar_37be9_00010 completed after 10 iterations at 2024-06-08 23:55:50. Total running time: 10min 7s\n"
          ]
        },
        {
          "output_type": "stream",
          "name": "stderr",
          "text": [
            "\u001b[36m(func pid=88441)\u001b[0m Checkpoint successfully created at: Checkpoint(filesystem=local, path=/root/ray_results/train_cifar_2024-06-08_23-45-42/train_cifar_37be9_00010_10_batch_size=128,criterion=NLLLoss,epochs=20,l1=240,l2=84,learning_rate=0.0129,momentum=0.8133,optimizer=_2024-06-08_23-45-42/checkpoint_000009)\n"
          ]
        },
        {
          "output_type": "stream",
          "name": "stdout",
          "text": [
            "\n",
            "Trial train_cifar_37be9_00011 started with configuration:\n",
            "+-----------------------------------------------------------+\n",
            "| Trial train_cifar_37be9_00011 config                      |\n",
            "+-----------------------------------------------------------+\n",
            "| batch_size                                            128 |\n",
            "| criterion                                CrossEntropyLoss |\n",
            "| epochs                                                  5 |\n",
            "| l1                                                    120 |\n",
            "| l2                                                    168 |\n",
            "| learning_rate                                     0.00057 |\n",
            "| momentum                                          0.57995 |\n",
            "| optimizer                                             sgd |\n",
            "| weight_decay                                      0.00627 |\n",
            "+-----------------------------------------------------------+\n",
            "\u001b[36m(func pid=91133)\u001b[0m Files already downloaded and verified\n",
            "\u001b[36m(func pid=91133)\u001b[0m Files already downloaded and verified\n"
          ]
        },
        {
          "output_type": "stream",
          "name": "stderr",
          "text": [
            "\u001b[36m(func pid=91133)\u001b[0m /usr/local/lib/python3.10/dist-packages/torch/nn/modules/conv.py:456: UserWarning: Plan failed with a cudnnException: CUDNN_BACKEND_EXECUTION_PLAN_DESCRIPTOR: cudnnFinalize Descriptor Failed cudnn_status: CUDNN_STATUS_NOT_SUPPORTED (Triggered internally at ../aten/src/ATen/native/cudnn/Conv_v8.cpp:919.)\n",
            "\u001b[36m(func pid=91133)\u001b[0m   return F.conv2d(input, weight, bias, self.stride,\n"
          ]
        },
        {
          "output_type": "stream",
          "name": "stdout",
          "text": [
            "\n",
            "Trial train_cifar_37be9_00011 finished iteration 1 at 2024-06-08 23:56:00. Total running time: 10min 18s\n",
            "+------------------------------------------------------------+\n",
            "| Trial train_cifar_37be9_00011 result                       |\n",
            "+------------------------------------------------------------+\n",
            "| checkpoint_dir_name                      checkpoint_000000 |\n",
            "| time_this_iter_s                                    5.3228 |\n",
            "| time_total_s                                        5.3228 |\n",
            "| training_iteration                                       1 |\n",
            "| accuracy                                             0.111 |\n",
            "| loss                                               2.30194 |\n",
            "+------------------------------------------------------------+\n",
            "Trial train_cifar_37be9_00011 saved a checkpoint for iteration 1 at: (local)/root/ray_results/train_cifar_2024-06-08_23-45-42/train_cifar_37be9_00011_11_batch_size=128,criterion=CrossEntropyLoss,epochs=5,l1=120,l2=168,learning_rate=0.0006,momentum=0.5800,o_2024-06-08_23-45-42/checkpoint_000000\n",
            "\n",
            "Trial train_cifar_37be9_00011 completed after 1 iterations at 2024-06-08 23:56:00. Total running time: 10min 18s\n"
          ]
        },
        {
          "output_type": "stream",
          "name": "stderr",
          "text": [
            "\u001b[36m(func pid=91133)\u001b[0m Checkpoint successfully created at: Checkpoint(filesystem=local, path=/root/ray_results/train_cifar_2024-06-08_23-45-42/train_cifar_37be9_00011_11_batch_size=128,criterion=CrossEntropyLoss,epochs=5,l1=120,l2=168,learning_rate=0.0006,momentum=0.5800,o_2024-06-08_23-45-42/checkpoint_000000)\n"
          ]
        },
        {
          "output_type": "stream",
          "name": "stdout",
          "text": [
            "\n",
            "Trial train_cifar_37be9_00012 started with configuration:\n",
            "+-----------------------------------------------------------+\n",
            "| Trial train_cifar_37be9_00012 config                      |\n",
            "+-----------------------------------------------------------+\n",
            "| batch_size                                            128 |\n",
            "| criterion                                CrossEntropyLoss |\n",
            "| epochs                                                  5 |\n",
            "| l1                                                    120 |\n",
            "| l2                                                     84 |\n",
            "| learning_rate                                     0.00259 |\n",
            "| momentum                                          0.87201 |\n",
            "| optimizer                                            adam |\n",
            "| weight_decay                                      0.00058 |\n",
            "+-----------------------------------------------------------+\n",
            "\u001b[36m(func pid=91538)\u001b[0m Files already downloaded and verified\n",
            "\u001b[36m(func pid=91538)\u001b[0m Files already downloaded and verified\n"
          ]
        },
        {
          "output_type": "stream",
          "name": "stderr",
          "text": [
            "\u001b[36m(func pid=91538)\u001b[0m /usr/local/lib/python3.10/dist-packages/torch/nn/modules/conv.py:456: UserWarning: Plan failed with a cudnnException: CUDNN_BACKEND_EXECUTION_PLAN_DESCRIPTOR: cudnnFinalize Descriptor Failed cudnn_status: CUDNN_STATUS_NOT_SUPPORTED (Triggered internally at ../aten/src/ATen/native/cudnn/Conv_v8.cpp:919.)\n",
            "\u001b[36m(func pid=91538)\u001b[0m   return F.conv2d(input, weight, bias, self.stride,\n"
          ]
        },
        {
          "output_type": "stream",
          "name": "stdout",
          "text": [
            "\n",
            "Trial train_cifar_37be9_00012 finished iteration 1 at 2024-06-08 23:56:11. Total running time: 10min 28s\n",
            "+------------------------------------------------------------+\n",
            "| Trial train_cifar_37be9_00012 result                       |\n",
            "+------------------------------------------------------------+\n",
            "| checkpoint_dir_name                      checkpoint_000000 |\n",
            "| time_this_iter_s                                   5.55073 |\n",
            "| time_total_s                                       5.55073 |\n",
            "| training_iteration                                       1 |\n",
            "| accuracy                                            0.4803 |\n",
            "| loss                                               1.44667 |\n",
            "+------------------------------------------------------------+\n",
            "Trial train_cifar_37be9_00012 saved a checkpoint for iteration 1 at: (local)/root/ray_results/train_cifar_2024-06-08_23-45-42/train_cifar_37be9_00012_12_batch_size=128,criterion=CrossEntropyLoss,epochs=5,l1=120,l2=84,learning_rate=0.0026,momentum=0.8720,op_2024-06-08_23-45-42/checkpoint_000000\n",
            "\u001b[36m(func pid=91538)\u001b[0m Finished Training\n"
          ]
        },
        {
          "output_type": "stream",
          "name": "stderr",
          "text": [
            "\u001b[36m(func pid=91538)\u001b[0m Checkpoint successfully created at: Checkpoint(filesystem=local, path=/root/ray_results/train_cifar_2024-06-08_23-45-42/train_cifar_37be9_00012_12_batch_size=128,criterion=CrossEntropyLoss,epochs=5,l1=120,l2=84,learning_rate=0.0026,momentum=0.8720,op_2024-06-08_23-45-42/checkpoint_000000)\n"
          ]
        },
        {
          "output_type": "stream",
          "name": "stdout",
          "text": [
            "\n",
            "Trial status: 12 TERMINATED | 1 RUNNING | 7 PENDING\n",
            "Current time: 2024-06-08 23:56:14. Total running time: 10min 31s\n",
            "Logical resource usage: 12.0/12 CPUs, 1.0/1 GPUs (0.0/1.0 accelerator_type:L4)\n",
            "+------------------------------------------------------------------------------------------------------------------------------------------------------------------------------------------------------------------------+\n",
            "| Trial name                status         learning_rate     batch_size     epochs   optimizer       momentum     weight_decay     l1     l2   criterion            iter     total time (s)            loss     accuracy |\n",
            "+------------------------------------------------------------------------------------------------------------------------------------------------------------------------------------------------------------------------+\n",
            "| train_cifar_37be9_00012   RUNNING          0.00259363             128          5   adam            0.87201       0.000580308    120     84   CrossEntropyLoss        1            5.55073     1.44667           0.4803 |\n",
            "| train_cifar_37be9_00000   TERMINATED       0.000127904             16         10   sgd             0.691209      0.00303265     360    252   CrossEntropyLoss       10          110.941       2.08142           0.2497 |\n",
            "| train_cifar_37be9_00001   TERMINATED       0.000686988            128          5   sgd             0.514858      0.00176203     360    168   CrossEntropyLoss        1            5.35428     2.30277           0.1098 |\n",
            "| train_cifar_37be9_00002   TERMINATED       0.0421174              128          5   sgd             0.504435      0.00482545     360    168   CrossEntropyLoss       10           32.8134      1.19385           0.5682 |\n",
            "| train_cifar_37be9_00003   TERMINATED       0.0205216               32         10   sgd             0.637362      0.000116181    120    168   NLLLoss                10           64.1461    nan                 0.1025 |\n",
            "| train_cifar_37be9_00004   TERMINATED       0.00887431              16          5   sgd             0.765598      0.00426428     240     84   CrossEntropyLoss       10          108.634       1.07806           0.6253 |\n",
            "| train_cifar_37be9_00005   TERMINATED       0.0235392              128         20   adam            0.765034      0.000223755    240     84   CrossEntropyLoss        2            8.53064     1.88868           0.2784 |\n",
            "| train_cifar_37be9_00006   TERMINATED       0.0897215               32         20   adam            0.657465      0.00201386     360    168   CrossEntropyLoss        1            8.8345      2.3182            0.0976 |\n",
            "| train_cifar_37be9_00007   TERMINATED       0.000141282             16         20   sgd             0.625691      0.0014128      360     84   NLLLoss                10          108.651     nan                 0.1023 |\n",
            "| train_cifar_37be9_00008   TERMINATED       0.0104716              128         10   adam            0.633325      0.000107179    120    252   CrossEntropyLoss        2            8.40516     1.55373           0.4256 |\n",
            "| train_cifar_37be9_00009   TERMINATED       0.00011069              32         10   sgd             0.810543      0.00059152     360    168   NLLLoss                10           63.61      nan                 0.1006 |\n",
            "| train_cifar_37be9_00010   TERMINATED       0.0128713              128         20   adam            0.8133        0.000435187    240     84   NLLLoss                10           33.8024     -7.36072e+19       0.1016 |\n",
            "| train_cifar_37be9_00011   TERMINATED       0.000572411            128          5   sgd             0.57995       0.00627102     120    168   CrossEntropyLoss        1            5.3228      2.30194           0.111  |\n",
            "| train_cifar_37be9_00013   PENDING          0.0610611               64         10   adam            0.573201      0.00816333     240     84   CrossEntropyLoss                                                          |\n",
            "| train_cifar_37be9_00014   PENDING          0.000215539             64         10   adam            0.66957       0.000294654    360    252   CrossEntropyLoss                                                          |\n",
            "| train_cifar_37be9_00015   PENDING          0.00370564              32         10   adam            0.618958      0.00091318     360    168   NLLLoss                                                                   |\n",
            "| train_cifar_37be9_00016   PENDING          0.00468984              64         10   sgd             0.853646      0.000458833    120    168   CrossEntropyLoss                                                          |\n",
            "| train_cifar_37be9_00017   PENDING          0.0267104               32         20   adam            0.759795      0.000149732    240     84   CrossEntropyLoss                                                          |\n",
            "| train_cifar_37be9_00018   PENDING          0.0284903              128          5   sgd             0.752452      0.00079896     120    168   NLLLoss                                                                   |\n",
            "| train_cifar_37be9_00019   PENDING          0.0354501              128          5   sgd             0.891213      0.000811317    240     84   CrossEntropyLoss                                                          |\n",
            "+------------------------------------------------------------------------------------------------------------------------------------------------------------------------------------------------------------------------+\n",
            "\n",
            "Trial train_cifar_37be9_00012 finished iteration 2 at 2024-06-08 23:56:14. Total running time: 10min 31s\n",
            "+------------------------------------------------------------+\n",
            "| Trial train_cifar_37be9_00012 result                       |\n",
            "+------------------------------------------------------------+\n",
            "| checkpoint_dir_name                      checkpoint_000001 |\n",
            "| time_this_iter_s                                    3.3226 |\n",
            "| time_total_s                                       8.87333 |\n",
            "| training_iteration                                       2 |\n",
            "| accuracy                                            0.5257 |\n",
            "| loss                                               1.33293 |\n",
            "+------------------------------------------------------------+\n",
            "Trial train_cifar_37be9_00012 saved a checkpoint for iteration 2 at: (local)/root/ray_results/train_cifar_2024-06-08_23-45-42/train_cifar_37be9_00012_12_batch_size=128,criterion=CrossEntropyLoss,epochs=5,l1=120,l2=84,learning_rate=0.0026,momentum=0.8720,op_2024-06-08_23-45-42/checkpoint_000001\n",
            "\u001b[36m(func pid=91538)\u001b[0m Finished Training\n"
          ]
        },
        {
          "output_type": "stream",
          "name": "stderr",
          "text": [
            "\u001b[36m(func pid=91538)\u001b[0m Checkpoint successfully created at: Checkpoint(filesystem=local, path=/root/ray_results/train_cifar_2024-06-08_23-45-42/train_cifar_37be9_00012_12_batch_size=128,criterion=CrossEntropyLoss,epochs=5,l1=120,l2=84,learning_rate=0.0026,momentum=0.8720,op_2024-06-08_23-45-42/checkpoint_000001)\n"
          ]
        },
        {
          "output_type": "stream",
          "name": "stdout",
          "text": [
            "\n",
            "Trial train_cifar_37be9_00012 finished iteration 3 at 2024-06-08 23:56:17. Total running time: 10min 35s\n",
            "+------------------------------------------------------------+\n",
            "| Trial train_cifar_37be9_00012 result                       |\n",
            "+------------------------------------------------------------+\n",
            "| checkpoint_dir_name                      checkpoint_000002 |\n",
            "| time_this_iter_s                                   3.23578 |\n",
            "| time_total_s                                      12.10911 |\n",
            "| training_iteration                                       3 |\n",
            "| accuracy                                             0.564 |\n",
            "| loss                                               1.22772 |\n",
            "+------------------------------------------------------------+\n",
            "Trial train_cifar_37be9_00012 saved a checkpoint for iteration 3 at: (local)/root/ray_results/train_cifar_2024-06-08_23-45-42/train_cifar_37be9_00012_12_batch_size=128,criterion=CrossEntropyLoss,epochs=5,l1=120,l2=84,learning_rate=0.0026,momentum=0.8720,op_2024-06-08_23-45-42/checkpoint_000002\n",
            "\u001b[36m(func pid=91538)\u001b[0m Finished Training\n"
          ]
        },
        {
          "output_type": "stream",
          "name": "stderr",
          "text": [
            "\u001b[36m(func pid=91538)\u001b[0m Checkpoint successfully created at: Checkpoint(filesystem=local, path=/root/ray_results/train_cifar_2024-06-08_23-45-42/train_cifar_37be9_00012_12_batch_size=128,criterion=CrossEntropyLoss,epochs=5,l1=120,l2=84,learning_rate=0.0026,momentum=0.8720,op_2024-06-08_23-45-42/checkpoint_000002)\n"
          ]
        },
        {
          "output_type": "stream",
          "name": "stdout",
          "text": [
            "\n",
            "Trial train_cifar_37be9_00012 finished iteration 4 at 2024-06-08 23:56:20. Total running time: 10min 38s\n",
            "+------------------------------------------------------------+\n",
            "| Trial train_cifar_37be9_00012 result                       |\n",
            "+------------------------------------------------------------+\n",
            "| checkpoint_dir_name                      checkpoint_000003 |\n",
            "| time_this_iter_s                                   3.14545 |\n",
            "| time_total_s                                      15.25456 |\n",
            "| training_iteration                                       4 |\n",
            "| accuracy                                            0.5763 |\n",
            "| loss                                               1.19452 |\n",
            "+------------------------------------------------------------+\n",
            "Trial train_cifar_37be9_00012 saved a checkpoint for iteration 4 at: (local)/root/ray_results/train_cifar_2024-06-08_23-45-42/train_cifar_37be9_00012_12_batch_size=128,criterion=CrossEntropyLoss,epochs=5,l1=120,l2=84,learning_rate=0.0026,momentum=0.8720,op_2024-06-08_23-45-42/checkpoint_000003\n",
            "\u001b[36m(func pid=91538)\u001b[0m Finished Training\n"
          ]
        },
        {
          "output_type": "stream",
          "name": "stderr",
          "text": [
            "\u001b[36m(func pid=91538)\u001b[0m Checkpoint successfully created at: Checkpoint(filesystem=local, path=/root/ray_results/train_cifar_2024-06-08_23-45-42/train_cifar_37be9_00012_12_batch_size=128,criterion=CrossEntropyLoss,epochs=5,l1=120,l2=84,learning_rate=0.0026,momentum=0.8720,op_2024-06-08_23-45-42/checkpoint_000003)\n"
          ]
        },
        {
          "output_type": "stream",
          "name": "stdout",
          "text": [
            "\n",
            "Trial train_cifar_37be9_00012 finished iteration 5 at 2024-06-08 23:56:23. Total running time: 10min 41s\n",
            "+------------------------------------------------------------+\n",
            "| Trial train_cifar_37be9_00012 result                       |\n",
            "+------------------------------------------------------------+\n",
            "| checkpoint_dir_name                      checkpoint_000004 |\n",
            "| time_this_iter_s                                   3.06635 |\n",
            "| time_total_s                                      18.32091 |\n",
            "| training_iteration                                       5 |\n",
            "| accuracy                                            0.5847 |\n",
            "| loss                                               1.18711 |\n",
            "+------------------------------------------------------------+\n",
            "Trial train_cifar_37be9_00012 saved a checkpoint for iteration 5 at: (local)/root/ray_results/train_cifar_2024-06-08_23-45-42/train_cifar_37be9_00012_12_batch_size=128,criterion=CrossEntropyLoss,epochs=5,l1=120,l2=84,learning_rate=0.0026,momentum=0.8720,op_2024-06-08_23-45-42/checkpoint_000004\n",
            "\u001b[36m(func pid=91538)\u001b[0m Finished Training\n"
          ]
        },
        {
          "output_type": "stream",
          "name": "stderr",
          "text": [
            "\u001b[36m(func pid=91538)\u001b[0m Checkpoint successfully created at: Checkpoint(filesystem=local, path=/root/ray_results/train_cifar_2024-06-08_23-45-42/train_cifar_37be9_00012_12_batch_size=128,criterion=CrossEntropyLoss,epochs=5,l1=120,l2=84,learning_rate=0.0026,momentum=0.8720,op_2024-06-08_23-45-42/checkpoint_000004)\n"
          ]
        },
        {
          "output_type": "stream",
          "name": "stdout",
          "text": [
            "\n",
            "Trial train_cifar_37be9_00012 finished iteration 6 at 2024-06-08 23:56:26. Total running time: 10min 44s\n",
            "+------------------------------------------------------------+\n",
            "| Trial train_cifar_37be9_00012 result                       |\n",
            "+------------------------------------------------------------+\n",
            "| checkpoint_dir_name                      checkpoint_000005 |\n",
            "| time_this_iter_s                                   3.02525 |\n",
            "| time_total_s                                      21.34616 |\n",
            "| training_iteration                                       6 |\n",
            "| accuracy                                            0.5949 |\n",
            "| loss                                               1.15347 |\n",
            "+------------------------------------------------------------+\n",
            "Trial train_cifar_37be9_00012 saved a checkpoint for iteration 6 at: (local)/root/ray_results/train_cifar_2024-06-08_23-45-42/train_cifar_37be9_00012_12_batch_size=128,criterion=CrossEntropyLoss,epochs=5,l1=120,l2=84,learning_rate=0.0026,momentum=0.8720,op_2024-06-08_23-45-42/checkpoint_000005\n",
            "\u001b[36m(func pid=91538)\u001b[0m Finished Training\n"
          ]
        },
        {
          "output_type": "stream",
          "name": "stderr",
          "text": [
            "\u001b[36m(func pid=91538)\u001b[0m Checkpoint successfully created at: Checkpoint(filesystem=local, path=/root/ray_results/train_cifar_2024-06-08_23-45-42/train_cifar_37be9_00012_12_batch_size=128,criterion=CrossEntropyLoss,epochs=5,l1=120,l2=84,learning_rate=0.0026,momentum=0.8720,op_2024-06-08_23-45-42/checkpoint_000005)\n"
          ]
        },
        {
          "output_type": "stream",
          "name": "stdout",
          "text": [
            "\n",
            "Trial train_cifar_37be9_00012 finished iteration 7 at 2024-06-08 23:56:30. Total running time: 10min 47s\n",
            "+------------------------------------------------------------+\n",
            "| Trial train_cifar_37be9_00012 result                       |\n",
            "+------------------------------------------------------------+\n",
            "| checkpoint_dir_name                      checkpoint_000006 |\n",
            "| time_this_iter_s                                   3.14231 |\n",
            "| time_total_s                                      24.48847 |\n",
            "| training_iteration                                       7 |\n",
            "| accuracy                                            0.6048 |\n",
            "| loss                                               1.14347 |\n",
            "+------------------------------------------------------------+\n",
            "Trial train_cifar_37be9_00012 saved a checkpoint for iteration 7 at: (local)/root/ray_results/train_cifar_2024-06-08_23-45-42/train_cifar_37be9_00012_12_batch_size=128,criterion=CrossEntropyLoss,epochs=5,l1=120,l2=84,learning_rate=0.0026,momentum=0.8720,op_2024-06-08_23-45-42/checkpoint_000006\n",
            "\u001b[36m(func pid=91538)\u001b[0m Finished Training\n"
          ]
        },
        {
          "output_type": "stream",
          "name": "stderr",
          "text": [
            "\u001b[36m(func pid=91538)\u001b[0m Checkpoint successfully created at: Checkpoint(filesystem=local, path=/root/ray_results/train_cifar_2024-06-08_23-45-42/train_cifar_37be9_00012_12_batch_size=128,criterion=CrossEntropyLoss,epochs=5,l1=120,l2=84,learning_rate=0.0026,momentum=0.8720,op_2024-06-08_23-45-42/checkpoint_000006)\n"
          ]
        },
        {
          "output_type": "stream",
          "name": "stdout",
          "text": [
            "\n",
            "Trial train_cifar_37be9_00012 finished iteration 8 at 2024-06-08 23:56:33. Total running time: 10min 50s\n",
            "+------------------------------------------------------------+\n",
            "| Trial train_cifar_37be9_00012 result                       |\n",
            "+------------------------------------------------------------+\n",
            "| checkpoint_dir_name                      checkpoint_000007 |\n",
            "| time_this_iter_s                                   2.99469 |\n",
            "| time_total_s                                      27.48316 |\n",
            "| training_iteration                                       8 |\n",
            "| accuracy                                            0.6039 |\n",
            "| loss                                               1.12913 |\n",
            "+------------------------------------------------------------+\n",
            "Trial train_cifar_37be9_00012 saved a checkpoint for iteration 8 at: (local)/root/ray_results/train_cifar_2024-06-08_23-45-42/train_cifar_37be9_00012_12_batch_size=128,criterion=CrossEntropyLoss,epochs=5,l1=120,l2=84,learning_rate=0.0026,momentum=0.8720,op_2024-06-08_23-45-42/checkpoint_000007\n",
            "\u001b[36m(func pid=91538)\u001b[0m Finished Training\n"
          ]
        },
        {
          "output_type": "stream",
          "name": "stderr",
          "text": [
            "\u001b[36m(func pid=91538)\u001b[0m Checkpoint successfully created at: Checkpoint(filesystem=local, path=/root/ray_results/train_cifar_2024-06-08_23-45-42/train_cifar_37be9_00012_12_batch_size=128,criterion=CrossEntropyLoss,epochs=5,l1=120,l2=84,learning_rate=0.0026,momentum=0.8720,op_2024-06-08_23-45-42/checkpoint_000007)\n"
          ]
        },
        {
          "output_type": "stream",
          "name": "stdout",
          "text": [
            "\n",
            "Trial train_cifar_37be9_00012 finished iteration 9 at 2024-06-08 23:56:36. Total running time: 10min 53s\n",
            "+------------------------------------------------------------+\n",
            "| Trial train_cifar_37be9_00012 result                       |\n",
            "+------------------------------------------------------------+\n",
            "| checkpoint_dir_name                      checkpoint_000008 |\n",
            "| time_this_iter_s                                    3.0527 |\n",
            "| time_total_s                                      30.53586 |\n",
            "| training_iteration                                       9 |\n",
            "| accuracy                                            0.6114 |\n",
            "| loss                                               1.11013 |\n",
            "+------------------------------------------------------------+\n",
            "Trial train_cifar_37be9_00012 saved a checkpoint for iteration 9 at: (local)/root/ray_results/train_cifar_2024-06-08_23-45-42/train_cifar_37be9_00012_12_batch_size=128,criterion=CrossEntropyLoss,epochs=5,l1=120,l2=84,learning_rate=0.0026,momentum=0.8720,op_2024-06-08_23-45-42/checkpoint_000008\n",
            "\u001b[36m(func pid=91538)\u001b[0m Finished Training\n"
          ]
        },
        {
          "output_type": "stream",
          "name": "stderr",
          "text": [
            "\u001b[36m(func pid=91538)\u001b[0m Checkpoint successfully created at: Checkpoint(filesystem=local, path=/root/ray_results/train_cifar_2024-06-08_23-45-42/train_cifar_37be9_00012_12_batch_size=128,criterion=CrossEntropyLoss,epochs=5,l1=120,l2=84,learning_rate=0.0026,momentum=0.8720,op_2024-06-08_23-45-42/checkpoint_000008)\n"
          ]
        },
        {
          "output_type": "stream",
          "name": "stdout",
          "text": [
            "\n",
            "Trial train_cifar_37be9_00012 finished iteration 10 at 2024-06-08 23:56:39. Total running time: 10min 56s\n",
            "+------------------------------------------------------------+\n",
            "| Trial train_cifar_37be9_00012 result                       |\n",
            "+------------------------------------------------------------+\n",
            "| checkpoint_dir_name                      checkpoint_000009 |\n",
            "| time_this_iter_s                                   3.05019 |\n",
            "| time_total_s                                      33.58606 |\n",
            "| training_iteration                                      10 |\n",
            "| accuracy                                            0.6205 |\n",
            "| loss                                               1.12108 |\n",
            "+------------------------------------------------------------+\n",
            "Trial train_cifar_37be9_00012 saved a checkpoint for iteration 10 at: (local)/root/ray_results/train_cifar_2024-06-08_23-45-42/train_cifar_37be9_00012_12_batch_size=128,criterion=CrossEntropyLoss,epochs=5,l1=120,l2=84,learning_rate=0.0026,momentum=0.8720,op_2024-06-08_23-45-42/checkpoint_000009\n",
            "\n",
            "Trial train_cifar_37be9_00012 completed after 10 iterations at 2024-06-08 23:56:39. Total running time: 10min 56s\n"
          ]
        },
        {
          "output_type": "stream",
          "name": "stderr",
          "text": [
            "\u001b[36m(func pid=91538)\u001b[0m Checkpoint successfully created at: Checkpoint(filesystem=local, path=/root/ray_results/train_cifar_2024-06-08_23-45-42/train_cifar_37be9_00012_12_batch_size=128,criterion=CrossEntropyLoss,epochs=5,l1=120,l2=84,learning_rate=0.0026,momentum=0.8720,op_2024-06-08_23-45-42/checkpoint_000009)\n"
          ]
        },
        {
          "output_type": "stream",
          "name": "stdout",
          "text": [
            "\n",
            "Trial status: 13 TERMINATED | 7 PENDING\n",
            "Current time: 2024-06-08 23:56:44. Total running time: 11min 1s\n",
            "Logical resource usage: 12.0/12 CPUs, 1.0/1 GPUs (0.0/1.0 accelerator_type:L4)\n",
            "+------------------------------------------------------------------------------------------------------------------------------------------------------------------------------------------------------------------------+\n",
            "| Trial name                status         learning_rate     batch_size     epochs   optimizer       momentum     weight_decay     l1     l2   criterion            iter     total time (s)            loss     accuracy |\n",
            "+------------------------------------------------------------------------------------------------------------------------------------------------------------------------------------------------------------------------+\n",
            "| train_cifar_37be9_00000   TERMINATED       0.000127904             16         10   sgd             0.691209      0.00303265     360    252   CrossEntropyLoss       10          110.941       2.08142           0.2497 |\n",
            "| train_cifar_37be9_00001   TERMINATED       0.000686988            128          5   sgd             0.514858      0.00176203     360    168   CrossEntropyLoss        1            5.35428     2.30277           0.1098 |\n",
            "| train_cifar_37be9_00002   TERMINATED       0.0421174              128          5   sgd             0.504435      0.00482545     360    168   CrossEntropyLoss       10           32.8134      1.19385           0.5682 |\n",
            "| train_cifar_37be9_00003   TERMINATED       0.0205216               32         10   sgd             0.637362      0.000116181    120    168   NLLLoss                10           64.1461    nan                 0.1025 |\n",
            "| train_cifar_37be9_00004   TERMINATED       0.00887431              16          5   sgd             0.765598      0.00426428     240     84   CrossEntropyLoss       10          108.634       1.07806           0.6253 |\n",
            "| train_cifar_37be9_00005   TERMINATED       0.0235392              128         20   adam            0.765034      0.000223755    240     84   CrossEntropyLoss        2            8.53064     1.88868           0.2784 |\n",
            "| train_cifar_37be9_00006   TERMINATED       0.0897215               32         20   adam            0.657465      0.00201386     360    168   CrossEntropyLoss        1            8.8345      2.3182            0.0976 |\n",
            "| train_cifar_37be9_00007   TERMINATED       0.000141282             16         20   sgd             0.625691      0.0014128      360     84   NLLLoss                10          108.651     nan                 0.1023 |\n",
            "| train_cifar_37be9_00008   TERMINATED       0.0104716              128         10   adam            0.633325      0.000107179    120    252   CrossEntropyLoss        2            8.40516     1.55373           0.4256 |\n",
            "| train_cifar_37be9_00009   TERMINATED       0.00011069              32         10   sgd             0.810543      0.00059152     360    168   NLLLoss                10           63.61      nan                 0.1006 |\n",
            "| train_cifar_37be9_00010   TERMINATED       0.0128713              128         20   adam            0.8133        0.000435187    240     84   NLLLoss                10           33.8024     -7.36072e+19       0.1016 |\n",
            "| train_cifar_37be9_00011   TERMINATED       0.000572411            128          5   sgd             0.57995       0.00627102     120    168   CrossEntropyLoss        1            5.3228      2.30194           0.111  |\n",
            "| train_cifar_37be9_00012   TERMINATED       0.00259363             128          5   adam            0.87201       0.000580308    120     84   CrossEntropyLoss       10           33.5861      1.12108           0.6205 |\n",
            "| train_cifar_37be9_00013   PENDING          0.0610611               64         10   adam            0.573201      0.00816333     240     84   CrossEntropyLoss                                                          |\n",
            "| train_cifar_37be9_00014   PENDING          0.000215539             64         10   adam            0.66957       0.000294654    360    252   CrossEntropyLoss                                                          |\n",
            "| train_cifar_37be9_00015   PENDING          0.00370564              32         10   adam            0.618958      0.00091318     360    168   NLLLoss                                                                   |\n",
            "| train_cifar_37be9_00016   PENDING          0.00468984              64         10   sgd             0.853646      0.000458833    120    168   CrossEntropyLoss                                                          |\n",
            "| train_cifar_37be9_00017   PENDING          0.0267104               32         20   adam            0.759795      0.000149732    240     84   CrossEntropyLoss                                                          |\n",
            "| train_cifar_37be9_00018   PENDING          0.0284903              128          5   sgd             0.752452      0.00079896     120    168   NLLLoss                                                                   |\n",
            "| train_cifar_37be9_00019   PENDING          0.0354501              128          5   sgd             0.891213      0.000811317    240     84   CrossEntropyLoss                                                          |\n",
            "+------------------------------------------------------------------------------------------------------------------------------------------------------------------------------------------------------------------------+\n",
            "\n",
            "Trial train_cifar_37be9_00013 started with configuration:\n",
            "+-----------------------------------------------------------+\n",
            "| Trial train_cifar_37be9_00013 config                      |\n",
            "+-----------------------------------------------------------+\n",
            "| batch_size                                             64 |\n",
            "| criterion                                CrossEntropyLoss |\n",
            "| epochs                                                 10 |\n",
            "| l1                                                    240 |\n",
            "| l2                                                     84 |\n",
            "| learning_rate                                     0.06106 |\n",
            "| momentum                                           0.5732 |\n",
            "| optimizer                                            adam |\n",
            "| weight_decay                                      0.00816 |\n",
            "+-----------------------------------------------------------+\n",
            "\u001b[36m(func pid=94230)\u001b[0m Files already downloaded and verified\n",
            "\u001b[36m(func pid=94230)\u001b[0m Files already downloaded and verified\n"
          ]
        },
        {
          "output_type": "stream",
          "name": "stderr",
          "text": [
            "\u001b[36m(func pid=94230)\u001b[0m /usr/local/lib/python3.10/dist-packages/torch/nn/modules/conv.py:456: UserWarning: Plan failed with a cudnnException: CUDNN_BACKEND_EXECUTION_PLAN_DESCRIPTOR: cudnnFinalize Descriptor Failed cudnn_status: CUDNN_STATUS_NOT_SUPPORTED (Triggered internally at ../aten/src/ATen/native/cudnn/Conv_v8.cpp:919.)\n",
            "\u001b[36m(func pid=94230)\u001b[0m   return F.conv2d(input, weight, bias, self.stride,\n"
          ]
        },
        {
          "output_type": "stream",
          "name": "stdout",
          "text": [
            "\n",
            "Trial train_cifar_37be9_00013 finished iteration 1 at 2024-06-08 23:56:50. Total running time: 11min 8s\n",
            "+------------------------------------------------------------+\n",
            "| Trial train_cifar_37be9_00013 result                       |\n",
            "+------------------------------------------------------------+\n",
            "| checkpoint_dir_name                      checkpoint_000000 |\n",
            "| time_this_iter_s                                   6.38333 |\n",
            "| time_total_s                                       6.38333 |\n",
            "| training_iteration                                       1 |\n",
            "| accuracy                                            0.0975 |\n",
            "| loss                                               2.31208 |\n",
            "+------------------------------------------------------------+\n",
            "Trial train_cifar_37be9_00013 saved a checkpoint for iteration 1 at: (local)/root/ray_results/train_cifar_2024-06-08_23-45-42/train_cifar_37be9_00013_13_batch_size=64,criterion=CrossEntropyLoss,epochs=10,l1=240,l2=84,learning_rate=0.0611,momentum=0.5732,op_2024-06-08_23-45-42/checkpoint_000000\n",
            "\n",
            "Trial train_cifar_37be9_00013 completed after 1 iterations at 2024-06-08 23:56:50. Total running time: 11min 8s\n"
          ]
        },
        {
          "output_type": "stream",
          "name": "stderr",
          "text": [
            "\u001b[36m(func pid=94230)\u001b[0m Checkpoint successfully created at: Checkpoint(filesystem=local, path=/root/ray_results/train_cifar_2024-06-08_23-45-42/train_cifar_37be9_00013_13_batch_size=64,criterion=CrossEntropyLoss,epochs=10,l1=240,l2=84,learning_rate=0.0611,momentum=0.5732,op_2024-06-08_23-45-42/checkpoint_000000)\n"
          ]
        },
        {
          "output_type": "stream",
          "name": "stdout",
          "text": [
            "\n",
            "Trial train_cifar_37be9_00014 started with configuration:\n",
            "+-----------------------------------------------------------+\n",
            "| Trial train_cifar_37be9_00014 config                      |\n",
            "+-----------------------------------------------------------+\n",
            "| batch_size                                             64 |\n",
            "| criterion                                CrossEntropyLoss |\n",
            "| epochs                                                 10 |\n",
            "| l1                                                    360 |\n",
            "| l2                                                    252 |\n",
            "| learning_rate                                     0.00022 |\n",
            "| momentum                                          0.66957 |\n",
            "| optimizer                                            adam |\n",
            "| weight_decay                                      0.00029 |\n",
            "+-----------------------------------------------------------+\n",
            "\u001b[36m(func pid=94637)\u001b[0m Files already downloaded and verified\n",
            "\u001b[36m(func pid=94637)\u001b[0m Files already downloaded and verified\n"
          ]
        },
        {
          "output_type": "stream",
          "name": "stderr",
          "text": [
            "\u001b[36m(func pid=94637)\u001b[0m /usr/local/lib/python3.10/dist-packages/torch/nn/modules/conv.py:456: UserWarning: Plan failed with a cudnnException: CUDNN_BACKEND_EXECUTION_PLAN_DESCRIPTOR: cudnnFinalize Descriptor Failed cudnn_status: CUDNN_STATUS_NOT_SUPPORTED (Triggered internally at ../aten/src/ATen/native/cudnn/Conv_v8.cpp:919.)\n",
            "\u001b[36m(func pid=94637)\u001b[0m   return F.conv2d(input, weight, bias, self.stride,\n"
          ]
        },
        {
          "output_type": "stream",
          "name": "stdout",
          "text": [
            "\n",
            "Trial train_cifar_37be9_00014 finished iteration 1 at 2024-06-08 23:57:01. Total running time: 11min 19s\n",
            "+------------------------------------------------------------+\n",
            "| Trial train_cifar_37be9_00014 result                       |\n",
            "+------------------------------------------------------------+\n",
            "| checkpoint_dir_name                      checkpoint_000000 |\n",
            "| time_this_iter_s                                   6.41403 |\n",
            "| time_total_s                                       6.41403 |\n",
            "| training_iteration                                       1 |\n",
            "| accuracy                                            0.3976 |\n",
            "| loss                                               1.68544 |\n",
            "+------------------------------------------------------------+\n",
            "Trial train_cifar_37be9_00014 saved a checkpoint for iteration 1 at: (local)/root/ray_results/train_cifar_2024-06-08_23-45-42/train_cifar_37be9_00014_14_batch_size=64,criterion=CrossEntropyLoss,epochs=10,l1=360,l2=252,learning_rate=0.0002,momentum=0.6696,o_2024-06-08_23-45-42/checkpoint_000000\n",
            "\u001b[36m(func pid=94637)\u001b[0m Finished Training\n"
          ]
        },
        {
          "output_type": "stream",
          "name": "stderr",
          "text": [
            "\u001b[36m(func pid=94637)\u001b[0m Checkpoint successfully created at: Checkpoint(filesystem=local, path=/root/ray_results/train_cifar_2024-06-08_23-45-42/train_cifar_37be9_00014_14_batch_size=64,criterion=CrossEntropyLoss,epochs=10,l1=360,l2=252,learning_rate=0.0002,momentum=0.6696,o_2024-06-08_23-45-42/checkpoint_000000)\n"
          ]
        },
        {
          "output_type": "stream",
          "name": "stdout",
          "text": [
            "\n",
            "Trial train_cifar_37be9_00014 finished iteration 2 at 2024-06-08 23:57:05. Total running time: 11min 23s\n",
            "+------------------------------------------------------------+\n",
            "| Trial train_cifar_37be9_00014 result                       |\n",
            "+------------------------------------------------------------+\n",
            "| checkpoint_dir_name                      checkpoint_000001 |\n",
            "| time_this_iter_s                                   4.05688 |\n",
            "| time_total_s                                      10.47091 |\n",
            "| training_iteration                                       2 |\n",
            "| accuracy                                            0.4689 |\n",
            "| loss                                                1.4851 |\n",
            "+------------------------------------------------------------+\n",
            "Trial train_cifar_37be9_00014 saved a checkpoint for iteration 2 at: (local)/root/ray_results/train_cifar_2024-06-08_23-45-42/train_cifar_37be9_00014_14_batch_size=64,criterion=CrossEntropyLoss,epochs=10,l1=360,l2=252,learning_rate=0.0002,momentum=0.6696,o_2024-06-08_23-45-42/checkpoint_000001\n",
            "\n",
            "Trial train_cifar_37be9_00014 completed after 2 iterations at 2024-06-08 23:57:05. Total running time: 11min 23s\n"
          ]
        },
        {
          "output_type": "stream",
          "name": "stderr",
          "text": [
            "\u001b[36m(func pid=94637)\u001b[0m Checkpoint successfully created at: Checkpoint(filesystem=local, path=/root/ray_results/train_cifar_2024-06-08_23-45-42/train_cifar_37be9_00014_14_batch_size=64,criterion=CrossEntropyLoss,epochs=10,l1=360,l2=252,learning_rate=0.0002,momentum=0.6696,o_2024-06-08_23-45-42/checkpoint_000001)\n"
          ]
        },
        {
          "output_type": "stream",
          "name": "stdout",
          "text": [
            "\n",
            "Trial train_cifar_37be9_00015 started with configuration:\n",
            "+--------------------------------------------------+\n",
            "| Trial train_cifar_37be9_00015 config             |\n",
            "+--------------------------------------------------+\n",
            "| batch_size                                    32 |\n",
            "| criterion                                NLLLoss |\n",
            "| epochs                                        10 |\n",
            "| l1                                           360 |\n",
            "| l2                                           168 |\n",
            "| learning_rate                            0.00371 |\n",
            "| momentum                                 0.61896 |\n",
            "| optimizer                                   adam |\n",
            "| weight_decay                             0.00091 |\n",
            "+--------------------------------------------------+\n",
            "\u001b[36m(func pid=95300)\u001b[0m Files already downloaded and verified\n",
            "\u001b[36m(func pid=95300)\u001b[0m Files already downloaded and verified\n",
            "\n",
            "Trial status: 15 TERMINATED | 1 RUNNING | 4 PENDING\n",
            "Current time: 2024-06-08 23:57:14. Total running time: 11min 31s\n",
            "Logical resource usage: 12.0/12 CPUs, 1.0/1 GPUs (0.0/1.0 accelerator_type:L4)\n",
            "+------------------------------------------------------------------------------------------------------------------------------------------------------------------------------------------------------------------------+\n",
            "| Trial name                status         learning_rate     batch_size     epochs   optimizer       momentum     weight_decay     l1     l2   criterion            iter     total time (s)            loss     accuracy |\n",
            "+------------------------------------------------------------------------------------------------------------------------------------------------------------------------------------------------------------------------+\n",
            "| train_cifar_37be9_00015   RUNNING          0.00370564              32         10   adam            0.618958      0.00091318     360    168   NLLLoss                                                                   |\n",
            "| train_cifar_37be9_00000   TERMINATED       0.000127904             16         10   sgd             0.691209      0.00303265     360    252   CrossEntropyLoss       10          110.941       2.08142           0.2497 |\n",
            "| train_cifar_37be9_00001   TERMINATED       0.000686988            128          5   sgd             0.514858      0.00176203     360    168   CrossEntropyLoss        1            5.35428     2.30277           0.1098 |\n",
            "| train_cifar_37be9_00002   TERMINATED       0.0421174              128          5   sgd             0.504435      0.00482545     360    168   CrossEntropyLoss       10           32.8134      1.19385           0.5682 |\n",
            "| train_cifar_37be9_00003   TERMINATED       0.0205216               32         10   sgd             0.637362      0.000116181    120    168   NLLLoss                10           64.1461    nan                 0.1025 |\n",
            "| train_cifar_37be9_00004   TERMINATED       0.00887431              16          5   sgd             0.765598      0.00426428     240     84   CrossEntropyLoss       10          108.634       1.07806           0.6253 |\n",
            "| train_cifar_37be9_00005   TERMINATED       0.0235392              128         20   adam            0.765034      0.000223755    240     84   CrossEntropyLoss        2            8.53064     1.88868           0.2784 |\n",
            "| train_cifar_37be9_00006   TERMINATED       0.0897215               32         20   adam            0.657465      0.00201386     360    168   CrossEntropyLoss        1            8.8345      2.3182            0.0976 |\n",
            "| train_cifar_37be9_00007   TERMINATED       0.000141282             16         20   sgd             0.625691      0.0014128      360     84   NLLLoss                10          108.651     nan                 0.1023 |\n",
            "| train_cifar_37be9_00008   TERMINATED       0.0104716              128         10   adam            0.633325      0.000107179    120    252   CrossEntropyLoss        2            8.40516     1.55373           0.4256 |\n",
            "| train_cifar_37be9_00009   TERMINATED       0.00011069              32         10   sgd             0.810543      0.00059152     360    168   NLLLoss                10           63.61      nan                 0.1006 |\n",
            "| train_cifar_37be9_00010   TERMINATED       0.0128713              128         20   adam            0.8133        0.000435187    240     84   NLLLoss                10           33.8024     -7.36072e+19       0.1016 |\n",
            "| train_cifar_37be9_00011   TERMINATED       0.000572411            128          5   sgd             0.57995       0.00627102     120    168   CrossEntropyLoss        1            5.3228      2.30194           0.111  |\n",
            "| train_cifar_37be9_00012   TERMINATED       0.00259363             128          5   adam            0.87201       0.000580308    120     84   CrossEntropyLoss       10           33.5861      1.12108           0.6205 |\n",
            "| train_cifar_37be9_00013   TERMINATED       0.0610611               64         10   adam            0.573201      0.00816333     240     84   CrossEntropyLoss        1            6.38333     2.31208           0.0975 |\n",
            "| train_cifar_37be9_00014   TERMINATED       0.000215539             64         10   adam            0.66957       0.000294654    360    252   CrossEntropyLoss        2           10.4709      1.4851            0.4689 |\n",
            "| train_cifar_37be9_00016   PENDING          0.00468984              64         10   sgd             0.853646      0.000458833    120    168   CrossEntropyLoss                                                          |\n",
            "| train_cifar_37be9_00017   PENDING          0.0267104               32         20   adam            0.759795      0.000149732    240     84   CrossEntropyLoss                                                          |\n",
            "| train_cifar_37be9_00018   PENDING          0.0284903              128          5   sgd             0.752452      0.00079896     120    168   NLLLoss                                                                   |\n",
            "| train_cifar_37be9_00019   PENDING          0.0354501              128          5   sgd             0.891213      0.000811317    240     84   CrossEntropyLoss                                                          |\n",
            "+------------------------------------------------------------------------------------------------------------------------------------------------------------------------------------------------------------------------+\n"
          ]
        },
        {
          "output_type": "stream",
          "name": "stderr",
          "text": [
            "\u001b[36m(func pid=95300)\u001b[0m Checkpoint successfully created at: Checkpoint(filesystem=local, path=/root/ray_results/train_cifar_2024-06-08_23-45-42/train_cifar_37be9_00015_15_batch_size=32,criterion=NLLLoss,epochs=10,l1=360,l2=168,learning_rate=0.0037,momentum=0.6190,optimizer=_2024-06-08_23-45-42/checkpoint_000000)\n"
          ]
        },
        {
          "output_type": "stream",
          "name": "stdout",
          "text": [
            "\n",
            "Trial train_cifar_37be9_00015 finished iteration 1 at 2024-06-08 23:57:19. Total running time: 11min 36s\n",
            "+-------------------------------------------------------------+\n",
            "| Trial train_cifar_37be9_00015 result                        |\n",
            "+-------------------------------------------------------------+\n",
            "| checkpoint_dir_name                       checkpoint_000000 |\n",
            "| time_this_iter_s                                    8.66134 |\n",
            "| time_total_s                                        8.66134 |\n",
            "| training_iteration                                        1 |\n",
            "| accuracy                                             0.1028 |\n",
            "| loss                                     -5684348563292788. |\n",
            "+-------------------------------------------------------------+\n",
            "Trial train_cifar_37be9_00015 saved a checkpoint for iteration 1 at: (local)/root/ray_results/train_cifar_2024-06-08_23-45-42/train_cifar_37be9_00015_15_batch_size=32,criterion=NLLLoss,epochs=10,l1=360,l2=168,learning_rate=0.0037,momentum=0.6190,optimizer=_2024-06-08_23-45-42/checkpoint_000000\n",
            "\u001b[36m(func pid=95300)\u001b[0m Finished Training\n",
            "\n",
            "Trial train_cifar_37be9_00015 finished iteration 2 at 2024-06-08 23:57:25. Total running time: 11min 43s\n",
            "+---------------------------------------------------------------+\n",
            "| Trial train_cifar_37be9_00015 result                          |\n",
            "+---------------------------------------------------------------+\n",
            "| checkpoint_dir_name                         checkpoint_000001 |\n",
            "| time_this_iter_s                                      6.40609 |\n",
            "| time_total_s                                         15.06743 |\n",
            "| training_iteration                                          2 |\n",
            "| accuracy                                               0.0966 |\n",
            "| loss                                     -141770725289573296. |\n",
            "+---------------------------------------------------------------+\n",
            "Trial train_cifar_37be9_00015 saved a checkpoint for iteration 2 at: (local)/root/ray_results/train_cifar_2024-06-08_23-45-42/train_cifar_37be9_00015_15_batch_size=32,criterion=NLLLoss,epochs=10,l1=360,l2=168,learning_rate=0.0037,momentum=0.6190,optimizer=_2024-06-08_23-45-42/checkpoint_000001\n",
            "\u001b[36m(func pid=95300)\u001b[0m Finished Training\n"
          ]
        },
        {
          "output_type": "stream",
          "name": "stderr",
          "text": [
            "\u001b[36m(func pid=95300)\u001b[0m Checkpoint successfully created at: Checkpoint(filesystem=local, path=/root/ray_results/train_cifar_2024-06-08_23-45-42/train_cifar_37be9_00015_15_batch_size=32,criterion=NLLLoss,epochs=10,l1=360,l2=168,learning_rate=0.0037,momentum=0.6190,optimizer=_2024-06-08_23-45-42/checkpoint_000001)\n"
          ]
        },
        {
          "output_type": "stream",
          "name": "stdout",
          "text": [
            "\n",
            "Trial train_cifar_37be9_00015 finished iteration 3 at 2024-06-08 23:57:31. Total running time: 11min 49s\n",
            "+---------------------------------------------------------------+\n",
            "| Trial train_cifar_37be9_00015 result                          |\n",
            "+---------------------------------------------------------------+\n",
            "| checkpoint_dir_name                         checkpoint_000002 |\n",
            "| time_this_iter_s                                      6.31468 |\n",
            "| time_total_s                                         21.38211 |\n",
            "| training_iteration                                          3 |\n",
            "| accuracy                                               0.0966 |\n",
            "| loss                                     -789100703880989056. |\n",
            "+---------------------------------------------------------------+\n",
            "Trial train_cifar_37be9_00015 saved a checkpoint for iteration 3 at: (local)/root/ray_results/train_cifar_2024-06-08_23-45-42/train_cifar_37be9_00015_15_batch_size=32,criterion=NLLLoss,epochs=10,l1=360,l2=168,learning_rate=0.0037,momentum=0.6190,optimizer=_2024-06-08_23-45-42/checkpoint_000002\n",
            "\u001b[36m(func pid=95300)\u001b[0m Finished Training\n"
          ]
        },
        {
          "output_type": "stream",
          "name": "stderr",
          "text": [
            "\u001b[36m(func pid=95300)\u001b[0m Checkpoint successfully created at: Checkpoint(filesystem=local, path=/root/ray_results/train_cifar_2024-06-08_23-45-42/train_cifar_37be9_00015_15_batch_size=32,criterion=NLLLoss,epochs=10,l1=360,l2=168,learning_rate=0.0037,momentum=0.6190,optimizer=_2024-06-08_23-45-42/checkpoint_000002)\n"
          ]
        },
        {
          "output_type": "stream",
          "name": "stdout",
          "text": [
            "\n",
            "Trial train_cifar_37be9_00015 finished iteration 4 at 2024-06-08 23:57:38. Total running time: 11min 55s\n",
            "+----------------------------------------------------------------+\n",
            "| Trial train_cifar_37be9_00015 result                           |\n",
            "+----------------------------------------------------------------+\n",
            "| checkpoint_dir_name                          checkpoint_000003 |\n",
            "| time_this_iter_s                                       6.41641 |\n",
            "| time_total_s                                          27.79852 |\n",
            "| training_iteration                                           4 |\n",
            "| accuracy                                                0.0966 |\n",
            "| loss                                     -2532729000991174656. |\n",
            "+----------------------------------------------------------------+\n",
            "Trial train_cifar_37be9_00015 saved a checkpoint for iteration 4 at: (local)/root/ray_results/train_cifar_2024-06-08_23-45-42/train_cifar_37be9_00015_15_batch_size=32,criterion=NLLLoss,epochs=10,l1=360,l2=168,learning_rate=0.0037,momentum=0.6190,optimizer=_2024-06-08_23-45-42/checkpoint_000003\n",
            "\u001b[36m(func pid=95300)\u001b[0m Finished Training\n"
          ]
        },
        {
          "output_type": "stream",
          "name": "stderr",
          "text": [
            "\u001b[36m(func pid=95300)\u001b[0m Checkpoint successfully created at: Checkpoint(filesystem=local, path=/root/ray_results/train_cifar_2024-06-08_23-45-42/train_cifar_37be9_00015_15_batch_size=32,criterion=NLLLoss,epochs=10,l1=360,l2=168,learning_rate=0.0037,momentum=0.6190,optimizer=_2024-06-08_23-45-42/checkpoint_000003)\n"
          ]
        },
        {
          "output_type": "stream",
          "name": "stdout",
          "text": [
            "\n",
            "Trial status: 15 TERMINATED | 1 RUNNING | 4 PENDING\n",
            "Current time: 2024-06-08 23:57:44. Total running time: 12min 1s\n",
            "Logical resource usage: 12.0/12 CPUs, 1.0/1 GPUs (0.0/1.0 accelerator_type:L4)\n",
            "+------------------------------------------------------------------------------------------------------------------------------------------------------------------------------------------------------------------------+\n",
            "| Trial name                status         learning_rate     batch_size     epochs   optimizer       momentum     weight_decay     l1     l2   criterion            iter     total time (s)            loss     accuracy |\n",
            "+------------------------------------------------------------------------------------------------------------------------------------------------------------------------------------------------------------------------+\n",
            "| train_cifar_37be9_00015   RUNNING          0.00370564              32         10   adam            0.618958      0.00091318     360    168   NLLLoss                 4           27.7985     -2.53273e+18       0.0966 |\n",
            "| train_cifar_37be9_00000   TERMINATED       0.000127904             16         10   sgd             0.691209      0.00303265     360    252   CrossEntropyLoss       10          110.941       2.08142           0.2497 |\n",
            "| train_cifar_37be9_00001   TERMINATED       0.000686988            128          5   sgd             0.514858      0.00176203     360    168   CrossEntropyLoss        1            5.35428     2.30277           0.1098 |\n",
            "| train_cifar_37be9_00002   TERMINATED       0.0421174              128          5   sgd             0.504435      0.00482545     360    168   CrossEntropyLoss       10           32.8134      1.19385           0.5682 |\n",
            "| train_cifar_37be9_00003   TERMINATED       0.0205216               32         10   sgd             0.637362      0.000116181    120    168   NLLLoss                10           64.1461    nan                 0.1025 |\n",
            "| train_cifar_37be9_00004   TERMINATED       0.00887431              16          5   sgd             0.765598      0.00426428     240     84   CrossEntropyLoss       10          108.634       1.07806           0.6253 |\n",
            "| train_cifar_37be9_00005   TERMINATED       0.0235392              128         20   adam            0.765034      0.000223755    240     84   CrossEntropyLoss        2            8.53064     1.88868           0.2784 |\n",
            "| train_cifar_37be9_00006   TERMINATED       0.0897215               32         20   adam            0.657465      0.00201386     360    168   CrossEntropyLoss        1            8.8345      2.3182            0.0976 |\n",
            "| train_cifar_37be9_00007   TERMINATED       0.000141282             16         20   sgd             0.625691      0.0014128      360     84   NLLLoss                10          108.651     nan                 0.1023 |\n",
            "| train_cifar_37be9_00008   TERMINATED       0.0104716              128         10   adam            0.633325      0.000107179    120    252   CrossEntropyLoss        2            8.40516     1.55373           0.4256 |\n",
            "| train_cifar_37be9_00009   TERMINATED       0.00011069              32         10   sgd             0.810543      0.00059152     360    168   NLLLoss                10           63.61      nan                 0.1006 |\n",
            "| train_cifar_37be9_00010   TERMINATED       0.0128713              128         20   adam            0.8133        0.000435187    240     84   NLLLoss                10           33.8024     -7.36072e+19       0.1016 |\n",
            "| train_cifar_37be9_00011   TERMINATED       0.000572411            128          5   sgd             0.57995       0.00627102     120    168   CrossEntropyLoss        1            5.3228      2.30194           0.111  |\n",
            "| train_cifar_37be9_00012   TERMINATED       0.00259363             128          5   adam            0.87201       0.000580308    120     84   CrossEntropyLoss       10           33.5861      1.12108           0.6205 |\n",
            "| train_cifar_37be9_00013   TERMINATED       0.0610611               64         10   adam            0.573201      0.00816333     240     84   CrossEntropyLoss        1            6.38333     2.31208           0.0975 |\n",
            "| train_cifar_37be9_00014   TERMINATED       0.000215539             64         10   adam            0.66957       0.000294654    360    252   CrossEntropyLoss        2           10.4709      1.4851            0.4689 |\n",
            "| train_cifar_37be9_00016   PENDING          0.00468984              64         10   sgd             0.853646      0.000458833    120    168   CrossEntropyLoss                                                          |\n",
            "| train_cifar_37be9_00017   PENDING          0.0267104               32         20   adam            0.759795      0.000149732    240     84   CrossEntropyLoss                                                          |\n",
            "| train_cifar_37be9_00018   PENDING          0.0284903              128          5   sgd             0.752452      0.00079896     120    168   NLLLoss                                                                   |\n",
            "| train_cifar_37be9_00019   PENDING          0.0354501              128          5   sgd             0.891213      0.000811317    240     84   CrossEntropyLoss                                                          |\n",
            "+------------------------------------------------------------------------------------------------------------------------------------------------------------------------------------------------------------------------+\n",
            "\n",
            "Trial train_cifar_37be9_00015 finished iteration 5 at 2024-06-08 23:57:44. Total running time: 12min 2s\n",
            "+----------------------------------------------------------------+\n",
            "| Trial train_cifar_37be9_00015 result                           |\n",
            "+----------------------------------------------------------------+\n",
            "| checkpoint_dir_name                          checkpoint_000004 |\n",
            "| time_this_iter_s                                       6.42505 |\n",
            "| time_total_s                                          34.22357 |\n",
            "| training_iteration                                           5 |\n",
            "| accuracy                                                0.1028 |\n",
            "| loss                                     -6140908257161115648. |\n",
            "+----------------------------------------------------------------+\n",
            "Trial train_cifar_37be9_00015 saved a checkpoint for iteration 5 at: (local)/root/ray_results/train_cifar_2024-06-08_23-45-42/train_cifar_37be9_00015_15_batch_size=32,criterion=NLLLoss,epochs=10,l1=360,l2=168,learning_rate=0.0037,momentum=0.6190,optimizer=_2024-06-08_23-45-42/checkpoint_000004\n",
            "\u001b[36m(func pid=95300)\u001b[0m Finished Training\n"
          ]
        },
        {
          "output_type": "stream",
          "name": "stderr",
          "text": [
            "\u001b[36m(func pid=95300)\u001b[0m Checkpoint successfully created at: Checkpoint(filesystem=local, path=/root/ray_results/train_cifar_2024-06-08_23-45-42/train_cifar_37be9_00015_15_batch_size=32,criterion=NLLLoss,epochs=10,l1=360,l2=168,learning_rate=0.0037,momentum=0.6190,optimizer=_2024-06-08_23-45-42/checkpoint_000004)\n"
          ]
        },
        {
          "output_type": "stream",
          "name": "stdout",
          "text": [
            "\n",
            "Trial train_cifar_37be9_00015 finished iteration 6 at 2024-06-08 23:57:51. Total running time: 12min 8s\n",
            "+-----------------------------------------------------------------+\n",
            "| Trial train_cifar_37be9_00015 result                            |\n",
            "+-----------------------------------------------------------------+\n",
            "| checkpoint_dir_name                           checkpoint_000005 |\n",
            "| time_this_iter_s                                        6.39379 |\n",
            "| time_total_s                                           40.61736 |\n",
            "| training_iteration                                            6 |\n",
            "| accuracy                                                 0.1028 |\n",
            "| loss                                     -12580132450687096832. |\n",
            "+-----------------------------------------------------------------+\n",
            "Trial train_cifar_37be9_00015 saved a checkpoint for iteration 6 at: (local)/root/ray_results/train_cifar_2024-06-08_23-45-42/train_cifar_37be9_00015_15_batch_size=32,criterion=NLLLoss,epochs=10,l1=360,l2=168,learning_rate=0.0037,momentum=0.6190,optimizer=_2024-06-08_23-45-42/checkpoint_000005\n",
            "\u001b[36m(func pid=95300)\u001b[0m Finished Training\n"
          ]
        },
        {
          "output_type": "stream",
          "name": "stderr",
          "text": [
            "\u001b[36m(func pid=95300)\u001b[0m Checkpoint successfully created at: Checkpoint(filesystem=local, path=/root/ray_results/train_cifar_2024-06-08_23-45-42/train_cifar_37be9_00015_15_batch_size=32,criterion=NLLLoss,epochs=10,l1=360,l2=168,learning_rate=0.0037,momentum=0.6190,optimizer=_2024-06-08_23-45-42/checkpoint_000005)\n"
          ]
        },
        {
          "output_type": "stream",
          "name": "stdout",
          "text": [
            "\n",
            "Trial train_cifar_37be9_00015 finished iteration 7 at 2024-06-08 23:57:57. Total running time: 12min 15s\n",
            "+-----------------------------------------------------------------+\n",
            "| Trial train_cifar_37be9_00015 result                            |\n",
            "+-----------------------------------------------------------------+\n",
            "| checkpoint_dir_name                           checkpoint_000006 |\n",
            "| time_this_iter_s                                        6.46815 |\n",
            "| time_total_s                                           47.08551 |\n",
            "| training_iteration                                            7 |\n",
            "| accuracy                                                 0.1028 |\n",
            "| loss                                     -23043288004409044992. |\n",
            "+-----------------------------------------------------------------+\n",
            "Trial train_cifar_37be9_00015 saved a checkpoint for iteration 7 at: (local)/root/ray_results/train_cifar_2024-06-08_23-45-42/train_cifar_37be9_00015_15_batch_size=32,criterion=NLLLoss,epochs=10,l1=360,l2=168,learning_rate=0.0037,momentum=0.6190,optimizer=_2024-06-08_23-45-42/checkpoint_000006\n",
            "\u001b[36m(func pid=95300)\u001b[0m Finished Training\n"
          ]
        },
        {
          "output_type": "stream",
          "name": "stderr",
          "text": [
            "\u001b[36m(func pid=95300)\u001b[0m Checkpoint successfully created at: Checkpoint(filesystem=local, path=/root/ray_results/train_cifar_2024-06-08_23-45-42/train_cifar_37be9_00015_15_batch_size=32,criterion=NLLLoss,epochs=10,l1=360,l2=168,learning_rate=0.0037,momentum=0.6190,optimizer=_2024-06-08_23-45-42/checkpoint_000006)\n"
          ]
        },
        {
          "output_type": "stream",
          "name": "stdout",
          "text": [
            "\n",
            "Trial train_cifar_37be9_00015 finished iteration 8 at 2024-06-08 23:58:03. Total running time: 12min 21s\n",
            "+-----------------------------------------------------------------+\n",
            "| Trial train_cifar_37be9_00015 result                            |\n",
            "+-----------------------------------------------------------------+\n",
            "| checkpoint_dir_name                           checkpoint_000007 |\n",
            "| time_this_iter_s                                        6.20176 |\n",
            "| time_total_s                                           53.28727 |\n",
            "| training_iteration                                            8 |\n",
            "| accuracy                                                 0.1028 |\n",
            "| loss                                     -38988256883706159104. |\n",
            "+-----------------------------------------------------------------+\n",
            "Trial train_cifar_37be9_00015 saved a checkpoint for iteration 8 at: (local)/root/ray_results/train_cifar_2024-06-08_23-45-42/train_cifar_37be9_00015_15_batch_size=32,criterion=NLLLoss,epochs=10,l1=360,l2=168,learning_rate=0.0037,momentum=0.6190,optimizer=_2024-06-08_23-45-42/checkpoint_000007\n",
            "\u001b[36m(func pid=95300)\u001b[0m Finished Training\n"
          ]
        },
        {
          "output_type": "stream",
          "name": "stderr",
          "text": [
            "\u001b[36m(func pid=95300)\u001b[0m Checkpoint successfully created at: Checkpoint(filesystem=local, path=/root/ray_results/train_cifar_2024-06-08_23-45-42/train_cifar_37be9_00015_15_batch_size=32,criterion=NLLLoss,epochs=10,l1=360,l2=168,learning_rate=0.0037,momentum=0.6190,optimizer=_2024-06-08_23-45-42/checkpoint_000007)\n"
          ]
        },
        {
          "output_type": "stream",
          "name": "stdout",
          "text": [
            "\n",
            "Trial train_cifar_37be9_00015 finished iteration 9 at 2024-06-08 23:58:10. Total running time: 12min 27s\n",
            "+-----------------------------------------------------------------+\n",
            "| Trial train_cifar_37be9_00015 result                            |\n",
            "+-----------------------------------------------------------------+\n",
            "| checkpoint_dir_name                           checkpoint_000008 |\n",
            "| time_this_iter_s                                        6.38591 |\n",
            "| time_total_s                                           59.67318 |\n",
            "| training_iteration                                            9 |\n",
            "| accuracy                                                 0.1028 |\n",
            "| loss                                     -62101207162700267520. |\n",
            "+-----------------------------------------------------------------+\n",
            "Trial train_cifar_37be9_00015 saved a checkpoint for iteration 9 at: (local)/root/ray_results/train_cifar_2024-06-08_23-45-42/train_cifar_37be9_00015_15_batch_size=32,criterion=NLLLoss,epochs=10,l1=360,l2=168,learning_rate=0.0037,momentum=0.6190,optimizer=_2024-06-08_23-45-42/checkpoint_000008\n",
            "\u001b[36m(func pid=95300)\u001b[0m Finished Training\n"
          ]
        },
        {
          "output_type": "stream",
          "name": "stderr",
          "text": [
            "\u001b[36m(func pid=95300)\u001b[0m Checkpoint successfully created at: Checkpoint(filesystem=local, path=/root/ray_results/train_cifar_2024-06-08_23-45-42/train_cifar_37be9_00015_15_batch_size=32,criterion=NLLLoss,epochs=10,l1=360,l2=168,learning_rate=0.0037,momentum=0.6190,optimizer=_2024-06-08_23-45-42/checkpoint_000008)\n"
          ]
        },
        {
          "output_type": "stream",
          "name": "stdout",
          "text": [
            "\n",
            "Trial status: 15 TERMINATED | 1 RUNNING | 4 PENDING\n",
            "Current time: 2024-06-08 23:58:14. Total running time: 12min 31s\n",
            "Logical resource usage: 12.0/12 CPUs, 1.0/1 GPUs (0.0/1.0 accelerator_type:L4)\n",
            "+------------------------------------------------------------------------------------------------------------------------------------------------------------------------------------------------------------------------+\n",
            "| Trial name                status         learning_rate     batch_size     epochs   optimizer       momentum     weight_decay     l1     l2   criterion            iter     total time (s)            loss     accuracy |\n",
            "+------------------------------------------------------------------------------------------------------------------------------------------------------------------------------------------------------------------------+\n",
            "| train_cifar_37be9_00015   RUNNING          0.00370564              32         10   adam            0.618958      0.00091318     360    168   NLLLoss                 9           59.6732     -6.21012e+19       0.1028 |\n",
            "| train_cifar_37be9_00000   TERMINATED       0.000127904             16         10   sgd             0.691209      0.00303265     360    252   CrossEntropyLoss       10          110.941       2.08142           0.2497 |\n",
            "| train_cifar_37be9_00001   TERMINATED       0.000686988            128          5   sgd             0.514858      0.00176203     360    168   CrossEntropyLoss        1            5.35428     2.30277           0.1098 |\n",
            "| train_cifar_37be9_00002   TERMINATED       0.0421174              128          5   sgd             0.504435      0.00482545     360    168   CrossEntropyLoss       10           32.8134      1.19385           0.5682 |\n",
            "| train_cifar_37be9_00003   TERMINATED       0.0205216               32         10   sgd             0.637362      0.000116181    120    168   NLLLoss                10           64.1461    nan                 0.1025 |\n",
            "| train_cifar_37be9_00004   TERMINATED       0.00887431              16          5   sgd             0.765598      0.00426428     240     84   CrossEntropyLoss       10          108.634       1.07806           0.6253 |\n",
            "| train_cifar_37be9_00005   TERMINATED       0.0235392              128         20   adam            0.765034      0.000223755    240     84   CrossEntropyLoss        2            8.53064     1.88868           0.2784 |\n",
            "| train_cifar_37be9_00006   TERMINATED       0.0897215               32         20   adam            0.657465      0.00201386     360    168   CrossEntropyLoss        1            8.8345      2.3182            0.0976 |\n",
            "| train_cifar_37be9_00007   TERMINATED       0.000141282             16         20   sgd             0.625691      0.0014128      360     84   NLLLoss                10          108.651     nan                 0.1023 |\n",
            "| train_cifar_37be9_00008   TERMINATED       0.0104716              128         10   adam            0.633325      0.000107179    120    252   CrossEntropyLoss        2            8.40516     1.55373           0.4256 |\n",
            "| train_cifar_37be9_00009   TERMINATED       0.00011069              32         10   sgd             0.810543      0.00059152     360    168   NLLLoss                10           63.61      nan                 0.1006 |\n",
            "| train_cifar_37be9_00010   TERMINATED       0.0128713              128         20   adam            0.8133        0.000435187    240     84   NLLLoss                10           33.8024     -7.36072e+19       0.1016 |\n",
            "| train_cifar_37be9_00011   TERMINATED       0.000572411            128          5   sgd             0.57995       0.00627102     120    168   CrossEntropyLoss        1            5.3228      2.30194           0.111  |\n",
            "| train_cifar_37be9_00012   TERMINATED       0.00259363             128          5   adam            0.87201       0.000580308    120     84   CrossEntropyLoss       10           33.5861      1.12108           0.6205 |\n",
            "| train_cifar_37be9_00013   TERMINATED       0.0610611               64         10   adam            0.573201      0.00816333     240     84   CrossEntropyLoss        1            6.38333     2.31208           0.0975 |\n",
            "| train_cifar_37be9_00014   TERMINATED       0.000215539             64         10   adam            0.66957       0.000294654    360    252   CrossEntropyLoss        2           10.4709      1.4851            0.4689 |\n",
            "| train_cifar_37be9_00016   PENDING          0.00468984              64         10   sgd             0.853646      0.000458833    120    168   CrossEntropyLoss                                                          |\n",
            "| train_cifar_37be9_00017   PENDING          0.0267104               32         20   adam            0.759795      0.000149732    240     84   CrossEntropyLoss                                                          |\n",
            "| train_cifar_37be9_00018   PENDING          0.0284903              128          5   sgd             0.752452      0.00079896     120    168   NLLLoss                                                                   |\n",
            "| train_cifar_37be9_00019   PENDING          0.0354501              128          5   sgd             0.891213      0.000811317    240     84   CrossEntropyLoss                                                          |\n",
            "+------------------------------------------------------------------------------------------------------------------------------------------------------------------------------------------------------------------------+\n",
            "\n",
            "Trial train_cifar_37be9_00015 finished iteration 10 at 2024-06-08 23:58:16. Total running time: 12min 34s\n",
            "+-----------------------------------------------------------------+\n",
            "| Trial train_cifar_37be9_00015 result                            |\n",
            "+-----------------------------------------------------------------+\n",
            "| checkpoint_dir_name                           checkpoint_000009 |\n",
            "| time_this_iter_s                                        6.26091 |\n",
            "| time_total_s                                           65.93409 |\n",
            "| training_iteration                                           10 |\n",
            "| accuracy                                                 0.1028 |\n",
            "| loss                                     -94299167701103853568. |\n",
            "+-----------------------------------------------------------------+\n",
            "Trial train_cifar_37be9_00015 saved a checkpoint for iteration 10 at: (local)/root/ray_results/train_cifar_2024-06-08_23-45-42/train_cifar_37be9_00015_15_batch_size=32,criterion=NLLLoss,epochs=10,l1=360,l2=168,learning_rate=0.0037,momentum=0.6190,optimizer=_2024-06-08_23-45-42/checkpoint_000009\n",
            "\n",
            "Trial train_cifar_37be9_00015 completed after 10 iterations at 2024-06-08 23:58:16. Total running time: 12min 34s\n"
          ]
        },
        {
          "output_type": "stream",
          "name": "stderr",
          "text": [
            "\u001b[36m(func pid=95300)\u001b[0m Checkpoint successfully created at: Checkpoint(filesystem=local, path=/root/ray_results/train_cifar_2024-06-08_23-45-42/train_cifar_37be9_00015_15_batch_size=32,criterion=NLLLoss,epochs=10,l1=360,l2=168,learning_rate=0.0037,momentum=0.6190,optimizer=_2024-06-08_23-45-42/checkpoint_000009)\n"
          ]
        },
        {
          "output_type": "stream",
          "name": "stdout",
          "text": [
            "\n",
            "Trial train_cifar_37be9_00016 started with configuration:\n",
            "+-----------------------------------------------------------+\n",
            "| Trial train_cifar_37be9_00016 config                      |\n",
            "+-----------------------------------------------------------+\n",
            "| batch_size                                             64 |\n",
            "| criterion                                CrossEntropyLoss |\n",
            "| epochs                                                 10 |\n",
            "| l1                                                    120 |\n",
            "| l2                                                    168 |\n",
            "| learning_rate                                     0.00469 |\n",
            "| momentum                                          0.85365 |\n",
            "| optimizer                                             sgd |\n",
            "| weight_decay                                      0.00046 |\n",
            "+-----------------------------------------------------------+\n",
            "\u001b[36m(func pid=98120)\u001b[0m Files already downloaded and verified\n",
            "\u001b[36m(func pid=98120)\u001b[0m Files already downloaded and verified\n"
          ]
        },
        {
          "output_type": "stream",
          "name": "stderr",
          "text": [
            "\u001b[36m(func pid=98120)\u001b[0m /usr/local/lib/python3.10/dist-packages/torch/nn/modules/conv.py:456: UserWarning: Plan failed with a cudnnException: CUDNN_BACKEND_EXECUTION_PLAN_DESCRIPTOR: cudnnFinalize Descriptor Failed cudnn_status: CUDNN_STATUS_NOT_SUPPORTED (Triggered internally at ../aten/src/ATen/native/cudnn/Conv_v8.cpp:919.)\n",
            "\u001b[36m(func pid=98120)\u001b[0m   return F.conv2d(input, weight, bias, self.stride,\n"
          ]
        },
        {
          "output_type": "stream",
          "name": "stdout",
          "text": [
            "\n",
            "Trial train_cifar_37be9_00016 finished iteration 1 at 2024-06-08 23:58:27. Total running time: 12min 45s\n",
            "+------------------------------------------------------------+\n",
            "| Trial train_cifar_37be9_00016 result                       |\n",
            "+------------------------------------------------------------+\n",
            "| checkpoint_dir_name                      checkpoint_000000 |\n",
            "| time_this_iter_s                                   6.15785 |\n",
            "| time_total_s                                       6.15785 |\n",
            "| training_iteration                                       1 |\n",
            "| accuracy                                            0.2999 |\n",
            "| loss                                               1.93696 |\n",
            "+------------------------------------------------------------+\n",
            "Trial train_cifar_37be9_00016 saved a checkpoint for iteration 1 at: (local)/root/ray_results/train_cifar_2024-06-08_23-45-42/train_cifar_37be9_00016_16_batch_size=64,criterion=CrossEntropyLoss,epochs=10,l1=120,l2=168,learning_rate=0.0047,momentum=0.8536,o_2024-06-08_23-45-42/checkpoint_000000\n",
            "\n",
            "Trial train_cifar_37be9_00016 completed after 1 iterations at 2024-06-08 23:58:27. Total running time: 12min 45s\n"
          ]
        },
        {
          "output_type": "stream",
          "name": "stderr",
          "text": [
            "\u001b[36m(func pid=98120)\u001b[0m Checkpoint successfully created at: Checkpoint(filesystem=local, path=/root/ray_results/train_cifar_2024-06-08_23-45-42/train_cifar_37be9_00016_16_batch_size=64,criterion=CrossEntropyLoss,epochs=10,l1=120,l2=168,learning_rate=0.0047,momentum=0.8536,o_2024-06-08_23-45-42/checkpoint_000000)\n"
          ]
        },
        {
          "output_type": "stream",
          "name": "stdout",
          "text": [
            "\n",
            "Trial train_cifar_37be9_00017 started with configuration:\n",
            "+-----------------------------------------------------------+\n",
            "| Trial train_cifar_37be9_00017 config                      |\n",
            "+-----------------------------------------------------------+\n",
            "| batch_size                                             32 |\n",
            "| criterion                                CrossEntropyLoss |\n",
            "| epochs                                                 20 |\n",
            "| l1                                                    240 |\n",
            "| l2                                                     84 |\n",
            "| learning_rate                                     0.02671 |\n",
            "| momentum                                          0.75979 |\n",
            "| optimizer                                            adam |\n",
            "| weight_decay                                      0.00015 |\n",
            "+-----------------------------------------------------------+\n",
            "\u001b[36m(func pid=98527)\u001b[0m Files already downloaded and verified\n",
            "\u001b[36m(func pid=98527)\u001b[0m Files already downloaded and verified\n",
            "\n",
            "Trial train_cifar_37be9_00017 finished iteration 1 at 2024-06-08 23:58:41. Total running time: 12min 58s\n",
            "+------------------------------------------------------------+\n",
            "| Trial train_cifar_37be9_00017 result                       |\n",
            "+------------------------------------------------------------+\n",
            "| checkpoint_dir_name                      checkpoint_000000 |\n",
            "| time_this_iter_s                                    8.8739 |\n",
            "| time_total_s                                        8.8739 |\n",
            "| training_iteration                                       1 |\n",
            "| accuracy                                            0.0993 |\n",
            "| loss                                               2.30637 |\n",
            "+------------------------------------------------------------+\n",
            "Trial train_cifar_37be9_00017 saved a checkpoint for iteration 1 at: (local)/root/ray_results/train_cifar_2024-06-08_23-45-42/train_cifar_37be9_00017_17_batch_size=32,criterion=CrossEntropyLoss,epochs=20,l1=240,l2=84,learning_rate=0.0267,momentum=0.7598,op_2024-06-08_23-45-42/checkpoint_000000\n",
            "\n",
            "Trial train_cifar_37be9_00017 completed after 1 iterations at 2024-06-08 23:58:41. Total running time: 12min 58s\n"
          ]
        },
        {
          "output_type": "stream",
          "name": "stderr",
          "text": [
            "\u001b[36m(func pid=98527)\u001b[0m Checkpoint successfully created at: Checkpoint(filesystem=local, path=/root/ray_results/train_cifar_2024-06-08_23-45-42/train_cifar_37be9_00017_17_batch_size=32,criterion=CrossEntropyLoss,epochs=20,l1=240,l2=84,learning_rate=0.0267,momentum=0.7598,op_2024-06-08_23-45-42/checkpoint_000000)\n"
          ]
        },
        {
          "output_type": "stream",
          "name": "stdout",
          "text": [
            "\n",
            "Trial status: 18 TERMINATED | 2 PENDING\n",
            "Current time: 2024-06-08 23:58:44. Total running time: 13min 1s\n",
            "Logical resource usage: 12.0/12 CPUs, 1.0/1 GPUs (0.0/1.0 accelerator_type:L4)\n",
            "+------------------------------------------------------------------------------------------------------------------------------------------------------------------------------------------------------------------------+\n",
            "| Trial name                status         learning_rate     batch_size     epochs   optimizer       momentum     weight_decay     l1     l2   criterion            iter     total time (s)            loss     accuracy |\n",
            "+------------------------------------------------------------------------------------------------------------------------------------------------------------------------------------------------------------------------+\n",
            "| train_cifar_37be9_00000   TERMINATED       0.000127904             16         10   sgd             0.691209      0.00303265     360    252   CrossEntropyLoss       10          110.941       2.08142           0.2497 |\n",
            "| train_cifar_37be9_00001   TERMINATED       0.000686988            128          5   sgd             0.514858      0.00176203     360    168   CrossEntropyLoss        1            5.35428     2.30277           0.1098 |\n",
            "| train_cifar_37be9_00002   TERMINATED       0.0421174              128          5   sgd             0.504435      0.00482545     360    168   CrossEntropyLoss       10           32.8134      1.19385           0.5682 |\n",
            "| train_cifar_37be9_00003   TERMINATED       0.0205216               32         10   sgd             0.637362      0.000116181    120    168   NLLLoss                10           64.1461    nan                 0.1025 |\n",
            "| train_cifar_37be9_00004   TERMINATED       0.00887431              16          5   sgd             0.765598      0.00426428     240     84   CrossEntropyLoss       10          108.634       1.07806           0.6253 |\n",
            "| train_cifar_37be9_00005   TERMINATED       0.0235392              128         20   adam            0.765034      0.000223755    240     84   CrossEntropyLoss        2            8.53064     1.88868           0.2784 |\n",
            "| train_cifar_37be9_00006   TERMINATED       0.0897215               32         20   adam            0.657465      0.00201386     360    168   CrossEntropyLoss        1            8.8345      2.3182            0.0976 |\n",
            "| train_cifar_37be9_00007   TERMINATED       0.000141282             16         20   sgd             0.625691      0.0014128      360     84   NLLLoss                10          108.651     nan                 0.1023 |\n",
            "| train_cifar_37be9_00008   TERMINATED       0.0104716              128         10   adam            0.633325      0.000107179    120    252   CrossEntropyLoss        2            8.40516     1.55373           0.4256 |\n",
            "| train_cifar_37be9_00009   TERMINATED       0.00011069              32         10   sgd             0.810543      0.00059152     360    168   NLLLoss                10           63.61      nan                 0.1006 |\n",
            "| train_cifar_37be9_00010   TERMINATED       0.0128713              128         20   adam            0.8133        0.000435187    240     84   NLLLoss                10           33.8024     -7.36072e+19       0.1016 |\n",
            "| train_cifar_37be9_00011   TERMINATED       0.000572411            128          5   sgd             0.57995       0.00627102     120    168   CrossEntropyLoss        1            5.3228      2.30194           0.111  |\n",
            "| train_cifar_37be9_00012   TERMINATED       0.00259363             128          5   adam            0.87201       0.000580308    120     84   CrossEntropyLoss       10           33.5861      1.12108           0.6205 |\n",
            "| train_cifar_37be9_00013   TERMINATED       0.0610611               64         10   adam            0.573201      0.00816333     240     84   CrossEntropyLoss        1            6.38333     2.31208           0.0975 |\n",
            "| train_cifar_37be9_00014   TERMINATED       0.000215539             64         10   adam            0.66957       0.000294654    360    252   CrossEntropyLoss        2           10.4709      1.4851            0.4689 |\n",
            "| train_cifar_37be9_00015   TERMINATED       0.00370564              32         10   adam            0.618958      0.00091318     360    168   NLLLoss                10           65.9341     -9.42992e+19       0.1028 |\n",
            "| train_cifar_37be9_00016   TERMINATED       0.00468984              64         10   sgd             0.853646      0.000458833    120    168   CrossEntropyLoss        1            6.15785     1.93696           0.2999 |\n",
            "| train_cifar_37be9_00017   TERMINATED       0.0267104               32         20   adam            0.759795      0.000149732    240     84   CrossEntropyLoss        1            8.8739      2.30637           0.0993 |\n",
            "| train_cifar_37be9_00018   PENDING          0.0284903              128          5   sgd             0.752452      0.00079896     120    168   NLLLoss                                                                   |\n",
            "| train_cifar_37be9_00019   PENDING          0.0354501              128          5   sgd             0.891213      0.000811317    240     84   CrossEntropyLoss                                                          |\n",
            "+------------------------------------------------------------------------------------------------------------------------------------------------------------------------------------------------------------------------+\n",
            "\n",
            "Trial train_cifar_37be9_00018 started with configuration:\n",
            "+--------------------------------------------------+\n",
            "| Trial train_cifar_37be9_00018 config             |\n",
            "+--------------------------------------------------+\n",
            "| batch_size                                   128 |\n",
            "| criterion                                NLLLoss |\n",
            "| epochs                                         5 |\n",
            "| l1                                           120 |\n",
            "| l2                                           168 |\n",
            "| learning_rate                            0.02849 |\n",
            "| momentum                                 0.75245 |\n",
            "| optimizer                                    sgd |\n",
            "| weight_decay                              0.0008 |\n",
            "+--------------------------------------------------+\n",
            "\u001b[36m(func pid=98948)\u001b[0m Files already downloaded and verified\n",
            "\u001b[36m(func pid=98948)\u001b[0m Files already downloaded and verified\n"
          ]
        },
        {
          "output_type": "stream",
          "name": "stderr",
          "text": [
            "\u001b[36m(func pid=98948)\u001b[0m /usr/local/lib/python3.10/dist-packages/torch/nn/modules/conv.py:456: UserWarning: Plan failed with a cudnnException: CUDNN_BACKEND_EXECUTION_PLAN_DESCRIPTOR: cudnnFinalize Descriptor Failed cudnn_status: CUDNN_STATUS_NOT_SUPPORTED (Triggered internally at ../aten/src/ATen/native/cudnn/Conv_v8.cpp:919.)\n",
            "\u001b[36m(func pid=98948)\u001b[0m   return F.conv2d(input, weight, bias, self.stride,\n"
          ]
        },
        {
          "output_type": "stream",
          "name": "stdout",
          "text": [
            "\n",
            "Trial train_cifar_37be9_00018 finished iteration 1 at 2024-06-08 23:58:51. Total running time: 13min 9s\n",
            "+------------------------------------------------------------+\n",
            "| Trial train_cifar_37be9_00018 result                       |\n",
            "+------------------------------------------------------------+\n",
            "| checkpoint_dir_name                      checkpoint_000000 |\n",
            "| time_this_iter_s                                   5.19434 |\n",
            "| time_total_s                                       5.19434 |\n",
            "| training_iteration                                       1 |\n",
            "| accuracy                                            0.0994 |\n",
            "| loss                                                   nan |\n",
            "+------------------------------------------------------------+\n",
            "Trial train_cifar_37be9_00018 saved a checkpoint for iteration 1 at: (local)/root/ray_results/train_cifar_2024-06-08_23-45-42/train_cifar_37be9_00018_18_batch_size=128,criterion=NLLLoss,epochs=5,l1=120,l2=168,learning_rate=0.0285,momentum=0.7525,optimizer=_2024-06-08_23-45-42/checkpoint_000000\n",
            "\u001b[36m(func pid=98948)\u001b[0m Finished Training\n"
          ]
        },
        {
          "output_type": "stream",
          "name": "stderr",
          "text": [
            "\u001b[36m(func pid=98948)\u001b[0m Checkpoint successfully created at: Checkpoint(filesystem=local, path=/root/ray_results/train_cifar_2024-06-08_23-45-42/train_cifar_37be9_00018_18_batch_size=128,criterion=NLLLoss,epochs=5,l1=120,l2=168,learning_rate=0.0285,momentum=0.7525,optimizer=_2024-06-08_23-45-42/checkpoint_000000)\n"
          ]
        },
        {
          "output_type": "stream",
          "name": "stdout",
          "text": [
            "\n",
            "Trial train_cifar_37be9_00018 finished iteration 2 at 2024-06-08 23:58:54. Total running time: 13min 12s\n",
            "+------------------------------------------------------------+\n",
            "| Trial train_cifar_37be9_00018 result                       |\n",
            "+------------------------------------------------------------+\n",
            "| checkpoint_dir_name                      checkpoint_000001 |\n",
            "| time_this_iter_s                                   3.05543 |\n",
            "| time_total_s                                       8.24978 |\n",
            "| training_iteration                                       2 |\n",
            "| accuracy                                            0.0994 |\n",
            "| loss                                                   nan |\n",
            "+------------------------------------------------------------+\n",
            "Trial train_cifar_37be9_00018 saved a checkpoint for iteration 2 at: (local)/root/ray_results/train_cifar_2024-06-08_23-45-42/train_cifar_37be9_00018_18_batch_size=128,criterion=NLLLoss,epochs=5,l1=120,l2=168,learning_rate=0.0285,momentum=0.7525,optimizer=_2024-06-08_23-45-42/checkpoint_000001\n",
            "\u001b[36m(func pid=98948)\u001b[0m Finished Training\n"
          ]
        },
        {
          "output_type": "stream",
          "name": "stderr",
          "text": [
            "\u001b[36m(func pid=98948)\u001b[0m Checkpoint successfully created at: Checkpoint(filesystem=local, path=/root/ray_results/train_cifar_2024-06-08_23-45-42/train_cifar_37be9_00018_18_batch_size=128,criterion=NLLLoss,epochs=5,l1=120,l2=168,learning_rate=0.0285,momentum=0.7525,optimizer=_2024-06-08_23-45-42/checkpoint_000001)\n"
          ]
        },
        {
          "output_type": "stream",
          "name": "stdout",
          "text": [
            "\n",
            "Trial train_cifar_37be9_00018 finished iteration 3 at 2024-06-08 23:58:57. Total running time: 13min 15s\n",
            "+------------------------------------------------------------+\n",
            "| Trial train_cifar_37be9_00018 result                       |\n",
            "+------------------------------------------------------------+\n",
            "| checkpoint_dir_name                      checkpoint_000002 |\n",
            "| time_this_iter_s                                   3.04208 |\n",
            "| time_total_s                                      11.29186 |\n",
            "| training_iteration                                       3 |\n",
            "| accuracy                                            0.0994 |\n",
            "| loss                                                   nan |\n",
            "+------------------------------------------------------------+\n",
            "Trial train_cifar_37be9_00018 saved a checkpoint for iteration 3 at: (local)/root/ray_results/train_cifar_2024-06-08_23-45-42/train_cifar_37be9_00018_18_batch_size=128,criterion=NLLLoss,epochs=5,l1=120,l2=168,learning_rate=0.0285,momentum=0.7525,optimizer=_2024-06-08_23-45-42/checkpoint_000002\n",
            "\u001b[36m(func pid=98948)\u001b[0m Finished Training\n"
          ]
        },
        {
          "output_type": "stream",
          "name": "stderr",
          "text": [
            "\u001b[36m(func pid=98948)\u001b[0m Checkpoint successfully created at: Checkpoint(filesystem=local, path=/root/ray_results/train_cifar_2024-06-08_23-45-42/train_cifar_37be9_00018_18_batch_size=128,criterion=NLLLoss,epochs=5,l1=120,l2=168,learning_rate=0.0285,momentum=0.7525,optimizer=_2024-06-08_23-45-42/checkpoint_000002)\n"
          ]
        },
        {
          "output_type": "stream",
          "name": "stdout",
          "text": [
            "\n",
            "Trial train_cifar_37be9_00018 finished iteration 4 at 2024-06-08 23:59:00. Total running time: 13min 18s\n",
            "+------------------------------------------------------------+\n",
            "| Trial train_cifar_37be9_00018 result                       |\n",
            "+------------------------------------------------------------+\n",
            "| checkpoint_dir_name                      checkpoint_000003 |\n",
            "| time_this_iter_s                                   3.16327 |\n",
            "| time_total_s                                      14.45513 |\n",
            "| training_iteration                                       4 |\n",
            "| accuracy                                            0.0994 |\n",
            "| loss                                                   nan |\n",
            "+------------------------------------------------------------+\n",
            "Trial train_cifar_37be9_00018 saved a checkpoint for iteration 4 at: (local)/root/ray_results/train_cifar_2024-06-08_23-45-42/train_cifar_37be9_00018_18_batch_size=128,criterion=NLLLoss,epochs=5,l1=120,l2=168,learning_rate=0.0285,momentum=0.7525,optimizer=_2024-06-08_23-45-42/checkpoint_000003\n",
            "\u001b[36m(func pid=98948)\u001b[0m Finished Training\n"
          ]
        },
        {
          "output_type": "stream",
          "name": "stderr",
          "text": [
            "\u001b[36m(func pid=98948)\u001b[0m Checkpoint successfully created at: Checkpoint(filesystem=local, path=/root/ray_results/train_cifar_2024-06-08_23-45-42/train_cifar_37be9_00018_18_batch_size=128,criterion=NLLLoss,epochs=5,l1=120,l2=168,learning_rate=0.0285,momentum=0.7525,optimizer=_2024-06-08_23-45-42/checkpoint_000003)\n"
          ]
        },
        {
          "output_type": "stream",
          "name": "stdout",
          "text": [
            "\n",
            "Trial train_cifar_37be9_00018 finished iteration 5 at 2024-06-08 23:59:03. Total running time: 13min 21s\n",
            "+------------------------------------------------------------+\n",
            "| Trial train_cifar_37be9_00018 result                       |\n",
            "+------------------------------------------------------------+\n",
            "| checkpoint_dir_name                      checkpoint_000004 |\n",
            "| time_this_iter_s                                   3.01598 |\n",
            "| time_total_s                                       17.4711 |\n",
            "| training_iteration                                       5 |\n",
            "| accuracy                                            0.0994 |\n",
            "| loss                                                   nan |\n",
            "+------------------------------------------------------------+\n",
            "Trial train_cifar_37be9_00018 saved a checkpoint for iteration 5 at: (local)/root/ray_results/train_cifar_2024-06-08_23-45-42/train_cifar_37be9_00018_18_batch_size=128,criterion=NLLLoss,epochs=5,l1=120,l2=168,learning_rate=0.0285,momentum=0.7525,optimizer=_2024-06-08_23-45-42/checkpoint_000004\n",
            "\u001b[36m(func pid=98948)\u001b[0m Finished Training\n"
          ]
        },
        {
          "output_type": "stream",
          "name": "stderr",
          "text": [
            "\u001b[36m(func pid=98948)\u001b[0m Checkpoint successfully created at: Checkpoint(filesystem=local, path=/root/ray_results/train_cifar_2024-06-08_23-45-42/train_cifar_37be9_00018_18_batch_size=128,criterion=NLLLoss,epochs=5,l1=120,l2=168,learning_rate=0.0285,momentum=0.7525,optimizer=_2024-06-08_23-45-42/checkpoint_000004)\n"
          ]
        },
        {
          "output_type": "stream",
          "name": "stdout",
          "text": [
            "\n",
            "Trial train_cifar_37be9_00018 finished iteration 6 at 2024-06-08 23:59:06. Total running time: 13min 24s\n",
            "+------------------------------------------------------------+\n",
            "| Trial train_cifar_37be9_00018 result                       |\n",
            "+------------------------------------------------------------+\n",
            "| checkpoint_dir_name                      checkpoint_000005 |\n",
            "| time_this_iter_s                                   3.00514 |\n",
            "| time_total_s                                      20.47625 |\n",
            "| training_iteration                                       6 |\n",
            "| accuracy                                            0.0994 |\n",
            "| loss                                                   nan |\n",
            "+------------------------------------------------------------+\n",
            "Trial train_cifar_37be9_00018 saved a checkpoint for iteration 6 at: (local)/root/ray_results/train_cifar_2024-06-08_23-45-42/train_cifar_37be9_00018_18_batch_size=128,criterion=NLLLoss,epochs=5,l1=120,l2=168,learning_rate=0.0285,momentum=0.7525,optimizer=_2024-06-08_23-45-42/checkpoint_000005\n",
            "\u001b[36m(func pid=98948)\u001b[0m Finished Training\n"
          ]
        },
        {
          "output_type": "stream",
          "name": "stderr",
          "text": [
            "\u001b[36m(func pid=98948)\u001b[0m Checkpoint successfully created at: Checkpoint(filesystem=local, path=/root/ray_results/train_cifar_2024-06-08_23-45-42/train_cifar_37be9_00018_18_batch_size=128,criterion=NLLLoss,epochs=5,l1=120,l2=168,learning_rate=0.0285,momentum=0.7525,optimizer=_2024-06-08_23-45-42/checkpoint_000005)\n"
          ]
        },
        {
          "output_type": "stream",
          "name": "stdout",
          "text": [
            "\n",
            "Trial train_cifar_37be9_00018 finished iteration 7 at 2024-06-08 23:59:09. Total running time: 13min 27s\n",
            "+------------------------------------------------------------+\n",
            "| Trial train_cifar_37be9_00018 result                       |\n",
            "+------------------------------------------------------------+\n",
            "| checkpoint_dir_name                      checkpoint_000006 |\n",
            "| time_this_iter_s                                   3.04429 |\n",
            "| time_total_s                                      23.52053 |\n",
            "| training_iteration                                       7 |\n",
            "| accuracy                                            0.0994 |\n",
            "| loss                                                   nan |\n",
            "+------------------------------------------------------------+\n",
            "Trial train_cifar_37be9_00018 saved a checkpoint for iteration 7 at: (local)/root/ray_results/train_cifar_2024-06-08_23-45-42/train_cifar_37be9_00018_18_batch_size=128,criterion=NLLLoss,epochs=5,l1=120,l2=168,learning_rate=0.0285,momentum=0.7525,optimizer=_2024-06-08_23-45-42/checkpoint_000006\n",
            "\u001b[36m(func pid=98948)\u001b[0m Finished Training\n"
          ]
        },
        {
          "output_type": "stream",
          "name": "stderr",
          "text": [
            "\u001b[36m(func pid=98948)\u001b[0m Checkpoint successfully created at: Checkpoint(filesystem=local, path=/root/ray_results/train_cifar_2024-06-08_23-45-42/train_cifar_37be9_00018_18_batch_size=128,criterion=NLLLoss,epochs=5,l1=120,l2=168,learning_rate=0.0285,momentum=0.7525,optimizer=_2024-06-08_23-45-42/checkpoint_000006)\n"
          ]
        },
        {
          "output_type": "stream",
          "name": "stdout",
          "text": [
            "\n",
            "Trial train_cifar_37be9_00018 finished iteration 8 at 2024-06-08 23:59:13. Total running time: 13min 30s\n",
            "+------------------------------------------------------------+\n",
            "| Trial train_cifar_37be9_00018 result                       |\n",
            "+------------------------------------------------------------+\n",
            "| checkpoint_dir_name                      checkpoint_000007 |\n",
            "| time_this_iter_s                                   3.13068 |\n",
            "| time_total_s                                      26.65121 |\n",
            "| training_iteration                                       8 |\n",
            "| accuracy                                            0.0994 |\n",
            "| loss                                                   nan |\n",
            "+------------------------------------------------------------+\n",
            "Trial train_cifar_37be9_00018 saved a checkpoint for iteration 8 at: (local)/root/ray_results/train_cifar_2024-06-08_23-45-42/train_cifar_37be9_00018_18_batch_size=128,criterion=NLLLoss,epochs=5,l1=120,l2=168,learning_rate=0.0285,momentum=0.7525,optimizer=_2024-06-08_23-45-42/checkpoint_000007\n",
            "\u001b[36m(func pid=98948)\u001b[0m Finished Training\n"
          ]
        },
        {
          "output_type": "stream",
          "name": "stderr",
          "text": [
            "\u001b[36m(func pid=98948)\u001b[0m Checkpoint successfully created at: Checkpoint(filesystem=local, path=/root/ray_results/train_cifar_2024-06-08_23-45-42/train_cifar_37be9_00018_18_batch_size=128,criterion=NLLLoss,epochs=5,l1=120,l2=168,learning_rate=0.0285,momentum=0.7525,optimizer=_2024-06-08_23-45-42/checkpoint_000007)\n"
          ]
        },
        {
          "output_type": "stream",
          "name": "stdout",
          "text": [
            "\n",
            "Trial status: 18 TERMINATED | 1 RUNNING | 1 PENDING\n",
            "Current time: 2024-06-08 23:59:14. Total running time: 13min 31s\n",
            "Logical resource usage: 12.0/12 CPUs, 1.0/1 GPUs (0.0/1.0 accelerator_type:L4)\n",
            "+------------------------------------------------------------------------------------------------------------------------------------------------------------------------------------------------------------------------+\n",
            "| Trial name                status         learning_rate     batch_size     epochs   optimizer       momentum     weight_decay     l1     l2   criterion            iter     total time (s)            loss     accuracy |\n",
            "+------------------------------------------------------------------------------------------------------------------------------------------------------------------------------------------------------------------------+\n",
            "| train_cifar_37be9_00018   RUNNING          0.0284903              128          5   sgd             0.752452      0.00079896     120    168   NLLLoss                 8           26.6512    nan                 0.0994 |\n",
            "| train_cifar_37be9_00000   TERMINATED       0.000127904             16         10   sgd             0.691209      0.00303265     360    252   CrossEntropyLoss       10          110.941       2.08142           0.2497 |\n",
            "| train_cifar_37be9_00001   TERMINATED       0.000686988            128          5   sgd             0.514858      0.00176203     360    168   CrossEntropyLoss        1            5.35428     2.30277           0.1098 |\n",
            "| train_cifar_37be9_00002   TERMINATED       0.0421174              128          5   sgd             0.504435      0.00482545     360    168   CrossEntropyLoss       10           32.8134      1.19385           0.5682 |\n",
            "| train_cifar_37be9_00003   TERMINATED       0.0205216               32         10   sgd             0.637362      0.000116181    120    168   NLLLoss                10           64.1461    nan                 0.1025 |\n",
            "| train_cifar_37be9_00004   TERMINATED       0.00887431              16          5   sgd             0.765598      0.00426428     240     84   CrossEntropyLoss       10          108.634       1.07806           0.6253 |\n",
            "| train_cifar_37be9_00005   TERMINATED       0.0235392              128         20   adam            0.765034      0.000223755    240     84   CrossEntropyLoss        2            8.53064     1.88868           0.2784 |\n",
            "| train_cifar_37be9_00006   TERMINATED       0.0897215               32         20   adam            0.657465      0.00201386     360    168   CrossEntropyLoss        1            8.8345      2.3182            0.0976 |\n",
            "| train_cifar_37be9_00007   TERMINATED       0.000141282             16         20   sgd             0.625691      0.0014128      360     84   NLLLoss                10          108.651     nan                 0.1023 |\n",
            "| train_cifar_37be9_00008   TERMINATED       0.0104716              128         10   adam            0.633325      0.000107179    120    252   CrossEntropyLoss        2            8.40516     1.55373           0.4256 |\n",
            "| train_cifar_37be9_00009   TERMINATED       0.00011069              32         10   sgd             0.810543      0.00059152     360    168   NLLLoss                10           63.61      nan                 0.1006 |\n",
            "| train_cifar_37be9_00010   TERMINATED       0.0128713              128         20   adam            0.8133        0.000435187    240     84   NLLLoss                10           33.8024     -7.36072e+19       0.1016 |\n",
            "| train_cifar_37be9_00011   TERMINATED       0.000572411            128          5   sgd             0.57995       0.00627102     120    168   CrossEntropyLoss        1            5.3228      2.30194           0.111  |\n",
            "| train_cifar_37be9_00012   TERMINATED       0.00259363             128          5   adam            0.87201       0.000580308    120     84   CrossEntropyLoss       10           33.5861      1.12108           0.6205 |\n",
            "| train_cifar_37be9_00013   TERMINATED       0.0610611               64         10   adam            0.573201      0.00816333     240     84   CrossEntropyLoss        1            6.38333     2.31208           0.0975 |\n",
            "| train_cifar_37be9_00014   TERMINATED       0.000215539             64         10   adam            0.66957       0.000294654    360    252   CrossEntropyLoss        2           10.4709      1.4851            0.4689 |\n",
            "| train_cifar_37be9_00015   TERMINATED       0.00370564              32         10   adam            0.618958      0.00091318     360    168   NLLLoss                10           65.9341     -9.42992e+19       0.1028 |\n",
            "| train_cifar_37be9_00016   TERMINATED       0.00468984              64         10   sgd             0.853646      0.000458833    120    168   CrossEntropyLoss        1            6.15785     1.93696           0.2999 |\n",
            "| train_cifar_37be9_00017   TERMINATED       0.0267104               32         20   adam            0.759795      0.000149732    240     84   CrossEntropyLoss        1            8.8739      2.30637           0.0993 |\n",
            "| train_cifar_37be9_00019   PENDING          0.0354501              128          5   sgd             0.891213      0.000811317    240     84   CrossEntropyLoss                                                          |\n",
            "+------------------------------------------------------------------------------------------------------------------------------------------------------------------------------------------------------------------------+\n",
            "\n",
            "Trial train_cifar_37be9_00018 finished iteration 9 at 2024-06-08 23:59:16. Total running time: 13min 33s\n",
            "+------------------------------------------------------------+\n",
            "| Trial train_cifar_37be9_00018 result                       |\n",
            "+------------------------------------------------------------+\n",
            "| checkpoint_dir_name                      checkpoint_000008 |\n",
            "| time_this_iter_s                                   3.06359 |\n",
            "| time_total_s                                       29.7148 |\n",
            "| training_iteration                                       9 |\n",
            "| accuracy                                            0.0994 |\n",
            "| loss                                                   nan |\n",
            "+------------------------------------------------------------+\n",
            "Trial train_cifar_37be9_00018 saved a checkpoint for iteration 9 at: (local)/root/ray_results/train_cifar_2024-06-08_23-45-42/train_cifar_37be9_00018_18_batch_size=128,criterion=NLLLoss,epochs=5,l1=120,l2=168,learning_rate=0.0285,momentum=0.7525,optimizer=_2024-06-08_23-45-42/checkpoint_000008\n",
            "\u001b[36m(func pid=98948)\u001b[0m Finished Training\n"
          ]
        },
        {
          "output_type": "stream",
          "name": "stderr",
          "text": [
            "\u001b[36m(func pid=98948)\u001b[0m Checkpoint successfully created at: Checkpoint(filesystem=local, path=/root/ray_results/train_cifar_2024-06-08_23-45-42/train_cifar_37be9_00018_18_batch_size=128,criterion=NLLLoss,epochs=5,l1=120,l2=168,learning_rate=0.0285,momentum=0.7525,optimizer=_2024-06-08_23-45-42/checkpoint_000008)\n"
          ]
        },
        {
          "output_type": "stream",
          "name": "stdout",
          "text": [
            "\n",
            "Trial train_cifar_37be9_00018 finished iteration 10 at 2024-06-08 23:59:19. Total running time: 13min 36s\n",
            "+------------------------------------------------------------+\n",
            "| Trial train_cifar_37be9_00018 result                       |\n",
            "+------------------------------------------------------------+\n",
            "| checkpoint_dir_name                      checkpoint_000009 |\n",
            "| time_this_iter_s                                   3.06015 |\n",
            "| time_total_s                                      32.77495 |\n",
            "| training_iteration                                      10 |\n",
            "| accuracy                                            0.0994 |\n",
            "| loss                                                   nan |\n",
            "+------------------------------------------------------------+\n",
            "Trial train_cifar_37be9_00018 saved a checkpoint for iteration 10 at: (local)/root/ray_results/train_cifar_2024-06-08_23-45-42/train_cifar_37be9_00018_18_batch_size=128,criterion=NLLLoss,epochs=5,l1=120,l2=168,learning_rate=0.0285,momentum=0.7525,optimizer=_2024-06-08_23-45-42/checkpoint_000009\n",
            "\n",
            "Trial train_cifar_37be9_00018 completed after 10 iterations at 2024-06-08 23:59:19. Total running time: 13min 36s\n"
          ]
        },
        {
          "output_type": "stream",
          "name": "stderr",
          "text": [
            "\u001b[36m(func pid=98948)\u001b[0m Checkpoint successfully created at: Checkpoint(filesystem=local, path=/root/ray_results/train_cifar_2024-06-08_23-45-42/train_cifar_37be9_00018_18_batch_size=128,criterion=NLLLoss,epochs=5,l1=120,l2=168,learning_rate=0.0285,momentum=0.7525,optimizer=_2024-06-08_23-45-42/checkpoint_000009)\n"
          ]
        },
        {
          "output_type": "stream",
          "name": "stdout",
          "text": [
            "\n",
            "Trial train_cifar_37be9_00019 started with configuration:\n",
            "+-----------------------------------------------------------+\n",
            "| Trial train_cifar_37be9_00019 config                      |\n",
            "+-----------------------------------------------------------+\n",
            "| batch_size                                            128 |\n",
            "| criterion                                CrossEntropyLoss |\n",
            "| epochs                                                  5 |\n",
            "| l1                                                    240 |\n",
            "| l2                                                     84 |\n",
            "| learning_rate                                     0.03545 |\n",
            "| momentum                                          0.89121 |\n",
            "| optimizer                                             sgd |\n",
            "| weight_decay                                      0.00081 |\n",
            "+-----------------------------------------------------------+\n",
            "\u001b[36m(func pid=101628)\u001b[0m Files already downloaded and verified\n",
            "\u001b[36m(func pid=101628)\u001b[0m Files already downloaded and verified\n"
          ]
        },
        {
          "output_type": "stream",
          "name": "stderr",
          "text": [
            "\u001b[36m(func pid=101628)\u001b[0m /usr/local/lib/python3.10/dist-packages/torch/nn/modules/conv.py:456: UserWarning: Plan failed with a cudnnException: CUDNN_BACKEND_EXECUTION_PLAN_DESCRIPTOR: cudnnFinalize Descriptor Failed cudnn_status: CUDNN_STATUS_NOT_SUPPORTED (Triggered internally at ../aten/src/ATen/native/cudnn/Conv_v8.cpp:919.)\n",
            "\u001b[36m(func pid=101628)\u001b[0m   return F.conv2d(input, weight, bias, self.stride,\n"
          ]
        },
        {
          "output_type": "stream",
          "name": "stdout",
          "text": [
            "\n",
            "Trial train_cifar_37be9_00019 finished iteration 1 at 2024-06-08 23:59:29. Total running time: 13min 47s\n",
            "+------------------------------------------------------------+\n",
            "| Trial train_cifar_37be9_00019 result                       |\n",
            "+------------------------------------------------------------+\n",
            "| checkpoint_dir_name                      checkpoint_000000 |\n",
            "| time_this_iter_s                                    5.2224 |\n",
            "| time_total_s                                        5.2224 |\n",
            "| training_iteration                                       1 |\n",
            "| accuracy                                            0.4028 |\n",
            "| loss                                               1.59584 |\n",
            "+------------------------------------------------------------+\n",
            "Trial train_cifar_37be9_00019 saved a checkpoint for iteration 1 at: (local)/root/ray_results/train_cifar_2024-06-08_23-45-42/train_cifar_37be9_00019_19_batch_size=128,criterion=CrossEntropyLoss,epochs=5,l1=240,l2=84,learning_rate=0.0355,momentum=0.8912,op_2024-06-08_23-45-42/checkpoint_000000\n",
            "\u001b[36m(func pid=101628)\u001b[0m Finished Training\n"
          ]
        },
        {
          "output_type": "stream",
          "name": "stderr",
          "text": [
            "\u001b[36m(func pid=101628)\u001b[0m Checkpoint successfully created at: Checkpoint(filesystem=local, path=/root/ray_results/train_cifar_2024-06-08_23-45-42/train_cifar_37be9_00019_19_batch_size=128,criterion=CrossEntropyLoss,epochs=5,l1=240,l2=84,learning_rate=0.0355,momentum=0.8912,op_2024-06-08_23-45-42/checkpoint_000000)\n"
          ]
        },
        {
          "output_type": "stream",
          "name": "stdout",
          "text": [
            "\n",
            "Trial train_cifar_37be9_00019 finished iteration 2 at 2024-06-08 23:59:32. Total running time: 13min 50s\n",
            "+------------------------------------------------------------+\n",
            "| Trial train_cifar_37be9_00019 result                       |\n",
            "+------------------------------------------------------------+\n",
            "| checkpoint_dir_name                      checkpoint_000001 |\n",
            "| time_this_iter_s                                   3.03312 |\n",
            "| time_total_s                                       8.25552 |\n",
            "| training_iteration                                       2 |\n",
            "| accuracy                                            0.4921 |\n",
            "| loss                                               1.37102 |\n",
            "+------------------------------------------------------------+\n",
            "Trial train_cifar_37be9_00019 saved a checkpoint for iteration 2 at: (local)/root/ray_results/train_cifar_2024-06-08_23-45-42/train_cifar_37be9_00019_19_batch_size=128,criterion=CrossEntropyLoss,epochs=5,l1=240,l2=84,learning_rate=0.0355,momentum=0.8912,op_2024-06-08_23-45-42/checkpoint_000001\n",
            "\u001b[36m(func pid=101628)\u001b[0m Finished Training\n"
          ]
        },
        {
          "output_type": "stream",
          "name": "stderr",
          "text": [
            "\u001b[36m(func pid=101628)\u001b[0m Checkpoint successfully created at: Checkpoint(filesystem=local, path=/root/ray_results/train_cifar_2024-06-08_23-45-42/train_cifar_37be9_00019_19_batch_size=128,criterion=CrossEntropyLoss,epochs=5,l1=240,l2=84,learning_rate=0.0355,momentum=0.8912,op_2024-06-08_23-45-42/checkpoint_000001)\n"
          ]
        },
        {
          "output_type": "stream",
          "name": "stdout",
          "text": [
            "\n",
            "Trial train_cifar_37be9_00019 finished iteration 3 at 2024-06-08 23:59:35. Total running time: 13min 53s\n",
            "+------------------------------------------------------------+\n",
            "| Trial train_cifar_37be9_00019 result                       |\n",
            "+------------------------------------------------------------+\n",
            "| checkpoint_dir_name                      checkpoint_000002 |\n",
            "| time_this_iter_s                                   3.06651 |\n",
            "| time_total_s                                      11.32203 |\n",
            "| training_iteration                                       3 |\n",
            "| accuracy                                            0.5468 |\n",
            "| loss                                               1.28031 |\n",
            "+------------------------------------------------------------+\n",
            "Trial train_cifar_37be9_00019 saved a checkpoint for iteration 3 at: (local)/root/ray_results/train_cifar_2024-06-08_23-45-42/train_cifar_37be9_00019_19_batch_size=128,criterion=CrossEntropyLoss,epochs=5,l1=240,l2=84,learning_rate=0.0355,momentum=0.8912,op_2024-06-08_23-45-42/checkpoint_000002\n",
            "\u001b[36m(func pid=101628)\u001b[0m Finished Training\n"
          ]
        },
        {
          "output_type": "stream",
          "name": "stderr",
          "text": [
            "\u001b[36m(func pid=101628)\u001b[0m Checkpoint successfully created at: Checkpoint(filesystem=local, path=/root/ray_results/train_cifar_2024-06-08_23-45-42/train_cifar_37be9_00019_19_batch_size=128,criterion=CrossEntropyLoss,epochs=5,l1=240,l2=84,learning_rate=0.0355,momentum=0.8912,op_2024-06-08_23-45-42/checkpoint_000002)\n",
            "2024-06-08 23:59:38,929\tINFO tune.py:1009 -- Wrote the latest version of all result files and experiment state to '/root/ray_results/train_cifar_2024-06-08_23-45-42' in 0.0089s.\n"
          ]
        },
        {
          "output_type": "stream",
          "name": "stdout",
          "text": [
            "\n",
            "Trial train_cifar_37be9_00019 finished iteration 4 at 2024-06-08 23:59:38. Total running time: 13min 56s\n",
            "+------------------------------------------------------------+\n",
            "| Trial train_cifar_37be9_00019 result                       |\n",
            "+------------------------------------------------------------+\n",
            "| checkpoint_dir_name                      checkpoint_000003 |\n",
            "| time_this_iter_s                                   3.10821 |\n",
            "| time_total_s                                      14.43024 |\n",
            "| training_iteration                                       4 |\n",
            "| accuracy                                            0.5404 |\n",
            "| loss                                                1.2894 |\n",
            "+------------------------------------------------------------+\n",
            "Trial train_cifar_37be9_00019 saved a checkpoint for iteration 4 at: (local)/root/ray_results/train_cifar_2024-06-08_23-45-42/train_cifar_37be9_00019_19_batch_size=128,criterion=CrossEntropyLoss,epochs=5,l1=240,l2=84,learning_rate=0.0355,momentum=0.8912,op_2024-06-08_23-45-42/checkpoint_000003\n",
            "\n",
            "Trial train_cifar_37be9_00019 completed after 4 iterations at 2024-06-08 23:59:38. Total running time: 13min 56s\n",
            "\n",
            "Trial status: 20 TERMINATED\n",
            "Current time: 2024-06-08 23:59:38. Total running time: 13min 56s\n",
            "Logical resource usage: 12.0/12 CPUs, 1.0/1 GPUs (0.0/1.0 accelerator_type:L4)\n",
            "+------------------------------------------------------------------------------------------------------------------------------------------------------------------------------------------------------------------------+\n",
            "| Trial name                status         learning_rate     batch_size     epochs   optimizer       momentum     weight_decay     l1     l2   criterion            iter     total time (s)            loss     accuracy |\n",
            "+------------------------------------------------------------------------------------------------------------------------------------------------------------------------------------------------------------------------+\n",
            "| train_cifar_37be9_00000   TERMINATED       0.000127904             16         10   sgd             0.691209      0.00303265     360    252   CrossEntropyLoss       10          110.941       2.08142           0.2497 |\n",
            "| train_cifar_37be9_00001   TERMINATED       0.000686988            128          5   sgd             0.514858      0.00176203     360    168   CrossEntropyLoss        1            5.35428     2.30277           0.1098 |\n",
            "| train_cifar_37be9_00002   TERMINATED       0.0421174              128          5   sgd             0.504435      0.00482545     360    168   CrossEntropyLoss       10           32.8134      1.19385           0.5682 |\n",
            "| train_cifar_37be9_00003   TERMINATED       0.0205216               32         10   sgd             0.637362      0.000116181    120    168   NLLLoss                10           64.1461    nan                 0.1025 |\n",
            "| train_cifar_37be9_00004   TERMINATED       0.00887431              16          5   sgd             0.765598      0.00426428     240     84   CrossEntropyLoss       10          108.634       1.07806           0.6253 |\n",
            "| train_cifar_37be9_00005   TERMINATED       0.0235392              128         20   adam            0.765034      0.000223755    240     84   CrossEntropyLoss        2            8.53064     1.88868           0.2784 |\n",
            "| train_cifar_37be9_00006   TERMINATED       0.0897215               32         20   adam            0.657465      0.00201386     360    168   CrossEntropyLoss        1            8.8345      2.3182            0.0976 |\n",
            "| train_cifar_37be9_00007   TERMINATED       0.000141282             16         20   sgd             0.625691      0.0014128      360     84   NLLLoss                10          108.651     nan                 0.1023 |\n",
            "| train_cifar_37be9_00008   TERMINATED       0.0104716              128         10   adam            0.633325      0.000107179    120    252   CrossEntropyLoss        2            8.40516     1.55373           0.4256 |\n",
            "| train_cifar_37be9_00009   TERMINATED       0.00011069              32         10   sgd             0.810543      0.00059152     360    168   NLLLoss                10           63.61      nan                 0.1006 |\n",
            "| train_cifar_37be9_00010   TERMINATED       0.0128713              128         20   adam            0.8133        0.000435187    240     84   NLLLoss                10           33.8024     -7.36072e+19       0.1016 |\n",
            "| train_cifar_37be9_00011   TERMINATED       0.000572411            128          5   sgd             0.57995       0.00627102     120    168   CrossEntropyLoss        1            5.3228      2.30194           0.111  |\n",
            "| train_cifar_37be9_00012   TERMINATED       0.00259363             128          5   adam            0.87201       0.000580308    120     84   CrossEntropyLoss       10           33.5861      1.12108           0.6205 |\n",
            "| train_cifar_37be9_00013   TERMINATED       0.0610611               64         10   adam            0.573201      0.00816333     240     84   CrossEntropyLoss        1            6.38333     2.31208           0.0975 |\n",
            "| train_cifar_37be9_00014   TERMINATED       0.000215539             64         10   adam            0.66957       0.000294654    360    252   CrossEntropyLoss        2           10.4709      1.4851            0.4689 |\n",
            "| train_cifar_37be9_00015   TERMINATED       0.00370564              32         10   adam            0.618958      0.00091318     360    168   NLLLoss                10           65.9341     -9.42992e+19       0.1028 |\n",
            "| train_cifar_37be9_00016   TERMINATED       0.00468984              64         10   sgd             0.853646      0.000458833    120    168   CrossEntropyLoss        1            6.15785     1.93696           0.2999 |\n",
            "| train_cifar_37be9_00017   TERMINATED       0.0267104               32         20   adam            0.759795      0.000149732    240     84   CrossEntropyLoss        1            8.8739      2.30637           0.0993 |\n",
            "| train_cifar_37be9_00018   TERMINATED       0.0284903              128          5   sgd             0.752452      0.00079896     120    168   NLLLoss                10           32.7749    nan                 0.0994 |\n",
            "| train_cifar_37be9_00019   TERMINATED       0.0354501              128          5   sgd             0.891213      0.000811317    240     84   CrossEntropyLoss        4           14.4302      1.2894            0.5404 |\n",
            "+------------------------------------------------------------------------------------------------------------------------------------------------------------------------------------------------------------------------+\n",
            "\n",
            "Best trial config: {'learning_rate': 0.0037056378707918287, 'batch_size': 32, 'epochs': 10, 'optimizer': 'adam', 'momentum': 0.6189577811751605, 'weight_decay': 0.0009131800081448871, 'l1': 360, 'l2': 168, 'criterion': 'NLLLoss'}\n",
            "Best trial final validation loss: -9.429916770110385e+19\n",
            "Best trial final validation accuracy: 0.1028\n",
            "{'loss': -9.429916770110385e+19, 'accuracy': 0.1028, 'timestamp': 1717891096, 'checkpoint_dir_name': 'checkpoint_000009', 'should_checkpoint': True, 'done': True, 'training_iteration': 10, 'trial_id': '37be9_00015', 'date': '2024-06-08_23-58-16', 'time_this_iter_s': 6.26091194152832, 'time_total_s': 65.93409013748169, 'pid': 95300, 'hostname': 'fa6952fea978', 'node_ip': '172.28.0.12', 'config': {'learning_rate': 0.0037056378707918287, 'batch_size': 32, 'epochs': 10, 'optimizer': 'adam', 'momentum': 0.6189577811751605, 'weight_decay': 0.0009131800081448871, 'l1': 360, 'l2': 168, 'criterion': 'NLLLoss'}, 'time_since_restore': 65.93409013748169, 'iterations_since_restore': 10, 'experiment_tag': '15_batch_size=32,criterion=NLLLoss,epochs=10,l1=360,l2=168,learning_rate=0.0037,momentum=0.6190,optimizer=adam,weight_decay=0.0009'}\n"
          ]
        },
        {
          "output_type": "stream",
          "name": "stderr",
          "text": [
            "\u001b[36m(func pid=101628)\u001b[0m Checkpoint successfully created at: Checkpoint(filesystem=local, path=/root/ray_results/train_cifar_2024-06-08_23-45-42/train_cifar_37be9_00019_19_batch_size=128,criterion=CrossEntropyLoss,epochs=5,l1=240,l2=84,learning_rate=0.0355,momentum=0.8912,op_2024-06-08_23-45-42/checkpoint_000003)\n"
          ]
        },
        {
          "output_type": "stream",
          "name": "stdout",
          "text": [
            "Files already downloaded and verified\n",
            "Files already downloaded and verified\n",
            "Best trial test set accuracy: 0.1\n"
          ]
        }
      ]
    },
    {
      "cell_type": "code",
      "source": [
        "def train_hyper_param(num_samples=20, max_num_epochs=10, gpus_per_trial=1):\n",
        "    data_dir = os.path.abspath(\"./data\")\n",
        "    load_data(data_dir)\n",
        "\n",
        "    scheduler = ASHAScheduler(\n",
        "        metric=\"loss\",\n",
        "        mode=\"min\",\n",
        "        max_t=max_num_epochs,\n",
        "        grace_period=1,\n",
        "        reduction_factor=2,\n",
        "    )\n",
        "    result = tune.run(\n",
        "        partial(train_cifar, data_dir=data_dir),\n",
        "        resources_per_trial={\"cpu\": 12, \"gpu\": gpus_per_trial},\n",
        "        config=config,\n",
        "        num_samples=num_samples,\n",
        "        scheduler=scheduler,\n",
        "    )\n",
        "\n",
        "    # Manually report the best trial metrics and save the checkpoint\n",
        "    best_trial = result.get_best_trial(\"loss\", \"min\", \"last\")\n",
        "    best_trial.trainable.train_report(\n",
        "        loss=best_trial.last_result['loss'],\n",
        "        accuracy=best_trial.last_result['accuracy']\n",
        "    )\n",
        "    best_checkpoint = result.get_best_checkpoint(\n",
        "        trial=best_trial, metric=\"accuracy\", mode=\"max\"\n",
        "    )\n",
        "    with best_checkpoint.as_directory() as checkpoint_dir:\n",
        "        data_path = Path(checkpoint_dir) / \"data.pkl\"\n",
        "        with open(data_path, \"rb\") as fp:\n",
        "            best_checkpoint_data = pickle.load(fp)\n",
        "\n",
        "        best_trained_model = Net(best_trial.config[\"l1\"], best_trial.config[\"l2\"])\n",
        "        device = \"cpu\"\n",
        "        if torch.cuda.is_available():\n",
        "            device = \"cuda:0\"\n",
        "            if gpus_per_trial > 1:\n",
        "                best_trained_model = nn.DataParallel(best_trained_model)\n",
        "        best_trained_model.to(device)\n",
        "        best_trained_model.load_state_dict(best_checkpoint_data[\"net_state_dict\"])\n",
        "        test_acc = test_accuracy(best_trained_model, device)\n",
        "        print(\"Best trial test set accuracy: {}\".format(test_acc))\n",
        "\n",
        "ray.shutdown()\n",
        "ray.init()\n",
        "train_hyper_param()\n"
      ],
      "metadata": {
        "id": "3AnEutrr0s9N"
      },
      "execution_count": null,
      "outputs": []
    },
    {
      "cell_type": "markdown",
      "source": [
        "Trial status: 20 TERMINATED\n",
        "Current time: 2024-06-08 23:59:38. Total running time: 13min 56s\n",
        "Logical resource usage: 12.0/12 CPUs, 1.0/1 GPUs (0.0/1.0 accelerator_type:L4)\n",
        "\n",
        "| Trial name                | status    | learning_rate | batch_size | epochs | optimizer | momentum | weight_decay | l1  | l2  | criterion         | iter | total time (s) | loss            | accuracy |\n",
        "|---------------------------|-----------|---------------|------------|--------|-----------|----------|--------------|-----|-----|-------------------|------|----------------|-----------------|----------|\n",
        "| train_cifar_37be9_00000  | TERMINATED| 0.000127904  | 16         | 10     | sgd       | 0.691209 | 0.00303265   | 360 | 252 | CrossEntropyLoss  | 10   | 110.941        | 2.08142         | 0.2497   |\n",
        "| train_cifar_37be9_00001  | TERMINATED| 0.000686988  | 128        | 5      | sgd       | 0.514858 | 0.00176203   | 360 | 168 | CrossEntropyLoss  | 1    | 5.35428        | 2.30277         | 0.1098   |\n",
        "| train_cifar_37be9_00002  | TERMINATED| 0.0421174    | 128        | 5      | sgd       | 0.504435 | 0.00482545   | 360 | 168 | CrossEntropyLoss  | 10   | 32.8134        | 1.19385         | 0.5682   |\n",
        "| train_cifar_37be9_00003  | TERMINATED| 0.0205216    | 32         | 10     | sgd       | 0.637362 | 0.000116181  | 120 | 168 | NLLLoss           | 10   | 64.1461        | nan             | 0.1025   |\n",
        "| train_cifar_37be9_00004  | TERMINATED| 0.00887431   | 16         | 5      | sgd       | 0.765598 | 0.00426428   | 240 | 84  | CrossEntropyLoss  | 10   | 108.634        | 1.07806         | 0.6253   |\n",
        "| train_cifar_37be9_00005  | TERMINATED| 0.0235392    | 128        | 20     | adam      | 0.765034 | 0.000223755  | 240 | 84  | CrossEntropyLoss  | 2    | 8.53064        | 1.88868         | 0.2784   |\n",
        "| train_cifar_37be9_00006  | TERMINATED| 0.0897215    | 32         | 20     | adam      | 0.657465 | 0.00201386   | 360 | 168 | CrossEntropyLoss  | 1    | 8.8345         | 2.3182          | 0.0976   |\n",
        "| train_cifar_37be9_00007  | TERMINATED| 0.000141282  | 16         | 20     | sgd       | 0.625691 | 0.0014128    | 360 | 84  | NLLLoss           | 10   | 108.651        | nan             | 0.1023   |\n",
        "| train_cifar_37be9_00008  | TERMINATED| 0.0104716    | 128        | 10     | adam      | 0.633325 | 0.000107179  | 120 | 252 | CrossEntropyLoss  | 2    | 8.40516        | 1.55373         | 0.4256   |\n",
        "| train_cifar_37be9_00009  | TERMINATED| 0.00011069   | 32         | 10     | sgd       | 0.810543 | 0.00059152   | 360 | 168 | NLLLoss           | 10   | 63.61          | nan             | 0.1006   |\n",
        "| train_cifar_37be9_00010  | TERMINATED| 0.0128713    | 128        | 20     | adam      | 0.8133   | 0.000435187  | 240 | 84  | NLLLoss           | 10   | 33.8024        | -7.36072e+19    | 0.1016   |\n",
        "| train_cifar_37be9_00011  | TERMINATED| 0.000572411  | 128        | 5      | sgd       | 0.57995  | 0.00627102   | 120 | 168 | CrossEntropyLoss  | 1    | 5.3228         | 2.30194         | 0.111    |\n",
        "| train_cifar_37be9_00012  | TERMINATED| 0.00259363   | 128        | 5      | adam      | 0.87201  | 0.000580308  | 120 | 84  | CrossEntropyLoss  | 10   | 33.5861        | 1.12108         | 0.6205   |\n",
        "| train_cifar_37be9_00013  | TERMINATED| 0.0610611    | 64         | 10     | adam      | 0.573201 | 0.00816333   | 240 | 84  | CrossEntropyLoss  | 1    | 6.38333        | 2.31208         | 0.0975   |\n",
        "| train_cifar_37be9_00014  | TERMINATED| 0.000215539  | 64         | 10     | adam      | 0.66957  | 0.000294654  | 360 | 252 | CrossEntropyLoss  | 2    | 10.4709        | 1.4851          | 0.4689   |\n",
        "| train_cifar_37be9_00015  | TERMINATED| 0.00370564   | 32         | 10     | adam      | 0.618958 | 0.00091318   | 360 | 168 | NLLLoss           | 10   | 65.9341        | -9.42992e+19    | 0.1028   |\n",
        "| train_cifar_37be9_00016 |  TERMINATED    |   0.00468984 |             64        | 10  | sgd     |        0.853646  |    0.000458833  |  120  |  168 |  CrossEntropyLoss  |      1       |     6.15785   |  1.93696     |      0.2999 |\n",
        "| train_cifar_37be9_00017 |  TERMINATED  |     0.0267104        |       32   |      20 |  adam    |        0.759795   |   0.000149732   | 240  |   84 |  CrossEntropyLoss  |      1    |        8.8739  |    2.30637   |        0.0993 |\n",
        "| train_cifar_37be9_00018 |  TERMINATED   |    0.0284903              |128      |    5 |  sgd       |      0.752452  |    0.00079896    | 120  |  168 |  NLLLoss    |            10     |      32.7749  |  nan      |           0.0994 |\n",
        "| train_cifar_37be9_00019 |  TERMINATED   |    0.0354501  |            128   |       5  | sgd      |       0.891213  |    0.000811317  |  240   |  84  | CrossEntropyLoss  |      4     |      14.4302    |  1.2894     |       0.5404 |\n",
        "\n",
        "\n",
        "### Best trial config:\n",
        "```json\n",
        "{\n",
        "'learning_rate': 0.0037056378707918287,\n",
        "'batch_size': 32,         \n",
        "'epochs': 10,\n",
        "'optimizer': 'adam',\n",
        "'momentum': 0.6189577811751605,\n",
        "'weight_decay': 0.0009131800081448871,\n",
        "'l1': 360,\n",
        "'l2': 168,\n",
        "'criterion': 'NLLLoss'}\n",
        "```\n",
        "### Best trial final validation loss: -9.429916770110385e+19\n",
        "\n",
        "### Best trial final validation accuracy: 0.1028\n",
        "  ```json\n",
        "  {\n",
        "  'loss': -9.429916770110385e+19,\n",
        "  'accuracy': 0.1028,\n",
        "  'timestamp': 1717891096,\n",
        "  'checkpoint_dir_name':\n",
        "  'checkpoint_000009',\n",
        "  'should_checkpoint': True,\n",
        "  'done': True,\n",
        "  'training_iteration': 10,\n",
        "  'trial_id': '37be9_00015',\n",
        "  'date': '2024-06-08_23-58-16',\n",
        "  'time_this_iter_s': 6.26091194152832,\n",
        "  'time_total_s': 65.93409013748169,\n",
        "  'pid': 95300,\n",
        "  'hostname': 'fa6952fea978',\n",
        "  'node_ip': '172.28.0.12',\n",
        "  'config': {'learning_rate': 0.0037056378707918287,\n",
        "              'batch_size': 32,\n",
        "              'epochs': 10,\n",
        "              'optimizer': 'adam',\n",
        "              'momentum': 0.6189577811751605,\n",
        "              'weight_decay': 0.0009131800081448871,\n",
        "              'l1': 360,\n",
        "              'l2': 168,\n",
        "              'criterion': 'NLLLoss'},\n",
        "'time_since_restore': 65.93409013748169,\n",
        "'iterations_since_restore': 10,\n",
        "'experiment_tag':\n",
        "'15_batch_size=32,\n",
        "criterion=NLLLoss,\n",
        "epochs=10,l1=360,l2=168,\n",
        "learning_rate=0.0037,momentum=0.6190,\n",
        "optimizer=adam,weight_decay=0.0009'\n",
        "}\n",
        "\n",
        "```"
      ],
      "metadata": {
        "id": "zT6IHqHdTFmt"
      }
    },
    {
      "cell_type": "code",
      "source": [
        "\n",
        "from ray.tune.schedulers import ASHAScheduler\n",
        "from ray.tune import Trainable\n",
        "\n",
        "import torch\n",
        "import torch.nn as nn\n",
        "import torch.optim as optim\n",
        "from ray import tune\n",
        "from ray.tune.schedulers import ASHAScheduler\n",
        "from functools import partial\n",
        "import os\n",
        "from pathlib import Path\n",
        "import pickle\n",
        "\n",
        "class FlexibleNet(nn.Module):\n",
        "    def __init__(self, config):\n",
        "        super(FlexibleNet, self).__init__()\n",
        "        self.conv_layers = nn.ModuleList()\n",
        "        self.fc_layers = nn.ModuleList()\n",
        "\n",
        "        # Create convolutional layers\n",
        "        in_channels = config['input_size'][0]\n",
        "        for i in range(config['num_conv_layers']):\n",
        "            out_channels = config['conv_output_channels']\n",
        "            kernel_size = config['conv_kernel_size']\n",
        "            padding = config['conv_padding']\n",
        "            self.conv_layers.append(nn.Conv2d(in_channels, out_channels, kernel_size, padding=padding))\n",
        "            self.conv_layers.append(nn.ReLU(inplace=True))\n",
        "            self.conv_layers.append(nn.MaxPool2d(2, 2))\n",
        "            in_channels = out_channels\n",
        "\n",
        "        # Calculate the number of input features for the fully connected layers\n",
        "        self.num_flat_features = self._calculate_input_features(config['input_size'])\n",
        "\n",
        "        # Classifier\n",
        "        self.classifier = nn.Sequential(\n",
        "            nn.Linear(self.num_flat_features, 4096),\n",
        "            nn.ReLU(inplace=True),\n",
        "            nn.Dropout(config['dropout_rate']),\n",
        "            nn.Linear(4096, 4096),\n",
        "            nn.ReLU(inplace=True),\n",
        "            nn.Dropout(config['dropout_rate']),\n",
        "            nn.Linear(4096, config['num_classes']),\n",
        "        )\n",
        "\n",
        "    def _calculate_input_features(self, input_size):\n",
        "        dummy_input = torch.randn(1, *input_size)\n",
        "        x = dummy_input\n",
        "        for layer in self.conv_layers:\n",
        "            if isinstance(layer, nn.Conv2d) or isinstance(layer, nn.MaxPool2d):\n",
        "                x = layer(x)\n",
        "        x = torch.flatten(x, 1)\n",
        "        return x.size(1)\n",
        "\n",
        "    def forward(self, x):\n",
        "        for layer in self.conv_layers:\n",
        "            x = layer(x)\n",
        "        x = torch.flatten(x, 1)\n",
        "        x = self.classifier(x)\n",
        "        return x\n"
      ],
      "metadata": {
        "id": "qjl3vNj4fBUN"
      },
      "execution_count": 38,
      "outputs": []
    },
    {
      "cell_type": "code",
      "source": [
        "\n",
        "def train_flexible_net(config, checkpoint_dir=None):\n",
        "    net = FlexibleNet(config)\n",
        "\n",
        "    device = \"cpu\"\n",
        "    if torch.cuda.is_available():\n",
        "        device = \"cuda:0\"\n",
        "    net.to(device)\n",
        "\n",
        "    criterion = nn.CrossEntropyLoss()\n",
        "    optimizer = optim.Adam(net.parameters(), lr=0.001)\n",
        "\n",
        "    trainloader_ref, valloader_ref = get_data_loaders()\n",
        "    trainloader = get_data_loader_by_ref(trainloader_ref)\n",
        "    valloader =  get_data_loader_by_ref(valloader_ref)\n",
        "\n",
        "    for epoch in range(10):\n",
        "        net.train()\n",
        "        for batch in trainloader:\n",
        "            inputs, labels = batch\n",
        "            inputs, labels = inputs.to(device), labels.to(device)\n",
        "\n",
        "            optimizer.zero_grad()\n",
        "            outputs = net(inputs)\n",
        "            loss = criterion(outputs, labels)\n",
        "            loss.backward()\n",
        "            optimizer.step()\n",
        "\n",
        "        # Validation\n",
        "        net.eval()\n",
        "        val_loss = 0.0\n",
        "        correct = 0\n",
        "        total = 0\n",
        "        with torch.no_grad():\n",
        "            for batch in valloader:\n",
        "                inputs, labels = batch\n",
        "                inputs, labels = inputs.to(device), labels.to(device)\n",
        "                outputs = net(inputs)\n",
        "                loss = criterion(outputs, labels)\n",
        "                val_loss += loss.item()\n",
        "                _, predicted = torch.max(outputs.data, 1)\n",
        "                total += labels.size(0)\n",
        "                correct += (predicted == labels).sum().item()\n",
        "\n",
        "        val_loss /= len(valloader)\n",
        "        val_accuracy = correct / total\n",
        "\n",
        "        #tune.report(loss=val_loss, accuracy=val_accuracy)\n",
        "\n"
      ],
      "metadata": {
        "id": "xty42VVdVIM-"
      },
      "execution_count": 126,
      "outputs": []
    },
    {
      "cell_type": "code",
      "source": [
        "search_space = {\n",
        "    'num_conv_layers': tune.randint(1, 5),\n",
        "    'conv_output_channels': tune.choice([16, 32, 64, 128]),\n",
        "    'conv_kernel_size': tune.choice([1, 3, 5, 7]),\n",
        "    'conv_padding': tune.choice([0, 1, 2, 3]),\n",
        "    'num_fc_layers': tune.randint(2, 5),\n",
        "    'fc_neurons': tune.choice([120, 240, 360]),\n",
        "    'input_size': (3, 32, 32),  # Example input size for CIFAR-10\n",
        "    'num_classes': 10,\n",
        "    'dropout_rate': tune.uniform(0.1, 0.5),\n",
        "}"
      ],
      "metadata": {
        "id": "MCgnIg5tuHoy"
      },
      "execution_count": 76,
      "outputs": []
    },
    {
      "cell_type": "code",
      "source": [
        "!tensorboard --logdir /tmp/ray/session_2024-6-9_03-16-29_037620_2236/artifacts/2024-6-9_03-16-34/train_flexible_net_2024-6-9_03-16-34/driver_artifacts\n"
      ],
      "metadata": {
        "colab": {
          "base_uri": "https://localhost:8080/"
        },
        "id": "8u2rWfAhAB87",
        "outputId": "28f408af-506b-45d4-a52c-05a77e7fe3c5"
      },
      "execution_count": 73,
      "outputs": [
        {
          "output_type": "stream",
          "name": "stdout",
          "text": [
            "2024-06-09 03:18:45.473736: I tensorflow/core/util/port.cc:113] oneDNN custom operations are on. You may see slightly different numerical results due to floating-point round-off errors from different computation orders. To turn them off, set the environment variable `TF_ENABLE_ONEDNN_OPTS=0`.\n",
            "2024-06-09 03:18:45.528284: E external/local_xla/xla/stream_executor/cuda/cuda_dnn.cc:9261] Unable to register cuDNN factory: Attempting to register factory for plugin cuDNN when one has already been registered\n",
            "2024-06-09 03:18:45.528332: E external/local_xla/xla/stream_executor/cuda/cuda_fft.cc:607] Unable to register cuFFT factory: Attempting to register factory for plugin cuFFT when one has already been registered\n",
            "2024-06-09 03:18:45.530274: E external/local_xla/xla/stream_executor/cuda/cuda_blas.cc:1515] Unable to register cuBLAS factory: Attempting to register factory for plugin cuBLAS when one has already been registered\n",
            "2024-06-09 03:18:45.538821: I tensorflow/core/platform/cpu_feature_guard.cc:182] This TensorFlow binary is optimized to use available CPU instructions in performance-critical operations.\n",
            "To enable the following instructions: AVX2 AVX512F AVX512_VNNI FMA, in other operations, rebuild TensorFlow with the appropriate compiler flags.\n",
            "2024-06-09 03:18:46.573611: W tensorflow/compiler/tf2tensorrt/utils/py_utils.cc:38] TF-TRT Warning: Could not find TensorRT\n",
            "\n",
            "NOTE: Using experimental fast data loading logic. To disable, pass\n",
            "    \"--load_fast=false\" and report issues on GitHub. More details:\n",
            "    https://github.com/tensorflow/tensorboard/issues/4784\n",
            "\n",
            "Serving TensorBoard on localhost; to expose to the network, use a proxy or pass --bind_all\n",
            "TensorBoard 2.15.2 at http://localhost:6006/ (Press CTRL+C to quit)\n"
          ]
        }
      ]
    },
    {
      "cell_type": "code",
      "source": [
        "from typing_extensions import runtime\n",
        "def train_flex_hyper_param(num_samples=30, max_num_epochs=10, gpus_per_trial=1):\n",
        "    scheduler = ASHAScheduler(\n",
        "        metric=\"loss\",\n",
        "        mode=\"min\",\n",
        "        max_t=max_num_epochs,\n",
        "        grace_period=1,\n",
        "        reduction_factor=2,\n",
        "    )\n",
        "\n",
        "    print(type(trainloader))\n",
        "    resources = {\"GPU\": 1.0, \"CPU\": 10.0 }\n",
        "    result = tune.run(\n",
        "        train_flexible_net,\n",
        "        resources_per_trial= tune.PlacementGroupFactory(\n",
        "            [resources] +  [{'CPU': 1.0}]* gpus_per_trial\n",
        "        ),\n",
        "        config=search_space,\n",
        "        num_samples=num_samples,\n",
        "        scheduler=scheduler,\n",
        "    )\n",
        "    print(\"*\"*50, \"\\n Result : \", result, \"\\n\", result.dataframe)\n",
        "    print(result.get_best_config, \"*\"*50)\n",
        "    best_trial = result.get_best_trial(\"loss\", \"min\", \"last\")\n",
        "    best_accuracy_config = result.get_best_config(metric=\"accuracy\", mode=\"max\")\n",
        "    best_precision_config = result.get_best_config(metric=\"precision\", mode=\"max\")\n",
        "    best_f1_config = result.get_best_config(metric=\"f1\", mode=\"max\")\n",
        "    print(\"*#*\"*100)\n",
        "    print(f\"Results:\")\n",
        "    print(f\"Best Trial: \", best_trial)\n",
        "    print(f\"Best Accuracy Config: \", best_accuracy_config)\n",
        "    print(f\"Best Precision Config: \", best_precision_config)\n",
        "    print(f\"Best F1 Config: \", best_f1_config)\n",
        "    print(\"*#*\"*100)\n",
        "\n",
        "    best_trained_model = FlexibleNet(best_trial.config)\n",
        "    device = \"cpu\"\n",
        "    if torch.cuda.is_available():\n",
        "        device = \"cuda:0\"\n",
        "        if gpus_per_trial > 1:\n",
        "            best_trained_model = nn.DataParallel(best_trained_model)\n",
        "    best_trained_model.to(device)\n",
        "\n",
        "    best_checkpoint = result.get_best_checkpoint(trial=best_trial, metric=\"accuracy\", mode=\"max\")\n",
        "    with best_checkpoint.as_directory() as checkpoint_dir:\n",
        "        data_path = Path(checkpoint_dir) / \"data.pkl\"\n",
        "        with open(data_path, \"rb\") as fp:\n",
        "            best_checkpoint_data = pickle.load(fp)\n",
        "\n",
        "        best_trained_model.load_state_dict(best_checkpoint_data[\"net_state_dict\"])\n",
        "        test_acc = test_accuracy(best_trained_model, device)\n",
        "        print(\"Best trial test set accuracy: {}\".format(test_acc))\n",
        "\n",
        "\n",
        "\n"
      ],
      "metadata": {
        "id": "iF7eiT_0t5WR"
      },
      "execution_count": 127,
      "outputs": []
    },
    {
      "cell_type": "code",
      "source": [
        "\n",
        "# Ensure that you have Ray initialized\n",
        "import ray\n",
        "ray.shutdown()\n",
        "ray.init()\n",
        "\n",
        "path_to_data = \"./data\"\n",
        "trainset, testset = load_data(path_to_data)\n",
        "test_abs = int(len(trainset) * 0.8)\n",
        "train_subset, val_subset = random_split(\n",
        "          trainset, [test_abs, len(trainset) - test_abs]\n",
        "      )\n",
        "trainloader = torch.utils.data.DataLoader(\n",
        "train_subset, batch_size=16, shuffle=True, num_workers=8\n",
        "      )\n",
        "valloader = torch.utils.data.DataLoader(\n",
        "\n",
        "val_subset, batch_size=16, shuffle=True, num_workers=8\n",
        "      )\n",
        "\n",
        "# Store trainloader and valloader in the Ray object store\n",
        "trainloader_ref = ray.put(trainloader)\n",
        "valloader_ref = ray.put(valloader)\n",
        "\n",
        "\n",
        "def get_data_loaders():\n",
        "    return trainloader_ref, valloader_ref\n",
        "\n",
        "def get_data_loader_by_ref(loader_ref):\n",
        "    return ray.get(loader_ref)\n",
        "\n",
        "train_flex_hyper_param()"
      ],
      "metadata": {
        "colab": {
          "base_uri": "https://localhost:8080/",
          "height": 1000
        },
        "id": "IuryukmsY8wI",
        "outputId": "c57d0fc4-9c8c-4221-b719-35741f40179a"
      },
      "execution_count": 128,
      "outputs": [
        {
          "output_type": "stream",
          "name": "stderr",
          "text": [
            "2024-06-09 05:47:44,866\tINFO worker.py:1753 -- Started a local Ray instance.\n"
          ]
        },
        {
          "output_type": "stream",
          "name": "stdout",
          "text": [
            "Files already downloaded and verified\n",
            "Files already downloaded and verified\n",
            "<class 'torch.utils.data.dataloader.DataLoader'>\n",
            "+---------------------------------------------------------------------------+\n",
            "| Configuration for experiment     train_flexible_net_2024-06-09_05-47-50   |\n",
            "+---------------------------------------------------------------------------+\n",
            "| Search algorithm                 BasicVariantGenerator                    |\n",
            "| Scheduler                        AsyncHyperBandScheduler                  |\n",
            "| Number of trials                 30                                       |\n",
            "+---------------------------------------------------------------------------+\n",
            "\n",
            "View detailed results here: /root/ray_results/train_flexible_net_2024-06-09_05-47-50\n",
            "To visualize your results with TensorBoard, run: `tensorboard --logdir /tmp/ray/session_2024-06-09_05-47-42_675353_2236/artifacts/2024-06-09_05-47-50/train_flexible_net_2024-06-09_05-47-50/driver_artifacts`\n",
            "\n",
            "Trial status: 30 PENDING\n",
            "Current time: 2024-06-09 05:47:50. Total running time: 0s\n",
            "Logical resource usage: 11.0/12 CPUs, 1.0/1 GPUs (0.0/1.0 accelerator_type:L4)\n",
            "+--------------------------------------------------------------------------------------------------------------------------------------------------------------------------------+\n",
            "| Trial name                       status       num_conv_layers     conv_output_channels     conv_kernel_size     conv_padding     num_fc_layers     fc_neurons     dropout_rate |\n",
            "+--------------------------------------------------------------------------------------------------------------------------------------------------------------------------------+\n",
            "| train_flexible_net_ce78e_00000   PENDING                    3                       32                    3                1                 3            360         0.175578 |\n",
            "| train_flexible_net_ce78e_00001   PENDING                    1                      128                    3                3                 3            120         0.39715  |\n",
            "| train_flexible_net_ce78e_00002   PENDING                    3                       32                    7                3                 2            240         0.117179 |\n",
            "| train_flexible_net_ce78e_00003   PENDING                    2                      128                    1                0                 4            240         0.387654 |\n",
            "| train_flexible_net_ce78e_00004   PENDING                    4                       32                    3                2                 4            240         0.152988 |\n",
            "+--------------------------------------------------------------------------------------------------------------------------------------------------------------------------------+\n",
            "25 more PENDING\n",
            "\n",
            "Trial train_flexible_net_ce78e_00000 started with configuration:\n",
            "+-------------------------------------------------------------+\n",
            "| Trial train_flexible_net_ce78e_00000 config                 |\n",
            "+-------------------------------------------------------------+\n",
            "| conv_kernel_size                                          3 |\n",
            "| conv_output_channels                                     32 |\n",
            "| conv_padding                                              1 |\n",
            "| dropout_rate                                        0.17558 |\n",
            "| fc_neurons                                              360 |\n",
            "| input_size                                      (3, 32, 32) |\n",
            "| num_classes                                              10 |\n",
            "| num_conv_layers                                           3 |\n",
            "| num_fc_layers                                             3 |\n",
            "+-------------------------------------------------------------+\n"
          ]
        },
        {
          "output_type": "stream",
          "name": "stderr",
          "text": [
            "\u001b[36m(train_flexible_net pid=238549)\u001b[0m /usr/local/lib/python3.10/dist-packages/torch/autograd/graph.py:744: UserWarning: Plan failed with a cudnnException: CUDNN_BACKEND_EXECUTION_PLAN_DESCRIPTOR: cudnnFinalize Descriptor Failed cudnn_status: CUDNN_STATUS_NOT_SUPPORTED (Triggered internally at ../aten/src/ATen/native/cudnn/Conv_v8.cpp:919.)\n",
            "\u001b[36m(train_flexible_net pid=238549)\u001b[0m   return Variable._execution_engine.run_backward(  # Calls into the C++ engine to run the backward pass\n"
          ]
        },
        {
          "output_type": "stream",
          "name": "stdout",
          "text": [
            "\n",
            "Trial status: 1 RUNNING | 29 PENDING\n",
            "Current time: 2024-06-09 05:48:20. Total running time: 30s\n",
            "Logical resource usage: 11.0/12 CPUs, 1.0/1 GPUs (0.0/1.0 accelerator_type:L4)\n",
            "+--------------------------------------------------------------------------------------------------------------------------------------------------------------------------------+\n",
            "| Trial name                       status       num_conv_layers     conv_output_channels     conv_kernel_size     conv_padding     num_fc_layers     fc_neurons     dropout_rate |\n",
            "+--------------------------------------------------------------------------------------------------------------------------------------------------------------------------------+\n",
            "| train_flexible_net_ce78e_00000   RUNNING                    3                       32                    3                1                 3            360         0.175578 |\n",
            "| train_flexible_net_ce78e_00001   PENDING                    1                      128                    3                3                 3            120         0.39715  |\n",
            "| train_flexible_net_ce78e_00002   PENDING                    3                       32                    7                3                 2            240         0.117179 |\n",
            "| train_flexible_net_ce78e_00003   PENDING                    2                      128                    1                0                 4            240         0.387654 |\n",
            "| train_flexible_net_ce78e_00004   PENDING                    4                       32                    3                2                 4            240         0.152988 |\n",
            "| train_flexible_net_ce78e_00005   PENDING                    2                       32                    3                0                 2            240         0.372438 |\n",
            "+--------------------------------------------------------------------------------------------------------------------------------------------------------------------------------+\n",
            "24 more PENDING\n",
            "Trial status: 1 RUNNING | 29 PENDING\n",
            "Current time: 2024-06-09 05:48:50. Total running time: 1min 0s\n",
            "Logical resource usage: 11.0/12 CPUs, 1.0/1 GPUs (0.0/1.0 accelerator_type:L4)\n",
            "+--------------------------------------------------------------------------------------------------------------------------------------------------------------------------------+\n",
            "| Trial name                       status       num_conv_layers     conv_output_channels     conv_kernel_size     conv_padding     num_fc_layers     fc_neurons     dropout_rate |\n",
            "+--------------------------------------------------------------------------------------------------------------------------------------------------------------------------------+\n",
            "| train_flexible_net_ce78e_00000   RUNNING                    3                       32                    3                1                 3            360         0.175578 |\n",
            "| train_flexible_net_ce78e_00001   PENDING                    1                      128                    3                3                 3            120         0.39715  |\n",
            "| train_flexible_net_ce78e_00002   PENDING                    3                       32                    7                3                 2            240         0.117179 |\n",
            "| train_flexible_net_ce78e_00003   PENDING                    2                      128                    1                0                 4            240         0.387654 |\n",
            "| train_flexible_net_ce78e_00004   PENDING                    4                       32                    3                2                 4            240         0.152988 |\n",
            "| train_flexible_net_ce78e_00005   PENDING                    2                       32                    3                0                 2            240         0.372438 |\n",
            "+--------------------------------------------------------------------------------------------------------------------------------------------------------------------------------+\n",
            "24 more PENDING\n",
            "Trial status: 1 RUNNING | 29 PENDING\n",
            "Current time: 2024-06-09 05:49:20. Total running time: 1min 30s\n",
            "Logical resource usage: 11.0/12 CPUs, 1.0/1 GPUs (0.0/1.0 accelerator_type:L4)\n",
            "+--------------------------------------------------------------------------------------------------------------------------------------------------------------------------------+\n",
            "| Trial name                       status       num_conv_layers     conv_output_channels     conv_kernel_size     conv_padding     num_fc_layers     fc_neurons     dropout_rate |\n",
            "+--------------------------------------------------------------------------------------------------------------------------------------------------------------------------------+\n",
            "| train_flexible_net_ce78e_00000   RUNNING                    3                       32                    3                1                 3            360         0.175578 |\n",
            "| train_flexible_net_ce78e_00001   PENDING                    1                      128                    3                3                 3            120         0.39715  |\n",
            "| train_flexible_net_ce78e_00002   PENDING                    3                       32                    7                3                 2            240         0.117179 |\n",
            "| train_flexible_net_ce78e_00003   PENDING                    2                      128                    1                0                 4            240         0.387654 |\n",
            "| train_flexible_net_ce78e_00004   PENDING                    4                       32                    3                2                 4            240         0.152988 |\n",
            "| train_flexible_net_ce78e_00005   PENDING                    2                       32                    3                0                 2            240         0.372438 |\n",
            "+--------------------------------------------------------------------------------------------------------------------------------------------------------------------------------+\n",
            "24 more PENDING\n",
            "Trial status: 1 RUNNING | 29 PENDING\n",
            "Current time: 2024-06-09 05:49:50. Total running time: 2min 0s\n",
            "Logical resource usage: 11.0/12 CPUs, 1.0/1 GPUs (0.0/1.0 accelerator_type:L4)\n",
            "+--------------------------------------------------------------------------------------------------------------------------------------------------------------------------------+\n",
            "| Trial name                       status       num_conv_layers     conv_output_channels     conv_kernel_size     conv_padding     num_fc_layers     fc_neurons     dropout_rate |\n",
            "+--------------------------------------------------------------------------------------------------------------------------------------------------------------------------------+\n",
            "| train_flexible_net_ce78e_00000   RUNNING                    3                       32                    3                1                 3            360         0.175578 |\n",
            "| train_flexible_net_ce78e_00001   PENDING                    1                      128                    3                3                 3            120         0.39715  |\n",
            "| train_flexible_net_ce78e_00002   PENDING                    3                       32                    7                3                 2            240         0.117179 |\n",
            "| train_flexible_net_ce78e_00003   PENDING                    2                      128                    1                0                 4            240         0.387654 |\n",
            "| train_flexible_net_ce78e_00004   PENDING                    4                       32                    3                2                 4            240         0.152988 |\n",
            "| train_flexible_net_ce78e_00005   PENDING                    2                       32                    3                0                 2            240         0.372438 |\n",
            "+--------------------------------------------------------------------------------------------------------------------------------------------------------------------------------+\n",
            "24 more PENDING\n",
            "Trial status: 1 RUNNING | 29 PENDING\n",
            "Current time: 2024-06-09 05:50:20. Total running time: 2min 30s\n",
            "Logical resource usage: 11.0/12 CPUs, 1.0/1 GPUs (0.0/1.0 accelerator_type:L4)\n",
            "+--------------------------------------------------------------------------------------------------------------------------------------------------------------------------------+\n",
            "| Trial name                       status       num_conv_layers     conv_output_channels     conv_kernel_size     conv_padding     num_fc_layers     fc_neurons     dropout_rate |\n",
            "+--------------------------------------------------------------------------------------------------------------------------------------------------------------------------------+\n",
            "| train_flexible_net_ce78e_00000   RUNNING                    3                       32                    3                1                 3            360         0.175578 |\n",
            "| train_flexible_net_ce78e_00001   PENDING                    1                      128                    3                3                 3            120         0.39715  |\n",
            "| train_flexible_net_ce78e_00002   PENDING                    3                       32                    7                3                 2            240         0.117179 |\n",
            "| train_flexible_net_ce78e_00003   PENDING                    2                      128                    1                0                 4            240         0.387654 |\n",
            "| train_flexible_net_ce78e_00004   PENDING                    4                       32                    3                2                 4            240         0.152988 |\n",
            "| train_flexible_net_ce78e_00005   PENDING                    2                       32                    3                0                 2            240         0.372438 |\n",
            "+--------------------------------------------------------------------------------------------------------------------------------------------------------------------------------+\n",
            "24 more PENDING\n",
            "Trial status: 1 RUNNING | 29 PENDING\n",
            "Current time: 2024-06-09 05:50:50. Total running time: 3min 0s\n",
            "Logical resource usage: 11.0/12 CPUs, 1.0/1 GPUs (0.0/1.0 accelerator_type:L4)\n",
            "+--------------------------------------------------------------------------------------------------------------------------------------------------------------------------------+\n",
            "| Trial name                       status       num_conv_layers     conv_output_channels     conv_kernel_size     conv_padding     num_fc_layers     fc_neurons     dropout_rate |\n",
            "+--------------------------------------------------------------------------------------------------------------------------------------------------------------------------------+\n",
            "| train_flexible_net_ce78e_00000   RUNNING                    3                       32                    3                1                 3            360         0.175578 |\n",
            "| train_flexible_net_ce78e_00001   PENDING                    1                      128                    3                3                 3            120         0.39715  |\n",
            "| train_flexible_net_ce78e_00002   PENDING                    3                       32                    7                3                 2            240         0.117179 |\n",
            "| train_flexible_net_ce78e_00003   PENDING                    2                      128                    1                0                 4            240         0.387654 |\n",
            "| train_flexible_net_ce78e_00004   PENDING                    4                       32                    3                2                 4            240         0.152988 |\n",
            "| train_flexible_net_ce78e_00005   PENDING                    2                       32                    3                0                 2            240         0.372438 |\n",
            "+--------------------------------------------------------------------------------------------------------------------------------------------------------------------------------+\n",
            "24 more PENDING\n",
            "Trial status: 1 RUNNING | 29 PENDING\n",
            "Current time: 2024-06-09 05:51:20. Total running time: 3min 30s\n",
            "Logical resource usage: 11.0/12 CPUs, 1.0/1 GPUs (0.0/1.0 accelerator_type:L4)\n",
            "+--------------------------------------------------------------------------------------------------------------------------------------------------------------------------------+\n",
            "| Trial name                       status       num_conv_layers     conv_output_channels     conv_kernel_size     conv_padding     num_fc_layers     fc_neurons     dropout_rate |\n",
            "+--------------------------------------------------------------------------------------------------------------------------------------------------------------------------------+\n",
            "| train_flexible_net_ce78e_00000   RUNNING                    3                       32                    3                1                 3            360         0.175578 |\n",
            "| train_flexible_net_ce78e_00001   PENDING                    1                      128                    3                3                 3            120         0.39715  |\n",
            "| train_flexible_net_ce78e_00002   PENDING                    3                       32                    7                3                 2            240         0.117179 |\n",
            "| train_flexible_net_ce78e_00003   PENDING                    2                      128                    1                0                 4            240         0.387654 |\n",
            "| train_flexible_net_ce78e_00004   PENDING                    4                       32                    3                2                 4            240         0.152988 |\n",
            "| train_flexible_net_ce78e_00005   PENDING                    2                       32                    3                0                 2            240         0.372438 |\n",
            "+--------------------------------------------------------------------------------------------------------------------------------------------------------------------------------+\n",
            "24 more PENDING\n",
            "\n"
          ]
        },
        {
          "output_type": "error",
          "ename": "TuneError",
          "evalue": "Traceback (most recent call last):\n  File \"/usr/local/lib/python3.10/dist-packages/ray/tune/execution/tune_controller.py\", line 1220, in _on_result\n    on_result(trial, *args, **kwargs)\n  File \"/usr/local/lib/python3.10/dist-packages/ray/tune/execution/tune_controller.py\", line 1519, in _on_training_result\n    self._process_trial_results(trial, result)\n  File \"/usr/local/lib/python3.10/dist-packages/ray/tune/execution/tune_controller.py\", line 1532, in _process_trial_results\n    decision = self._process_trial_result(trial, result)\n  File \"/usr/local/lib/python3.10/dist-packages/ray/tune/execution/tune_controller.py\", line 1569, in _process_trial_result\n    self._validate_result_metrics(flat_result)\n  File \"/usr/local/lib/python3.10/dist-packages/ray/tune/execution/tune_controller.py\", line 1678, in _validate_result_metrics\n    raise ValueError(\nValueError: Trial returned a result which did not include the specified metric(s) `loss` that `AsyncHyperBandScheduler` expects. Make sure your calls to `tune.report()` include the metric, or set the TUNE_DISABLE_STRICT_METRIC_CHECKING environment variable to 1. Result: {'trial_id': 'ce78e_00000', 'date': '2024-06-09_05-47-53', 'timestamp': 1717912073, 'pid': 238549, 'hostname': 'fa6952fea978', 'node_ip': '172.28.0.12', 'done': True, 'config/num_conv_layers': 3, 'config/conv_output_channels': 32, 'config/conv_kernel_size': 3, 'config/conv_padding': 1, 'config/num_fc_layers': 3, 'config/fc_neurons': 360, 'config/input_size': (3, 32, 32), 'config/num_classes': 10, 'config/dropout_rate': 0.17557761241445471}\n",
          "traceback": [
            "\u001b[0;31m---------------------------------------------------------------------------\u001b[0m",
            "\u001b[0;31mValueError\u001b[0m                                Traceback (most recent call last)",
            "\u001b[0;32m/usr/local/lib/python3.10/dist-packages/ray/tune/execution/tune_controller.py\u001b[0m in \u001b[0;36m_on_result\u001b[0;34m(tracked_actor, *args, **kwargs)\u001b[0m\n\u001b[1;32m   1219\u001b[0m                 \u001b[0;32mtry\u001b[0m\u001b[0;34m:\u001b[0m\u001b[0;34m\u001b[0m\u001b[0;34m\u001b[0m\u001b[0m\n\u001b[0;32m-> 1220\u001b[0;31m                     \u001b[0mon_result\u001b[0m\u001b[0;34m(\u001b[0m\u001b[0mtrial\u001b[0m\u001b[0;34m,\u001b[0m \u001b[0;34m*\u001b[0m\u001b[0margs\u001b[0m\u001b[0;34m,\u001b[0m \u001b[0;34m**\u001b[0m\u001b[0mkwargs\u001b[0m\u001b[0;34m)\u001b[0m\u001b[0;34m\u001b[0m\u001b[0;34m\u001b[0m\u001b[0m\n\u001b[0m\u001b[1;32m   1221\u001b[0m                 \u001b[0;32mexcept\u001b[0m \u001b[0mException\u001b[0m \u001b[0;32mas\u001b[0m \u001b[0me\u001b[0m\u001b[0;34m:\u001b[0m\u001b[0;34m\u001b[0m\u001b[0;34m\u001b[0m\u001b[0m\n",
            "\u001b[0;32m/usr/local/lib/python3.10/dist-packages/ray/tune/execution/tune_controller.py\u001b[0m in \u001b[0;36m_on_training_result\u001b[0;34m(self, trial, result)\u001b[0m\n\u001b[1;32m   1518\u001b[0m         \u001b[0;32mwith\u001b[0m \u001b[0mwarn_if_slow\u001b[0m\u001b[0;34m(\u001b[0m\u001b[0;34m\"process_trial_result\"\u001b[0m\u001b[0;34m)\u001b[0m\u001b[0;34m:\u001b[0m\u001b[0;34m\u001b[0m\u001b[0;34m\u001b[0m\u001b[0m\n\u001b[0;32m-> 1519\u001b[0;31m             \u001b[0mself\u001b[0m\u001b[0;34m.\u001b[0m\u001b[0m_process_trial_results\u001b[0m\u001b[0;34m(\u001b[0m\u001b[0mtrial\u001b[0m\u001b[0;34m,\u001b[0m \u001b[0mresult\u001b[0m\u001b[0;34m)\u001b[0m\u001b[0;34m\u001b[0m\u001b[0;34m\u001b[0m\u001b[0m\n\u001b[0m\u001b[1;32m   1520\u001b[0m         \u001b[0mself\u001b[0m\u001b[0;34m.\u001b[0m\u001b[0m_maybe_execute_queued_decision\u001b[0m\u001b[0;34m(\u001b[0m\u001b[0mtrial\u001b[0m\u001b[0;34m,\u001b[0m \u001b[0mafter_save\u001b[0m\u001b[0;34m=\u001b[0m\u001b[0;32mFalse\u001b[0m\u001b[0;34m)\u001b[0m\u001b[0;34m\u001b[0m\u001b[0;34m\u001b[0m\u001b[0m\n",
            "\u001b[0;32m/usr/local/lib/python3.10/dist-packages/ray/tune/execution/tune_controller.py\u001b[0m in \u001b[0;36m_process_trial_results\u001b[0;34m(self, trial, results)\u001b[0m\n\u001b[1;32m   1531\u001b[0m                 \u001b[0;32mwith\u001b[0m \u001b[0mwarn_if_slow\u001b[0m\u001b[0;34m(\u001b[0m\u001b[0;34m\"process_trial_result\"\u001b[0m\u001b[0;34m)\u001b[0m\u001b[0;34m:\u001b[0m\u001b[0;34m\u001b[0m\u001b[0;34m\u001b[0m\u001b[0m\n\u001b[0;32m-> 1532\u001b[0;31m                     \u001b[0mdecision\u001b[0m \u001b[0;34m=\u001b[0m \u001b[0mself\u001b[0m\u001b[0;34m.\u001b[0m\u001b[0m_process_trial_result\u001b[0m\u001b[0;34m(\u001b[0m\u001b[0mtrial\u001b[0m\u001b[0;34m,\u001b[0m \u001b[0mresult\u001b[0m\u001b[0;34m)\u001b[0m\u001b[0;34m\u001b[0m\u001b[0;34m\u001b[0m\u001b[0m\n\u001b[0m\u001b[1;32m   1533\u001b[0m                 \u001b[0;32mif\u001b[0m \u001b[0mdecision\u001b[0m \u001b[0;32mis\u001b[0m \u001b[0;32mNone\u001b[0m\u001b[0;34m:\u001b[0m\u001b[0;34m\u001b[0m\u001b[0;34m\u001b[0m\u001b[0m\n",
            "\u001b[0;32m/usr/local/lib/python3.10/dist-packages/ray/tune/execution/tune_controller.py\u001b[0m in \u001b[0;36m_process_trial_result\u001b[0;34m(self, trial, result)\u001b[0m\n\u001b[1;32m   1568\u001b[0m         \u001b[0mflat_result\u001b[0m \u001b[0;34m=\u001b[0m \u001b[0mflatten_dict\u001b[0m\u001b[0;34m(\u001b[0m\u001b[0mresult\u001b[0m\u001b[0;34m)\u001b[0m\u001b[0;34m\u001b[0m\u001b[0;34m\u001b[0m\u001b[0m\n\u001b[0;32m-> 1569\u001b[0;31m         \u001b[0mself\u001b[0m\u001b[0;34m.\u001b[0m\u001b[0m_validate_result_metrics\u001b[0m\u001b[0;34m(\u001b[0m\u001b[0mflat_result\u001b[0m\u001b[0;34m)\u001b[0m\u001b[0;34m\u001b[0m\u001b[0;34m\u001b[0m\u001b[0m\n\u001b[0m\u001b[1;32m   1570\u001b[0m \u001b[0;34m\u001b[0m\u001b[0m\n",
            "\u001b[0;32m/usr/local/lib/python3.10/dist-packages/ray/tune/execution/tune_controller.py\u001b[0m in \u001b[0;36m_validate_result_metrics\u001b[0;34m(self, result)\u001b[0m\n\u001b[1;32m   1677\u001b[0m             \u001b[0;32mif\u001b[0m \u001b[0mreport_metric\u001b[0m\u001b[0;34m:\u001b[0m\u001b[0;34m\u001b[0m\u001b[0;34m\u001b[0m\u001b[0m\n\u001b[0;32m-> 1678\u001b[0;31m                 raise ValueError(\n\u001b[0m\u001b[1;32m   1679\u001b[0m                     \u001b[0;34m\"Trial returned a result which did not include the \"\u001b[0m\u001b[0;34m\u001b[0m\u001b[0;34m\u001b[0m\u001b[0m\n",
            "\u001b[0;31mValueError\u001b[0m: Trial returned a result which did not include the specified metric(s) `loss` that `AsyncHyperBandScheduler` expects. Make sure your calls to `tune.report()` include the metric, or set the TUNE_DISABLE_STRICT_METRIC_CHECKING environment variable to 1. Result: {'trial_id': 'ce78e_00000', 'date': '2024-06-09_05-47-53', 'timestamp': 1717912073, 'pid': 238549, 'hostname': 'fa6952fea978', 'node_ip': '172.28.0.12', 'done': True, 'config/num_conv_layers': 3, 'config/conv_output_channels': 32, 'config/conv_kernel_size': 3, 'config/conv_padding': 1, 'config/num_fc_layers': 3, 'config/fc_neurons': 360, 'config/input_size': (3, 32, 32), 'config/num_classes': 10, 'config/dropout_rate': 0.17557761241445471}",
            "\nDuring handling of the above exception, another exception occurred:\n",
            "\u001b[0;31mTuneError\u001b[0m                                 Traceback (most recent call last)",
            "\u001b[0;32m<ipython-input-128-27b74ee5d037>\u001b[0m in \u001b[0;36m<cell line: 31>\u001b[0;34m()\u001b[0m\n\u001b[1;32m     29\u001b[0m     \u001b[0;32mreturn\u001b[0m \u001b[0mray\u001b[0m\u001b[0;34m.\u001b[0m\u001b[0mget\u001b[0m\u001b[0;34m(\u001b[0m\u001b[0mloader_ref\u001b[0m\u001b[0;34m)\u001b[0m\u001b[0;34m\u001b[0m\u001b[0;34m\u001b[0m\u001b[0m\n\u001b[1;32m     30\u001b[0m \u001b[0;34m\u001b[0m\u001b[0m\n\u001b[0;32m---> 31\u001b[0;31m \u001b[0mtrain_flex_hyper_param\u001b[0m\u001b[0;34m(\u001b[0m\u001b[0;34m)\u001b[0m\u001b[0;34m\u001b[0m\u001b[0;34m\u001b[0m\u001b[0m\n\u001b[0m",
            "\u001b[0;32m<ipython-input-127-ea4ddc38f790>\u001b[0m in \u001b[0;36mtrain_flex_hyper_param\u001b[0;34m(num_samples, max_num_epochs, gpus_per_trial)\u001b[0m\n\u001b[1;32m     11\u001b[0m     \u001b[0mprint\u001b[0m\u001b[0;34m(\u001b[0m\u001b[0mtype\u001b[0m\u001b[0;34m(\u001b[0m\u001b[0mtrainloader\u001b[0m\u001b[0;34m)\u001b[0m\u001b[0;34m)\u001b[0m\u001b[0;34m\u001b[0m\u001b[0;34m\u001b[0m\u001b[0m\n\u001b[1;32m     12\u001b[0m     \u001b[0mresources\u001b[0m \u001b[0;34m=\u001b[0m \u001b[0;34m{\u001b[0m\u001b[0;34m\"GPU\"\u001b[0m\u001b[0;34m:\u001b[0m \u001b[0;36m1.0\u001b[0m\u001b[0;34m,\u001b[0m \u001b[0;34m\"CPU\"\u001b[0m\u001b[0;34m:\u001b[0m \u001b[0;36m10.0\u001b[0m \u001b[0;34m}\u001b[0m\u001b[0;34m\u001b[0m\u001b[0;34m\u001b[0m\u001b[0m\n\u001b[0;32m---> 13\u001b[0;31m     result = tune.run(\n\u001b[0m\u001b[1;32m     14\u001b[0m         \u001b[0mtrain_flexible_net\u001b[0m\u001b[0;34m,\u001b[0m\u001b[0;34m\u001b[0m\u001b[0;34m\u001b[0m\u001b[0m\n\u001b[1;32m     15\u001b[0m         resources_per_trial= tune.PlacementGroupFactory(\n",
            "\u001b[0;32m/usr/local/lib/python3.10/dist-packages/ray/tune/tune.py\u001b[0m in \u001b[0;36mrun\u001b[0;34m(run_or_experiment, name, metric, mode, stop, time_budget_s, config, resources_per_trial, num_samples, storage_path, storage_filesystem, search_alg, scheduler, checkpoint_config, verbose, progress_reporter, log_to_file, trial_name_creator, trial_dirname_creator, sync_config, export_formats, max_failures, fail_fast, restore, resume, resume_config, reuse_actors, raise_on_failed_trial, callbacks, max_concurrent_trials, keep_checkpoints_num, checkpoint_score_attr, checkpoint_freq, checkpoint_at_end, chdir_to_trial_dir, local_dir, _remote, _remote_string_queue, _entrypoint)\u001b[0m\n\u001b[1;32m    992\u001b[0m     \u001b[0;32mtry\u001b[0m\u001b[0;34m:\u001b[0m\u001b[0;34m\u001b[0m\u001b[0;34m\u001b[0m\u001b[0m\n\u001b[1;32m    993\u001b[0m         \u001b[0;32mwhile\u001b[0m \u001b[0;32mnot\u001b[0m \u001b[0mrunner\u001b[0m\u001b[0;34m.\u001b[0m\u001b[0mis_finished\u001b[0m\u001b[0;34m(\u001b[0m\u001b[0;34m)\u001b[0m \u001b[0;32mand\u001b[0m \u001b[0;32mnot\u001b[0m \u001b[0mexperiment_interrupted_event\u001b[0m\u001b[0;34m.\u001b[0m\u001b[0mis_set\u001b[0m\u001b[0;34m(\u001b[0m\u001b[0;34m)\u001b[0m\u001b[0;34m:\u001b[0m\u001b[0;34m\u001b[0m\u001b[0;34m\u001b[0m\u001b[0m\n\u001b[0;32m--> 994\u001b[0;31m             \u001b[0mrunner\u001b[0m\u001b[0;34m.\u001b[0m\u001b[0mstep\u001b[0m\u001b[0;34m(\u001b[0m\u001b[0;34m)\u001b[0m\u001b[0;34m\u001b[0m\u001b[0;34m\u001b[0m\u001b[0m\n\u001b[0m\u001b[1;32m    995\u001b[0m             \u001b[0;32mif\u001b[0m \u001b[0mhas_verbosity\u001b[0m\u001b[0;34m(\u001b[0m\u001b[0mVerbosity\u001b[0m\u001b[0;34m.\u001b[0m\u001b[0mV1_EXPERIMENT\u001b[0m\u001b[0;34m)\u001b[0m\u001b[0;34m:\u001b[0m\u001b[0;34m\u001b[0m\u001b[0;34m\u001b[0m\u001b[0m\n\u001b[1;32m    996\u001b[0m                 \u001b[0m_report_progress\u001b[0m\u001b[0;34m(\u001b[0m\u001b[0mrunner\u001b[0m\u001b[0;34m,\u001b[0m \u001b[0mprogress_reporter\u001b[0m\u001b[0;34m)\u001b[0m\u001b[0;34m\u001b[0m\u001b[0;34m\u001b[0m\u001b[0m\n",
            "\u001b[0;32m/usr/local/lib/python3.10/dist-packages/ray/tune/execution/tune_controller.py\u001b[0m in \u001b[0;36mstep\u001b[0;34m(self)\u001b[0m\n\u001b[1;32m    683\u001b[0m \u001b[0;34m\u001b[0m\u001b[0m\n\u001b[1;32m    684\u001b[0m         \u001b[0;31m# Handle one event\u001b[0m\u001b[0;34m\u001b[0m\u001b[0;34m\u001b[0m\u001b[0m\n\u001b[0;32m--> 685\u001b[0;31m         \u001b[0;32mif\u001b[0m \u001b[0;32mnot\u001b[0m \u001b[0mself\u001b[0m\u001b[0;34m.\u001b[0m\u001b[0m_actor_manager\u001b[0m\u001b[0;34m.\u001b[0m\u001b[0mnext\u001b[0m\u001b[0;34m(\u001b[0m\u001b[0mtimeout\u001b[0m\u001b[0;34m=\u001b[0m\u001b[0;36m0.1\u001b[0m\u001b[0;34m)\u001b[0m\u001b[0;34m:\u001b[0m\u001b[0;34m\u001b[0m\u001b[0;34m\u001b[0m\u001b[0m\n\u001b[0m\u001b[1;32m    686\u001b[0m             \u001b[0;31m# If there are no actors running, warn about potentially\u001b[0m\u001b[0;34m\u001b[0m\u001b[0;34m\u001b[0m\u001b[0m\n\u001b[1;32m    687\u001b[0m             \u001b[0;31m# insufficient resources\u001b[0m\u001b[0;34m\u001b[0m\u001b[0;34m\u001b[0m\u001b[0m\n",
            "\u001b[0;32m/usr/local/lib/python3.10/dist-packages/ray/air/execution/_internal/actor_manager.py\u001b[0m in \u001b[0;36mnext\u001b[0;34m(self, timeout)\u001b[0m\n\u001b[1;32m    221\u001b[0m             \u001b[0mself\u001b[0m\u001b[0;34m.\u001b[0m\u001b[0m_actor_state_events\u001b[0m\u001b[0;34m.\u001b[0m\u001b[0mresolve_future\u001b[0m\u001b[0;34m(\u001b[0m\u001b[0mfuture\u001b[0m\u001b[0;34m)\u001b[0m\u001b[0;34m\u001b[0m\u001b[0;34m\u001b[0m\u001b[0m\n\u001b[1;32m    222\u001b[0m         \u001b[0;32melif\u001b[0m \u001b[0mfuture\u001b[0m \u001b[0;32min\u001b[0m \u001b[0mactor_task_futures\u001b[0m\u001b[0;34m:\u001b[0m\u001b[0;34m\u001b[0m\u001b[0;34m\u001b[0m\u001b[0m\n\u001b[0;32m--> 223\u001b[0;31m             \u001b[0mself\u001b[0m\u001b[0;34m.\u001b[0m\u001b[0m_actor_task_events\u001b[0m\u001b[0;34m.\u001b[0m\u001b[0mresolve_future\u001b[0m\u001b[0;34m(\u001b[0m\u001b[0mfuture\u001b[0m\u001b[0;34m)\u001b[0m\u001b[0;34m\u001b[0m\u001b[0;34m\u001b[0m\u001b[0m\n\u001b[0m\u001b[1;32m    224\u001b[0m         \u001b[0;32melse\u001b[0m\u001b[0;34m:\u001b[0m\u001b[0;34m\u001b[0m\u001b[0;34m\u001b[0m\u001b[0m\n\u001b[1;32m    225\u001b[0m             \u001b[0mself\u001b[0m\u001b[0;34m.\u001b[0m\u001b[0m_handle_ready_resource_future\u001b[0m\u001b[0;34m(\u001b[0m\u001b[0;34m)\u001b[0m\u001b[0;34m\u001b[0m\u001b[0;34m\u001b[0m\u001b[0m\n",
            "\u001b[0;32m/usr/local/lib/python3.10/dist-packages/ray/air/execution/_internal/event_manager.py\u001b[0m in \u001b[0;36mresolve_future\u001b[0;34m(self, future)\u001b[0m\n\u001b[1;32m    116\u001b[0m         \u001b[0;32melse\u001b[0m\u001b[0;34m:\u001b[0m\u001b[0;34m\u001b[0m\u001b[0;34m\u001b[0m\u001b[0m\n\u001b[1;32m    117\u001b[0m             \u001b[0;32mif\u001b[0m \u001b[0mon_result\u001b[0m\u001b[0;34m:\u001b[0m\u001b[0;34m\u001b[0m\u001b[0;34m\u001b[0m\u001b[0m\n\u001b[0;32m--> 118\u001b[0;31m                 \u001b[0mon_result\u001b[0m\u001b[0;34m(\u001b[0m\u001b[0mresult\u001b[0m\u001b[0;34m)\u001b[0m\u001b[0;34m\u001b[0m\u001b[0;34m\u001b[0m\u001b[0m\n\u001b[0m\u001b[1;32m    119\u001b[0m \u001b[0;34m\u001b[0m\u001b[0m\n\u001b[1;32m    120\u001b[0m     def wait(\n",
            "\u001b[0;32m/usr/local/lib/python3.10/dist-packages/ray/air/execution/_internal/actor_manager.py\u001b[0m in \u001b[0;36mon_result\u001b[0;34m(result)\u001b[0m\n\u001b[1;32m    764\u001b[0m \u001b[0;34m\u001b[0m\u001b[0m\n\u001b[1;32m    765\u001b[0m         \u001b[0;32mdef\u001b[0m \u001b[0mon_result\u001b[0m\u001b[0;34m(\u001b[0m\u001b[0mresult\u001b[0m\u001b[0;34m:\u001b[0m \u001b[0mAny\u001b[0m\u001b[0;34m)\u001b[0m\u001b[0;34m:\u001b[0m\u001b[0;34m\u001b[0m\u001b[0;34m\u001b[0m\u001b[0m\n\u001b[0;32m--> 766\u001b[0;31m             self._actor_task_resolved(\n\u001b[0m\u001b[1;32m    767\u001b[0m                 \u001b[0mtracked_actor_task\u001b[0m\u001b[0;34m=\u001b[0m\u001b[0mtracked_actor_task\u001b[0m\u001b[0;34m,\u001b[0m \u001b[0mresult\u001b[0m\u001b[0;34m=\u001b[0m\u001b[0mresult\u001b[0m\u001b[0;34m\u001b[0m\u001b[0;34m\u001b[0m\u001b[0m\n\u001b[1;32m    768\u001b[0m             )\n",
            "\u001b[0;32m/usr/local/lib/python3.10/dist-packages/ray/air/execution/_internal/actor_manager.py\u001b[0m in \u001b[0;36m_actor_task_resolved\u001b[0;34m(self, tracked_actor_task, result)\u001b[0m\n\u001b[1;32m    297\u001b[0m         \u001b[0;31m# Trigger actor task result callback\u001b[0m\u001b[0;34m\u001b[0m\u001b[0;34m\u001b[0m\u001b[0m\n\u001b[1;32m    298\u001b[0m         \u001b[0;32mif\u001b[0m \u001b[0mtracked_actor_task\u001b[0m\u001b[0;34m.\u001b[0m\u001b[0m_on_result\u001b[0m\u001b[0;34m:\u001b[0m\u001b[0;34m\u001b[0m\u001b[0;34m\u001b[0m\u001b[0m\n\u001b[0;32m--> 299\u001b[0;31m             \u001b[0mtracked_actor_task\u001b[0m\u001b[0;34m.\u001b[0m\u001b[0m_on_result\u001b[0m\u001b[0;34m(\u001b[0m\u001b[0mtracked_actor\u001b[0m\u001b[0;34m,\u001b[0m \u001b[0mresult\u001b[0m\u001b[0;34m)\u001b[0m\u001b[0;34m\u001b[0m\u001b[0;34m\u001b[0m\u001b[0m\n\u001b[0m\u001b[1;32m    300\u001b[0m \u001b[0;34m\u001b[0m\u001b[0m\n\u001b[1;32m    301\u001b[0m     \u001b[0;32mdef\u001b[0m \u001b[0m_handle_ready_resource_future\u001b[0m\u001b[0;34m(\u001b[0m\u001b[0mself\u001b[0m\u001b[0;34m)\u001b[0m\u001b[0;34m:\u001b[0m\u001b[0;34m\u001b[0m\u001b[0;34m\u001b[0m\u001b[0m\n",
            "\u001b[0;32m/usr/local/lib/python3.10/dist-packages/ray/tune/execution/tune_controller.py\u001b[0m in \u001b[0;36m_on_result\u001b[0;34m(tracked_actor, *args, **kwargs)\u001b[0m\n\u001b[1;32m   1227\u001b[0m                         \u001b[0;32mraise\u001b[0m \u001b[0me\u001b[0m\u001b[0;34m\u001b[0m\u001b[0;34m\u001b[0m\u001b[0m\n\u001b[1;32m   1228\u001b[0m                     \u001b[0;32melse\u001b[0m\u001b[0;34m:\u001b[0m\u001b[0;34m\u001b[0m\u001b[0;34m\u001b[0m\u001b[0m\n\u001b[0;32m-> 1229\u001b[0;31m                         \u001b[0;32mraise\u001b[0m \u001b[0mTuneError\u001b[0m\u001b[0;34m(\u001b[0m\u001b[0mtraceback\u001b[0m\u001b[0;34m.\u001b[0m\u001b[0mformat_exc\u001b[0m\u001b[0;34m(\u001b[0m\u001b[0;34m)\u001b[0m\u001b[0;34m)\u001b[0m\u001b[0;34m\u001b[0m\u001b[0;34m\u001b[0m\u001b[0m\n\u001b[0m\u001b[1;32m   1230\u001b[0m \u001b[0;34m\u001b[0m\u001b[0m\n\u001b[1;32m   1231\u001b[0m         \u001b[0;32mif\u001b[0m \u001b[0mon_error\u001b[0m\u001b[0;34m:\u001b[0m\u001b[0;34m\u001b[0m\u001b[0;34m\u001b[0m\u001b[0m\n",
            "\u001b[0;31mTuneError\u001b[0m: Traceback (most recent call last):\n  File \"/usr/local/lib/python3.10/dist-packages/ray/tune/execution/tune_controller.py\", line 1220, in _on_result\n    on_result(trial, *args, **kwargs)\n  File \"/usr/local/lib/python3.10/dist-packages/ray/tune/execution/tune_controller.py\", line 1519, in _on_training_result\n    self._process_trial_results(trial, result)\n  File \"/usr/local/lib/python3.10/dist-packages/ray/tune/execution/tune_controller.py\", line 1532, in _process_trial_results\n    decision = self._process_trial_result(trial, result)\n  File \"/usr/local/lib/python3.10/dist-packages/ray/tune/execution/tune_controller.py\", line 1569, in _process_trial_result\n    self._validate_result_metrics(flat_result)\n  File \"/usr/local/lib/python3.10/dist-packages/ray/tune/execution/tune_controller.py\", line 1678, in _validate_result_metrics\n    raise ValueError(\nValueError: Trial returned a result which did not include the specified metric(s) `loss` that `AsyncHyperBandScheduler` expects. Make sure your calls to `tune.report()` include the metric, or set the TUNE_DISABLE_STRICT_METRIC_CHECKING environment variable to 1. Result: {'trial_id': 'ce78e_00000', 'date': '2024-06-09_05-47-53', 'timestamp': 1717912073, 'pid': 238549, 'hostname': 'fa6952fea978', 'node_ip': '172.28.0.12', 'done': True, 'config/num_conv_layers': 3, 'config/conv_output_channels': 32, 'config/conv_kernel_size': 3, 'config/conv_padding': 1, 'config/num_fc_layers': 3, 'config/fc_neurons': 360, 'config/input_size': (3, 32, 32), 'config/num_classes': 10, 'config/dropout_rate': 0.17557761241445471}\n"
          ]
        }
      ]
    },
    {
      "cell_type": "code",
      "source": [
        "import psutil\n",
        "\n",
        "# CPU information\n",
        "print(\"CPU Cores:\", psutil.cpu_count(logical=True))\n",
        "\n",
        "# Memory information\n",
        "memory = psutil.virtual_memory()\n",
        "print(\"Total Memory:\", memory.total / (1024 ** 3), \"GB\")\n",
        "\n",
        "# GPU information (if available)\n",
        "!nvidia-smi\n"
      ],
      "metadata": {
        "colab": {
          "base_uri": "https://localhost:8080/"
        },
        "id": "hv_n9fGoMN9o",
        "outputId": "e61545c7-1ffc-4079-fd38-f55f062d0cd3"
      },
      "execution_count": 87,
      "outputs": [
        {
          "output_type": "stream",
          "name": "stdout",
          "text": [
            "CPU Cores: 12\n",
            "Total Memory: 52.96144485473633 GB\n",
            "Sun Jun  9 04:10:39 2024       \n",
            "+---------------------------------------------------------------------------------------+\n",
            "| NVIDIA-SMI 535.104.05             Driver Version: 535.104.05   CUDA Version: 12.2     |\n",
            "|-----------------------------------------+----------------------+----------------------+\n",
            "| GPU  Name                 Persistence-M | Bus-Id        Disp.A | Volatile Uncorr. ECC |\n",
            "| Fan  Temp   Perf          Pwr:Usage/Cap |         Memory-Usage | GPU-Util  Compute M. |\n",
            "|                                         |                      |               MIG M. |\n",
            "|=========================================+======================+======================|\n",
            "|   0  NVIDIA L4                      Off | 00000000:00:03.0 Off |                    0 |\n",
            "| N/A   57C    P0              29W /  72W |    267MiB / 23034MiB |      0%      Default |\n",
            "|                                         |                      |                  N/A |\n",
            "+-----------------------------------------+----------------------+----------------------+\n",
            "                                                                                         \n",
            "+---------------------------------------------------------------------------------------+\n",
            "| Processes:                                                                            |\n",
            "|  GPU   GI   CI        PID   Type   Process name                            GPU Memory |\n",
            "|        ID   ID                                                             Usage      |\n",
            "|=======================================================================================|\n",
            "+---------------------------------------------------------------------------------------+\n"
          ]
        }
      ]
    },
    {
      "cell_type": "code",
      "source": [
        "! ray --help\n"
      ],
      "metadata": {
        "colab": {
          "base_uri": "https://localhost:8080/"
        },
        "id": "kOXKxitEMmpW",
        "outputId": "ac1687fa-d4bc-4afc-b1a4-a8b7bf5b6199"
      },
      "execution_count": 100,
      "outputs": [
        {
          "output_type": "stream",
          "name": "stdout",
          "text": [
            "Usage: ray [OPTIONS] COMMAND [ARGS]...\n",
            "\n",
            "Options:\n",
            "  --logging-level TEXT   The logging level threshold, choices=['debug',\n",
            "                         'info', 'warning', 'error', 'critical'],\n",
            "                         default='info'\n",
            "  --logging-format TEXT  The logging format.\n",
            "                         default=\"%%(asctime)s\\t%%(levelname)s\n",
            "                         %%(filename)s:%%(lineno)s -- %%(message)s\"\n",
            "  --version              Show the version and exit.\n",
            "  --help                 Show this message and exit.\n",
            "\n",
            "Commands:\n",
            "  attach               Create or attach to a SSH session to a Ray cluster.\n",
            "  check-open-ports     Check open ports in the local Ray cluster.\n",
            "  cluster-dump         Get log data from one or more nodes.\n",
            "  cpp                  Show the cpp library path and generate the bazel...\n",
            "  dashboard            Port-forward a Ray cluster's dashboard to the...\n",
            "  debug                Show all active breakpoints and exceptions in the...\n",
            "  disable-usage-stats  Disable usage stats collection.\n",
            "  down                 Tear down a Ray cluster.\n",
            "  enable-usage-stats   Enable usage stats collection.\n",
            "  exec                 Execute a command via SSH on a Ray cluster.\n",
            "  get                  Get a state of a given resource by ID.\n",
            "  get-head-ip          Return the head node IP of a Ray cluster.\n",
            "  get-worker-ips       Return the list of worker IPs of a Ray cluster.\n",
            "  install-nightly      Install the latest wheels for Ray.\n",
            "  job                  Submit, stop, delete, or list Ray jobs.\n",
            "  list                 List all states of a given resource.\n",
            "  logs                 Get logs based on filename (cluster) or resource...\n",
            "  memory               Print object references held in a Ray cluster.\n",
            "  metrics\n",
            "  microbenchmark       Run a local Ray microbenchmark on the current...\n",
            "  monitor              Tails the autoscaler logs of a Ray cluster.\n",
            "  rsync-down           Download specific files from a Ray cluster.\n",
            "  rsync-up             Upload specific files to a Ray cluster.\n",
            "  stack                Take a stack dump of all Python workers on the...\n",
            "  start                Start Ray processes manually on the local machine.\n",
            "  status               Print cluster status, including autoscaling info.\n",
            "  stop                 Stop Ray processes manually on the local machine.\n",
            "  submit               Uploads and runs a script on the specified cluster.\n",
            "  summary              Return the summarized information of a given...\n",
            "  timeline             Take a Chrome tracing timeline for a Ray cluster.\n",
            "  up                   Create or update a Ray cluster.\n",
            "\u001b[0m"
          ]
        }
      ]
    },
    {
      "cell_type": "code",
      "source": [
        "transform = transforms.Compose([\n",
        "    transforms.Resize((224, 224)),  # Resize images to 224x224\n",
        "    transforms.ToTensor(),          # Convert images to PyTorch tensors\n",
        "    transforms.Normalize(mean=[0.485, 0.456, 0.406], std=[0.229, 0.224, 0.225])  # Normalize using ImageNet means and stds\n",
        "])\n",
        "#train data\n",
        "train_data = datasets.ImageFolder('cat_dog/training_set/training_set', transform=transform)\n",
        "train_loader = DataLoader(train_data, batch_size=32, shuffle=True)\n",
        "# test data\n",
        "test_data = datasets.ImageFolder('cat_dog/test_set/test_set', transform=transform)\n",
        "test_loader = DataLoader(test_data, batch_size=32, shuffle=True)\n",
        "\n",
        "class_names = train_data.classes\n",
        "\n",
        "for images, labels in train_loader:\n",
        "    print(images.shape)\n",
        "    print(labels)\n",
        "    break"
      ],
      "metadata": {
        "id": "EKtL-Vq92FM2",
        "colab": {
          "base_uri": "https://localhost:8080/"
        },
        "outputId": "7dca79fb-fda1-4ee8-e4b4-bb378e379e2e"
      },
      "execution_count": 18,
      "outputs": [
        {
          "output_type": "stream",
          "name": "stdout",
          "text": [
            "torch.Size([32, 3, 224, 224])\n",
            "tensor([1, 0, 1, 1, 0, 1, 0, 1, 1, 0, 0, 0, 1, 0, 1, 1, 0, 1, 1, 1, 1, 0, 1, 1,\n",
            "        0, 0, 0, 0, 0, 1, 0, 0])\n"
          ]
        }
      ]
    },
    {
      "cell_type": "code",
      "source": [
        "!ls"
      ],
      "metadata": {
        "id": "ww99f96k9mDf",
        "colab": {
          "base_uri": "https://localhost:8080/"
        },
        "outputId": "2b64fe49-f5d7-446c-8f25-f74565338c1c"
      },
      "execution_count": 86,
      "outputs": [
        {
          "output_type": "stream",
          "name": "stdout",
          "text": [
            "data  sample_data\n"
          ]
        }
      ]
    },
    {
      "cell_type": "code",
      "source": [
        "import matplotlib.pyplot as plt\n",
        "import numpy as np\n",
        "\n",
        "def imshow(img):\n",
        "    img = img / 2 + 0.5     # unnormalize\n",
        "    npimg = img.numpy()\n",
        "    plt.imshow(np.transpose(npimg, (1, 2, 0)))\n",
        "    plt.show()\n",
        "\n",
        "dataiter = iter(train_loader)\n",
        "images, labels = next(dataiter)\n",
        "\n",
        "imshow(torchvision.utils.make_grid(images))\n",
        "print(' '.join('%5s' % class_names[labels[j]] for j in range(32)))\n",
        "\n"
      ],
      "metadata": {
        "colab": {
          "base_uri": "https://localhost:8080/",
          "height": 369
        },
        "id": "yzSmWbMdH4PX",
        "outputId": "476d8b60-a501-4b97-ff3e-4a816c339af1"
      },
      "execution_count": 20,
      "outputs": [
        {
          "output_type": "stream",
          "name": "stderr",
          "text": [
            "WARNING:matplotlib.image:Clipping input data to the valid range for imshow with RGB data ([0..1] for floats or [0..255] for integers).\n"
          ]
        },
        {
          "output_type": "display_data",
          "data": {
            "text/plain": [
              "<Figure size 640x480 with 1 Axes>"
            ],
            "image/png": "[encoded data removed]"
          },
          "metadata": {}
        },
        {
          "output_type": "stream",
          "name": "stdout",
          "text": [
            " cats  dogs  cats  cats  dogs  cats  dogs  cats  cats  dogs  dogs  dogs  dogs  dogs  dogs  dogs  cats  dogs  cats  cats  dogs  dogs  dogs  cats  dogs  cats  cats  cats  cats  dogs  dogs  cats\n"
          ]
        }
      ]
    },
    {
      "cell_type": "code",
      "source": [
        "\n",
        "from torchsummary import summary\n",
        "model = net.to(torch.device(\"cuda:0\" if torch.cuda.is_available() else \"cpu\"))\n",
        "summary(net, (3, 224, 224))\n",
        ""
      ],
      "metadata": {
        "colab": {
          "base_uri": "https://localhost:8080/"
        },
        "id": "ow3d0BaVH6ov",
        "outputId": "0c4ffe00-9789-4c73-ceeb-c75615b6d775"
      },
      "execution_count": 21,
      "outputs": [
        {
          "output_type": "stream",
          "name": "stdout",
          "text": [
            "----------------------------------------------------------------\n",
            "        Layer (type)               Output Shape         Param #\n",
            "================================================================\n",
            "            Conv2d-1          [-1, 6, 220, 220]             456\n",
            "         MaxPool2d-2          [-1, 6, 110, 110]               0\n",
            "            Conv2d-3         [-1, 16, 106, 106]           2,416\n",
            "         MaxPool2d-4           [-1, 16, 53, 53]               0\n",
            "            Linear-5                  [-1, 120]       5,393,400\n",
            "            Linear-6                   [-1, 84]          10,164\n",
            "            Linear-7                   [-1, 10]             850\n",
            "================================================================\n",
            "Total params: 5,407,286\n",
            "Trainable params: 5,407,286\n",
            "Non-trainable params: 0\n",
            "----------------------------------------------------------------\n",
            "Input size (MB): 0.57\n",
            "Forward/backward pass size (MB): 4.49\n",
            "Params size (MB): 20.63\n",
            "Estimated Total Size (MB): 25.69\n",
            "----------------------------------------------------------------\n"
          ]
        }
      ]
    },
    {
      "cell_type": "code",
      "source": [
        "import torch.optim as optim\n",
        "\n",
        "criterion = nn.CrossEntropyLoss()\n",
        "optimizer = optim.SGD(net.parameters(), lr=0.001, momentum=0.9)"
      ],
      "metadata": {
        "id": "AO94wStWIFPP"
      },
      "execution_count": 22,
      "outputs": []
    },
    {
      "cell_type": "code",
      "source": [
        "def calculate_metrics(model, loader):\n",
        "    total_loss = 0.0\n",
        "    total_correct = 0\n",
        "    total_samples = 0\n",
        "\n",
        "    # Set the model to evaluation mode\n",
        "    model.eval()\n",
        "\n",
        "    with torch.no_grad():\n",
        "        for data in loader:\n",
        "            inputs, labels = data\n",
        "            outputs = model(inputs)\n",
        "            loss = criterion(outputs, labels)\n",
        "            total_loss += loss.item()\n",
        "\n",
        "            _, predicted = torch.max(outputs, 1)\n",
        "            total_correct += (predicted == labels).sum().item()\n",
        "            total_samples += labels.size(0)\n",
        "\n",
        "    avg_loss = total_loss / len(loader)\n",
        "    accuracy = total_correct / total_samples\n",
        "    return avg_loss, accuracy"
      ],
      "metadata": {
        "id": "91ZIVNGCIIrA"
      },
      "execution_count": 23,
      "outputs": []
    },
    {
      "cell_type": "code",
      "source": [
        "def train_model(criterion, optimizer, batch_size, num_epochs):\n",
        "\n",
        "  train_loss_list = []\n",
        "  train_accuracy_list = []\n",
        "  model = Net()\n",
        "\n",
        "  for epoch in range(5):\n",
        "      running_logg = 0.0\n",
        "      for idx, data in enumerate(train_loader, 0):\n",
        "          inputs, labels = data\n",
        "\n",
        "          optimizer.zero_grad()\n",
        "\n",
        "          outputs = model(inputs)\n",
        "          loss = criterion(outputs, labels)\n",
        "          loss.backward()\n",
        "          optimizer.step()\n",
        "\n",
        "          running_logg += loss.item()\n",
        "\n",
        "\n",
        "          if idx % 2000 == 1999:\n",
        "              print(f'[{epoch+1}, {idx+1:5d}] loss: {running_logg/2000:.3f}')\n",
        "              running_logg = 0.0\n",
        "      train_loss, train_accuracy = calculate_metrics(model, train_loader)\n",
        "      train_loss_list.append(train_loss)\n",
        "      train_accuracy_list.append(train_accuracy)\n",
        "      return train_loss_list, train_accuracy_list, model"
      ],
      "metadata": {
        "id": "9bODOMogJh9X"
      },
      "execution_count": 24,
      "outputs": []
    },
    {
      "cell_type": "code",
      "source": [
        "import itertools\n",
        "\n",
        "# Define hyperparameters and their search space\n",
        "learning_rates = [0.001, 0.01, 0.1]\n",
        "batch_sizes = [16, 32, 64]\n",
        "optimizers = [optim.SGD, optim.Adam, optim.Adagrad]\n",
        "num_epochs = [5]\n",
        "\n",
        "# Dictionary to store performance metrics for each hyperparameter combination\n",
        "hyperparameter_metrics = {}\n",
        "\n",
        "# Perform grid search\n",
        "for lr, batch_size, optimizer_cls, num_epoch in itertools.product(learning_rates, batch_sizes, optimizers, num_epochs):\n",
        "    optimizer = optimizer_cls(net.parameters(), lr=lr)\n",
        "\n",
        "    train_loss_list, train_accuracy_list = train_model(criterion, optimizer, batch_size, num_epoch)\n",
        "\n",
        "    # Evaluate model performance using validation set\n",
        "    validation_loss, validation_accuracy = calculate_metrics(test_loader)\n",
        "\n",
        "    # Store performance metrics for this hyperparameter combination\n",
        "    hyperparameter_metrics[(lr, batch_size, optimizer_cls, num_epoch)] = {\n",
        "        'train_loss_list': train_loss_list,\n",
        "        'train_accuracy_list': train_accuracy_list,\n",
        "        'validation_loss': validation_loss,\n",
        "        'validation_accuracy': validation_accuracy\n",
        "    }\n",
        "\n",
        "# Choose best hyperparameters based on validation accuracy\n",
        "best_hyperparameters = max(hyperparameter_metrics, key=lambda k: hyperparameter_metrics[k]['validation_accuracy'])\n",
        "best_performance_metrics = hyperparameter_metrics[best_hyperparameters]\n",
        "\n",
        "print(\"Best Hyperparameters:\", best_hyperparameters)\n",
        "print(\"Best Performance Metrics:\", best_performance_metrics)\n"
      ],
      "metadata": {
        "colab": {
          "base_uri": "https://localhost:8080/",
          "height": 391
        },
        "id": "lDWTnXSIJ26v",
        "outputId": "9ca6b92e-e1b7-43d0-b458-0f366c079ef2"
      },
      "execution_count": 25,
      "outputs": [
        {
          "output_type": "error",
          "ename": "KeyboardInterrupt",
          "evalue": "",
          "traceback": [
            "\u001b[0;31m---------------------------------------------------------------------------\u001b[0m",
            "\u001b[0;31mKeyboardInterrupt\u001b[0m                         Traceback (most recent call last)",
            "\u001b[0;32m<ipython-input-25-c725934989c1>\u001b[0m in \u001b[0;36m<cell line: 13>\u001b[0;34m()\u001b[0m\n\u001b[1;32m     14\u001b[0m     \u001b[0moptimizer\u001b[0m \u001b[0;34m=\u001b[0m \u001b[0moptimizer_cls\u001b[0m\u001b[0;34m(\u001b[0m\u001b[0mnet\u001b[0m\u001b[0;34m.\u001b[0m\u001b[0mparameters\u001b[0m\u001b[0;34m(\u001b[0m\u001b[0;34m)\u001b[0m\u001b[0;34m,\u001b[0m \u001b[0mlr\u001b[0m\u001b[0;34m=\u001b[0m\u001b[0mlr\u001b[0m\u001b[0;34m)\u001b[0m\u001b[0;34m\u001b[0m\u001b[0;34m\u001b[0m\u001b[0m\n\u001b[1;32m     15\u001b[0m \u001b[0;34m\u001b[0m\u001b[0m\n\u001b[0;32m---> 16\u001b[0;31m     \u001b[0mtrain_loss_list\u001b[0m\u001b[0;34m,\u001b[0m \u001b[0mtrain_accuracy_list\u001b[0m \u001b[0;34m=\u001b[0m \u001b[0mtrain_model\u001b[0m\u001b[0;34m(\u001b[0m\u001b[0mcriterion\u001b[0m\u001b[0;34m,\u001b[0m \u001b[0moptimizer\u001b[0m\u001b[0;34m,\u001b[0m \u001b[0mbatch_size\u001b[0m\u001b[0;34m,\u001b[0m \u001b[0mnum_epoch\u001b[0m\u001b[0;34m)\u001b[0m\u001b[0;34m\u001b[0m\u001b[0;34m\u001b[0m\u001b[0m\n\u001b[0m\u001b[1;32m     17\u001b[0m \u001b[0;34m\u001b[0m\u001b[0m\n\u001b[1;32m     18\u001b[0m     \u001b[0;31m# Evaluate model performance using validation set\u001b[0m\u001b[0;34m\u001b[0m\u001b[0;34m\u001b[0m\u001b[0m\n",
            "\u001b[0;32m<ipython-input-24-94fb0c6519d0>\u001b[0m in \u001b[0;36mtrain_model\u001b[0;34m(criterion, optimizer, batch_size, num_epochs)\u001b[0m\n\u001b[1;32m     14\u001b[0m           \u001b[0moutputs\u001b[0m \u001b[0;34m=\u001b[0m \u001b[0mmodel\u001b[0m\u001b[0;34m(\u001b[0m\u001b[0minputs\u001b[0m\u001b[0;34m)\u001b[0m\u001b[0;34m\u001b[0m\u001b[0;34m\u001b[0m\u001b[0m\n\u001b[1;32m     15\u001b[0m           \u001b[0mloss\u001b[0m \u001b[0;34m=\u001b[0m \u001b[0mcriterion\u001b[0m\u001b[0;34m(\u001b[0m\u001b[0moutputs\u001b[0m\u001b[0;34m,\u001b[0m \u001b[0mlabels\u001b[0m\u001b[0;34m)\u001b[0m\u001b[0;34m\u001b[0m\u001b[0;34m\u001b[0m\u001b[0m\n\u001b[0;32m---> 16\u001b[0;31m           \u001b[0mloss\u001b[0m\u001b[0;34m.\u001b[0m\u001b[0mbackward\u001b[0m\u001b[0;34m(\u001b[0m\u001b[0;34m)\u001b[0m\u001b[0;34m\u001b[0m\u001b[0;34m\u001b[0m\u001b[0m\n\u001b[0m\u001b[1;32m     17\u001b[0m           \u001b[0moptimizer\u001b[0m\u001b[0;34m.\u001b[0m\u001b[0mstep\u001b[0m\u001b[0;34m(\u001b[0m\u001b[0;34m)\u001b[0m\u001b[0;34m\u001b[0m\u001b[0;34m\u001b[0m\u001b[0m\n\u001b[1;32m     18\u001b[0m \u001b[0;34m\u001b[0m\u001b[0m\n",
            "\u001b[0;32m/usr/local/lib/python3.10/dist-packages/torch/_tensor.py\u001b[0m in \u001b[0;36mbackward\u001b[0;34m(self, gradient, retain_graph, create_graph, inputs)\u001b[0m\n\u001b[1;32m    523\u001b[0m                 \u001b[0minputs\u001b[0m\u001b[0;34m=\u001b[0m\u001b[0minputs\u001b[0m\u001b[0;34m,\u001b[0m\u001b[0;34m\u001b[0m\u001b[0;34m\u001b[0m\u001b[0m\n\u001b[1;32m    524\u001b[0m             )\n\u001b[0;32m--> 525\u001b[0;31m         torch.autograd.backward(\n\u001b[0m\u001b[1;32m    526\u001b[0m             \u001b[0mself\u001b[0m\u001b[0;34m,\u001b[0m \u001b[0mgradient\u001b[0m\u001b[0;34m,\u001b[0m \u001b[0mretain_graph\u001b[0m\u001b[0;34m,\u001b[0m \u001b[0mcreate_graph\u001b[0m\u001b[0;34m,\u001b[0m \u001b[0minputs\u001b[0m\u001b[0;34m=\u001b[0m\u001b[0minputs\u001b[0m\u001b[0;34m\u001b[0m\u001b[0;34m\u001b[0m\u001b[0m\n\u001b[1;32m    527\u001b[0m         )\n",
            "\u001b[0;32m/usr/local/lib/python3.10/dist-packages/torch/autograd/__init__.py\u001b[0m in \u001b[0;36mbackward\u001b[0;34m(tensors, grad_tensors, retain_graph, create_graph, grad_variables, inputs)\u001b[0m\n\u001b[1;32m    265\u001b[0m     \u001b[0;31m# some Python versions print out the first line of a multi-line function\u001b[0m\u001b[0;34m\u001b[0m\u001b[0;34m\u001b[0m\u001b[0m\n\u001b[1;32m    266\u001b[0m     \u001b[0;31m# calls in the traceback and some print out the last line\u001b[0m\u001b[0;34m\u001b[0m\u001b[0;34m\u001b[0m\u001b[0m\n\u001b[0;32m--> 267\u001b[0;31m     _engine_run_backward(\n\u001b[0m\u001b[1;32m    268\u001b[0m         \u001b[0mtensors\u001b[0m\u001b[0;34m,\u001b[0m\u001b[0;34m\u001b[0m\u001b[0;34m\u001b[0m\u001b[0m\n\u001b[1;32m    269\u001b[0m         \u001b[0mgrad_tensors_\u001b[0m\u001b[0;34m,\u001b[0m\u001b[0;34m\u001b[0m\u001b[0;34m\u001b[0m\u001b[0m\n",
            "\u001b[0;32m/usr/local/lib/python3.10/dist-packages/torch/autograd/graph.py\u001b[0m in \u001b[0;36m_engine_run_backward\u001b[0;34m(t_outputs, *args, **kwargs)\u001b[0m\n\u001b[1;32m    742\u001b[0m         \u001b[0munregister_hooks\u001b[0m \u001b[0;34m=\u001b[0m \u001b[0m_register_logging_hooks_on_whole_graph\u001b[0m\u001b[0;34m(\u001b[0m\u001b[0mt_outputs\u001b[0m\u001b[0;34m)\u001b[0m\u001b[0;34m\u001b[0m\u001b[0;34m\u001b[0m\u001b[0m\n\u001b[1;32m    743\u001b[0m     \u001b[0;32mtry\u001b[0m\u001b[0;34m:\u001b[0m\u001b[0;34m\u001b[0m\u001b[0;34m\u001b[0m\u001b[0m\n\u001b[0;32m--> 744\u001b[0;31m         return Variable._execution_engine.run_backward(  # Calls into the C++ engine to run the backward pass\n\u001b[0m\u001b[1;32m    745\u001b[0m             \u001b[0mt_outputs\u001b[0m\u001b[0;34m,\u001b[0m \u001b[0;34m*\u001b[0m\u001b[0margs\u001b[0m\u001b[0;34m,\u001b[0m \u001b[0;34m**\u001b[0m\u001b[0mkwargs\u001b[0m\u001b[0;34m\u001b[0m\u001b[0;34m\u001b[0m\u001b[0m\n\u001b[1;32m    746\u001b[0m         )  # Calls into the C++ engine to run the backward pass\n",
            "\u001b[0;31mKeyboardInterrupt\u001b[0m: "
          ]
        }
      ]
    }
  ]
}